{
 "cells": [
  {
   "cell_type": "markdown",
   "metadata": {},
   "source": [
    "# VBA需要注意的一些地方"
   ]
  },
  {
   "cell_type": "markdown",
   "metadata": {},
   "source": [
    "<br>开头写Option Explicit，强制定义变量\n",
    "<br>变量Dim i as Integer\n",
    "<br>常量Const p As Single = 3.14\n",
    "<br>每一个if后面必须end if\n",
    "<br>每一个for后面必须加next + 变量\n",
    "<br>如果for的某个条件满足了，可以Exit for\n",
    "<br>注释，在前面加'即可\n",
    "<br>for i = 100 to 1000，是=初始值 to 最终值\n",
    "<br>if后面一定有then，可以用elseif\n",
    "<br>Range(\"B\" & i)\n",
    "<br>VBA简单就简单有录制功能\n",
    "<br>凡是涉及删除的，永远都要从下往上运行，不然会乱，因为删除之后行数会变，所以range代表的单元格就变了\n",
    "<br>从下往上运行，For i = 6 To 2 Step -1，step必须要写-1\n",
    "<br>while比for优秀的地方在于，for必须要先指定一个范围，但while只要条件是true就会一直执行\n",
    "<br>do while range(\"A\")&i <> \"\" or range(\"B\")&i <> \"\" 这里可以加or，为或的逻辑\n",
    "<br>想返回整数，直接int(m / (i - 2))即可\n",
    "<br>range(\"D1\")来表示D1单元格，cells(1, 4)是第一行第四列，可以用于循环\n",
    "<br>temp = Round(temp, 1) 可以设置保留小数的位数\n",
    "<br>\n",
    "<br>\n",
    "<br>在选择工作簿的时候，有如下方法：\n",
    "<br>Worksheets(1).Select # 所有sheet从左到右选择第1张\n",
    "<br>Worksheets(1).Activate\n",
    "<br>Sheets(\"sheet1\").Select # 最推荐\n",
    "<br>Sheets(\"sheet1\").Activate\n",
    "<br>Select和Activate的区别：激活只能激活一个工作表，select可以选择多张表，比如Sheets.Select就是全选\n",
    "<br>如果在隐藏工作表之后，还要去执行的话，那就得用Activate，此时select无效\n",
    "<br>ActiveSheet为当前工作表\n",
    "<br>\n",
    "<br>工作表重命名\n",
    "<br>Sheets(\"sheet1\").Name = \"123\"\n",
    "<br>也可以sheet1.Name = \"123\"\n",
    "<br>\n",
    "<br>新建工作表\n",
    "<br>Sheets.Add # 默认在当前sheet前面添加\n",
    "<br>Sheets.Add before:=Sheets(\"sheet1\")\n",
    "<br>Sheets.Add after:=Sheets(\"sheet1\") # 在sheet1后面加一张表\n",
    "<br>Sheets.Add before:=Sheets(\"sheet1\"), Count = 3 # 在sheet1前面加3张表\n",
    "<br>在最后一张工作表后插入表：\n",
    "<br>Sheets.Add after:=Sheets(Sheets.count) # 要先计算一共有多少张表\n",
    "<br>\n",
    "<br>在新建表格之后，默认新建表格是active worksheet，可以直接改名，一般这样写：\n",
    "<br>Sheets.Add (before:=Sheets(\"sheet1\")).Name = \"123\"\n",
    "<br>\n",
    "<br>给指定的工作表某单元格赋值\n",
    "<br>sheet1.Range(\"D1\") = 520\n",
    "<br>\n",
    "<br>删除工作表\n",
    "<br>sheets(\"sheet1\").Delete，但是这样会提示你是否删除表格，很烦，可以disable掉，这么写\n",
    "<br>Excel.Application.DisplayAlerts = False\n",
    "<br>sheets(\"sheet1\").Delete\n",
    "<br>Excel.Application.DisplayAlerts = True\n",
    "<br>\n",
    "<br>\n",
    "<br>复制：\n",
    "<br>指定位置复制：\n",
    "<br>Sheets(\"sheet4\").Copy before:=Sheets(\"sheet2\")\n",
    "<br>Sheets(\"sheet4\").Copy如果只有这个的话是默认新开一个excel!\n",
    "<br>比如新开一个然后重命名：\n",
    "<br>Sheets(\"sheet4\").Copy\n",
    "<br>ActiveSheet.Name = \"qweqwe\"\n",
    "<br>\n",
    "<br>移动：\n",
    "<br>比如：sheet(1)移动到最开始\n",
    "<br>Sheets(\"sheet2\").Move before:=Sheets(\"汇总\")\n",
    "<br>如果只有Sheets(\"sheet2\").Move，则等同于.copy，创建了一个新的窗口\n",
    "<br>\n",
    "<br>VBA也可以对象化\n",
    "<br>set i = Sheets(\"sheet2\")\n",
    "<br>i.Range(\"A1\") = 100\n",
    "<br>也可以把新创建的表赋值\n",
    "<br>Set j = Sheets.Add\n",
    "<br>j.Range(\"A1\") = 520\n",
    "<br>也可以循环\n",
    "<br>\n",
    "<br>面向对象编程，在VBA里就体现在sub里，可以一个module里面有好几个sub，然后最终来一个sub 合并()，然后call需要按顺序调用的函数即可。\n",
    "<br>\n",
    "<br>自定义函数Function XX()\n",
    "<br>这里要注意，function所return的对象一定要与其名字相同！\n",
    "<br>Function 随机数()，也可以Function 随机数(x)，可以在里面添加参数！\n",
    "<br>调用的话可以i = 随机数(12)这样来做！\n",
    "<br>\n",
    "<br>人名中有空格需要删除的情况：\n",
    "<br>取消string两边的空格，用trim(x)\n",
    "<br>如果中间有空格，用replace(x, \" \", \"\")，就是把“ ”替换成“”。\n",
    "<br>\n",
    "<br>大小写转换\n",
    "<br>x = \"abcD\"\n",
    "<br>y = UCase(x)，则y = \"ABCD\"\n",
    "<br>y = LCase(x)，则y = \"abcd\"\n",
    "<br>\n",
    "<br>截取：\n",
    "<br>x = \"abcdefg\"\n",
    "<br>y = left(x, 3)\n",
    "<br>y = right(x, 3)\n",
    "<br>y = mid(x, 3, 1) 这里有三个参数\n",
    "<br>\n",
    "<br>寻找字符串出现的位置：\n",
    "<br>x = \"handsome victor is coming\"\n",
    "<br>y = instr(x, \"vic\")\n",
    "<br>就是找vic的位置，找不到就返回0\n",
    "<br>\n",
    "<br>截取2：\n",
    "<br>Split(s, \"-\")(1)\n",
    "<br>后面括号的意思是根据-来切断的这几部分，要选哪一部分，从0算起\n",
    "<br>\n",
    "<br>DateSerial(2010, 2, 12)会自动变成日期格式\n",
    "<br>\n",
    "<br>For Each循环：Worksheets是所有worksheet的集合！(只要是for，后面就必须有next！)\n",
    "<br>For Each j In Worksheets\n",
    "<br>    If j.Name <> \"汇总\" Then 把汇总表单独拎出来\n",
    "<br>        Range(\"A\" & i) = j.Name\n",
    "<br>        i = i + 1\n",
    "<br>    End If\n",
    "<br>Next\n",
    "<br>\n",
    "<br>单元格区域里面的遍历：\n",
    "<br>For Each s1 In Range(\"A1:A11\")\n",
    "<br>xxxxx\n",
    "<br>\n",
    "<br>引用工作簿：\n",
    "<br>比如同时打开了3个excel，然后引用不同的excel的方法\n",
    "<br>s = WorkBooks(\"Name\")\n",
    "<br>ThisWorkbook.Name, Path, FullPath\n",
    "<br>添加工作簿\n",
    "<br>worksheets.add 直接就是信建一个excel\n",
    "<br>如果想创建一个基于已知的一个excel，可以：WorkSheets.Add \"FullPath\"，然后就会在原来文件的基础上新建一个一毛一样的\n",
    "<br>\n",
    "<br>打开工作簿\n",
    "<br>WorkBooks.open \"FullPath\"\n",
    "<br>激活工作簿\n",
    "<br>WorkBooks(\"excel1\").Activate\n",
    "<br>保存工作簿\n",
    "<br>ThisWorkbook.Save\n",
    "<br>另存为\n",
    "<br>Excel.Application.DisplayAlerts = False\n",
    "<br>ThisWorkbook.SaveAs Filename:=\"FullPath\"\n",
    "<br>Excel.Application.DisplayAlerts = True\n",
    "<br>关闭工作簿\n",
    "<br>Workbooks.Close 所有的工作簿全部关上\n",
    "<br>WorkBooks(\"excel1.xlsm\").Close 后缀名一定要写，不然如果重名那就不行了\n",
    "<br>WorkBooks(\"excel1.xlsm\").Close True 后面加上True就是指自动保存\n",
    "<br>\n",
    "<br>ThisWorkBook 指的是代码写在什么地方就对什么地方执行\n",
    "<br>ActiveWorkBook 指的是对active的workbook进行执行，也就是对当前工作簿进行执行\n",
    "<br>（最好所有的操作都加上：excel.application.displayalerts这些！）\n",
    "<br>\n",
    "<br>每个工作表存成单独的工作簿\n",
    "<br>看下面具体操作\n",
    "<br>\n",
    "<br>操作复杂的时候，最好把屏幕刷新给关掉\n",
    "<br>Excel.Application.ScreenUpdating = False\n",
    "<br>Excel.Application.ScreenUpdating = True\n",
    "<br>\n",
    "<br>选择不连续的区域，改变颜色\n",
    "<br>Set r1 = range(\"D1:E5, A1:A3, E7\")\n",
    "<br>r1.Interior.Color = vbRed\n",
    "<br>r1.Select\n",
    "<br>或者\n",
    "<br>Union(range(\"A1: A10\"), Range(\"B1: B4\")).Select\n",
    "<br>如果要选择多个区域相交的地方，中间不加逗号就行了\n",
    "<br>Set r1 = range(\"D1:H5 A1:A3\")\n",
    "<br>选择两个区域围成的矩形：\n",
    "<br>Set r1 = range(\"D1:H5\", \"A1:A3\") 两个区域用引号隔开\n",
    "<br>\n",
    "<br>选择整行整列去引用：\n",
    "<br>range(\"A6\").EntireRow.Select\n",
    "<br>range(\"A6\").EntireColumn.Select\n",
    "<br>ActiveSheet.Rows(3).Select\n",
    "<br>ActiveSheet.Columns(\"3:10\").Select 选择多行多列的时候要加引号！\n",
    "<br>选中所有行\n",
    "<br>ActiveSheet.Rows.Select\n",
    "<br>相对选中\n",
    "<br>ActiveSheet.Rows(\"3:10\").Rows(3).Select\n",
    "<br>\n",
    "<br>引用相对范围中的单元格，用cells\n",
    "<br>Range(\"B2: C6\").Cells(1, 2).Select\n",
    "<br>也可以这么表示范围：\n",
    "<br>Range(Cells(2, 4), Cells(5, 8))，这样就可以是动态得的了，可以用循环\n",
    "<br>\n",
    "<br>也可以这样选中：\n",
    "<br>[B3].select，但是中括号这样的不能写变量\n",
    "<br>[B3: D6].select\n",
    "<br>[B3: D6 A1: 10].select\n",
    "<br>\n",
    "<br>单元格赋值可以用range(\"A1\")=520，但实质上是range(\"A1\").Value = 520\n",
    "<br>.Value在相对应用的时候必须要写出来\n",
    "<br>比如：\n",
    "<br>Sheets(Range(\"A1\").Value)，如果A1单元格时某一个sheet的名字的话\n",
    "<br>\n",
    "<br>清除单元格\n",
    "<br>Set s1 = Range(\"A1:I23\")\n",
    "<br>如果：\n",
    "<br>s1.Clear，则清楚全部的东西，包括超链接，批注等\n",
    "<br>s1.ClearComments清楚批注\n",
    "<br>s1.ClearContents\n",
    "<br>s1.ClearFormats\n",
    "<br>s1.ClearHyperlinks\n",
    "<br>字体：\n",
    "<br>s1.Font.Color = RGB(1, 1, 1) 可以通过截图的方法看到网页里面的颜色\n",
    "<br>s1.Font.Size = 48\n",
    "<br>s1.Font.Italic = True 斜体\n",
    "<br>s1.Font.Bold = True 粗体\n",
    "<br>\n",
    "<br>with语句，精简代码：\n",
    "<br>with s1.Font\n",
    "<br>    .Color = RGB(1, 1, 1)\n",
    "<br>    .Size = 34\n",
    "<br>    .Bold = True\n",
    "<br>End With\n",
    "<br>\n",
    "改变单元格的颜色：\n",
    "<br>s1.Interior.Color = RGB(255, 0, 0)\n",
    "<br>\n",
    "<br>合并和取消单元格：\n",
    "<br>s1.Merge 即是合并s1的区域\n",
    "<br>s1.UnMerge\n",
    "<br>\n",
    "<br>offset用法\n",
    "<br>offset(2, 4)就是下移2行，左移4列\n",
    "<br>s1.Offset(2, 3)\n",
    "<br>如果在遍历某一个区域的时候出现失败，则很可能是for each s in s1在这里面，s没有用.Value的形式！因为遍历出来的是Range单元格形式，而不是Value形式\n",
    "<br>\n",
    "<br>指定单元格区域的扩大和缩小\n",
    "<br>Range(\"B2\").Resize(1, 3).Select 选中又扩大了一行三列的区域\n",
    "<br>Range(\"B2：H5\").Resize(2, 3).Select 如果resize里面的要比range小，则为缩小选中区域\n",
    "<br>\n",
    "<br>选中所有相接的区域，所有连续区域\n",
    "<br>如果A1到K3都有数值，则可以这么一次性全部选中\n",
    "<br>Range(\"A1\").CurrentRegion.Select\n",
    "<br>\n",
    "<br>工作表选中所有有内容的区域（是一个矩形，非每一块全都选出来。很有用，如果要清空的话，只需要清空这个区域即可！）\n",
    "<br>ActiveSheet.UsedRange.Select\n",
    "<br>\n",
    "<br>选择选中的单元格的最下方或者最上方\n",
    "<br>比如可以应用到for循环里，但一般不会这么用，因为慢\n",
    "<br>For i = 2 to Range(\"A65536\").End(xlUp).Row 后面这个意思是，从第二个单元格一直到A65536单元格上方按了一下ctrl+上箭头之后的那个单元格的所在的行的行数\n",
    "<br>（即这一列中最后一个有文字的单元格）\n",
    "<br>同理还有别的参数：\n",
    "<br>End(xlToLeft)\n",
    "<br>End(xlToRight)\n",
    "<br>End(xlDown)\n",
    "<br>\n",
    "<br>获得区域中单元格的个数\n",
    "<br>a = Range(\"A1: B4\").Count\n",
    "<br>\n",
    "<br>使用的区域有多少行\n",
    "<br>ActiveSheet.UsedRange.Rows.Count\n",
    "<br>\n",
    "<br>当前单元格的属性（比如地址等）\n",
    "<br>比如把点击一个单元格或者区域，然后执行MsgBox Selection.Address\n",
    "<br>Select和Selection的区别是，Select是执行一个动作，但Selection表示已经选中的那个区域\n",
    "<br>\n",
    "<br>单元格的复制粘贴删除\n",
    "<br>Range(\"A2\").Copy Range(\"C1\")\n",
    "<br>Copy的话是全部的属性，包括大小字体等全部一致\n",
    "<br>剪切\n",
    "<br>Range(\"A2\").Cut Range(\"C1\")\n",
    "<br>一个区域\n",
    "<br>Range(\"A2: A4\").Cut Range(\"C1\") 后面只需要告诉电脑目标区域左上角的位置即可！\n",
    "<br>整行的复制\n",
    "<br>Range(\"A2\").EntireRow.Copy Range(\"C1\").EntireRow\n",
    "<br>\n",
    "<br>复制不带任何格式\n",
    "<br>Range(\"A1:A4\").Value = Range(\"E1:E5\").Value\n",
    "<br>\n",
    "<br>删除单元格\n",
    "<br>Range(\"B2\").Delete shift:=xlToLeft 删除B2单元格后右侧的左移\n",
    "<br>Range(\"B2\").Delete shift:=xlToRight 删除B2单元格后右侧的右移\n",
    "<br>Range(\"B2\").EntireRow.Delete 删除所在行\n",
    "<br>Range(\"B2\").EntireColumn.Delete 删除所在列\n",
    "<br>\n",
    "<br>\n",
    "<br>\n",
    "<br>\n",
    "<br>\n",
    "<br>\n",
    "<br>"
   ]
  },
  {
   "cell_type": "code",
   "execution_count": null,
   "metadata": {
    "code_folding": [
     0
    ]
   },
   "outputs": [],
   "source": [
    "# 基础if语句\n",
    "Option Explicit\n",
    "\n",
    "Sub chengxu()\n",
    "\n",
    "Dim i As Integer\n",
    "\n",
    "For i = 2 To 6\n",
    "\n",
    "    If Range(\"B\" & i) = \"F\" Then\n",
    "        Range(\"C\" & i) = \"女\"\n",
    "    Else\n",
    "        Range(\"C\" & i) = \"男\"\n",
    "    End If\n",
    "\n",
    "    If Range(\"D\" & i) >= 60 Then\n",
    "        Range(\"E\" & i) = \"优秀\"\n",
    "    ElseIf Range(\"D\" & i) >= 30 Then\n",
    "        Range(\"E\" & i) = \"一般\"\n",
    "    ElseIf Range(\"D\" & i) >= 10 Then\n",
    "        Range(\"E\" & i) = \"相当差\"\n",
    "    Else\n",
    "        Range(\"E\" & i) = \"很差\"\n",
    "    End If\n",
    "    \n",
    "Next\n",
    "\n",
    "End Sub"
   ]
  },
  {
   "cell_type": "code",
   "execution_count": null,
   "metadata": {
    "code_folding": [
     0
    ]
   },
   "outputs": [],
   "source": [
    "# 删除Ai为空值的列\n",
    "Option Explicit\n",
    "\n",
    "Sub 一到一百()\n",
    "\n",
    "Dim i As Integer\n",
    "\n",
    "For i = 6 To 2 Step -1\n",
    "\n",
    "    If Range(\"A\" & i) = \"\" Then\n",
    "    Range(\"A\" & i).Select\n",
    "    Selection.EntireRow.Delete\n",
    "    End If\n",
    "    \n",
    "Next\n",
    "\n",
    "End Sub"
   ]
  },
  {
   "cell_type": "code",
   "execution_count": null,
   "metadata": {
    "code_folding": [
     0
    ]
   },
   "outputs": [],
   "source": [
    "# 用while的时候可以不用事先指定一个for的范围，只需要指定一个起使位置即可！ i = 2必须指定！\n",
    "# 而且do while, loop里面，必须加i=i+1，不然直接卡死！！\n",
    "\n",
    "Option Explicit\n",
    "\n",
    "Sub 女生加五分()\n",
    "\n",
    "Dim i As Integer\n",
    "\n",
    "i = 2\n",
    "Do While Range(\"A\" & i) <> \"\"\n",
    "\n",
    "    If Range(\"B\" & i) = \"F\" Then\n",
    "        Range(\"F\" & i) = Range(\"D\" & i) + 5\n",
    "    Else\n",
    "        Range(\"F\" & i) = Range(\"D\" & i)\n",
    "    End If\n",
    "    i = i + 1\n",
    "    \n",
    "Loop\n",
    "\n",
    "End Sub"
   ]
  },
  {
   "cell_type": "code",
   "execution_count": null,
   "metadata": {
    "code_folding": [
     0
    ]
   },
   "outputs": [],
   "source": [
    "# 求平均值，定义一个等于0的m，用于记录累计分数的值，然后再返回一个m/(i-2)即可\n",
    "Sub average()\n",
    "\n",
    "Dim i As Integer, m As Integer\n",
    "\n",
    "i = 2\n",
    "m = 0\n",
    "Do While Range(\"F\" & i) <> \"\"\n",
    "\n",
    "    m = Range(\"F\" & i) + m\n",
    "    i = i + 1\n",
    "Loop\n",
    "\n",
    "# 这个一定要加上！不然可能会死机，因为如果整个表都是空的话，那就死了\n",
    "If m > 0 Then\n",
    "    Range(\"I1\") = m / (i - 2)\n",
    "Else\n",
    "    End If\n",
    "\n",
    "End Sub"
   ]
  },
  {
   "cell_type": "code",
   "execution_count": null,
   "metadata": {
    "code_folding": [
     0
    ]
   },
   "outputs": [],
   "source": [
    "# 循环嵌套，处理列，这里用range就很不方便了，要用cells()，可以用两个循环来遍历所有行和列\n",
    "\n",
    "Option Explicit\n",
    "\n",
    "Sub average()\n",
    "\n",
    "Dim i As Variant\n",
    "Dim m As Variant\n",
    "Dim temp As Variant\n",
    "\n",
    "i = 2\n",
    "temp = 0\n",
    "\n",
    "Do While Cells(i, 1) <> \"\"\n",
    "    \n",
    "    For m = 2 To 4\n",
    "        \n",
    "        temp = Cells(i, m) * 0.33 + temp\n",
    "    \n",
    "    Next\n",
    "    \n",
    "    temp = Round(temp, 1)\n",
    "    \n",
    "    Cells(i, 6) = temp\n",
    "    \n",
    "    temp = 0\n",
    "    i = i + 1\n",
    "\n",
    "Loop\n",
    "\n",
    "End Sub"
   ]
  },
  {
   "cell_type": "code",
   "execution_count": null,
   "metadata": {
    "code_folding": [
     0
    ]
   },
   "outputs": [],
   "source": [
    "# 关于工作簿，在最后添加表\n",
    "Option Explicit\n",
    "\n",
    "Sub addsheet()\n",
    "\n",
    "Dim a As Integer\n",
    "Dim b As Integer\n",
    "\n",
    "Sheets.Add after:=Sheets(Sheets.Count)\n",
    "a = Sheets.Count\n",
    "Cells(a, a) = a\n",
    "\n",
    "End Sub"
   ]
  },
  {
   "cell_type": "code",
   "execution_count": null,
   "metadata": {
    "code_folding": [
     0
    ]
   },
   "outputs": [],
   "source": [
    "# 提取每一个sheet的名字，两种方法\n",
    "Option Explicit\n",
    "\n",
    "Sub get_name()\n",
    "\n",
    "Dim i As Integer\n",
    "i = 2\n",
    "\n",
    "For i = 2 To Sheets.Count\n",
    "    \n",
    "    Sheets(\"汇总\").Range(\"a\" & i - 1) = Sheets(i).Name\n",
    "    \n",
    "Next\n",
    "\n",
    "End Sub\n",
    "-----------------\n",
    "# 但是最好还是用for each的方法\n",
    "Option Explicit\n",
    "\n",
    "Sub get_names_2()\n",
    "\n",
    "Dim i, j\n",
    "\n",
    "i = 2\n",
    "\n",
    "For Each j In Worksheets\n",
    "    Range(\"A\" & i) = j.Name\n",
    "    i = i + 1\n",
    "Next\n",
    "\n",
    "End Sub"
   ]
  },
  {
   "cell_type": "code",
   "execution_count": null,
   "metadata": {
    "code_folding": [
     0
    ]
   },
   "outputs": [],
   "source": [
    "# 对象化\n",
    "Option Explicit\n",
    "\n",
    "Sub get_name()\n",
    "\n",
    "Dim i\n",
    "    Set i = Sheets(\"sheet1\")\n",
    "    i.Range(\"A1\") = 5444\n",
    "\n",
    "End Sub"
   ]
  },
  {
   "cell_type": "code",
   "execution_count": null,
   "metadata": {
    "code_folding": [
     0
    ]
   },
   "outputs": [],
   "source": [
    "# 用call直接汇总，面向对象\n",
    "Option Explicit\n",
    "\n",
    "Sub 复制名字()\n",
    "\n",
    "Dim i As Integer\n",
    "Dim k, m, j\n",
    "i = 2\n",
    "Set k = Sheets(\"帅哥\")\n",
    "Set j = Sheets(\"李振宁\")\n",
    "m = 0\n",
    "\n",
    "Do While k.Range(\"A\" & i) <> \"\"\n",
    "\n",
    "    m = m + k.Range(\"B\" & i)\n",
    "    \n",
    "    j.Range(\"A\" & i) = k.Range(\"A\" & i)\n",
    "    \n",
    "    i = i + 1\n",
    "    \n",
    "Loop\n",
    "\n",
    "k.Range(\"D1\") = m\n",
    "\n",
    "End Sub\n",
    "--------------------------\n",
    "Sub 把和粘贴过去()\n",
    "Dim k\n",
    "\n",
    "Set k = Sheets(\"帅哥\")\n",
    "\n",
    "    Sheets(\"李振宁\").Range(\"B1\") = k.Range(\"D1\")\n",
    "\n",
    "End Sub\n",
    "--------------------------\n",
    "Sub 汇总()\n",
    "\n",
    "Call 复制名字\n",
    "Call 把和粘贴过去\n",
    "\n",
    "End Sub"
   ]
  },
  {
   "cell_type": "code",
   "execution_count": null,
   "metadata": {
    "code_folding": [
     0
    ]
   },
   "outputs": [],
   "source": [
    "# 自定义函数和调用\n",
    "Option Explicit\n",
    "\n",
    "Function 随机数()\n",
    "\n",
    "随机数 = Int(Rnd() * 10) + 1\n",
    "\n",
    "End Function\n",
    "--------------------------\n",
    "Sub 测试随机数()\n",
    "\n",
    "MsgBox 随机数()\n",
    "\n",
    "End Sub"
   ]
  },
  {
   "cell_type": "code",
   "execution_count": null,
   "metadata": {
    "code_folding": [
     0
    ]
   },
   "outputs": [],
   "source": [
    "# trim，求字符串长度\n",
    "Option Explicit\n",
    "\n",
    "Sub test()\n",
    "\n",
    "Dim x, y, z\n",
    "x = \"李振宁 is handsome      \"\n",
    "y = Len(x)\n",
    "z = Len(Trim(x))\n",
    "\n",
    "MsgBox y\n",
    "MsgBox z\n",
    "\n",
    "End Sub"
   ]
  },
  {
   "cell_type": "code",
   "execution_count": null,
   "metadata": {
    "code_folding": [
     0
    ]
   },
   "outputs": [],
   "source": [
    "# 有编号AB-2020-11-001-023，提取出来年月\n",
    "\n",
    "Option Explicit\n",
    "\n",
    "Sub test2()\n",
    "\n",
    "Dim s, k, m\n",
    "\n",
    "s = Range(\"A1\")\n",
    "k = Split(s, \"-\")(1)\n",
    "m = Split(s, \"-\")(2)\n",
    "Range(\"B1\") = k & \"年\" & m & \"月\"\n",
    "\n",
    "End Sub"
   ]
  },
  {
   "cell_type": "code",
   "execution_count": null,
   "metadata": {
    "code_folding": [
     0
    ]
   },
   "outputs": [],
   "source": [
    "# 对一个区域的单元格们进行操作\n",
    "Option Explicit\n",
    "\n",
    "Sub test3()\n",
    "\n",
    "Dim i, s1\n",
    "\n",
    "i = 1\n",
    "For Each s1 In Range(\"A1:A11\")\n",
    "    \n",
    "    s1.Value = i\n",
    "    i = i + 1\n",
    "    \n",
    "Next\n",
    "\n",
    "End Sub"
   ]
  },
  {
   "cell_type": "code",
   "execution_count": null,
   "metadata": {
    "code_folding": [
     0
    ]
   },
   "outputs": [],
   "source": [
    "# 返回当前工作簿的名字等常用属性\n",
    "Option Explicit\n",
    "\n",
    "Sub a()\n",
    "\n",
    "Range(\"A1\") = ThisWorkbook.Name\n",
    "Range(\"A2\") = ThisWorkbook.Path\n",
    "Range(\"A3\") = ThisWorkbook.FullName\n",
    "\n",
    "End Sub"
   ]
  },
  {
   "cell_type": "code",
   "execution_count": null,
   "metadata": {
    "code_folding": [
     0
    ]
   },
   "outputs": [],
   "source": [
    "# 对其他excel进行操作并保存关闭\n",
    "Option Explicit\n",
    "\n",
    "Sub a()\n",
    "\n",
    "Workbooks.Open \"C:\\Users\\handsomevictor\\Desktop\\Excel VBA自学的东西\\practice to add things in A1.xlsx\"\n",
    "ActiveWorkbook.Sheets(1).·Range(\"A1\") = \"I love you\"\n",
    "ActiveWorkbook.Close True\n",
    "\n",
    "End Sub"
   ]
  },
  {
   "cell_type": "code",
   "execution_count": null,
   "metadata": {
    "code_folding": [
     0
    ]
   },
   "outputs": [],
   "source": [
    "# 新建文件并写入并保存\n",
    "Option Explicit\n",
    "\n",
    "Sub a()\n",
    "\n",
    "Workbooks.Add\n",
    "ActiveWorkbook.Sheets(1).Range(\"A1\") = \"qwqwe\"\n",
    "ActiveWorkbook.SaveAs Filename:=\"C:\\Users\\handsomevictor\\Desktop\\Excel VBA自学的东西\\final_try.xlsx\"\n",
    "ActiveWorkbook.Close\n",
    "\n",
    "End Sub"
   ]
  },
  {
   "cell_type": "code",
   "execution_count": null,
   "metadata": {},
   "outputs": [],
   "source": [
    "# 把每个工作表存成独立的工作簿，每个表的内容不变\n",
    "Option Explicit\n",
    "\n",
    "Sub a()\n",
    "\n",
    "Excel.Application.ScreenUpdating = False\n",
    "\n",
    "Dim s1\n",
    "\n",
    "For Each s1 In Sheets\n",
    "    s1.Copy\n",
    "    ActiveWorkbook.SaveAs Filename:=\"C:\\Users\\handsomevictor\\Desktop\\Excel VBA自学的东西\\\" & s1.Name & \".xlsx\"\n",
    "    ActiveWorkbook.Close\n",
    "\n",
    "Next\n",
    "\n",
    "Excel.Application.ScreenUpdating = True\n",
    "\n",
    "End Sub"
   ]
  },
  {
   "cell_type": "code",
   "execution_count": null,
   "metadata": {},
   "outputs": [],
   "source": []
  },
  {
   "cell_type": "code",
   "execution_count": null,
   "metadata": {},
   "outputs": [],
   "source": []
  },
  {
   "cell_type": "code",
   "execution_count": null,
   "metadata": {},
   "outputs": [],
   "source": []
  },
  {
   "cell_type": "code",
   "execution_count": null,
   "metadata": {},
   "outputs": [],
   "source": []
  },
  {
   "cell_type": "code",
   "execution_count": null,
   "metadata": {},
   "outputs": [],
   "source": []
  },
  {
   "cell_type": "code",
   "execution_count": null,
   "metadata": {},
   "outputs": [],
   "source": []
  },
  {
   "cell_type": "code",
   "execution_count": null,
   "metadata": {},
   "outputs": [],
   "source": []
  },
  {
   "cell_type": "code",
   "execution_count": null,
   "metadata": {},
   "outputs": [],
   "source": []
  },
  {
   "cell_type": "code",
   "execution_count": null,
   "metadata": {},
   "outputs": [],
   "source": []
  },
  {
   "cell_type": "code",
   "execution_count": null,
   "metadata": {},
   "outputs": [],
   "source": []
  },
  {
   "cell_type": "code",
   "execution_count": null,
   "metadata": {},
   "outputs": [],
   "source": []
  },
  {
   "cell_type": "code",
   "execution_count": null,
   "metadata": {},
   "outputs": [],
   "source": []
  },
  {
   "cell_type": "code",
   "execution_count": null,
   "metadata": {},
   "outputs": [],
   "source": []
  }
 ],
 "metadata": {
  "kernelspec": {
   "display_name": "Python 3",
   "language": "python",
   "name": "python3"
  },
  "language_info": {
   "codemirror_mode": {
    "name": "ipython",
    "version": 3
   },
   "file_extension": ".py",
   "mimetype": "text/x-python",
   "name": "python",
   "nbconvert_exporter": "python",
   "pygments_lexer": "ipython3",
   "version": "3.8.1"
  },
  "latex_envs": {
   "LaTeX_envs_menu_present": true,
   "autoclose": false,
   "autocomplete": true,
   "bibliofile": "biblio.bib",
   "cite_by": "apalike",
   "current_citInitial": 1,
   "eqLabelWithNumbers": true,
   "eqNumInitial": 1,
   "hotkeys": {
    "equation": "Ctrl-E",
    "itemize": "Ctrl-I"
   },
   "labels_anchors": false,
   "latex_user_defs": false,
   "report_style_numbering": false,
   "user_envs_cfg": false
  },
  "toc": {
   "base_numbering": 1,
   "nav_menu": {},
   "number_sections": true,
   "sideBar": true,
   "skip_h1_title": false,
   "title_cell": "Table of Contents",
   "title_sidebar": "Contents",
   "toc_cell": false,
   "toc_position": {},
   "toc_section_display": true,
   "toc_window_display": false
  },
  "varInspector": {
   "cols": {
    "lenName": 16,
    "lenType": 16,
    "lenVar": 40
   },
   "kernels_config": {
    "python": {
     "delete_cmd_postfix": "",
     "delete_cmd_prefix": "del ",
     "library": "var_list.py",
     "varRefreshCmd": "print(var_dic_list())"
    },
    "r": {
     "delete_cmd_postfix": ") ",
     "delete_cmd_prefix": "rm(",
     "library": "var_list.r",
     "varRefreshCmd": "cat(var_dic_list()) "
    }
   },
   "types_to_exclude": [
    "module",
    "function",
    "builtin_function_or_method",
    "instance",
    "_Feature"
   ],
   "window_display": false
  }
 },
 "nbformat": 4,
 "nbformat_minor": 4
}
