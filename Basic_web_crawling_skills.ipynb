{
 "cells": [
  {
   "cell_type": "code",
   "execution_count": 3,
   "id": "5ea7b352",
   "metadata": {
    "ExecuteTime": {
     "end_time": "2021-04-29T22:29:51.365955Z",
     "start_time": "2021-04-29T22:29:51.238271Z"
    }
   },
   "outputs": [],
   "source": [
    "import requests"
   ]
  },
  {
   "cell_type": "code",
   "execution_count": 4,
   "id": "90e47347",
   "metadata": {
    "ExecuteTime": {
     "end_time": "2021-04-29T22:29:51.451671Z",
     "start_time": "2021-04-29T22:29:51.448681Z"
    }
   },
   "outputs": [],
   "source": [
    "# request 唯一的作用是，模拟浏览器发送请求"
   ]
  },
  {
   "cell_type": "markdown",
   "id": "5fb3f53b",
   "metadata": {
    "heading_collapsed": true
   },
   "source": [
    "## 爬取sogou首页的数据"
   ]
  },
  {
   "cell_type": "code",
   "execution_count": 6,
   "id": "bae39b49",
   "metadata": {
    "ExecuteTime": {
     "end_time": "2021-04-29T22:31:52.338625Z",
     "start_time": "2021-04-29T22:31:50.959407Z"
    },
    "hidden": true
   },
   "outputs": [
    {
     "name": "stdout",
     "output_type": "stream",
     "text": [
      "数据爬取结束\n"
     ]
    }
   ],
   "source": [
    "# 指定URL\n",
    "url = 'https://www.sogou.com/'\n",
    "\n",
    "# 发请求\n",
    "response = requests.get(url = url)\n",
    "\n",
    "# 获取响应数据, 只有请求成功之后才能返回这个响应数据\n",
    "page_text = response.text # 返回一个字符串\n",
    "\n",
    "# 持久化存储\n",
    "with open('./sogou.html', 'w', encoding = 'utf-8') as fp:\n",
    "          fp.write(page_text)\n",
    "\n",
    "print('数据爬取结束')"
   ]
  },
  {
   "cell_type": "code",
   "execution_count": null,
   "id": "0fddb4b3",
   "metadata": {
    "ExecuteTime": {
     "end_time": "2021-04-29T22:26:33.472364Z",
     "start_time": "2021-04-29T22:26:33.462388Z"
    },
    "hidden": true
   },
   "outputs": [],
   "source": [
    "# 但是这个网页丧失了样式，但是数据都还在"
   ]
  },
  {
   "cell_type": "markdown",
   "id": "69168bbc",
   "metadata": {
    "heading_collapsed": true
   },
   "source": [
    "##  设计一个简单的网页采集器，搜狗爬取关键词结果页面"
   ]
  },
  {
   "cell_type": "code",
   "execution_count": 11,
   "id": "1fc317e2",
   "metadata": {
    "ExecuteTime": {
     "end_time": "2021-04-29T22:58:46.392777Z",
     "start_time": "2021-04-29T22:58:43.021519Z"
    },
    "hidden": true
   },
   "outputs": [
    {
     "name": "stdout",
     "output_type": "stream",
     "text": [
      "enter a word:lizh\n",
      "搜狗-lizh.md 保存成功\n"
     ]
    }
   ],
   "source": [
    "# 网页是'https://www.sogou.com/web?query=李振宁&_ast=1619735760&_asf=www.sogou.com&w=01029901&p=40040100&dp=1&cid=&s_from=result_up&sut=3110&sst0=1619735766394&lkt=0%2C0%2C0&sugsuv=00D219E62EC142EE6070667BE4E8E543&sugtime=1619735766394'\n",
    "# 但是这个是静态的网页，而且如果只写到web?query=李振宁的话照样请求不了，所以需要一些处理\n",
    "# 处理url携带的参数，多组参数\n",
    "\n",
    "# 这里涉及到一个UA伪装，就是user_agents伪装，因为用requests来爬的话就是用requests的身份来爬，而加上UA后就是用你电脑的身份爬了\n",
    "# UA伪装：门户网站会检测对应请求的身份标识，当门户网站发现是某一个浏览器，就说明该请求是正常的，一定不会拒绝\n",
    "# 如果监测到请求不是基于浏览器，则表示该请求为不正常。\n",
    "# 我目前的身份是：Mozilla/5.0 (Windows NT 10.0; Win64; x64) AppleWebKit/537.36 (KHTML, like Gecko) Chrome/90.0.4430.72 Safari/537.36\n",
    "\n",
    "# UA伪装，将对应的user_agents封装到一个字典中（算头信息，所以用header）这里的header基于谷歌浏览器。\n",
    "headers = {\n",
    "    'User-Agent': 'Mozilla/5.0 (Windows NT 10.0; Win64; x64) AppleWebKit/537.36 (KHTML, like Gecko) Chrome/90.0.4430.72 Safari/537.36'\n",
    "}\n",
    "\n",
    "url = 'https://www.sogou.com/web'\n",
    "\n",
    "# 将url携带的参数，封装到字典中，这样以后就可以直接输入然后去搜索了\n",
    "kw = input('enter a word:')\n",
    "params = {\n",
    "    'query':kw\n",
    "}\n",
    "\n",
    "# 目前发起请求的是携带参数的，并且已经处理了(动态拼接)\n",
    "# 进行UA伪装\n",
    "requests.get(url = url, params = params, headers = headers)\n",
    "\n",
    "page_text = response.text\n",
    "\n",
    "fileName = '搜狗-' + kw + '.md'\n",
    "with open(fileName, 'w', encoding = 'utf-8') as fp:\n",
    "          fp.write(page_text)\n",
    "\n",
    "print(fileName, '保存成功')"
   ]
  },
  {
   "cell_type": "code",
   "execution_count": null,
   "id": "b18dd44f",
   "metadata": {
    "hidden": true
   },
   "outputs": [],
   "source": []
  },
  {
   "cell_type": "markdown",
   "id": "9f9c0bba",
   "metadata": {
    "heading_collapsed": true
   },
   "source": [
    "##  破解百度翻译"
   ]
  },
  {
   "cell_type": "code",
   "execution_count": 44,
   "id": "2227a4f4",
   "metadata": {
    "ExecuteTime": {
     "end_time": "2021-04-30T07:33:38.240581Z",
     "start_time": "2021-04-30T07:33:33.900364Z"
    },
    "hidden": true
   },
   "outputs": [
    {
     "name": "stdout",
     "output_type": "stream",
     "text": [
      "input some words you want to translate to Chinese: boring\n",
      "\n",
      "The meaning is: \n",
      "adj. 无聊的，无趣的; 令人厌烦的; 单调的，乏味的 n. 钻孔; 钻屑 v. 令人厌烦(bor\n",
      "\n",
      "数据查询结束\n"
     ]
    }
   ],
   "source": [
    "# 使用百度翻译的时候，发现会局部刷新，url改变。所以需要用f12看一下ajax的请求。\n",
    "# 每一个ajax对应的是每一个字符的翻译\n",
    "# 需要按F12，然后找network的all右边的XHR，这个指ajax返回的信息，然后找到你请求的项目（逐个点击然后往下拉，看到自己最终想要翻译的句子）\n",
    "\n",
    "# 对应的请求是POST请求，所以需要用requests做POST请求。\n",
    "# 响应数据是json数据，是需要捕获的数据。\n",
    "import requests\n",
    "\n",
    "post_url = 'https://fanyi.baidu.com/sug' # 从f12的request url中获取\n",
    "\n",
    "# UA伪装\n",
    "headers = {\n",
    "    'User-Agent': 'Mozilla/5.0 (Windows NT 10.0; Win64; x64) AppleWebKit/537.36 (KHTML, like Gecko) Chrome/90.0.4430.72 Safari/537.36'\n",
    "}\n",
    "\n",
    "# 这个data在f12最下方的Form Data中看到，也就是我们想翻译的浏览器上传的数据！\n",
    "translate = input('input some words you want to translate to Chinese: ')\n",
    "data = {\n",
    "    'kw': translate\n",
    "}\n",
    "\n",
    "response = requests.post(url = post_url, data = data, headers = headers)\n",
    "\n",
    "\n",
    "# 百度翻译响应回来的数据是一组json，因为从F12的Response Header中的Content-Type: application/json看出来！\n",
    "# 用.json()直接返回的是obj（一定要之前确定服务器响应的是json类型的才行！）\n",
    "dict_obj = response.json() # 这个返回的是翻译结果\n",
    "\n",
    "# 存储\n",
    "# fileName = './' + translate + '.json'\n",
    "# fp = open(fileName, 'w', encoding = 'utf-8')\n",
    "\n",
    "# json.dump()就是指对json文件进行编码！\n",
    "# json.dump(dict_obj, fp = fp, ensure_ascii = False) # 因为有中文的地方不能用ASCII码！\n",
    "\n",
    "# fp.close() # 这句话一定要加，不然显示大小为0，永远在打开的状态！\n",
    "\n",
    "\n",
    "# 这里并不想存储，直接返回翻译结果：\n",
    "print('\\nThe meaning is: ')\n",
    "\n",
    "# 防止返回的是空值\n",
    "if dict_obj['data'] != []:\n",
    "    print(dict_obj['data'][0]['v'])\n",
    "else:\n",
    "    print('\\'',translate, '\\'', 'Can\\'t be translated!')\n",
    "\n",
    "print('\\n数据查询结束')\n",
    "\n"
   ]
  },
  {
   "cell_type": "code",
   "execution_count": null,
   "id": "18885401",
   "metadata": {
    "ExecuteTime": {
     "end_time": "2021-04-30T07:32:08.429685Z",
     "start_time": "2021-04-30T07:32:08.423706Z"
    },
    "hidden": true
   },
   "outputs": [],
   "source": []
  },
  {
   "cell_type": "markdown",
   "id": "f7c5a607",
   "metadata": {
    "heading_collapsed": true
   },
   "source": [
    "##  豆瓣电影分类排行榜"
   ]
  },
  {
   "cell_type": "code",
   "execution_count": 69,
   "id": "02c84b03",
   "metadata": {
    "ExecuteTime": {
     "end_time": "2021-04-30T08:27:06.272883Z",
     "start_time": "2021-04-30T08:27:05.445049Z"
    },
    "hidden": true
   },
   "outputs": [
    {
     "data": {
      "text/plain": [
       "{'憨豆先生精选辑': 9.6,\n",
       " '美丽人生': 9.5,\n",
       " '福尔摩斯二世': 9.5,\n",
       " '黄子华栋笃笑之金盆𠺘口': 9.5,\n",
       " '极品基老伴：完结篇': 9.4,\n",
       " '拽妹黛薇儿要上大学了没': 9.4,\n",
       " '放牛班的春天': 9.3,\n",
       " '触不可及': 9.3,\n",
       " '鬼子来了': 9.3,\n",
       " '摩登时代': 9.3}"
      ]
     },
     "execution_count": 69,
     "metadata": {},
     "output_type": "execute_result"
    }
   ],
   "source": [
    "import requests\n",
    "\n",
    "# 爬取豆瓣喜剧电影的排行榜的名字\n",
    "# 打开网页，复制f12中的url\n",
    "url = 'https://movie.douban.com/j/chart/top_list'\n",
    "\n",
    "# 这个参数是从f12中的最下面的那个地方Query String Parameters找到的\n",
    "param = {\n",
    "    'type': '24', # 这里注意，所有的东西都要用string的形式！\n",
    "    'interval_id': '100:90',\n",
    "    'action': '', \n",
    "    'start': '0', # 这个大概意思就是从第0个开始取，再取10个\n",
    "    'limit': '10'\n",
    "}\n",
    "\n",
    "# UA伪装\n",
    "headers = {\n",
    "    'User-Agent': 'Mozilla/5.0 (Windows NT 10.0; Win64; x64) AppleWebKit/537.36 (KHTML, like Gecko) Chrome/90.0.4430.72 Safari/537.36'\n",
    "}\n",
    "\n",
    "response = requests.get(url = url, params = param, headers = headers) # 这里用get是因为f12中显示的是get类型\n",
    "list_data = response.json()\n",
    "\n",
    "# 此时所有页面的信息都已经有了，现在把电影名列出来\n",
    "movie_name = []\n",
    "movie_rating = []\n",
    "for i in range(len(list_data)):\n",
    "    movie_name.append(list_data[i]['title'])\n",
    "    movie_rating.append(float(list_data[i]['rating'][0]))\n",
    "\n",
    "movie_info_dict = dict(zip(movie_name, movie_rating)) # 生成一个字典\n",
    "movie_info_dict"
   ]
  },
  {
   "cell_type": "code",
   "execution_count": null,
   "id": "e99be906",
   "metadata": {
    "ExecuteTime": {
     "end_time": "2021-04-30T08:16:28.220943Z",
     "start_time": "2021-04-30T08:16:28.214929Z"
    },
    "hidden": true
   },
   "outputs": [],
   "source": []
  },
  {
   "cell_type": "markdown",
   "id": "c0b4182a",
   "metadata": {
    "heading_collapsed": true
   },
   "source": [
    "##  肯德基地址爬取"
   ]
  },
  {
   "cell_type": "code",
   "execution_count": 77,
   "id": "0d45d39c",
   "metadata": {
    "ExecuteTime": {
     "end_time": "2021-04-30T08:49:11.126415Z",
     "start_time": "2021-04-30T08:49:10.329758Z"
    },
    "hidden": true
   },
   "outputs": [
    {
     "name": "stdout",
     "output_type": "stream",
     "text": [
      "{\"Table\":[{\"rowcount\":88}],\"Table1\":[{\"rownum\":1,\"storeName\":\"育慧里\",\"addressDetail\":\"小营东路3号北京凯基伦购物中心一层西侧\",\"pro\":\"24小时,Wi-Fi,店内参观,礼品卡\",\"provinceName\":\"北京市\",\"cityName\":\"北京市\"},{\"rownum\":2,\"storeName\":\"京通新城\",\"addressDetail\":\"朝阳路杨闸环岛西北京通苑30号楼一层南侧\",\"pro\":\"24小时,Wi-Fi,店内参观,礼品卡,生日餐会\",\"provinceName\":\"北京市\",\"cityName\":\"北京市\"},{\"rownum\":3,\"storeName\":\"黄寺大街\",\"addressDetail\":\"黄寺大街15号北京城乡黄寺商厦\",\"pro\":\"Wi-Fi,点唱机,店内参观,礼品卡,生日餐会\",\"provinceName\":\"北京市\",\"cityName\":\"北京市\"},{\"rownum\":4,\"storeName\":\"四季青桥\",\"addressDetail\":\"西四环北路117号北京欧尚超市F1、B1\",\"pro\":\"Wi-Fi,礼品卡,生日餐会\",\"provinceName\":\"北京市\",\"cityName\":\"北京市\"},{\"rownum\":5,\"storeName\":\"亦庄\",\"addressDetail\":\"北京经济开发区西环北路18号F1＋F2\",\"pro\":\"24小时,Wi-Fi,礼品卡,生日餐会\",\"provinceName\":\"北京市\",\"cityName\":\"北京市\"},{\"rownum\":6,\"storeName\":\"石园南大街\",\"addressDetail\":\"通顺路石园西区南侧北京顺义西单商场石园分店一层、二层部分\",\"pro\":\"24小时,Wi-Fi,店内参观,礼品卡,生日餐会\",\"provinceName\":\"北京市\",\"cityName\":\"北京市\"},{\"rownum\":7,\"storeName\":\"北京南站\",\"addressDetail\":\"北京南站候车大厅B岛201号\",\"pro\":\"Wi-Fi,礼品卡\",\"provinceName\":\"北京市\",\"cityName\":\"北京市\"},{\"rownum\":8,\"storeName\":\"北清路\",\"addressDetail\":\"北京北清路1号146区\",\"pro\":\"Wi-Fi,店内参观,礼品卡\",\"provinceName\":\"北京市\",\"cityName\":\"北京市\"},{\"rownum\":9,\"storeName\":\"大红门新世纪肯德基餐厅\",\"addressDetail\":\"海户屯北京新世纪服装商贸城一层南侧\",\"pro\":\"Wi-Fi,点唱机,礼品卡\",\"provinceName\":\"北京市\",\"cityName\":\"北京市\"},{\"rownum\":10,\"storeName\":\"巴沟\",\"addressDetail\":\"巴沟路2号北京华联万柳购物中心一层\",\"pro\":\"Wi-Fi,礼品卡,生日餐会\",\"provinceName\":\"北京市\",\"cityName\":\"北京市\"}]}\n"
     ]
    }
   ],
   "source": [
    "# 找到肯德基含有地址信息的网站，是一个自己输入城市然后网站返回列表的一个做法\n",
    "# 输入北京之后，点击查询，发现网址并没有变，所以这是一个ajax请求\n",
    "\n",
    "import requests\n",
    "\n",
    "url = 'http://www.kfc.com.cn/kfccda/ashx/GetStoreList.ashx?op=keyword'\n",
    "\n",
    "headers = {\n",
    "    'User-Agent': 'Mozilla/5.0 (Windows NT 10.0; Win64; x64) AppleWebKit/537.36 (KHTML, like Gecko) Chrome/90.0.4430.72 Safari/537.36'\n",
    "}\n",
    "\n",
    "# 输入地址（城市）\n",
    "city = input('please input the city name in Chinese: ')\n",
    "param = {\n",
    "    'cname': '',\n",
    "    'pid': '',\n",
    "    'keyword': city,\n",
    "    'pageIndex': '1', # this indicate the number of pages you want\n",
    "    'pageSize': '10'\n",
    "}\n",
    "\n",
    "response = requests.post(url = url, params = param, headers = headers)\n",
    "\n",
    "page_text = response.text\n",
    "\n",
    "print(page_text)"
   ]
  },
  {
   "cell_type": "code",
   "execution_count": 101,
   "id": "8c4569ed",
   "metadata": {
    "ExecuteTime": {
     "end_time": "2021-04-30T08:55:03.235836Z",
     "start_time": "2021-04-30T08:55:03.226860Z"
    },
    "hidden": true
   },
   "outputs": [
    {
     "data": {
      "text/plain": [
       "['育慧里',\n",
       " '京通新城',\n",
       " '黄寺大街',\n",
       " '四季青桥',\n",
       " '亦庄',\n",
       " '石园南大街',\n",
       " '北京南站',\n",
       " '北清路',\n",
       " '大红门新世纪肯德基餐厅',\n",
       " '巴沟']"
      ]
     },
     "execution_count": 101,
     "metadata": {},
     "output_type": "execute_result"
    }
   ],
   "source": [
    "# 但这里page_text是str格式，想要转换成字典，要用json包\n",
    "import json\n",
    "\n",
    "real_page_text = json.loads(page_text)\n",
    "\n",
    "street_name = []\n",
    "for i in range(len(real_page_text['Table1'])):\n",
    "    street_name.append(real_page_text['Table1'][i]['storeName'])\n",
    "\n",
    "street_name"
   ]
  },
  {
   "cell_type": "code",
   "execution_count": null,
   "id": "9fde0dde",
   "metadata": {
    "ExecuteTime": {
     "end_time": "2021-04-30T08:54:22.110046Z",
     "start_time": "2021-04-30T08:54:22.105056Z"
    },
    "hidden": true
   },
   "outputs": [],
   "source": []
  },
  {
   "cell_type": "markdown",
   "id": "81a1e525",
   "metadata": {
    "ExecuteTime": {
     "end_time": "2021-04-30T08:54:51.989993Z",
     "start_time": "2021-04-30T08:54:51.984004Z"
    },
    "heading_collapsed": true
   },
   "source": [
    "## 药监总局的爬取"
   ]
  },
  {
   "cell_type": "code",
   "execution_count": 142,
   "id": "868aef3d",
   "metadata": {
    "ExecuteTime": {
     "end_time": "2021-04-30T14:29:18.504508Z",
     "start_time": "2021-04-30T14:29:08.057587Z"
    },
    "hidden": true
   },
   "outputs": [
    {
     "data": {
      "text/plain": [
       "['南京三盾药业有限公司',\n",
       " '青海环琼藏文化产品开发有限公司',\n",
       " '广东柏大化妆品有限公司',\n",
       " '南京佳原堂生物科技有限公司',\n",
       " '哈尔滨北星药业有限公司']"
      ]
     },
     "execution_count": 142,
     "metadata": {},
     "output_type": "execute_result"
    }
   ],
   "source": [
    "# 化妆品生产许可证的数据\n",
    "# http://scxk.nmpa.gov.cn:81/xk/ 新网址\n",
    "# 这个cell只负责把所有企业的名字提取出来\n",
    "\n",
    "import requests\n",
    "\n",
    "url = 'http://scxk.nmpa.gov.cn:81/xk/itownet/portalAction.do?method=getXkzsList'\n",
    "\n",
    "headers = {\n",
    "    'User-Agent': 'Mozilla/5.0 (Windows NT 10.0; Win64; x64) AppleWebKit/537.36 (KHTML, like Gecko) Chrome/90.0.4430.72 Safari/537.36'\n",
    "}\n",
    "\n",
    "\n",
    "all_page = 10 # 一份工375页，但是不知道为啥当超过50页的时候会出现数据异常，所以我们只取前50页的\n",
    "\n",
    "all_names = []\n",
    "\n",
    "# 现在json_data['list']里面就是我需要的所有公司的信息了\n",
    "for i in range(all_page):\n",
    "\n",
    "    param = {\n",
    "        'on': 'true',\n",
    "        'page': i,\n",
    "        'pageSize': '15',\n",
    "        'productName': '',\n",
    "        'conditionType': '1',\n",
    "        'applyname': '',\n",
    "        'applysn': '',\n",
    "    }\n",
    "\n",
    "    response = requests.post(url = url, params = param, headers= headers)\n",
    "    json_data = response.json()\n",
    "    \n",
    "    for k in range(len(json_data['list'])):\n",
    "        all_names.append(json_data['list'][k]['EPS_NAME'])\n",
    "    \n",
    "    # 加一个进度条\n",
    "    # print(round(float(i/all_page), 4)*100, '% is done.')\n",
    "\n",
    "all_names[:5]\n",
    "\n"
   ]
  },
  {
   "cell_type": "code",
   "execution_count": 127,
   "id": "7c4fd152",
   "metadata": {
    "ExecuteTime": {
     "end_time": "2021-04-30T13:40:55.151190Z",
     "start_time": "2021-04-30T13:40:54.516010Z"
    },
    "hidden": true,
    "scrolled": true
   },
   "outputs": [],
   "source": [
    "# 现在找到方法把每一家企业的详情给提取出来\n",
    "\n",
    "import requests\n",
    "\n",
    "url = 'http://scxk.nmpa.gov.cn:81/xk/#'\n",
    "\n",
    "headers = {\n",
    "    'User-Agent': 'Mozilla/5.0 (Windows NT 10.0; Win64; x64) AppleWebKit/537.36 (KHTML, like Gecko) Chrome/90.0.4430.72 Safari/537.36'\n",
    "}\n",
    "\n",
    "param = {\n",
    "    'on': 'true',\n",
    "    'page': 1,\n",
    "    'pageSize': '15',\n",
    "    'productName': '',\n",
    "    'conditionType': '1',\n",
    "    'applyname': '',\n",
    "    'applysn': '',\n",
    "}\n",
    "\n",
    "response = requests.get(url = url, headers = headers).text\n",
    "# response\n",
    "\n",
    "# 这里发现，如果你把这个东西转换成html然后与原网页对比，然后就会发现这里面不存在任何数据，但是原网页有，这就说明网页中的\n",
    "# 数据是动态的，也就是说，想用药监总局的官网地址是请求不到数据的，需要用ajax才能提取到。"
   ]
  },
  {
   "cell_type": "code",
   "execution_count": 140,
   "id": "4d13b4d7",
   "metadata": {
    "ExecuteTime": {
     "end_time": "2021-04-30T14:25:53.752973Z",
     "start_time": "2021-04-30T14:25:40.067854Z"
    },
    "hidden": true
   },
   "outputs": [],
   "source": [
    "# 点开每一家公司的界面，看f12，发现所有数据都是动态的，param里面就是ID，所以直接摘取url，然后把ID放到param里，就OK了\n",
    "\n",
    "import requests\n",
    "\n",
    "url = 'http://scxk.nmpa.gov.cn:81/xk/itownet/portalAction.do?method=getXkzsList'\n",
    "\n",
    "headers = {\n",
    "    'User-Agent': 'Mozilla/5.0 (Windows NT 10.0; Win64; x64) AppleWebKit/537.36 (KHTML, like Gecko) Chrome/90.0.4430.72 Safari/537.36'\n",
    "}\n",
    "\n",
    "param = {\n",
    "    'on': 'true',\n",
    "    'page': '1',\n",
    "    'pageSize': '15',\n",
    "    'productName': '',\n",
    "    'conditionType': '1',\n",
    "    'applyname': '',\n",
    "    'applysn': '',\n",
    "}\n",
    "\n",
    "response = requests.post(url = url, params = param, headers= headers)\n",
    "json_data = response.json()\n",
    "\n",
    "# 对每一家企业来说，url是（当发现网页是动态数据的时候得看ajax里面的网址了）\n",
    "url_new = 'http://scxk.nmpa.gov.cn:81/xk/itownet/portalAction.do?method=getXkzsById'\n",
    "\n",
    "# 输出前10个公司法人名字\n",
    "legal_person = []\n",
    "# 存储所有信息\n",
    "all_info = []\n",
    "\n",
    "for i in range(10): \n",
    "\n",
    "    id_company = {\n",
    "        'id': json_data['list'][i]['ID']\n",
    "    }\n",
    "\n",
    "    # 我们现在取新的每个公司的信息\n",
    "    response_company_page = requests.post(url = url_new, headers= headers, data = id_company) \n",
    "    # 这里注意一个细节，post()中的参数是data,而get()中是params!\n",
    "\n",
    "    data_individual = response_company_page.json()\n",
    "    \n",
    "    legal_person.append(data_individual['legalPerson'])\n",
    "    all_info.append(data_individual)\n",
    "        \n",
    "# 将所有信息保存\n",
    "fp = open('./所有美妆公司信息.json', 'w', encoding = 'utf-8')\n",
    "json.dump(all_info, fp = fp, ensure_ascii = False)\n",
    "\n",
    "fp.close()\n",
    "\n",
    "# 如果出现请求过多然后被拒绝的情况话，有可能可以试着加一个time.sleep(2)，看能不能解决"
   ]
  },
  {
   "cell_type": "code",
   "execution_count": null,
   "id": "19fa77ce",
   "metadata": {
    "ExecuteTime": {
     "end_time": "2021-04-30T14:23:20.722595Z",
     "start_time": "2021-04-30T14:23:20.717576Z"
    },
    "hidden": true
   },
   "outputs": [],
   "source": []
  },
  {
   "cell_type": "markdown",
   "id": "7dfa30c6",
   "metadata": {},
   "source": [
    "## 数据解析概述"
   ]
  },
  {
   "cell_type": "code",
   "execution_count": null,
   "id": "5a869873",
   "metadata": {},
   "outputs": [],
   "source": []
  },
  {
   "cell_type": "code",
   "execution_count": null,
   "id": "600b89ab",
   "metadata": {},
   "outputs": [],
   "source": []
  },
  {
   "cell_type": "code",
   "execution_count": null,
   "id": "5bfeea55",
   "metadata": {},
   "outputs": [],
   "source": []
  },
  {
   "cell_type": "code",
   "execution_count": null,
   "id": "8adcd1f8",
   "metadata": {},
   "outputs": [],
   "source": []
  },
  {
   "cell_type": "code",
   "execution_count": null,
   "id": "56d65f97",
   "metadata": {},
   "outputs": [],
   "source": []
  },
  {
   "cell_type": "code",
   "execution_count": null,
   "id": "5266808c",
   "metadata": {},
   "outputs": [],
   "source": []
  },
  {
   "cell_type": "code",
   "execution_count": null,
   "id": "f08063f1",
   "metadata": {},
   "outputs": [],
   "source": []
  },
  {
   "cell_type": "code",
   "execution_count": null,
   "id": "6e3a9232",
   "metadata": {},
   "outputs": [],
   "source": []
  },
  {
   "cell_type": "code",
   "execution_count": null,
   "id": "e2ba982b",
   "metadata": {},
   "outputs": [],
   "source": []
  },
  {
   "cell_type": "code",
   "execution_count": null,
   "id": "9b351e36",
   "metadata": {},
   "outputs": [],
   "source": []
  },
  {
   "cell_type": "code",
   "execution_count": null,
   "id": "3e2c1a89",
   "metadata": {},
   "outputs": [],
   "source": []
  },
  {
   "cell_type": "code",
   "execution_count": null,
   "id": "5a181a09",
   "metadata": {},
   "outputs": [],
   "source": []
  },
  {
   "cell_type": "code",
   "execution_count": null,
   "id": "3db1504b",
   "metadata": {},
   "outputs": [],
   "source": []
  },
  {
   "cell_type": "code",
   "execution_count": null,
   "id": "21986045",
   "metadata": {},
   "outputs": [],
   "source": []
  },
  {
   "cell_type": "code",
   "execution_count": null,
   "id": "7baa824b",
   "metadata": {},
   "outputs": [],
   "source": []
  },
  {
   "cell_type": "code",
   "execution_count": null,
   "id": "338ed8c9",
   "metadata": {},
   "outputs": [],
   "source": []
  },
  {
   "cell_type": "code",
   "execution_count": null,
   "id": "8f151719",
   "metadata": {},
   "outputs": [],
   "source": []
  },
  {
   "cell_type": "code",
   "execution_count": null,
   "id": "445f9b70",
   "metadata": {},
   "outputs": [],
   "source": []
  },
  {
   "cell_type": "code",
   "execution_count": null,
   "id": "17deeb6e",
   "metadata": {},
   "outputs": [],
   "source": []
  },
  {
   "cell_type": "code",
   "execution_count": null,
   "id": "81d721ad",
   "metadata": {},
   "outputs": [],
   "source": []
  },
  {
   "cell_type": "code",
   "execution_count": null,
   "id": "d9e698ea",
   "metadata": {},
   "outputs": [],
   "source": []
  },
  {
   "cell_type": "code",
   "execution_count": null,
   "id": "2cdf618d",
   "metadata": {},
   "outputs": [],
   "source": []
  },
  {
   "cell_type": "code",
   "execution_count": null,
   "id": "330783b1",
   "metadata": {},
   "outputs": [],
   "source": []
  },
  {
   "cell_type": "code",
   "execution_count": null,
   "id": "0a378742",
   "metadata": {},
   "outputs": [],
   "source": []
  },
  {
   "cell_type": "code",
   "execution_count": null,
   "id": "31ec4d63",
   "metadata": {},
   "outputs": [],
   "source": []
  },
  {
   "cell_type": "code",
   "execution_count": null,
   "id": "d7135e1b",
   "metadata": {},
   "outputs": [],
   "source": []
  },
  {
   "cell_type": "code",
   "execution_count": null,
   "id": "2b0c5f24",
   "metadata": {},
   "outputs": [],
   "source": []
  },
  {
   "cell_type": "code",
   "execution_count": null,
   "id": "49bc6c4b",
   "metadata": {},
   "outputs": [],
   "source": []
  },
  {
   "cell_type": "code",
   "execution_count": null,
   "id": "a6d29803",
   "metadata": {},
   "outputs": [],
   "source": []
  },
  {
   "cell_type": "code",
   "execution_count": null,
   "id": "cde816ed",
   "metadata": {},
   "outputs": [],
   "source": []
  },
  {
   "cell_type": "code",
   "execution_count": null,
   "id": "8c06376d",
   "metadata": {},
   "outputs": [],
   "source": []
  },
  {
   "cell_type": "code",
   "execution_count": null,
   "id": "8918fe2a",
   "metadata": {},
   "outputs": [],
   "source": []
  },
  {
   "cell_type": "code",
   "execution_count": null,
   "id": "08ea4178",
   "metadata": {},
   "outputs": [],
   "source": []
  },
  {
   "cell_type": "code",
   "execution_count": null,
   "id": "636aaf97",
   "metadata": {},
   "outputs": [],
   "source": []
  },
  {
   "cell_type": "code",
   "execution_count": null,
   "id": "a919e300",
   "metadata": {},
   "outputs": [],
   "source": []
  },
  {
   "cell_type": "code",
   "execution_count": null,
   "id": "3e16eb47",
   "metadata": {},
   "outputs": [],
   "source": []
  },
  {
   "cell_type": "code",
   "execution_count": null,
   "id": "6ff4d3e2",
   "metadata": {},
   "outputs": [],
   "source": []
  },
  {
   "cell_type": "code",
   "execution_count": null,
   "id": "7773bb22",
   "metadata": {},
   "outputs": [],
   "source": []
  },
  {
   "cell_type": "code",
   "execution_count": null,
   "id": "af5e0062",
   "metadata": {},
   "outputs": [],
   "source": []
  },
  {
   "cell_type": "code",
   "execution_count": null,
   "id": "e77867bc",
   "metadata": {},
   "outputs": [],
   "source": []
  },
  {
   "cell_type": "code",
   "execution_count": null,
   "id": "665eec3b",
   "metadata": {},
   "outputs": [],
   "source": []
  },
  {
   "cell_type": "code",
   "execution_count": null,
   "id": "18b61db8",
   "metadata": {},
   "outputs": [],
   "source": []
  },
  {
   "cell_type": "code",
   "execution_count": null,
   "id": "6596dc01",
   "metadata": {},
   "outputs": [],
   "source": []
  },
  {
   "cell_type": "code",
   "execution_count": null,
   "id": "61435824",
   "metadata": {},
   "outputs": [],
   "source": []
  },
  {
   "cell_type": "code",
   "execution_count": null,
   "id": "12ab42cf",
   "metadata": {},
   "outputs": [],
   "source": []
  },
  {
   "cell_type": "code",
   "execution_count": null,
   "id": "e992e97a",
   "metadata": {},
   "outputs": [],
   "source": []
  },
  {
   "cell_type": "code",
   "execution_count": null,
   "id": "45b86167",
   "metadata": {},
   "outputs": [],
   "source": []
  },
  {
   "cell_type": "code",
   "execution_count": null,
   "id": "b3959180",
   "metadata": {},
   "outputs": [],
   "source": []
  },
  {
   "cell_type": "code",
   "execution_count": null,
   "id": "b0677f2f",
   "metadata": {},
   "outputs": [],
   "source": []
  },
  {
   "cell_type": "code",
   "execution_count": null,
   "id": "4093aaf9",
   "metadata": {},
   "outputs": [],
   "source": []
  },
  {
   "cell_type": "code",
   "execution_count": null,
   "id": "c43bc2fe",
   "metadata": {},
   "outputs": [],
   "source": []
  },
  {
   "cell_type": "code",
   "execution_count": null,
   "id": "c4e24c13",
   "metadata": {},
   "outputs": [],
   "source": []
  },
  {
   "cell_type": "code",
   "execution_count": null,
   "id": "e64fd5eb",
   "metadata": {},
   "outputs": [],
   "source": []
  },
  {
   "cell_type": "code",
   "execution_count": null,
   "id": "3521970b",
   "metadata": {},
   "outputs": [],
   "source": []
  },
  {
   "cell_type": "code",
   "execution_count": null,
   "id": "03aa2a6c",
   "metadata": {},
   "outputs": [],
   "source": []
  },
  {
   "cell_type": "code",
   "execution_count": null,
   "id": "9fed79f9",
   "metadata": {},
   "outputs": [],
   "source": []
  },
  {
   "cell_type": "code",
   "execution_count": null,
   "id": "b9ff1bac",
   "metadata": {},
   "outputs": [],
   "source": []
  },
  {
   "cell_type": "code",
   "execution_count": null,
   "id": "1be5778f",
   "metadata": {},
   "outputs": [],
   "source": []
  },
  {
   "cell_type": "code",
   "execution_count": null,
   "id": "d0c36c8d",
   "metadata": {},
   "outputs": [],
   "source": []
  },
  {
   "cell_type": "code",
   "execution_count": null,
   "id": "8200669d",
   "metadata": {},
   "outputs": [],
   "source": []
  },
  {
   "cell_type": "code",
   "execution_count": null,
   "id": "61c68017",
   "metadata": {},
   "outputs": [],
   "source": []
  },
  {
   "cell_type": "code",
   "execution_count": null,
   "id": "361de16c",
   "metadata": {},
   "outputs": [],
   "source": []
  },
  {
   "cell_type": "code",
   "execution_count": null,
   "id": "5caeca7d",
   "metadata": {},
   "outputs": [],
   "source": []
  },
  {
   "cell_type": "code",
   "execution_count": null,
   "id": "8605b249",
   "metadata": {},
   "outputs": [],
   "source": []
  },
  {
   "cell_type": "code",
   "execution_count": null,
   "id": "71f31811",
   "metadata": {},
   "outputs": [],
   "source": []
  },
  {
   "cell_type": "code",
   "execution_count": null,
   "id": "84789a46",
   "metadata": {},
   "outputs": [],
   "source": []
  },
  {
   "cell_type": "code",
   "execution_count": null,
   "id": "55b349a4",
   "metadata": {},
   "outputs": [],
   "source": []
  },
  {
   "cell_type": "code",
   "execution_count": null,
   "id": "8df568c5",
   "metadata": {},
   "outputs": [],
   "source": []
  },
  {
   "cell_type": "code",
   "execution_count": null,
   "id": "ea999fe8",
   "metadata": {},
   "outputs": [],
   "source": []
  },
  {
   "cell_type": "code",
   "execution_count": null,
   "id": "4a771b9f",
   "metadata": {},
   "outputs": [],
   "source": []
  },
  {
   "cell_type": "code",
   "execution_count": null,
   "id": "3be5d8de",
   "metadata": {},
   "outputs": [],
   "source": []
  },
  {
   "cell_type": "code",
   "execution_count": null,
   "id": "5c4e2317",
   "metadata": {},
   "outputs": [],
   "source": []
  },
  {
   "cell_type": "code",
   "execution_count": null,
   "id": "e94cc1b8",
   "metadata": {},
   "outputs": [],
   "source": []
  },
  {
   "cell_type": "code",
   "execution_count": null,
   "id": "b0c8af9a",
   "metadata": {},
   "outputs": [],
   "source": []
  },
  {
   "cell_type": "code",
   "execution_count": null,
   "id": "dce8c6b5",
   "metadata": {},
   "outputs": [],
   "source": []
  },
  {
   "cell_type": "code",
   "execution_count": null,
   "id": "8e9c71c1",
   "metadata": {},
   "outputs": [],
   "source": []
  },
  {
   "cell_type": "code",
   "execution_count": null,
   "id": "ba0becbb",
   "metadata": {},
   "outputs": [],
   "source": []
  },
  {
   "cell_type": "code",
   "execution_count": null,
   "id": "465fb631",
   "metadata": {},
   "outputs": [],
   "source": []
  },
  {
   "cell_type": "code",
   "execution_count": null,
   "id": "d79c1475",
   "metadata": {},
   "outputs": [],
   "source": []
  },
  {
   "cell_type": "code",
   "execution_count": null,
   "id": "72d29331",
   "metadata": {},
   "outputs": [],
   "source": []
  }
 ],
 "metadata": {
  "kernelspec": {
   "display_name": "Python 3",
   "language": "python",
   "name": "python3"
  },
  "language_info": {
   "codemirror_mode": {
    "name": "ipython",
    "version": 3
   },
   "file_extension": ".py",
   "mimetype": "text/x-python",
   "name": "python",
   "nbconvert_exporter": "python",
   "pygments_lexer": "ipython3",
   "version": "3.8.1"
  },
  "latex_envs": {
   "LaTeX_envs_menu_present": true,
   "autoclose": false,
   "autocomplete": true,
   "bibliofile": "biblio.bib",
   "cite_by": "apalike",
   "current_citInitial": 1,
   "eqLabelWithNumbers": true,
   "eqNumInitial": 1,
   "hotkeys": {
    "equation": "Ctrl-E",
    "itemize": "Ctrl-I"
   },
   "labels_anchors": false,
   "latex_user_defs": false,
   "report_style_numbering": false,
   "user_envs_cfg": false
  },
  "toc": {
   "base_numbering": 1,
   "nav_menu": {},
   "number_sections": true,
   "sideBar": true,
   "skip_h1_title": false,
   "title_cell": "Table of Contents",
   "title_sidebar": "Contents",
   "toc_cell": false,
   "toc_position": {},
   "toc_section_display": true,
   "toc_window_display": false
  },
  "varInspector": {
   "cols": {
    "lenName": 16,
    "lenType": 16,
    "lenVar": 40
   },
   "kernels_config": {
    "python": {
     "delete_cmd_postfix": "",
     "delete_cmd_prefix": "del ",
     "library": "var_list.py",
     "varRefreshCmd": "print(var_dic_list())"
    },
    "r": {
     "delete_cmd_postfix": ") ",
     "delete_cmd_prefix": "rm(",
     "library": "var_list.r",
     "varRefreshCmd": "cat(var_dic_list()) "
    }
   },
   "types_to_exclude": [
    "module",
    "function",
    "builtin_function_or_method",
    "instance",
    "_Feature"
   ],
   "window_display": false
  }
 },
 "nbformat": 4,
 "nbformat_minor": 5
}
