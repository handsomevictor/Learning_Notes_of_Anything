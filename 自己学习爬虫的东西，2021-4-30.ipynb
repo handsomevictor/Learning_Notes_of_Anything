{
 "cells": [
  {
   "cell_type": "code",
   "execution_count": 4,
   "id": "90e47347",
   "metadata": {
    "ExecuteTime": {
     "end_time": "2021-04-29T22:29:51.451671Z",
     "start_time": "2021-04-29T22:29:51.448681Z"
    }
   },
   "outputs": [],
   "source": [
    "# request 唯一的作用是，模拟浏览器发送请求"
   ]
  },
  {
   "cell_type": "markdown",
   "id": "5fb3f53b",
   "metadata": {},
   "source": [
    "## 爬取sogou首页的数据"
   ]
  },
  {
   "cell_type": "code",
   "execution_count": 6,
   "id": "bae39b49",
   "metadata": {
    "ExecuteTime": {
     "end_time": "2021-04-29T22:31:52.338625Z",
     "start_time": "2021-04-29T22:31:50.959407Z"
    }
   },
   "outputs": [
    {
     "name": "stdout",
     "output_type": "stream",
     "text": [
      "数据爬取结束\n"
     ]
    }
   ],
   "source": [
    "# 指定URL\n",
    "url = 'https://www.sogou.com/'\n",
    "\n",
    "# 发请求\n",
    "response = requests.get(url = url)\n",
    "\n",
    "# 获取响应数据, 只有请求成功之后才能返回这个响应数据\n",
    "page_text = response.text # 返回一个字符串\n",
    "\n",
    "# 持久化存储\n",
    "with open('./sogou.html', 'w', encoding = 'utf-8') as fp:\n",
    "          fp.write(page_text)\n",
    "\n",
    "print('数据爬取结束')"
   ]
  },
  {
   "cell_type": "code",
   "execution_count": null,
   "id": "0fddb4b3",
   "metadata": {
    "ExecuteTime": {
     "end_time": "2021-04-29T22:26:33.472364Z",
     "start_time": "2021-04-29T22:26:33.462388Z"
    }
   },
   "outputs": [],
   "source": [
    "# 但是这个网页丧失了样式，但是数据都还在"
   ]
  },
  {
   "cell_type": "markdown",
   "id": "69168bbc",
   "metadata": {
    "heading_collapsed": true
   },
   "source": [
    "##  设计一个简单的网页采集器，搜狗爬取关键词结果页面"
   ]
  },
  {
   "cell_type": "code",
   "execution_count": 11,
   "id": "1fc317e2",
   "metadata": {
    "ExecuteTime": {
     "end_time": "2021-04-29T22:58:46.392777Z",
     "start_time": "2021-04-29T22:58:43.021519Z"
    },
    "hidden": true
   },
   "outputs": [
    {
     "name": "stdout",
     "output_type": "stream",
     "text": [
      "enter a word:lizh\n",
      "搜狗-lizh.md 保存成功\n"
     ]
    }
   ],
   "source": [
    "# 网页是'https://www.sogou.com/web?query=李振宁&_ast=1619735760&_asf=www.sogou.com&w=01029901&p=40040100&dp=1&cid=&s_from=result_up&sut=3110&sst0=1619735766394&lkt=0%2C0%2C0&sugsuv=00D219E62EC142EE6070667BE4E8E543&sugtime=1619735766394'\n",
    "# 但是这个是静态的网页，而且如果只写到web?query=李振宁的话照样请求不了，所以需要一些处理\n",
    "# 处理url携带的参数，多组参数\n",
    "\n",
    "# 这里涉及到一个UA伪装，就是user_agents伪装，因为用requests来爬的话就是用requests的身份来爬，而加上UA后就是用你电脑的身份爬了\n",
    "# UA伪装：门户网站会检测对应请求的身份标识，当门户网站发现是某一个浏览器，就说明该请求是正常的，一定不会拒绝\n",
    "# 如果监测到请求不是基于浏览器，则表示该请求为不正常。\n",
    "# 我目前的身份是：Mozilla/5.0 (Windows NT 10.0; Win64; x64) AppleWebKit/537.36 (KHTML, like Gecko) Chrome/90.0.4430.72 Safari/537.36\n",
    "\n",
    "# UA伪装，将对应的user_agents封装到一个字典中（算头信息，所以用header）这里的header基于谷歌浏览器。\n",
    "headers = {\n",
    "    'User-Agent': 'Mozilla/5.0 (Windows NT 10.0; Win64; x64) AppleWebKit/537.36 (KHTML, like Gecko) Chrome/90.0.4430.72 Safari/537.36'\n",
    "}\n",
    "\n",
    "url = 'https://www.sogou.com/web'\n",
    "\n",
    "# 将url携带的参数，封装到字典中，这样以后就可以直接输入然后去搜索了\n",
    "kw = input('enter a word:')\n",
    "params = {\n",
    "    'query':kw\n",
    "}\n",
    "\n",
    "# 目前发起请求的是携带参数的，并且已经处理了(动态拼接)\n",
    "# 进行UA伪装\n",
    "requests.get(url = url, params = params, headers = headers)\n",
    "\n",
    "page_text = response.text\n",
    "\n",
    "fileName = '搜狗-' + kw + '.md'\n",
    "with open(fileName, 'w', encoding = 'utf-8') as fp:\n",
    "          fp.write(page_text)\n",
    "\n",
    "print(fileName, '保存成功')"
   ]
  },
  {
   "cell_type": "code",
   "execution_count": null,
   "id": "b18dd44f",
   "metadata": {
    "hidden": true
   },
   "outputs": [],
   "source": []
  },
  {
   "cell_type": "markdown",
   "id": "9f9c0bba",
   "metadata": {},
   "source": [
    "##  破解百度翻译"
   ]
  },
  {
   "cell_type": "code",
   "execution_count": 44,
   "id": "2227a4f4",
   "metadata": {
    "ExecuteTime": {
     "end_time": "2021-04-30T07:33:38.240581Z",
     "start_time": "2021-04-30T07:33:33.900364Z"
    }
   },
   "outputs": [
    {
     "name": "stdout",
     "output_type": "stream",
     "text": [
      "input some words you want to translate to Chinese: boring\n",
      "\n",
      "The meaning is: \n",
      "adj. 无聊的，无趣的; 令人厌烦的; 单调的，乏味的 n. 钻孔; 钻屑 v. 令人厌烦(bor\n",
      "\n",
      "数据查询结束\n"
     ]
    }
   ],
   "source": [
    "# 使用百度翻译的时候，发现会局部刷新，url改变。所以需要用f12看一下ajax的请求。\n",
    "# 每一个ajax对应的是每一个字符的翻译\n",
    "# 需要按F12，然后找network的all右边的XHR，这个指ajax返回的信息，然后找到你请求的项目（逐个点击然后往下拉，看到自己最终想要翻译的句子）\n",
    "\n",
    "# 对应的请求是POST请求，所以需要用requests做POST请求。\n",
    "# 响应数据是json数据，是需要捕获的数据。\n",
    "import requests\n",
    "\n",
    "post_url = 'https://fanyi.baidu.com/sug' # 从f12的request url中获取\n",
    "\n",
    "# UA伪装\n",
    "headers = {\n",
    "    'User-Agent': 'Mozilla/5.0 (Windows NT 10.0; Win64; x64) AppleWebKit/537.36 (KHTML, like Gecko) Chrome/90.0.4430.72 Safari/537.36'\n",
    "}\n",
    "\n",
    "# 这个data在f12最下方的Form Data中看到，也就是我们想翻译的浏览器上传的数据！\n",
    "translate = input('input some words you want to translate to Chinese: ')\n",
    "data = {\n",
    "    'kw': translate\n",
    "}\n",
    "\n",
    "response = requests.post(url = post_url, data = data, headers = headers)\n",
    "\n",
    "\n",
    "# 百度翻译响应回来的数据是一组json，因为从F12的Response Header中的Content-Type: application/json看出来！\n",
    "# 用.json()直接返回的是obj（一定要之前确定服务器响应的是json类型的才行！）\n",
    "dict_obj = response.json() # 这个返回的是翻译结果\n",
    "\n",
    "# 存储\n",
    "# fileName = './' + translate + '.json'\n",
    "# fp = open(fileName, 'w', encoding = 'utf-8')\n",
    "\n",
    "# json.dump()就是指对json文件进行编码！\n",
    "# json.dump(dict_obj, fp = fp, ensure_ascii = False) # 因为有中文的地方不能用ASCII码！\n",
    "\n",
    "# fp.close() # 这句话一定要加，不然显示大小为0，永远在打开的状态！\n",
    "\n",
    "\n",
    "# 这里并不想存储，直接返回翻译结果：\n",
    "print('\\nThe meaning is: ')\n",
    "\n",
    "# 防止返回的是空值\n",
    "if dict_obj['data'] != []:\n",
    "    print(dict_obj['data'][0]['v'])\n",
    "else:\n",
    "    print('\\'',translate, '\\'', 'Can\\'t be translated!')\n",
    "\n",
    "print('\\n数据查询结束')\n",
    "\n"
   ]
  },
  {
   "cell_type": "code",
   "execution_count": null,
   "id": "18885401",
   "metadata": {
    "ExecuteTime": {
     "end_time": "2021-04-30T07:32:08.429685Z",
     "start_time": "2021-04-30T07:32:08.423706Z"
    }
   },
   "outputs": [],
   "source": []
  },
  {
   "cell_type": "markdown",
   "id": "f7c5a607",
   "metadata": {},
   "source": [
    "##  豆瓣电影分类排行榜"
   ]
  },
  {
   "cell_type": "code",
   "execution_count": 69,
   "id": "02c84b03",
   "metadata": {
    "ExecuteTime": {
     "end_time": "2021-04-30T08:27:06.272883Z",
     "start_time": "2021-04-30T08:27:05.445049Z"
    }
   },
   "outputs": [
    {
     "data": {
      "text/plain": [
       "{'憨豆先生精选辑': 9.6,\n",
       " '美丽人生': 9.5,\n",
       " '福尔摩斯二世': 9.5,\n",
       " '黄子华栋笃笑之金盆𠺘口': 9.5,\n",
       " '极品基老伴：完结篇': 9.4,\n",
       " '拽妹黛薇儿要上大学了没': 9.4,\n",
       " '放牛班的春天': 9.3,\n",
       " '触不可及': 9.3,\n",
       " '鬼子来了': 9.3,\n",
       " '摩登时代': 9.3}"
      ]
     },
     "execution_count": 69,
     "metadata": {},
     "output_type": "execute_result"
    }
   ],
   "source": [
    "import requests\n",
    "\n",
    "# 爬取豆瓣喜剧电影的排行榜的名字\n",
    "# 打开网页，复制f12中的url\n",
    "url = 'https://movie.douban.com/j/chart/top_list'\n",
    "\n",
    "# 这个参数是从f12中的最下面的那个地方Query String Parameters找到的\n",
    "param = {\n",
    "    'type': '24', # 这里注意，所有的东西都要用string的形式！\n",
    "    'interval_id': '100:90',\n",
    "    'action': '', \n",
    "    'start': '0', # 这个大概意思就是从第0个开始取，再取10个\n",
    "    'limit': '10'\n",
    "}\n",
    "\n",
    "# UA伪装\n",
    "headers = {\n",
    "    'User-Agent': 'Mozilla/5.0 (Windows NT 10.0; Win64; x64) AppleWebKit/537.36 (KHTML, like Gecko) Chrome/90.0.4430.72 Safari/537.36'\n",
    "}\n",
    "\n",
    "response = requests.get(url = url, params = param, headers = headers) # 这里用get是因为f12中显示的是get类型\n",
    "list_data = response.json()\n",
    "\n",
    "# 此时所有页面的信息都已经有了，现在把电影名列出来\n",
    "movie_name = []\n",
    "movie_rating = []\n",
    "for i in range(len(list_data)):\n",
    "    movie_name.append(list_data[i]['title'])\n",
    "    movie_rating.append(float(list_data[i]['rating'][0]))\n",
    "\n",
    "movie_info_dict = dict(zip(movie_name, movie_rating)) # 生成一个字典\n",
    "movie_info_dict"
   ]
  },
  {
   "cell_type": "code",
   "execution_count": null,
   "id": "e99be906",
   "metadata": {
    "ExecuteTime": {
     "end_time": "2021-04-30T08:16:28.220943Z",
     "start_time": "2021-04-30T08:16:28.214929Z"
    }
   },
   "outputs": [],
   "source": []
  },
  {
   "cell_type": "markdown",
   "id": "c0b4182a",
   "metadata": {},
   "source": [
    "##  肯德基地址爬取"
   ]
  },
  {
   "cell_type": "code",
   "execution_count": 77,
   "id": "0d45d39c",
   "metadata": {
    "ExecuteTime": {
     "end_time": "2021-04-30T08:49:11.126415Z",
     "start_time": "2021-04-30T08:49:10.329758Z"
    }
   },
   "outputs": [
    {
     "name": "stdout",
     "output_type": "stream",
     "text": [
      "{\"Table\":[{\"rowcount\":88}],\"Table1\":[{\"rownum\":1,\"storeName\":\"育慧里\",\"addressDetail\":\"小营东路3号北京凯基伦购物中心一层西侧\",\"pro\":\"24小时,Wi-Fi,店内参观,礼品卡\",\"provinceName\":\"北京市\",\"cityName\":\"北京市\"},{\"rownum\":2,\"storeName\":\"京通新城\",\"addressDetail\":\"朝阳路杨闸环岛西北京通苑30号楼一层南侧\",\"pro\":\"24小时,Wi-Fi,店内参观,礼品卡,生日餐会\",\"provinceName\":\"北京市\",\"cityName\":\"北京市\"},{\"rownum\":3,\"storeName\":\"黄寺大街\",\"addressDetail\":\"黄寺大街15号北京城乡黄寺商厦\",\"pro\":\"Wi-Fi,点唱机,店内参观,礼品卡,生日餐会\",\"provinceName\":\"北京市\",\"cityName\":\"北京市\"},{\"rownum\":4,\"storeName\":\"四季青桥\",\"addressDetail\":\"西四环北路117号北京欧尚超市F1、B1\",\"pro\":\"Wi-Fi,礼品卡,生日餐会\",\"provinceName\":\"北京市\",\"cityName\":\"北京市\"},{\"rownum\":5,\"storeName\":\"亦庄\",\"addressDetail\":\"北京经济开发区西环北路18号F1＋F2\",\"pro\":\"24小时,Wi-Fi,礼品卡,生日餐会\",\"provinceName\":\"北京市\",\"cityName\":\"北京市\"},{\"rownum\":6,\"storeName\":\"石园南大街\",\"addressDetail\":\"通顺路石园西区南侧北京顺义西单商场石园分店一层、二层部分\",\"pro\":\"24小时,Wi-Fi,店内参观,礼品卡,生日餐会\",\"provinceName\":\"北京市\",\"cityName\":\"北京市\"},{\"rownum\":7,\"storeName\":\"北京南站\",\"addressDetail\":\"北京南站候车大厅B岛201号\",\"pro\":\"Wi-Fi,礼品卡\",\"provinceName\":\"北京市\",\"cityName\":\"北京市\"},{\"rownum\":8,\"storeName\":\"北清路\",\"addressDetail\":\"北京北清路1号146区\",\"pro\":\"Wi-Fi,店内参观,礼品卡\",\"provinceName\":\"北京市\",\"cityName\":\"北京市\"},{\"rownum\":9,\"storeName\":\"大红门新世纪肯德基餐厅\",\"addressDetail\":\"海户屯北京新世纪服装商贸城一层南侧\",\"pro\":\"Wi-Fi,点唱机,礼品卡\",\"provinceName\":\"北京市\",\"cityName\":\"北京市\"},{\"rownum\":10,\"storeName\":\"巴沟\",\"addressDetail\":\"巴沟路2号北京华联万柳购物中心一层\",\"pro\":\"Wi-Fi,礼品卡,生日餐会\",\"provinceName\":\"北京市\",\"cityName\":\"北京市\"}]}\n"
     ]
    }
   ],
   "source": [
    "# 找到肯德基含有地址信息的网站，是一个自己输入城市然后网站返回列表的一个做法\n",
    "# 输入北京之后，点击查询，发现网址并没有变，所以这是一个ajax请求\n",
    "\n",
    "import requests\n",
    "\n",
    "url = 'http://www.kfc.com.cn/kfccda/ashx/GetStoreList.ashx?op=keyword'\n",
    "\n",
    "headers = {\n",
    "    'User-Agent': 'Mozilla/5.0 (Windows NT 10.0; Win64; x64) AppleWebKit/537.36 (KHTML, like Gecko) Chrome/90.0.4430.72 Safari/537.36'\n",
    "}\n",
    "\n",
    "# 输入地址（城市）\n",
    "city = input('please input the city name in Chinese: ')\n",
    "param = {\n",
    "    'cname': '',\n",
    "    'pid': '',\n",
    "    'keyword': city,\n",
    "    'pageIndex': '1', # this indicate the number of pages you want\n",
    "    'pageSize': '10'\n",
    "}\n",
    "\n",
    "response = requests.post(url = url, params = param, headers = headers)\n",
    "\n",
    "page_text = response.text\n",
    "\n",
    "print(page_text)"
   ]
  },
  {
   "cell_type": "code",
   "execution_count": 101,
   "id": "8c4569ed",
   "metadata": {
    "ExecuteTime": {
     "end_time": "2021-04-30T08:55:03.235836Z",
     "start_time": "2021-04-30T08:55:03.226860Z"
    }
   },
   "outputs": [
    {
     "data": {
      "text/plain": [
       "['育慧里',\n",
       " '京通新城',\n",
       " '黄寺大街',\n",
       " '四季青桥',\n",
       " '亦庄',\n",
       " '石园南大街',\n",
       " '北京南站',\n",
       " '北清路',\n",
       " '大红门新世纪肯德基餐厅',\n",
       " '巴沟']"
      ]
     },
     "execution_count": 101,
     "metadata": {},
     "output_type": "execute_result"
    }
   ],
   "source": [
    "# 但这里page_text是str格式，想要转换成字典，要用json包\n",
    "import json\n",
    "\n",
    "real_page_text = json.loads(page_text)\n",
    "\n",
    "street_name = []\n",
    "for i in range(len(real_page_text['Table1'])):\n",
    "    street_name.append(real_page_text['Table1'][i]['storeName'])\n",
    "\n",
    "street_name"
   ]
  },
  {
   "cell_type": "code",
   "execution_count": null,
   "id": "9fde0dde",
   "metadata": {
    "ExecuteTime": {
     "end_time": "2021-04-30T08:54:22.110046Z",
     "start_time": "2021-04-30T08:54:22.105056Z"
    }
   },
   "outputs": [],
   "source": []
  },
  {
   "cell_type": "markdown",
   "id": "81a1e525",
   "metadata": {
    "ExecuteTime": {
     "end_time": "2021-04-30T08:54:51.989993Z",
     "start_time": "2021-04-30T08:54:51.984004Z"
    }
   },
   "source": [
    "## 药监总局的爬取"
   ]
  },
  {
   "cell_type": "code",
   "execution_count": 142,
   "id": "868aef3d",
   "metadata": {
    "ExecuteTime": {
     "end_time": "2021-04-30T14:29:18.504508Z",
     "start_time": "2021-04-30T14:29:08.057587Z"
    }
   },
   "outputs": [
    {
     "data": {
      "text/plain": [
       "['南京三盾药业有限公司',\n",
       " '青海环琼藏文化产品开发有限公司',\n",
       " '广东柏大化妆品有限公司',\n",
       " '南京佳原堂生物科技有限公司',\n",
       " '哈尔滨北星药业有限公司']"
      ]
     },
     "execution_count": 142,
     "metadata": {},
     "output_type": "execute_result"
    }
   ],
   "source": [
    "# 化妆品生产许可证的数据\n",
    "# http://scxk.nmpa.gov.cn:81/xk/ 新网址\n",
    "# 这个cell只负责把所有企业的名字提取出来\n",
    "\n",
    "import requests\n",
    "\n",
    "url = 'http://scxk.nmpa.gov.cn:81/xk/itownet/portalAction.do?method=getXkzsList'\n",
    "\n",
    "headers = {\n",
    "    'User-Agent': 'Mozilla/5.0 (Windows NT 10.0; Win64; x64) AppleWebKit/537.36 (KHTML, like Gecko) Chrome/90.0.4430.72 Safari/537.36'\n",
    "}\n",
    "\n",
    "\n",
    "all_page = 10 # 一份工375页，但是不知道为啥当超过50页的时候会出现数据异常，所以我们只取前50页的\n",
    "\n",
    "all_names = []\n",
    "\n",
    "# 现在json_data['list']里面就是我需要的所有公司的信息了\n",
    "for i in range(all_page):\n",
    "\n",
    "    param = {\n",
    "        'on': 'true',\n",
    "        'page': i,\n",
    "        'pageSize': '15',\n",
    "        'productName': '',\n",
    "        'conditionType': '1',\n",
    "        'applyname': '',\n",
    "        'applysn': '',\n",
    "    }\n",
    "\n",
    "    response = requests.post(url = url, params = param, headers= headers)\n",
    "    json_data = response.json()\n",
    "    \n",
    "    for k in range(len(json_data['list'])):\n",
    "        all_names.append(json_data['list'][k]['EPS_NAME'])\n",
    "    \n",
    "    # 加一个进度条\n",
    "    # print(round(float(i/all_page), 4)*100, '% is done.')\n",
    "\n",
    "all_names[:5]\n",
    "\n"
   ]
  },
  {
   "cell_type": "code",
   "execution_count": 127,
   "id": "7c4fd152",
   "metadata": {
    "ExecuteTime": {
     "end_time": "2021-04-30T13:40:55.151190Z",
     "start_time": "2021-04-30T13:40:54.516010Z"
    },
    "scrolled": true
   },
   "outputs": [],
   "source": [
    "# 现在找到方法把每一家企业的详情给提取出来\n",
    "\n",
    "import requests\n",
    "\n",
    "url = 'http://scxk.nmpa.gov.cn:81/xk/#'\n",
    "\n",
    "headers = {\n",
    "    'User-Agent': 'Mozilla/5.0 (Windows NT 10.0; Win64; x64) AppleWebKit/537.36 (KHTML, like Gecko) Chrome/90.0.4430.72 Safari/537.36'\n",
    "}\n",
    "\n",
    "param = {\n",
    "    'on': 'true',\n",
    "    'page': 1,\n",
    "    'pageSize': '15',\n",
    "    'productName': '',\n",
    "    'conditionType': '1',\n",
    "    'applyname': '',\n",
    "    'applysn': '',\n",
    "}\n",
    "\n",
    "response = requests.get(url = url, headers = headers).text\n",
    "# response\n",
    "\n",
    "# 这里发现，如果你把这个东西转换成html然后与原网页对比，然后就会发现这里面不存在任何数据，但是原网页有，这就说明网页中的\n",
    "# 数据是动态的，也就是说，想用药监总局的官网地址是请求不到数据的，需要用ajax才能提取到。"
   ]
  },
  {
   "cell_type": "code",
   "execution_count": 140,
   "id": "4d13b4d7",
   "metadata": {
    "ExecuteTime": {
     "end_time": "2021-04-30T14:25:53.752973Z",
     "start_time": "2021-04-30T14:25:40.067854Z"
    }
   },
   "outputs": [],
   "source": [
    "# 点开每一家公司的界面，看f12，发现所有数据都是动态的，param里面就是ID，所以直接摘取url，然后把ID放到param里，就OK了\n",
    "\n",
    "import requests\n",
    "\n",
    "url = 'http://scxk.nmpa.gov.cn:81/xk/itownet/portalAction.do?method=getXkzsList'\n",
    "\n",
    "headers = {\n",
    "    'User-Agent': 'Mozilla/5.0 (Windows NT 10.0; Win64; x64) AppleWebKit/537.36 (KHTML, like Gecko) Chrome/90.0.4430.72 Safari/537.36'\n",
    "}\n",
    "\n",
    "param = {\n",
    "    'on': 'true',\n",
    "    'page': '1',\n",
    "    'pageSize': '15',\n",
    "    'productName': '',\n",
    "    'conditionType': '1',\n",
    "    'applyname': '',\n",
    "    'applysn': '',\n",
    "}\n",
    "\n",
    "response = requests.post(url = url, params = param, headers= headers)\n",
    "json_data = response.json()\n",
    "\n",
    "# 对每一家企业来说，url是（当发现网页是动态数据的时候得看ajax里面的网址了）\n",
    "url_new = 'http://scxk.nmpa.gov.cn:81/xk/itownet/portalAction.do?method=getXkzsById'\n",
    "\n",
    "# 输出前10个公司法人名字\n",
    "legal_person = []\n",
    "# 存储所有信息\n",
    "all_info = []\n",
    "\n",
    "for i in range(10): \n",
    "\n",
    "    id_company = {\n",
    "        'id': json_data['list'][i]['ID']\n",
    "    }\n",
    "\n",
    "    # 我们现在取新的每个公司的信息\n",
    "    response_company_page = requests.post(url = url_new, headers= headers, data = id_company) \n",
    "    # 这里注意一个细节，post()中的参数是data,而get()中是params!\n",
    "\n",
    "    data_individual = response_company_page.json()\n",
    "    \n",
    "    legal_person.append(data_individual['legalPerson'])\n",
    "    all_info.append(data_individual)\n",
    "        \n",
    "# 将所有信息保存\n",
    "fp = open('./所有美妆公司信息.json', 'w', encoding = 'utf-8')\n",
    "json.dump(all_info, fp = fp, ensure_ascii = False)\n",
    "\n",
    "fp.close()\n",
    "\n",
    "# 如果出现请求过多然后被拒绝的情况话，有可能可以试着加一个time.sleep(2)，看能不能解决"
   ]
  },
  {
   "cell_type": "code",
   "execution_count": null,
   "id": "19fa77ce",
   "metadata": {
    "ExecuteTime": {
     "end_time": "2021-04-30T14:23:20.722595Z",
     "start_time": "2021-04-30T14:23:20.717576Z"
    }
   },
   "outputs": [],
   "source": []
  },
  {
   "cell_type": "markdown",
   "id": "56f80ff9",
   "metadata": {},
   "source": [
    "## 数据解析概述(即爬取整张页面之后，从中选取一小部分进行解析)"
   ]
  },
  {
   "cell_type": "markdown",
   "id": "ea836649",
   "metadata": {},
   "source": [
    "### 学习正则"
   ]
  },
  {
   "cell_type": "code",
   "execution_count": 105,
   "id": "5a5067a1",
   "metadata": {
    "ExecuteTime": {
     "end_time": "2021-05-14T20:14:06.438367Z",
     "start_time": "2021-05-14T20:14:06.432381Z"
    }
   },
   "outputs": [],
   "source": [
    "# 数据解析分类:\n",
    "# -正则\n",
    "# vs4\n",
    "# xpath（最重要，前两个看看就行了）"
   ]
  },
  {
   "cell_type": "raw",
   "id": "acb7560c",
   "metadata": {
    "ExecuteTime": {
     "end_time": "2021-05-14T20:43:30.316016Z",
     "start_time": "2021-05-14T20:43:30.300059Z"
    }
   },
   "source": [
    "单字符：\n",
    ".：除换行以外的所有字符\n",
    "[]：匹配集合中的任意字符 [aope,_]\n",
    "\\d: 数字\n",
    "\\D：非数字\n",
    "\\w：数字，字母，下划线，中文\n",
    "\\W：非数字，字母，下划线，中文\n",
    "\\s：所有的空白字符包，括空格，制表符，换页符等，等价于[\\f\\n\\r\\t\\v]\\\n",
    "\\S：非空白\n",
    "\n",
    "数量修饰：\n",
    "*：任意多次\n",
    "+：至少一次\n",
    "?：可有可无\n",
    "{m,}：至少m次\n",
    "{m, n}：m到n次\n",
    "\n",
    "边界：\n",
    "（ab）\n",
    "贪婪模式：.*\n",
    "非贪婪模式：.*?\n",
    "\n",
    "re.I：忽略大小写\n",
    "re.M：多行匹配\n",
    "re.S：单行匹配"
   ]
  },
  {
   "cell_type": "code",
   "execution_count": 106,
   "id": "b47d93ce",
   "metadata": {
    "ExecuteTime": {
     "end_time": "2021-05-14T20:14:53.555340Z",
     "start_time": "2021-05-14T20:14:53.551349Z"
    }
   },
   "outputs": [],
   "source": [
    "# 解析目标：网页中的文字，或者图片"
   ]
  },
  {
   "cell_type": "code",
   "execution_count": 113,
   "id": "a373a9ce",
   "metadata": {
    "ExecuteTime": {
     "end_time": "2021-05-14T20:30:32.336659Z",
     "start_time": "2021-05-14T20:30:32.331693Z"
    }
   },
   "outputs": [
    {
     "name": "stdout",
     "output_type": "stream",
     "text": [
      "python\n"
     ]
    }
   ],
   "source": [
    "# 先学一点正则\n",
    "import re\n",
    "key = 'javapythonc++'\n",
    "print(re.findall('python', key)[0])"
   ]
  },
  {
   "cell_type": "code",
   "execution_count": 114,
   "id": "69762a03",
   "metadata": {
    "ExecuteTime": {
     "end_time": "2021-05-14T20:31:44.346374Z",
     "start_time": "2021-05-14T20:31:44.338397Z"
    }
   },
   "outputs": [
    {
     "data": {
      "text/plain": [
       "'hello world'"
      ]
     },
     "execution_count": 114,
     "metadata": {},
     "output_type": "execute_result"
    }
   ],
   "source": [
    "# 提取出hello world，夹在中间的！\n",
    "key = '<html><h1>hello world<h1></html>'\n",
    "re.findall('<h1>(.*)<h1>', key)[0]"
   ]
  },
  {
   "cell_type": "code",
   "execution_count": 116,
   "id": "7f311df9",
   "metadata": {
    "ExecuteTime": {
     "end_time": "2021-05-14T20:33:05.233321Z",
     "start_time": "2021-05-14T20:33:05.228334Z"
    }
   },
   "outputs": [
    {
     "data": {
      "text/plain": [
       "'170'"
      ]
     },
     "execution_count": 116,
     "metadata": {},
     "output_type": "execute_result"
    }
   ],
   "source": [
    "# 提取170\n",
    "key = '我喜欢身高170的女生'\n",
    "re.findall('\\d+', key)[0]"
   ]
  },
  {
   "cell_type": "code",
   "execution_count": 119,
   "id": "bd34314d",
   "metadata": {
    "ExecuteTime": {
     "end_time": "2021-05-14T20:34:48.760085Z",
     "start_time": "2021-05-14T20:34:48.755098Z"
    }
   },
   "outputs": [
    {
     "data": {
      "text/plain": [
       "['http://', 'https://']"
      ]
     },
     "execution_count": 119,
     "metadata": {},
     "output_type": "execute_result"
    }
   ],
   "source": [
    "# 提取出网站名\n",
    "key = 'http://www.baidu.com and https://boob.com'\n",
    "re.findall('https?://', key)"
   ]
  },
  {
   "cell_type": "code",
   "execution_count": 124,
   "id": "67337b0a",
   "metadata": {
    "ExecuteTime": {
     "end_time": "2021-05-14T20:37:32.732819Z",
     "start_time": "2021-05-14T20:37:32.728830Z"
    }
   },
   "outputs": [
    {
     "data": {
      "text/plain": [
       "['hello']"
      ]
     },
     "execution_count": 124,
     "metadata": {},
     "output_type": "execute_result"
    }
   ],
   "source": [
    "# 提取出Hello，更改大小写\n",
    "key = '<h1><hTmL>hello</HtML>'\n",
    "re.findall('<[Hh][Tt][Mm][Ll]>(.*)</[Hh][Tt][Mm][Ll]>', key)"
   ]
  },
  {
   "cell_type": "code",
   "execution_count": 129,
   "id": "da079338",
   "metadata": {
    "ExecuteTime": {
     "end_time": "2021-05-14T20:45:20.900818Z",
     "start_time": "2021-05-14T20:45:20.894861Z"
    }
   },
   "outputs": [
    {
     "data": {
      "text/plain": [
       "['gmail.']"
      ]
     },
     "execution_count": 129,
     "metadata": {},
     "output_type": "execute_result"
    }
   ],
   "source": [
    "# 提取gmail，这里其实就是提取g和.中间的东西\n",
    "key = 'bobo@gmail.com'\n",
    "re.findall('g.*?\\.', key)"
   ]
  },
  {
   "cell_type": "code",
   "execution_count": 130,
   "id": "ccb43721",
   "metadata": {
    "ExecuteTime": {
     "end_time": "2021-05-14T20:46:03.064122Z",
     "start_time": "2021-05-14T20:46:03.059112Z"
    }
   },
   "outputs": [
    {
     "data": {
      "text/plain": [
       "['sas', 'saas']"
      ]
     },
     "execution_count": 130,
     "metadata": {},
     "output_type": "execute_result"
    }
   ],
   "source": [
    "# 匹配sas和saas\n",
    "key = 'sas and assa and saas and saaas'\n",
    "re.findall('sa{1,2}s', key)"
   ]
  },
  {
   "cell_type": "markdown",
   "id": "be9ac106",
   "metadata": {},
   "source": [
    "### No.1，正则解析方式"
   ]
  },
  {
   "cell_type": "code",
   "execution_count": 134,
   "id": "13ce0c27",
   "metadata": {
    "ExecuteTime": {
     "end_time": "2021-05-14T20:52:16.056367Z",
     "start_time": "2021-05-14T20:52:14.873220Z"
    }
   },
   "outputs": [],
   "source": [
    "# 目标：爬取图片数据https://www.qiushibaike.com/imgrank/\n",
    "import requests\n",
    "import re\n",
    "\n",
    "url = 'https://pic.qiushibaike.com/system/pictures/12432/124320076/medium/HJAH0256Q9TK6IUM.jpg' # 随便找的一张图\n",
    "\n",
    "# requests.get(url = url).text这里返回的是图片数据，如果用.text则会返回乱码，因为是二进制数据\n",
    "# 所以这里用.content\n",
    "image_data = requests.get(url = url).content # 返回二进制图片数据\n",
    "\n",
    "# 存到本地\n",
    "with open('./qiutu.jpg', 'wb') as fp:\n",
    "    fp.write(image_data)\n",
    "    fp.close()"
   ]
  },
  {
   "cell_type": "code",
   "execution_count": 162,
   "id": "17b00b71",
   "metadata": {
    "ExecuteTime": {
     "end_time": "2021-05-14T21:35:29.684902Z",
     "start_time": "2021-05-14T21:35:11.320463Z"
    },
    "collapsed": true
   },
   "outputs": [
    {
     "name": "stdout",
     "output_type": "stream",
     "text": [
      "LN3YKS4W518Q150L.jpg 下载成功！\n",
      "EZPSFRFNY792G0F1.jpg 下载成功！\n",
      "5MJ9XMA6I1IPE890.jpg 下载成功！\n",
      "VQA4T5IR6N84C6RH.jpg 下载成功！\n",
      "HNQ8P34V20OL1P4Y 下载成功！\n",
      "HJAH0256Q9TK6IUM.jpg 下载成功！\n",
      "QQ6OQUYSEWCC8XU8.jpg 下载成功！\n",
      "EAJ2VB7FKNRRE972.jpg 下载成功！\n",
      "X42K2NCK0CCF1XGW.jpg 下载成功！\n",
      "0EMDBRRKMYANUTII.jpg 下载成功！\n",
      "MXAOR7QC4KNEW3FM.jpg 下载成功！\n",
      "63Q6P7GQDD85DC2L.jpg 下载成功！\n",
      "QXG8ZPIZQ9IY6QVZ.jpg 下载成功！\n",
      "BLE9N8S5ML4DGFX6.jpg 下载成功！\n",
      "XUMC6NV8WYO1JGS3.jpg 下载成功！\n",
      "I9SFO8OVI3URQIGE.jpg 下载成功！\n",
      "IZ38VODKZFY522X1.jpg 下载成功！\n",
      "QFENIE2MLVCF16BI.jpg 下载成功！\n",
      "FPVMQJJJ138GTN7M.jpg 下载成功！\n",
      "SEGNC6WXW3ZRYLGK.jpg 下载成功！\n",
      "QHP74EMKG1AIZP39.jpg 下载成功！\n",
      "XTYQBVBEOSVBX613.jpg 下载成功！\n",
      "JWPMA8JIIT38DSQK.jpg 下载成功！\n",
      "II520ZELII50BY6M.jpg 下载成功！\n",
      "KJ9N2GLJKQXB8DT4.jpg 下载成功！\n"
     ]
    }
   ],
   "source": [
    "# https://www.qiushibaike.com/imgrank/ 有35页，需要每一页的图片都下载下来\n",
    "import requests\n",
    "import re\n",
    "import os # 这是为了直接创建一个文件夹！！！\n",
    "\n",
    "\n",
    "url = 'https://www.qiushibaike.com/imgrank/'\n",
    "# 对整张页面进行爬取\n",
    "\n",
    "\n",
    "headers = {\n",
    "    'User-Agent': 'Mozilla/5.0 (Windows NT 10.0; Win64; x64) AppleWebKit/537.36 (KHTML, like Gecko) Chrome/90.0.4430.72 Safari/537.36'\n",
    "}\n",
    "\n",
    "\n",
    "page_text = requests.get(url = url, headers = headers).text # 获取网页源代码数据\n",
    "\n",
    "\n",
    "# 现在使用聚焦爬虫找到所有的image然后解析\n",
    "# 观察f12，发现所有图片都是类似这样\n",
    "'''\n",
    "<img src=\"//pic.qiushibaike.com/system/pictures/12431/124319738/medium/W7VD97D7DCI0PTOL.jpg\" \n",
    "alt=\"糗事#124319738\" class=\"illustration\" width=\"100%\" height=\"auto\">\n",
    "'''\n",
    "# 即，都是img src开头的，所以直接找即可\n",
    "# 观察一下，这里的层级问题，这个是div class等号后面的层级，比如当你选中div class = 'thumb'之后，就等于选中了thumb里面的全部数据\n",
    "# 每个div下面，文字和图片都是分开储存在不同的div的！\n",
    "\n",
    "\n",
    "# 现在开始提取\n",
    "# ctrl+c 对div = thumb的，然后得到这个\n",
    "'''\n",
    "<div class=\"thumb\">\n",
    "<a href=\"/article/124319738\" target=\"_blank\">\n",
    "<img src=\"//pic.qiushibaike.com/system/pictures/12431/124319738/medium/W7VD97D7DCI0PTOL.jpg\" alt=\"糗事#124319738\" class=\"illustration\" width=\"100%\" height=\"auto\">\n",
    "</a>\n",
    "</div>\n",
    "'''\n",
    "# 现在提取src的值\n",
    "# 对一个网页源代码来说，使用下面的ex，可以提取到所有src的值，有多少thumb就提取多少个！\n",
    "ex = '<div class=\"thumb\">.*?<img src=\"(.*?)\" alt.*?</div>'\n",
    "\n",
    "\n",
    "img_src_data = re.findall(ex, page_text, re.S) # 第三个参数是单行匹配，这里的一定不能使用re.M！\n",
    "# 现在得到了所有url\n",
    "\n",
    "\n",
    "# 先创建一个文件夹，用域放置图片\n",
    "file_name = './糗图Libs'\n",
    "if not os.path.exists(file_name): # 如果某个目录不存在，则创建\n",
    "    os.mkdir(file_name)\n",
    "    \n",
    "    \n",
    "# 对img_src_data遍历，然后全部get一遍，就可以下载所有图片了\n",
    "for i in range(len(img_src_data)):\n",
    "    # 这里img_src_data中的数据没有协议头，可能是http也可能是https，所以要先判断一下！\n",
    "    real_url = 'http:' + img_src_data[i]\n",
    "    \n",
    "    image_data = requests.get(real_url, headers = headers).content # 千万不要用成text了！\n",
    "    \n",
    "    # 对每个图片取名，直接用split()切分！\n",
    "    img_name = file_name + '/' + str(img_src_data[i].split('/')[-1]) # 改名，直接取根据/ split之后的最后一项！\n",
    "    \n",
    "    with open(img_name, 'wb') as fp:\n",
    "        fp.write(image_data)\n",
    "        print(img_src_data[i].split('/')[-1],'下载成功！')\n",
    "        fp.close()"
   ]
  },
  {
   "cell_type": "code",
   "execution_count": 168,
   "id": "1ae964d3",
   "metadata": {
    "ExecuteTime": {
     "end_time": "2021-05-14T21:49:19.654808Z",
     "start_time": "2021-05-14T21:48:46.148591Z"
    },
    "collapsed": true
   },
   "outputs": [
    {
     "name": "stdout",
     "output_type": "stream",
     "text": [
      "第 1 页正在下载！\n",
      "1JW09CHJAC0O6JAE.jpg 下载成功！\n",
      "MXAOR7QC4KNEW3FM.jpg 下载成功！\n",
      "XGP9IAGNHBKV7Y2U.jpg 下载成功！\n",
      "7RI3V690QYOPJXPD.jpg 下载成功！\n",
      "3W0D0QPUCX860C93.jpg 下载成功！\n",
      "WF12UETMFI9RWAJE.jpg 下载成功！\n",
      "QQ6OQUYSEWCC8XU8.jpg 下载成功！\n",
      "ZO6X7F3870NW3HKN.jpg 下载成功！\n",
      "AIYYZL98PL4P3BZY.jpg 下载成功！\n",
      "4F3YU9UNO75G79E2.jpg 下载成功！\n",
      "LN3YKS4W518Q150L.jpg 下载成功！\n",
      "HJAH0256Q9TK6IUM.jpg 下载成功！\n",
      "1ABO1M2MKCCCEMJY.jpg 下载成功！\n",
      "P6M8FV857VD2Y7AB.jpg 下载成功！\n",
      "N6B33U3Z7Y1J58UG.jpg 下载成功！\n",
      "BXFX6PNFBPTWS0BB.jpg 下载成功！\n",
      "ZQZC0FOCMI4ZPI6S.jpg 下载成功！\n",
      "257IAXUD9I778KX0.jpg 下载成功！\n",
      "DF5QOT5L7POLPFQ5.jpg 下载成功！\n",
      "Q39IUFJUQ2ZZNYWE.jpg 下载成功！\n",
      "W7VD97D7DCI0PTOL.jpg 下载成功！\n",
      "PGWRRHHDYUV9EU1W.jpg 下载成功！\n",
      "HN3O6XF11EFDCFJ9.jpg 下载成功！\n",
      "KX0QRQDBFI2BLECT.jpg 下载成功！\n",
      "H2UBQMEWM73D45XM.jpg 下载成功！\n",
      "第 2 页正在下载！\n",
      "6QV3X2AKN57F797S.jpg 下载成功！\n",
      "L3NBZYY4PEVEORD3.jpg 下载成功！\n",
      "OXM9R9S6TGKFX4ZC.jpg 下载成功！\n",
      "8QZ76TU2X612MUT8.jpg 下载成功！\n",
      "TWSCOKV35HHR4M06.jpg 下载成功！\n",
      "XTYQBVBEOSVBX613.jpg 下载成功！\n",
      "I9SFO8OVI3URQIGE.jpg 下载成功！\n",
      "I8EZG6KODP3N9ZB6.jpg 下载成功！\n",
      "UZ19LGYH96ZBO204.jpg 下载成功！\n",
      "ZFY51R1MII5FYIWC.jpg 下载成功！\n",
      "AGRCZUS4CBY3BCNI.jpg 下载成功！\n",
      "5XKPVOKSV3I9NGE2.jpg 下载成功！\n",
      "JDP5H47UZB0RTKCA.jpg 下载成功！\n",
      "4ZYHHQQVTGK060QF.jpg 下载成功！\n",
      "J62O3PYSUY5CFIV6.jpg 下载成功！\n",
      "IZ38VODKZFY522X1.jpg 下载成功！\n",
      "ZPZ48YDGK3FNBO47.jpg 下载成功！\n",
      "TGFPVZ1F5G98XZGP.jpg 下载成功！\n",
      "GTCR2DNV7MLMIMRM.jpg 下载成功！\n",
      "H2T4HMBQN1U5F2IS.jpg 下载成功！\n",
      "2Y20KKCC7J30C8YB.jpg 下载成功！\n",
      "8WE06MHCQ9R5FXBB.jpg 下载成功！\n",
      "OXXNYUDD875GE9MW.jpg 下载成功！\n",
      "5K376QOXVKOTMX02.jpg 下载成功！\n",
      "WFX741SDSGWYPHR6.jpg 下载成功！\n"
     ]
    }
   ],
   "source": [
    "# 现在我们对1-13页全部进行提取\n",
    "# 点击页码，发现这个平台是直接给了新的网站，https://www.qiushibaike.com/imgrank/page/3/\n",
    "# 所以可以直接更改url达到更改页码的目的\n",
    "\n",
    "# 设置通用url模板！\n",
    "# 使用占位符！\n",
    "url = 'https://www.qiushibaike.com/imgrank/page/%d/'\n",
    "\n",
    "headers = {\n",
    "    'User-Agent': 'Mozilla/5.0 (Windows NT 10.0; Win64; x64) AppleWebKit/537.36 (KHTML, like Gecko) Chrome/90.0.4430.72 Safari/537.36'\n",
    "}\n",
    "\n",
    "file_name = './糗图Libs'\n",
    "if not os.path.exists(file_name): # 如果某个目录不存在，则创建\n",
    "    os.mkdir(file_name)\n",
    "\n",
    "for pageNum in range(1, 3): # 从1到2页，不用下载太多\n",
    "    new_url = format(url%pageNum) # 对应页码的url\n",
    "    page_text = requests.get(url = new_url, headers = headers).text # 获取网页源代码数据\n",
    "    \n",
    "    ex = '<div class=\"thumb\">.*?<img src=\"(.*?)\" alt.*?</div>'\n",
    "\n",
    "    img_src_data = re.findall(ex, page_text, re.S) # 第三个参数是单行匹配，这里的一定不能使用re.M！\n",
    "    \n",
    "    print('第', pageNum, '页正在下载！')\n",
    "    for i in range(len(img_src_data)):\n",
    "        real_url = 'http:' + img_src_data[i]\n",
    "        image_data = requests.get(real_url, headers = headers).content\n",
    "        img_name = file_name + '/' + str(img_src_data[i].split('/')[-1]) \n",
    "\n",
    "        with open(img_name, 'wb') as fp:\n",
    "            fp.write(image_data)\n",
    "            print(img_src_data[i].split('/')[-1],'下载成功！')\n",
    "            fp.close()"
   ]
  },
  {
   "cell_type": "code",
   "execution_count": 171,
   "id": "2b3aac21",
   "metadata": {
    "ExecuteTime": {
     "end_time": "2021-05-14T21:50:16.490252Z",
     "start_time": "2021-05-14T21:50:16.485266Z"
    },
    "scrolled": true
   },
   "outputs": [
    {
     "data": {
      "text/plain": [
       "'https://www.qiushibaike.com/imgrank/page/aaa/'"
      ]
     },
     "execution_count": 171,
     "metadata": {},
     "output_type": "execute_result"
    }
   ],
   "source": [
    "# 关于占位符\n",
    "# %d\t整数\n",
    "# %f\t浮点数\n",
    "# %s\t字符串\n",
    "# %x\t十六进制整数\n",
    "\n",
    "format('https://www.qiushibaike.com/imgrank/page/%s/'%'aaa')"
   ]
  },
  {
   "cell_type": "code",
   "execution_count": null,
   "id": "81f31b94",
   "metadata": {},
   "outputs": [],
   "source": []
  },
  {
   "cell_type": "markdown",
   "id": "03409285",
   "metadata": {},
   "source": [
    "### No.2，bs4解析方式"
   ]
  },
  {
   "cell_type": "code",
   "execution_count": 172,
   "id": "1033dd84",
   "metadata": {
    "ExecuteTime": {
     "end_time": "2021-05-14T21:54:15.946315Z",
     "start_time": "2021-05-14T21:54:15.941329Z"
    }
   },
   "outputs": [],
   "source": [
    "# bs4只能应用于python中\n",
    "# 数据解析原理:\n",
    "# 1. 标签定位；2.提取标签\n",
    "\n",
    "# bs4原理：\n",
    "# 1.实例化一个BeautifulSoup对象，并且将页面源码数据加载到该对象中\n",
    "# 2.通过调用BeautifulSoup对象中相关的属性或者方法进行标签定位和数据提取"
   ]
  },
  {
   "cell_type": "code",
   "execution_count": 176,
   "id": "72861a8a",
   "metadata": {
    "ExecuteTime": {
     "end_time": "2021-05-15T00:21:55.058714Z",
     "start_time": "2021-05-15T00:21:53.784944Z"
    }
   },
   "outputs": [],
   "source": [
    "# 实例化一个BeautifulSoup对象，并且将源代码加载到这里面\n",
    "from bs4 import BeautifulSoup\n",
    "\n",
    "# 实例化\n",
    "# 两种类型：1.将本地的html的数据加载到对象中，2.将互联网上获取的源码加载到BS中\n",
    "\n",
    "# 先来测试本地的本路径的'狗-lizh.html'文件！\n",
    "# 先打开本地文件，读取数据\n",
    "fp = open('./搜狗-lizh.html', 'r', encoding = 'utf-8')\n",
    "\n",
    "soup = BeautifulSoup(fp, 'lxml') # 第二个参数是固定的！这里soup就已经是网页源代码了！\n",
    "\n",
    "fp.close()\n",
    "\n",
    "'''\n",
    "# 如果是互联网上得到的数据，一样处理\n",
    "url = 'https://www.qiushibaike.com/imgrank/'\n",
    "page_text = requests.get(url = url)\n",
    "soup = BeautifulSoup(page_text.text, 'lxml')\n",
    "'''"
   ]
  },
  {
   "cell_type": "code",
   "execution_count": 197,
   "id": "e2cbf7a7",
   "metadata": {
    "ExecuteTime": {
     "end_time": "2021-05-15T00:37:56.825604Z",
     "start_time": "2021-05-15T00:37:56.762746Z"
    }
   },
   "outputs": [],
   "source": [
    "# 对本地保存的搜狗-lizhenning.html进行分析\n",
    "from bs4 import BeautifulSoup\n",
    "\n",
    "url = 'http://zhenning-li.com/'\n",
    "source_text = requests.get(url = url, headers = headers).text\n",
    "\n",
    "soup = BeautifulSoup(source_text, 'lxml') # 第二个参数是固定的！这里soup就已经是网页源代码了！\n",
    "\n",
    "# soup.tagName返回的是，html中第一次出现的tagName的内容！\n",
    "# 比如soup.div\n",
    "# 还有一种一样的方法，是soup.find('div')\n",
    "# find还可以属性定位。比如我的网站上，第一个div就是div，第二个里面就带有属性了，所以可以定位到第二个！\n",
    "\n",
    "# soup.find_all()是返回符合要求的全部值，返回的是列表！"
   ]
  },
  {
   "cell_type": "code",
   "execution_count": 199,
   "id": "158bf674",
   "metadata": {
    "ExecuteTime": {
     "end_time": "2021-05-15T00:41:16.484505Z",
     "start_time": "2021-05-15T00:41:16.475529Z"
    },
    "collapsed": true
   },
   "outputs": [
    {
     "data": {
      "text/plain": [
       "<div class=\"main-header-bar-wrap\">\n",
       "<div class=\"main-header-bar\">\n",
       "<div class=\"ast-container\">\n",
       "<div class=\"ast-flex main-header-container\">\n",
       "<div class=\"site-branding\">\n",
       "<div class=\"ast-site-identity\" itemscope=\"itemscope\" itemtype=\"https://schema.org/Organization\">\n",
       "<span class=\"site-logo-img\"><a aria-current=\"page\" class=\"custom-logo-link\" href=\"http://zhenning-li.com/\" rel=\"home\"><img alt=\"Zhenning's Place\" class=\"custom-logo\" height=\"50\" sizes=\"(max-width: 50px) 100vw, 50px\" src=\"https://secureservercdn.net/160.153.137.99/h3e.ecb.myftpupload.com/wp-content/uploads/2020/12/cropped-cropped-cropped-Vic-1-50x50.png\" srcset=\"https://secureservercdn.net/160.153.137.99/h3e.ecb.myftpupload.com/wp-content/uploads/2020/12/cropped-cropped-cropped-Vic-1-50x50.png 50w, https://secureservercdn.net/160.153.137.99/h3e.ecb.myftpupload.com/wp-content/uploads/2020/12/cropped-cropped-cropped-Vic-1-300x300.png 300w, https://secureservercdn.net/160.153.137.99/h3e.ecb.myftpupload.com/wp-content/uploads/2020/12/cropped-cropped-cropped-Vic-1-150x150.png 150w, https://secureservercdn.net/160.153.137.99/h3e.ecb.myftpupload.com/wp-content/uploads/2020/12/cropped-cropped-cropped-Vic-1.png 512w\" width=\"50\"/></a></span><div class=\"ast-site-title-wrap\">\n",
       "<h1 class=\"site-title\" itemprop=\"name\">\n",
       "<a href=\"http://zhenning-li.com/\" itemprop=\"url\" rel=\"home\">\n",
       "\t\t\t\t\tZhenning's Place\n",
       "\t\t\t\t</a>\n",
       "</h1>\n",
       "</div> </div>\n",
       "</div>\n",
       "<!-- .site-branding -->\n",
       "<div class=\"ast-mobile-menu-buttons\">\n",
       "<div class=\"ast-button-wrap\">\n",
       "<button aria-controls=\"primary-menu\" aria-expanded=\"false\" class=\"menu-toggle main-header-menu-toggle ast-mobile-menu-buttons-minimal\" type=\"button\">\n",
       "<span class=\"screen-reader-text\">MENU</span>\n",
       "<span class=\"menu-toggle-icon\"></span>\n",
       "<span class=\"mobile-menu-wrap\">\n",
       "<span class=\"mobile-menu\">MENU</span>\n",
       "</span>\n",
       "</button>\n",
       "</div>\n",
       "</div>\n",
       "<div class=\"ast-main-header-bar-alignment\"><div class=\"main-header-bar-navigation\"><nav aria-label=\"Site Navigation\" class=\"ast-flex-grow-1 navigation-accessibility\" id=\"site-navigation\" itemscope=\"itemscope\" itemtype=\"https://schema.org/SiteNavigationElement\"><div class=\"main-navigation\"><ul class=\"main-header-menu ast-nav-menu ast-flex ast-justify-content-flex-end submenu-with-border astra-menu-animation-slide-down\" id=\"primary-menu\"><li class=\"menu-item menu-item-type-post_type menu-item-object-page menu-item-165\" id=\"menu-item-165\"><a class=\"menu-link\" href=\"http://zhenning-li.com/about-me/\">About Me</a></li>\n",
       "<li class=\"menu-item menu-item-type-post_type menu-item-object-page menu-item-181\" id=\"menu-item-181\"><a class=\"menu-link\" href=\"http://zhenning-li.com/market-review/\">Market Review</a></li>\n",
       "<li class=\"menu-item menu-item-type-post_type menu-item-object-page menu-item-180\" id=\"menu-item-180\"><a class=\"menu-link\" href=\"http://zhenning-li.com/insights/\">Insights</a></li>\n",
       "<li class=\"menu-item menu-item-type-post_type menu-item-object-page menu-item-183\" id=\"menu-item-183\"><a class=\"menu-link\" href=\"http://zhenning-li.com/tutorials-of-anything-interesting/\">Tutorials</a></li>\n",
       "<li class=\"menu-item menu-item-type-post_type menu-item-object-page menu-item-182\" id=\"menu-item-182\"><a class=\"menu-link\" href=\"http://zhenning-li.com/disclaimer/\">Disclaimer</a></li>\n",
       "<li class=\"menu-item menu-item-type-custom menu-item-object-custom menu-item-223\" id=\"menu-item-223\"><a class=\"menu-link\" href=\"https://www.linkedin.com/in/zhenning-li-522b83a4/\">Linkedin</a></li>\n",
       "<li class=\"menu-item menu-item-type-custom menu-item-object-custom menu-item-224\" id=\"menu-item-224\"><a class=\"menu-link\" href=\"https://github.com/handsomevictor\">Github</a></li>\n",
       "<li class=\"ast-masthead-custom-menu-items search-custom-menu-item\">\n",
       "<div class=\"ast-search-menu-icon slide-search\" id=\"ast-search-form\" role=\"search\" tabindex=\"-1\">\n",
       "<div class=\"ast-search-icon\">\n",
       "<a aria-label=\"Search icon link\" class=\"slide-search astra-search-icon\" href=\"#\">\n",
       "<span class=\"screen-reader-text\">Search</span>\n",
       "</a>\n",
       "</div>\n",
       "<form action=\"http://zhenning-li.com/\" class=\"search-form\" method=\"get\" role=\"search\">\n",
       "<label>\n",
       "<span class=\"screen-reader-text\">Search for:</span>\n",
       "<input class=\"search-field\" name=\"s\" placeholder=\"Search …\" role=\"search\" tabindex=\"-1\" type=\"search\" value=\"\"/>\n",
       "</label>\n",
       "<button aria-label=\"search submit\" class=\"search-submit\" type=\"submit\" value=\"Search\"><i class=\"astra-search-icon\"></i></button>\n",
       "</form> </div>\n",
       "</li>\n",
       "</ul></div></nav></div></div> </div><!-- Main Header Container -->\n",
       "</div><!-- ast-row -->\n",
       "</div> <!-- Main Header Bar -->\n",
       "</div>"
      ]
     },
     "execution_count": 199,
     "metadata": {},
     "output_type": "execute_result"
    }
   ],
   "source": [
    "soup.find('div', class_ = 'main-header-bar-wrap') # 这里class_是带下划线的！\n",
    "# 同理，这里的class_还可以是id_, attr_等，只要是网页上div之后出现的类别，都可以加！"
   ]
  },
  {
   "cell_type": "code",
   "execution_count": 204,
   "id": "4f2c685b",
   "metadata": {
    "ExecuteTime": {
     "end_time": "2021-05-15T00:44:30.431610Z",
     "start_time": "2021-05-15T00:44:30.427622Z"
    }
   },
   "outputs": [
    {
     "data": {
      "text/plain": [
       "27"
      ]
     },
     "execution_count": 204,
     "metadata": {},
     "output_type": "execute_result"
    }
   ],
   "source": [
    "len(soup.find_all('div'))"
   ]
  },
  {
   "cell_type": "code",
   "execution_count": 210,
   "id": "424cdf0f",
   "metadata": {
    "ExecuteTime": {
     "end_time": "2021-05-15T00:48:14.399751Z",
     "start_time": "2021-05-15T00:48:14.391774Z"
    }
   },
   "outputs": [
    {
     "data": {
      "text/plain": [
       "[<div class=\"site-branding\">\n",
       " <div class=\"ast-site-identity\" itemscope=\"itemscope\" itemtype=\"https://schema.org/Organization\">\n",
       " <span class=\"site-logo-img\"><a aria-current=\"page\" class=\"custom-logo-link\" href=\"http://zhenning-li.com/\" rel=\"home\"><img alt=\"Zhenning's Place\" class=\"custom-logo\" height=\"50\" sizes=\"(max-width: 50px) 100vw, 50px\" src=\"https://secureservercdn.net/160.153.137.99/h3e.ecb.myftpupload.com/wp-content/uploads/2020/12/cropped-cropped-cropped-Vic-1-50x50.png\" srcset=\"https://secureservercdn.net/160.153.137.99/h3e.ecb.myftpupload.com/wp-content/uploads/2020/12/cropped-cropped-cropped-Vic-1-50x50.png 50w, https://secureservercdn.net/160.153.137.99/h3e.ecb.myftpupload.com/wp-content/uploads/2020/12/cropped-cropped-cropped-Vic-1-300x300.png 300w, https://secureservercdn.net/160.153.137.99/h3e.ecb.myftpupload.com/wp-content/uploads/2020/12/cropped-cropped-cropped-Vic-1-150x150.png 150w, https://secureservercdn.net/160.153.137.99/h3e.ecb.myftpupload.com/wp-content/uploads/2020/12/cropped-cropped-cropped-Vic-1.png 512w\" width=\"50\"/></a></span><div class=\"ast-site-title-wrap\">\n",
       " <h1 class=\"site-title\" itemprop=\"name\">\n",
       " <a href=\"http://zhenning-li.com/\" itemprop=\"url\" rel=\"home\">\n",
       " \t\t\t\t\tZhenning's Place\n",
       " \t\t\t\t</a>\n",
       " </h1>\n",
       " </div> </div>\n",
       " </div>]"
      ]
     },
     "execution_count": 210,
     "metadata": {},
     "output_type": "execute_result"
    }
   ],
   "source": [
    "# select返回的是某一个选择器下面的内容！比如div后class是某个内容，然后select可以加这个内容，然后就extract出来了这个单独的部分！\n",
    "\n",
    "soup.select('.site-branding') # 返回的是列表！而且这个点不能少！！！\n",
    "# 但是这！！如果标签自带空格！像这样的 class = 'hfeed site'，则要在中间加'.'！soup.select('.hfeed.site')即可！！"
   ]
  },
  {
   "cell_type": "code",
   "execution_count": 220,
   "id": "f869a517",
   "metadata": {
    "ExecuteTime": {
     "end_time": "2021-05-15T00:56:15.921503Z",
     "start_time": "2021-05-15T00:56:15.915512Z"
    }
   },
   "outputs": [
    {
     "data": {
      "text/plain": [
       "[]"
      ]
     },
     "execution_count": 220,
     "metadata": {},
     "output_type": "execute_result"
    }
   ],
   "source": [
    "# select还能查找层级的关系！这个最重要！可以直接定位到比如div class下面的ul下面的li当中的某个网址等！\n",
    "# 这里用 > 来表示层级关系！！\n",
    "soup.select('.ast-main-header-bar-alignment > nav > div > ul > li > a') # 这个写的不对\n",
    "\n",
    "# 如果想要跳跃层级，则直接用空格即可！soup.select('.ast-main-header-bar-alignment li')"
   ]
  },
  {
   "cell_type": "code",
   "execution_count": 230,
   "id": "6381280a",
   "metadata": {
    "ExecuteTime": {
     "end_time": "2021-05-15T01:00:52.397835Z",
     "start_time": "2021-05-15T01:00:52.391851Z"
    }
   },
   "outputs": [
    {
     "data": {
      "text/plain": [
       "[<li class=\"menu-item menu-item-type-post_type menu-item-object-page menu-item-165\" id=\"menu-item-165\"><a class=\"menu-link\" href=\"http://zhenning-li.com/about-me/\">About Me</a></li>,\n",
       " <li class=\"menu-item menu-item-type-post_type menu-item-object-page menu-item-181\" id=\"menu-item-181\"><a class=\"menu-link\" href=\"http://zhenning-li.com/market-review/\">Market Review</a></li>,\n",
       " <li class=\"menu-item menu-item-type-post_type menu-item-object-page menu-item-180\" id=\"menu-item-180\"><a class=\"menu-link\" href=\"http://zhenning-li.com/insights/\">Insights</a></li>,\n",
       " <li class=\"menu-item menu-item-type-post_type menu-item-object-page menu-item-183\" id=\"menu-item-183\"><a class=\"menu-link\" href=\"http://zhenning-li.com/tutorials-of-anything-interesting/\">Tutorials</a></li>,\n",
       " <li class=\"menu-item menu-item-type-post_type menu-item-object-page menu-item-182\" id=\"menu-item-182\"><a class=\"menu-link\" href=\"http://zhenning-li.com/disclaimer/\">Disclaimer</a></li>,\n",
       " <li class=\"menu-item menu-item-type-custom menu-item-object-custom menu-item-223\" id=\"menu-item-223\"><a class=\"menu-link\" href=\"https://www.linkedin.com/in/zhenning-li-522b83a4/\">Linkedin</a></li>,\n",
       " <li class=\"menu-item menu-item-type-custom menu-item-object-custom menu-item-224\" id=\"menu-item-224\"><a class=\"menu-link\" href=\"https://github.com/handsomevictor\">Github</a></li>,\n",
       " <li class=\"ast-masthead-custom-menu-items search-custom-menu-item\">\n",
       " <div class=\"ast-search-menu-icon slide-search\" id=\"ast-search-form\" role=\"search\" tabindex=\"-1\">\n",
       " <div class=\"ast-search-icon\">\n",
       " <a aria-label=\"Search icon link\" class=\"slide-search astra-search-icon\" href=\"#\">\n",
       " <span class=\"screen-reader-text\">Search</span>\n",
       " </a>\n",
       " </div>\n",
       " <form action=\"http://zhenning-li.com/\" class=\"search-form\" method=\"get\" role=\"search\">\n",
       " <label>\n",
       " <span class=\"screen-reader-text\">Search for:</span>\n",
       " <input class=\"search-field\" name=\"s\" placeholder=\"Search …\" role=\"search\" tabindex=\"-1\" type=\"search\" value=\"\"/>\n",
       " </label>\n",
       " <button aria-label=\"search submit\" class=\"search-submit\" type=\"submit\" value=\"Search\"><i class=\"astra-search-icon\"></i></button>\n",
       " </form> </div>\n",
       " </li>]"
      ]
     },
     "execution_count": 230,
     "metadata": {},
     "output_type": "execute_result"
    }
   ],
   "source": [
    "soup.select('.ast-main-header-bar-alignment li')"
   ]
  },
  {
   "cell_type": "code",
   "execution_count": 232,
   "id": "8ef94074",
   "metadata": {
    "ExecuteTime": {
     "end_time": "2021-05-15T01:02:49.486691Z",
     "start_time": "2021-05-15T01:02:49.476719Z"
    },
    "collapsed": true
   },
   "outputs": [
    {
     "data": {
      "text/plain": [
       "[<div class=\"hfeed site\" id=\"page\">\n",
       " <a class=\"skip-link screen-reader-text\" href=\"#content\">Skip to content</a>\n",
       " <header class=\"site-header ast-primary-submenu-animation-slide-down header-main-layout-1 ast-primary-menu-enabled ast-logo-title-inline ast-hide-custom-menu-mobile ast-menu-toggle-icon ast-mobile-header-inline\" id=\"masthead\" itemid=\"#masthead\" itemscope=\"itemscope\" itemtype=\"https://schema.org/WPHeader\">\n",
       " <div class=\"main-header-bar-wrap\">\n",
       " <div class=\"main-header-bar\">\n",
       " <div class=\"ast-container\">\n",
       " <div class=\"ast-flex main-header-container\">\n",
       " <div class=\"site-branding\">\n",
       " <div class=\"ast-site-identity\" itemscope=\"itemscope\" itemtype=\"https://schema.org/Organization\">\n",
       " <span class=\"site-logo-img\"><a aria-current=\"page\" class=\"custom-logo-link\" href=\"http://zhenning-li.com/\" rel=\"home\"><img alt=\"Zhenning's Place\" class=\"custom-logo\" height=\"50\" sizes=\"(max-width: 50px) 100vw, 50px\" src=\"https://secureservercdn.net/160.153.137.99/h3e.ecb.myftpupload.com/wp-content/uploads/2020/12/cropped-cropped-cropped-Vic-1-50x50.png\" srcset=\"https://secureservercdn.net/160.153.137.99/h3e.ecb.myftpupload.com/wp-content/uploads/2020/12/cropped-cropped-cropped-Vic-1-50x50.png 50w, https://secureservercdn.net/160.153.137.99/h3e.ecb.myftpupload.com/wp-content/uploads/2020/12/cropped-cropped-cropped-Vic-1-300x300.png 300w, https://secureservercdn.net/160.153.137.99/h3e.ecb.myftpupload.com/wp-content/uploads/2020/12/cropped-cropped-cropped-Vic-1-150x150.png 150w, https://secureservercdn.net/160.153.137.99/h3e.ecb.myftpupload.com/wp-content/uploads/2020/12/cropped-cropped-cropped-Vic-1.png 512w\" width=\"50\"/></a></span><div class=\"ast-site-title-wrap\">\n",
       " <h1 class=\"site-title\" itemprop=\"name\">\n",
       " <a href=\"http://zhenning-li.com/\" itemprop=\"url\" rel=\"home\">\n",
       " \t\t\t\t\tZhenning's Place\n",
       " \t\t\t\t</a>\n",
       " </h1>\n",
       " </div> </div>\n",
       " </div>\n",
       " <!-- .site-branding -->\n",
       " <div class=\"ast-mobile-menu-buttons\">\n",
       " <div class=\"ast-button-wrap\">\n",
       " <button aria-controls=\"primary-menu\" aria-expanded=\"false\" class=\"menu-toggle main-header-menu-toggle ast-mobile-menu-buttons-minimal\" type=\"button\">\n",
       " <span class=\"screen-reader-text\">MENU</span>\n",
       " <span class=\"menu-toggle-icon\"></span>\n",
       " <span class=\"mobile-menu-wrap\">\n",
       " <span class=\"mobile-menu\">MENU</span>\n",
       " </span>\n",
       " </button>\n",
       " </div>\n",
       " </div>\n",
       " <div class=\"ast-main-header-bar-alignment\"><div class=\"main-header-bar-navigation\"><nav aria-label=\"Site Navigation\" class=\"ast-flex-grow-1 navigation-accessibility\" id=\"site-navigation\" itemscope=\"itemscope\" itemtype=\"https://schema.org/SiteNavigationElement\"><div class=\"main-navigation\"><ul class=\"main-header-menu ast-nav-menu ast-flex ast-justify-content-flex-end submenu-with-border astra-menu-animation-slide-down\" id=\"primary-menu\"><li class=\"menu-item menu-item-type-post_type menu-item-object-page menu-item-165\" id=\"menu-item-165\"><a class=\"menu-link\" href=\"http://zhenning-li.com/about-me/\">About Me</a></li>\n",
       " <li class=\"menu-item menu-item-type-post_type menu-item-object-page menu-item-181\" id=\"menu-item-181\"><a class=\"menu-link\" href=\"http://zhenning-li.com/market-review/\">Market Review</a></li>\n",
       " <li class=\"menu-item menu-item-type-post_type menu-item-object-page menu-item-180\" id=\"menu-item-180\"><a class=\"menu-link\" href=\"http://zhenning-li.com/insights/\">Insights</a></li>\n",
       " <li class=\"menu-item menu-item-type-post_type menu-item-object-page menu-item-183\" id=\"menu-item-183\"><a class=\"menu-link\" href=\"http://zhenning-li.com/tutorials-of-anything-interesting/\">Tutorials</a></li>\n",
       " <li class=\"menu-item menu-item-type-post_type menu-item-object-page menu-item-182\" id=\"menu-item-182\"><a class=\"menu-link\" href=\"http://zhenning-li.com/disclaimer/\">Disclaimer</a></li>\n",
       " <li class=\"menu-item menu-item-type-custom menu-item-object-custom menu-item-223\" id=\"menu-item-223\"><a class=\"menu-link\" href=\"https://www.linkedin.com/in/zhenning-li-522b83a4/\">Linkedin</a></li>\n",
       " <li class=\"menu-item menu-item-type-custom menu-item-object-custom menu-item-224\" id=\"menu-item-224\"><a class=\"menu-link\" href=\"https://github.com/handsomevictor\">Github</a></li>\n",
       " <li class=\"ast-masthead-custom-menu-items search-custom-menu-item\">\n",
       " <div class=\"ast-search-menu-icon slide-search\" id=\"ast-search-form\" role=\"search\" tabindex=\"-1\">\n",
       " <div class=\"ast-search-icon\">\n",
       " <a aria-label=\"Search icon link\" class=\"slide-search astra-search-icon\" href=\"#\">\n",
       " <span class=\"screen-reader-text\">Search</span>\n",
       " </a>\n",
       " </div>\n",
       " <form action=\"http://zhenning-li.com/\" class=\"search-form\" method=\"get\" role=\"search\">\n",
       " <label>\n",
       " <span class=\"screen-reader-text\">Search for:</span>\n",
       " <input class=\"search-field\" name=\"s\" placeholder=\"Search …\" role=\"search\" tabindex=\"-1\" type=\"search\" value=\"\"/>\n",
       " </label>\n",
       " <button aria-label=\"search submit\" class=\"search-submit\" type=\"submit\" value=\"Search\"><i class=\"astra-search-icon\"></i></button>\n",
       " </form> </div>\n",
       " </li>\n",
       " </ul></div></nav></div></div> </div><!-- Main Header Container -->\n",
       " </div><!-- ast-row -->\n",
       " </div> <!-- Main Header Bar -->\n",
       " </div> <!-- Main Header Bar Wrap -->\n",
       " </header><!-- #masthead -->\n",
       " <div class=\"site-content\" id=\"content\">\n",
       " <div class=\"ast-container\">\n",
       " <div class=\"content-area primary\" id=\"primary\">\n",
       " <main class=\"site-main\" id=\"main\">\n",
       " <article class=\"post-214 page type-page status-publish ast-article-single\" id=\"post-214\" itemscope=\"itemscope\" itemtype=\"https://schema.org/CreativeWork\">\n",
       " <header class=\"entry-header ast-no-thumbnail ast-no-meta\">\n",
       " <h1 class=\"entry-title\" itemprop=\"headline\">Here, you will find everyday A-share market review, tutorials of some interesting stuff and reposts of some interesting articles. Click on buttons above and find more!</h1> </header><!-- .entry-header -->\n",
       " <div class=\"entry-content clear\" itemprop=\"text\">\n",
       " <div class=\"wp-block-coblocks-social wp-block-coblocks-social-profiles is-style-circular alignfull has-text-align-center has-colors\"><ul></ul></div>\n",
       " </div><!-- .entry-content .clear -->\n",
       " </article><!-- #post-## -->\n",
       " </main><!-- #main -->\n",
       " </div><!-- #primary -->\n",
       " <div class=\"widget-area secondary\" id=\"secondary\" itemscope=\"itemscope\" itemtype=\"https://schema.org/WPSideBar\" role=\"complementary\">\n",
       " <div class=\"sidebar-main\">\n",
       " </div><!-- .sidebar-main -->\n",
       " </div><!-- #secondary -->\n",
       " </div> <!-- ast-container -->\n",
       " </div><!-- #content -->\n",
       " <footer class=\"site-footer\" id=\"colophon\" itemid=\"#colophon\" itemscope=\"itemscope\" itemtype=\"https://schema.org/WPFooter\">\n",
       " <div class=\"ast-small-footer footer-sml-layout-1\">\n",
       " <div class=\"ast-footer-overlay\">\n",
       " <div class=\"ast-container\">\n",
       " <div class=\"ast-small-footer-wrap\">\n",
       " <div class=\"ast-small-footer-section ast-small-footer-section-1\">\n",
       " \t\t\t\t\t\tCopyright © 2021 <span class=\"ast-footer-site-title\">Zhenning's Place</span> | <a href=\"/disclaimer/\" rel=\"noreferrer noopener\" target=\"_blank\">Disclaimer</a> </div>\n",
       " </div><!-- .ast-row .ast-small-footer-wrap -->\n",
       " </div><!-- .ast-container -->\n",
       " </div><!-- .ast-footer-overlay -->\n",
       " </div><!-- .ast-small-footer-->\n",
       " </footer><!-- #colophon -->\n",
       " </div>]"
      ]
     },
     "execution_count": 232,
     "metadata": {},
     "output_type": "execute_result"
    }
   ],
   "source": [
    "soup.select('.hfeed.site')"
   ]
  },
  {
   "cell_type": "code",
   "execution_count": 270,
   "id": "4e91606a",
   "metadata": {
    "ExecuteTime": {
     "end_time": "2021-05-15T01:20:08.192686Z",
     "start_time": "2021-05-15T01:20:08.182714Z"
    }
   },
   "outputs": [
    {
     "data": {
      "text/plain": [
       "['About Me',\n",
       " 'Market Review',\n",
       " 'Insights',\n",
       " 'Tutorials',\n",
       " 'Disclaimer',\n",
       " 'Linkedin',\n",
       " 'Github']"
      ]
     },
     "execution_count": 270,
     "metadata": {},
     "output_type": "execute_result"
    }
   ],
   "source": [
    "# 现在定位到某个标签之后，要提取这个标签中的文本内容\n",
    "# 比如，我想提取zhenning-li.com的main-header的内容\n",
    "\n",
    "header_name = []\n",
    "page_text = soup.select('.ast-main-header-bar-alignment li')\n",
    "\n",
    "for i in range(len(page_text)-1): # 这里注意，page_text中最后一个是无效的，要剔除！！\n",
    "    \n",
    "    ex = '<li class=.*?><a class.*?\">(.*?)</a></li>'\n",
    "    page_text_i = page_text[i]\n",
    "    text_content = re.findall(ex, str(page_text_i), re.S)[0]\n",
    "    \n",
    "    header_name.append(text_content)\n",
    "    \n",
    "header_name"
   ]
  },
  {
   "cell_type": "code",
   "execution_count": 285,
   "id": "d2c3d999",
   "metadata": {
    "ExecuteTime": {
     "end_time": "2021-05-15T01:24:57.729676Z",
     "start_time": "2021-05-15T01:24:57.724688Z"
    }
   },
   "outputs": [
    {
     "data": {
      "text/plain": [
       "['About Me',\n",
       " 'Market Review',\n",
       " 'Insights',\n",
       " 'Tutorials',\n",
       " 'Disclaimer',\n",
       " 'Linkedin',\n",
       " 'Github',\n",
       " '\\n\\n\\n\\nSearch\\n\\n\\n\\n\\nSearch for:\\n\\n\\n\\n \\n']"
      ]
     },
     "execution_count": 285,
     "metadata": {},
     "output_type": "execute_result"
    }
   ],
   "source": [
    "# 这里有个简单一万倍的\n",
    "header_name = []\n",
    "page_text = soup.select('.ast-main-header-bar-alignment li')\n",
    "\n",
    "for i in range(len(page_text)):\n",
    "    header_name.append(page_text[i].text) # 不仅可以用.text，还可以用string\n",
    "    \n",
    "header_name"
   ]
  },
  {
   "cell_type": "code",
   "execution_count": 287,
   "id": "961bfd4b",
   "metadata": {
    "ExecuteTime": {
     "end_time": "2021-05-15T01:26:22.294231Z",
     "start_time": "2021-05-15T01:26:22.287273Z"
    }
   },
   "outputs": [
    {
     "data": {
      "text/plain": [
       "['About Me',\n",
       " 'Market Review',\n",
       " 'Insights',\n",
       " 'Tutorials',\n",
       " 'Disclaimer',\n",
       " 'Linkedin',\n",
       " 'Github',\n",
       " None]"
      ]
     },
     "execution_count": 287,
     "metadata": {},
     "output_type": "execute_result"
    }
   ],
   "source": [
    "header_name = []\n",
    "page_text = soup.select('.ast-main-header-bar-alignment li')\n",
    "\n",
    "for i in range(len(page_text)):\n",
    "    header_name.append(page_text[i].string) # 不仅可以用.text，还可以用string。\n",
    "                                            # 这里用string更好，因为这个html中最后一个没有内容\n",
    "    \n",
    "header_name"
   ]
  },
  {
   "cell_type": "code",
   "execution_count": 288,
   "id": "0c0d0bb7",
   "metadata": {
    "ExecuteTime": {
     "end_time": "2021-05-15T01:27:07.110189Z",
     "start_time": "2021-05-15T01:27:07.103205Z"
    }
   },
   "outputs": [
    {
     "data": {
      "text/plain": [
       "['About Me',\n",
       " 'Market Review',\n",
       " 'Insights',\n",
       " 'Tutorials',\n",
       " 'Disclaimer',\n",
       " 'Linkedin',\n",
       " 'Github',\n",
       " '\\n\\n\\n\\nSearch\\n\\n\\n\\n\\nSearch for:\\n\\n\\n\\n \\n']"
      ]
     },
     "execution_count": 288,
     "metadata": {},
     "output_type": "execute_result"
    }
   ],
   "source": [
    "header_name = []\n",
    "page_text = soup.select('.ast-main-header-bar-alignment li')\n",
    "\n",
    "for i in range(len(page_text)):\n",
    "    header_name.append(page_text[i].get_text()) # 也可以用get_text()\n",
    "\n",
    "header_name"
   ]
  },
  {
   "cell_type": "code",
   "execution_count": 297,
   "id": "def0089f",
   "metadata": {
    "ExecuteTime": {
     "end_time": "2021-05-15T01:32:09.659928Z",
     "start_time": "2021-05-15T01:32:09.653945Z"
    }
   },
   "outputs": [
    {
     "data": {
      "text/plain": [
       "'About Me\\nMarket Review\\nInsights\\nTutorials\\nDisclaimer\\nLinkedin\\nGithub\\n\\n\\n\\n\\nSearch\\n\\n\\n\\n\\nSearch for:\\n\\n\\n\\n \\n\\n'"
      ]
     },
     "execution_count": 297,
     "metadata": {},
     "output_type": "execute_result"
    }
   ],
   "source": [
    "# text和get_text()可以get到全部的文本内容，包括不属于直系的标签内容！\n",
    "# string只能获取该标签下面直系的文本！\n",
    "# 一般来说用text的更普遍，因为很容易搞不懂哪些是直系的哪些不是。\n",
    "page_text = soup.find('div', class_ = 'ast-main-header-bar-alignment')\n",
    "\n",
    "# 此时，page_text.string就不会返回东西，因为直系的div下面没有任何东西！\n",
    "page_text.text\n",
    "# 会把所有下属的文本都返回了！"
   ]
  },
  {
   "cell_type": "code",
   "execution_count": 308,
   "id": "32b26469",
   "metadata": {
    "ExecuteTime": {
     "end_time": "2021-05-15T01:38:09.366806Z",
     "start_time": "2021-05-15T01:38:09.359825Z"
    }
   },
   "outputs": [
    {
     "data": {
      "text/plain": [
       "[['hfeed', 'site'],\n",
       " ['main-header-bar-wrap'],\n",
       " ['main-header-bar'],\n",
       " ['ast-container'],\n",
       " ['ast-flex', 'main-header-container'],\n",
       " ['site-branding'],\n",
       " ['ast-site-identity'],\n",
       " ['ast-site-title-wrap'],\n",
       " ['ast-mobile-menu-buttons'],\n",
       " ['ast-button-wrap'],\n",
       " ['ast-main-header-bar-alignment'],\n",
       " ['main-header-bar-navigation'],\n",
       " ['main-navigation'],\n",
       " ['ast-search-menu-icon', 'slide-search'],\n",
       " ['ast-search-icon'],\n",
       " ['site-content'],\n",
       " ['ast-container'],\n",
       " ['content-area', 'primary'],\n",
       " ['entry-content', 'clear'],\n",
       " ['wp-block-coblocks-social',\n",
       "  'wp-block-coblocks-social-profiles',\n",
       "  'is-style-circular',\n",
       "  'alignfull',\n",
       "  'has-text-align-center',\n",
       "  'has-colors'],\n",
       " ['widget-area', 'secondary'],\n",
       " ['sidebar-main'],\n",
       " ['ast-small-footer', 'footer-sml-layout-1'],\n",
       " ['ast-footer-overlay'],\n",
       " ['ast-container'],\n",
       " ['ast-small-footer-wrap'],\n",
       " ['ast-small-footer-section', 'ast-small-footer-section-1']]"
      ]
     },
     "execution_count": 308,
     "metadata": {},
     "output_type": "execute_result"
    }
   ],
   "source": [
    "# 获取标签中的属性值\n",
    "# soup.find_all('div')获取了所有div属性的源代码\n",
    "# soup.find_all('div')[i]，获取了第i个源代码\n",
    "# soup.find_all('div')[i]['class']直接第i个源代码的class类别中的属性名称\n",
    "\n",
    "target_list = soup.find_all('div')\n",
    "class_name = []\n",
    "for i in range(len(target_list)):\n",
    "    class_name.append(target_list[i]['class'])\n",
    "class_name"
   ]
  },
  {
   "cell_type": "code",
   "execution_count": 316,
   "id": "67258ba8",
   "metadata": {
    "ExecuteTime": {
     "end_time": "2021-05-15T01:40:36.213056Z",
     "start_time": "2021-05-15T01:40:36.208039Z"
    }
   },
   "outputs": [
    {
     "data": {
      "text/plain": [
       "'http://zhenning-li.com/about-me/'"
      ]
     },
     "execution_count": 316,
     "metadata": {},
     "output_type": "execute_result"
    }
   ],
   "source": [
    "soup.select('.ast-main-header-bar-alignment a')[0]['href']"
   ]
  },
  {
   "cell_type": "code",
   "execution_count": null,
   "id": "61514ece",
   "metadata": {},
   "outputs": [],
   "source": []
  },
  {
   "cell_type": "markdown",
   "id": "69982b37",
   "metadata": {
    "ExecuteTime": {
     "end_time": "2021-05-15T01:14:16.358992Z",
     "start_time": "2021-05-15T01:14:16.352012Z"
    }
   },
   "source": [
    "### No.3，bs4案例！"
   ]
  },
  {
   "cell_type": "code",
   "execution_count": 371,
   "id": "29422496",
   "metadata": {
    "ExecuteTime": {
     "end_time": "2021-05-15T21:21:35.483563Z",
     "start_time": "2021-05-15T21:21:33.253502Z"
    }
   },
   "outputs": [
    {
     "data": {
      "text/plain": [
       "['第一回·宴桃园豪杰三结义  斩黄巾英雄首立功',\n",
       " '第二回·张翼德怒鞭督邮    何国舅谋诛宦竖',\n",
       " '第三回·议温明董卓叱丁原  馈金珠李肃说吕布',\n",
       " '第四回·废汉帝陈留践位    谋董贼孟德献刀',\n",
       " '第五回·发矫诏诸镇应曹公  破关兵三英战吕布']"
      ]
     },
     "execution_count": 371,
     "metadata": {},
     "output_type": "execute_result"
    }
   ],
   "source": [
    "# 爬取三国演义所有章节的名字以及内容！！https://www.shicimingju.com/book/sanguoyanyi.html\n",
    "import requests\n",
    "import re\n",
    "import os\n",
    "from bs4 import BeautifulSoup\n",
    "\n",
    "\n",
    "url = 'https://www.shicimingju.com/book/sanguoyanyi.html'\n",
    "\n",
    "headers = {\n",
    "    'User-Agent': 'Mozilla/5.0 (Windows NT 10.0; Win64; x64) AppleWebKit/537.36 (KHTML, like Gecko) Chrome/90.0.4430.72 Safari/537.36'\n",
    "}\n",
    "\n",
    "\n",
    "page_text = requests.get(url = url, headers = headers)\n",
    "\n",
    "page_text.encoding = 'utf-8' # 这里处理中文的关键！！！\n",
    "\n",
    "page_text = page_text.text\n",
    "\n",
    "soup = BeautifulSoup(page_text, 'lxml')\n",
    "\n",
    "chapter_name = []\n",
    "url_list_each_chapter = []\n",
    "\n",
    "for i in range(len(soup.select('.book-mulu li'))):\n",
    "    chapter_name.append(soup.select('.book-mulu li')[i].string)\n",
    "    url_list_each_chapter.append('https://www.shicimingju.com'+soup.select('.book-mulu li')[i].a['href'])\n",
    "    \n",
    "chapter_name[:5]\n"
   ]
  },
  {
   "cell_type": "code",
   "execution_count": 386,
   "id": "ca27ba24",
   "metadata": {
    "ExecuteTime": {
     "end_time": "2021-05-15T21:39:05.435123Z",
     "start_time": "2021-05-15T21:39:00.030819Z"
    }
   },
   "outputs": [
    {
     "name": "stdout",
     "output_type": "stream",
     "text": [
      "第一回·宴桃园豪杰三结义  斩黄巾英雄首立功  is finished.\n",
      "第二回·张翼德怒鞭督邮    何国舅谋诛宦竖  is finished.\n",
      "第三回·议温明董卓叱丁原  馈金珠李肃说吕布  is finished.\n",
      "第四回·废汉帝陈留践位    谋董贼孟德献刀  is finished.\n",
      "第五回·发矫诏诸镇应曹公  破关兵三英战吕布  is finished.\n"
     ]
    }
   ],
   "source": [
    "# 现在把每一章节的内容扒下来！\n",
    "# 每一节的url已经在url_list_each_chapter里面了\n",
    "import os\n",
    "\n",
    "if not os.path.exists('./三国小说'):\n",
    "    os.mkdir('./三国小说')\n",
    "\n",
    "for i in range(len(url_list_each_chapter)-115): # 只让运行前10个看看\n",
    "    fp = open('./三国小说/' + chapter_name[i] + '.md', 'w', encoding = 'utf-8')\n",
    "\n",
    "    page_text = requests.get(url = url_list_each_chapter[i], headers = headers)\n",
    "    page_text.encoding = 'utf-8'\n",
    "    page_text = page_text.text\n",
    "\n",
    "    soup = BeautifulSoup(page_text, 'lxml')\n",
    "\n",
    "    target_text_total = soup.find('div', class_= 'chapter_content')\n",
    "    # target_text_total = soup.select('.chapter_content') 也可以！\n",
    "    \n",
    "    page_content = target_text_total.text # 这一步是将内容给提取出来！！！不用烦心里面的/n什么的！！\n",
    "    \n",
    "    fp.write(chapter_name[i] + ':' + page_content)\n",
    "    print(chapter_name[i], ' is finished.')\n",
    "    \n",
    "fp.close()"
   ]
  },
  {
   "cell_type": "code",
   "execution_count": null,
   "id": "b3363da6",
   "metadata": {
    "ExecuteTime": {
     "end_time": "2021-05-15T21:22:21.753522Z",
     "start_time": "2021-05-15T21:22:21.747514Z"
    }
   },
   "outputs": [],
   "source": []
  },
  {
   "cell_type": "markdown",
   "id": "dba31557",
   "metadata": {},
   "source": [
    "### No.4，xpath解析！"
   ]
  },
  {
   "cell_type": "raw",
   "id": "88771a9e",
   "metadata": {},
   "source": [
    "xpath解析是最常用的！效率最高的！\n",
    "xpath原理是：\n",
    "1. 实例化一个etree的对象，且需要将被解析的页面源码数据加载到该对象中\n",
    "2. 调用etree对象中的xpath方法结合着xpath表达式实现标签的定位和内容的捕获\n",
    "\n",
    "环境安装：\n",
    "pip install lxml\n",
    "from lxml import etree\n",
    "\n",
    "实例化一个etree对象\n",
    "1. 本地的html文件\n",
    "    etree.parse(filepath)\n",
    "2. 在线实例化html文件\n",
    "    etree.HTML('page_text') # 这个是响应数据!!\n",
    "    \n",
    "xpath('xpath表达式') 根据不同的表达式直接定位到不同的标签！"
   ]
  },
  {
   "cell_type": "code",
   "execution_count": 413,
   "id": "e36cffde",
   "metadata": {
    "ExecuteTime": {
     "end_time": "2021-05-15T22:12:57.260438Z",
     "start_time": "2021-05-15T22:12:57.215584Z"
    }
   },
   "outputs": [
    {
     "data": {
      "text/plain": [
       "[<Element header at 0x2bbd21a34c0>]"
      ]
     },
     "execution_count": 413,
     "metadata": {},
     "output_type": "execute_result"
    }
   ],
   "source": [
    "import requests\n",
    "import os\n",
    "from lxml import etree\n",
    "\n",
    "# 我们先解析一下本地的数据\n",
    "\n",
    "url = 'http://zhenning-li.com/'\n",
    "\n",
    "page_text = requests.get(url = url).text\n",
    "\n",
    "tree = etree.HTML(page_text)\n",
    "\n",
    "# xpath只能根据层级来定位！\n",
    "# /html前面加上/表示从根目录开始遍历！中间的/表示一个层级\n",
    "tree.xpath('/html/body/div/header')"
   ]
  },
  {
   "cell_type": "code",
   "execution_count": 414,
   "id": "4da816b7",
   "metadata": {
    "ExecuteTime": {
     "end_time": "2021-05-15T22:13:06.245239Z",
     "start_time": "2021-05-15T22:13:06.240251Z"
    }
   },
   "outputs": [
    {
     "data": {
      "text/plain": [
       "[<Element ul at 0x2bbd23afd80>]"
      ]
     },
     "execution_count": 414,
     "metadata": {},
     "output_type": "execute_result"
    }
   ],
   "source": [
    "tree.xpath('/html/body//nav//ul') # 中间的//表示多个层级！"
   ]
  },
  {
   "cell_type": "code",
   "execution_count": 415,
   "id": "dbb66483",
   "metadata": {
    "ExecuteTime": {
     "end_time": "2021-05-15T22:13:13.042075Z",
     "start_time": "2021-05-15T22:13:13.037093Z"
    }
   },
   "outputs": [
    {
     "data": {
      "text/plain": [
       "[<Element li at 0x2bbd243bac0>,\n",
       " <Element li at 0x2bbd243b340>,\n",
       " <Element li at 0x2bbd2436e40>,\n",
       " <Element li at 0x2bbd2436600>,\n",
       " <Element li at 0x2bbd2436780>,\n",
       " <Element li at 0x2bbd2436880>,\n",
       " <Element li at 0x2bbd2436e00>,\n",
       " <Element li at 0x2bbd2436d80>]"
      ]
     },
     "execution_count": 415,
     "metadata": {},
     "output_type": "execute_result"
    }
   ],
   "source": [
    "tree.xpath('//li') # 表示从任意位置直接定位li标签！！根据返回值的个数来判断是否正确"
   ]
  },
  {
   "cell_type": "code",
   "execution_count": 416,
   "id": "910097db",
   "metadata": {
    "ExecuteTime": {
     "end_time": "2021-05-15T22:13:30.893368Z",
     "start_time": "2021-05-15T22:13:30.889380Z"
    }
   },
   "outputs": [
    {
     "data": {
      "text/plain": [
       "[<Element div at 0x2bbd2436ac0>]"
      ]
     },
     "execution_count": 416,
     "metadata": {},
     "output_type": "execute_result"
    }
   ],
   "source": [
    "tree.xpath('//div[@class = \"main-navigation\"]') # 这样就实现了定位某个固定属性的标签！"
   ]
  },
  {
   "cell_type": "code",
   "execution_count": 417,
   "id": "c5418d91",
   "metadata": {
    "ExecuteTime": {
     "end_time": "2021-05-15T22:13:40.155336Z",
     "start_time": "2021-05-15T22:13:40.150352Z"
    }
   },
   "outputs": [
    {
     "data": {
      "text/plain": [
       "[<Element li at 0x2bbd2436e40>]"
      ]
     },
     "execution_count": 417,
     "metadata": {},
     "output_type": "execute_result"
    }
   ],
   "source": [
    "# 索引定位：一个标签下有很多个比如li这样的小标签时，定位到第n个！精确定位！\n",
    "tree.xpath('//div[@class = \"main-navigation\"]//li[3]')  # 这就是获得了第三个标签！索引从1开始！"
   ]
  },
  {
   "cell_type": "code",
   "execution_count": 432,
   "id": "f979244b",
   "metadata": {
    "ExecuteTime": {
     "end_time": "2021-05-15T22:17:10.968428Z",
     "start_time": "2021-05-15T22:17:10.963442Z"
    }
   },
   "outputs": [
    {
     "data": {
      "text/plain": [
       "['Insights']"
      ]
     },
     "execution_count": 432,
     "metadata": {},
     "output_type": "execute_result"
    }
   ],
   "source": [
    "# 取文本，取属性\n",
    "tree.xpath('//div[@class = \"main-navigation\"]//li[3]/a/text()')# /text()直接返回这个标签的直系文本！"
   ]
  },
  {
   "cell_type": "code",
   "execution_count": 419,
   "id": "4bfeea03",
   "metadata": {
    "ExecuteTime": {
     "end_time": "2021-05-15T22:13:55.338498Z",
     "start_time": "2021-05-15T22:13:55.333512Z"
    }
   },
   "outputs": [
    {
     "data": {
      "text/plain": [
       "['About Me',\n",
       " 'Market Review',\n",
       " 'Insights',\n",
       " 'Tutorials',\n",
       " 'Disclaimer',\n",
       " 'Linkedin',\n",
       " 'Github']"
      ]
     },
     "execution_count": 419,
     "metadata": {},
     "output_type": "execute_result"
    }
   ],
   "source": [
    "tree.xpath('//div[@class = \"main-navigation\"]//li/a/text()') # 这样直接返回所有li下面的文本，以列表的形式！"
   ]
  },
  {
   "cell_type": "code",
   "execution_count": 420,
   "id": "50646b9c",
   "metadata": {
    "ExecuteTime": {
     "end_time": "2021-05-15T22:14:01.855114Z",
     "start_time": "2021-05-15T22:14:01.849129Z"
    },
    "collapsed": true
   },
   "outputs": [
    {
     "data": {
      "text/plain": [
       "['About Me',\n",
       " 'Market Review',\n",
       " 'Insights',\n",
       " 'Tutorials',\n",
       " 'Disclaimer',\n",
       " 'Linkedin',\n",
       " 'Github',\n",
       " '\\r\\n\\t\\t\\t\\t\\t\\t',\n",
       " '\\r\\n\\t\\t\\t',\n",
       " '\\r\\n\\t\\t\\t\\t',\n",
       " '\\r\\n\\t\\t\\t\\t\\t',\n",
       " 'Search',\n",
       " '\\r\\n\\t\\t\\t\\t',\n",
       " '\\r\\n\\t\\t\\t',\n",
       " '\\r\\n\\t\\t\\t',\n",
       " '\\r\\n\\t\\t\\t',\n",
       " '\\r\\n\\t\\t\\t\\t',\n",
       " 'Search for:',\n",
       " '\\r\\n\\t\\t\\t\\t',\n",
       " '\\r\\n\\t\\t\\t',\n",
       " '\\r\\n\\t\\t\\t',\n",
       " '\\r\\n\\t\\t',\n",
       " '\\t\\t',\n",
       " '\\r\\n\\t\\t\\t\\t\\t']"
      ]
     },
     "execution_count": 420,
     "metadata": {},
     "output_type": "execute_result"
    }
   ],
   "source": [
    "tree.xpath('//div[@class = \"main-navigation\"]//li//text()') # 获取标签中非直系的文本！"
   ]
  },
  {
   "cell_type": "code",
   "execution_count": 429,
   "id": "0572453c",
   "metadata": {
    "ExecuteTime": {
     "end_time": "2021-05-15T22:16:02.519668Z",
     "start_time": "2021-05-15T22:16:02.515655Z"
    }
   },
   "outputs": [
    {
     "data": {
      "text/plain": [
       "['http://zhenning-li.com/about-me/']"
      ]
     },
     "execution_count": 429,
     "metadata": {},
     "output_type": "execute_result"
    }
   ],
   "source": [
    "# 获取li标签下面的a下面的href的值！\n",
    "tree.xpath('//li[1]/a/@href')"
   ]
  },
  {
   "cell_type": "code",
   "execution_count": 431,
   "id": "d38d6983",
   "metadata": {
    "ExecuteTime": {
     "end_time": "2021-05-15T22:16:36.213907Z",
     "start_time": "2021-05-15T22:16:36.206956Z"
    }
   },
   "outputs": [
    {
     "data": {
      "text/plain": [
       "['http://zhenning-li.com/about-me/',\n",
       " 'http://zhenning-li.com/market-review/',\n",
       " 'http://zhenning-li.com/insights/',\n",
       " 'http://zhenning-li.com/tutorials-of-anything-interesting/',\n",
       " 'http://zhenning-li.com/disclaimer/',\n",
       " 'https://www.linkedin.com/in/zhenning-li-522b83a4/',\n",
       " 'https://github.com/handsomevictor']"
      ]
     },
     "execution_count": 431,
     "metadata": {},
     "output_type": "execute_result"
    }
   ],
   "source": [
    "# 所有网页的href值！\n",
    "tree.xpath('//li/a/@href') # 取属性直接/@即可！"
   ]
  },
  {
   "cell_type": "code",
   "execution_count": null,
   "id": "f1240763",
   "metadata": {},
   "outputs": [],
   "source": []
  },
  {
   "cell_type": "markdown",
   "id": "2a43cca5",
   "metadata": {},
   "source": [
    "### No.5，xpath案例！58同城！"
   ]
  },
  {
   "cell_type": "code",
   "execution_count": 487,
   "id": "84acc48f",
   "metadata": {
    "ExecuteTime": {
     "end_time": "2021-05-16T00:40:17.001344Z",
     "start_time": "2021-05-16T00:40:15.157881Z"
    }
   },
   "outputs": [],
   "source": [
    "# 58二手房案例！\n",
    "# 目标，将所有房源名称解析出来即可！\n",
    "import requests\n",
    "from lxml import etree\n",
    "\n",
    "url = 'https://bj.58.com/ershoufang/'\n",
    "\n",
    "page_text = requests.get(url = url, headers = headers)\n",
    "page_text.encoding = 'utf-8'\n",
    "page_text = page_text.text\n",
    "\n",
    "tree = etree.HTML(page_text)"
   ]
  },
  {
   "cell_type": "code",
   "execution_count": 490,
   "id": "df187067",
   "metadata": {
    "ExecuteTime": {
     "end_time": "2021-05-16T00:40:28.944411Z",
     "start_time": "2021-05-16T00:40:28.933465Z"
    }
   },
   "outputs": [
    {
     "data": {
      "text/plain": [
       "['https://bj.58.com/ershoufang/46215853012365x.shtml?auction=200&hpType=60&entry=102&position=0&kwtype=filter&now_time=1621125615&typecode=200&lg=https%3A%2F%2Flegoclick.58.com%2Fjump%3Ftarget%3DszqBpB3draOWUvYfugF1pAqduh78uztYPWcQPH9dn1TQnWnvPg980v6YUykKuadBmH6-Pj9Yuad6PjuBsHwBm1NVrjDvmidbPyn3nW-Wrj9OPHTKn1DOP1NkP1cLn1cYnWnKTHDOrHndrj0dnjDYP1E3nWNKnWb1njTKnWb1njTKnikQnkDQTHDvnWDQnWNvnHEvnjmKnWnKwbPxwRPAgYQFNdwxNDnKnEDQTEDVnEDKnHnOn1EOn1TdPjmOrjT1P1cYrTDvTEDQTH93PHNkuW-BsyFhrAnVPAcOnad6nHczsHTLnHEOnhE1PjmznkDQn1b1Pjb1njNdnWD1rHnvPWEkTHD1rHnYrHnkPHNQn1TkPHEvPHmKTEDKTEDVTEDKTHbLwjEzPj9QsNNvnjTVPjTYniYOnju7sHEOnjK7Pbc1ENDdP9DYPB3QrHn8PWm8nWn3THTKnTDKnikQnk7exEDQnjT1n9DQnjTQrjn3THRBnyu6uhNzsymQrj0VPjKhmzYOrHnLsH9zn1PWmHmduhmznTDKnTDKTHTKnikQnHE1sjNOPWbKnE78IyQ_THcYrj7BujNYnhm1uWbOnHT&spread=filtersearch&from=from_esf_List_search&index=0',\n",
       " 'https://bj.58.com/ershoufang/45597127559724x.shtml?auction=200&hpType=60&entry=102&position=1&kwtype=filter&now_time=1621125615&typecode=200&lg=https%3A%2F%2Flegoclick.58.com%2Fjump%3Ftarget%3DszqBpB3draOWUvYfugF1pAqduh78uztYPHNOP1DzP1NdrH0zPZ980v6YUykKuadBmH6-Pj9Yuad6PjuBsHwBm1NVrjDvmidbPyn3nW-Wrj9OPHTKP1N1rH0zP10kn1Ndn1NKTHDOnHE1rHTvPjndPWEdPHEKnWmznjTKnWmznjTKnikQnkDQTHDvnWDQnWNvnHEvnj0Kn1DKwbPxwRPAgYQFNdwxNDnKnEDQTEDVnEDKnHnOn1NYnjmvrj0LPW03n19Ln9DvTEDQTHbkrHbOPjNksHbzuycVPjTvmid6mycdsH6WmWmvn1ELrj9OP9DQn1b1PHEkPWmOnHmvrjN3nWEkTHD1rHndPjTvPWbkPWmQrHEOPjEKTEDKTEDVTEDKTHbLwjEzPj9QsNNvnjTVPjTYniYOnju7sHEOnjK7Pbc1ENDdP9DYPB3QrHn8PWm8nWn3THTKnTDKnikQnk7exEDQnjT1n9DQnjTQrjn3TyndPynknjRBsH9kujbVPAm3Pid6nycksH6-nhmdPWIhnHuBmkDKnTDKTHTKnikQnHEvsjcdPHmzTHDKUMR_UT76Pj-BnywhrA7-rAnvuyDd&spread=filtersearch&from=from_esf_List_search&index=1']"
      ]
     },
     "execution_count": 490,
     "metadata": {},
     "output_type": "execute_result"
    }
   ],
   "source": [
    "# 这个case的难点在于，页面上的字并不是嵌入在本页面的Html中的，而是要根据里面的url到新的页面中去提取！\n",
    "\n",
    "# 先把第一个页面的房源的url提取出来！\n",
    "\n",
    "house_url_list = tree.xpath('//div[@class = \"list\"]//div[@class=\"property\"]/a/@href')\n",
    "house_url_list[:2]"
   ]
  },
  {
   "cell_type": "code",
   "execution_count": 491,
   "id": "30149c69",
   "metadata": {
    "ExecuteTime": {
     "end_time": "2021-05-16T00:42:01.550582Z",
     "start_time": "2021-05-16T00:42:00.593146Z"
    }
   },
   "outputs": [],
   "source": [
    "url = house_url_list[0]\n",
    "\n",
    "headers = {\n",
    "    'User-Agent': 'Mozilla/5.0 (Windows NT 10.0; Win64; x64) AppleWebKit/537.36 (KHTML, like Gecko) Chrome/90.0.4430.93 Safari/537.36'\n",
    "}\n",
    "\n",
    "page_text = requests.get(url = url, headers = headers)\n",
    "page_text.encoding = 'utf-8'\n",
    "page_text = page_text.text\n",
    "\n",
    "tree_2 = etree.HTML(page_text)\n",
    "# 但是做到这里的时候！出现意外情况，那边识别了我们的爬虫。。。"
   ]
  },
  {
   "cell_type": "code",
   "execution_count": 496,
   "id": "8f86a75e",
   "metadata": {
    "ExecuteTime": {
     "end_time": "2021-05-16T00:42:46.532538Z",
     "start_time": "2021-05-16T00:42:46.527526Z"
    }
   },
   "outputs": [
    {
     "data": {
      "text/plain": [
       "['香溪度 3室2厅2卫 品质小区 经典实用']"
      ]
     },
     "execution_count": 496,
     "metadata": {},
     "output_type": "execute_result"
    }
   ],
   "source": [
    "# 可以这样\n",
    "tree_2.xpath('//h1[@class=\"title\"]//text()')"
   ]
  },
  {
   "cell_type": "code",
   "execution_count": 498,
   "id": "ef7a1a8a",
   "metadata": {
    "ExecuteTime": {
     "end_time": "2021-05-16T00:43:08.678861Z",
     "start_time": "2021-05-16T00:43:08.672876Z"
    }
   },
   "outputs": [
    {
     "data": {
      "text/plain": [
       "['香溪度 3室2厅2卫 品质小区 经典实用']"
      ]
     },
     "execution_count": 498,
     "metadata": {},
     "output_type": "execute_result"
    }
   ],
   "source": [
    "tree_2.xpath('//div[@class=\"props-main\"]//h1//text()')"
   ]
  },
  {
   "cell_type": "code",
   "execution_count": 499,
   "id": "051569e3",
   "metadata": {
    "ExecuteTime": {
     "end_time": "2021-05-16T00:45:30.144390Z",
     "start_time": "2021-05-16T00:45:12.082729Z"
    }
   },
   "outputs": [
    {
     "ename": "IndexError",
     "evalue": "list index out of range",
     "output_type": "error",
     "traceback": [
      "\u001b[1;31m---------------------------------------------------------------------------\u001b[0m",
      "\u001b[1;31mIndexError\u001b[0m                                Traceback (most recent call last)",
      "\u001b[1;32m<ipython-input-499-669c197d3d32>\u001b[0m in \u001b[0;36m<module>\u001b[1;34m\u001b[0m\n\u001b[0;32m     16\u001b[0m     \u001b[0mtree_2\u001b[0m \u001b[1;33m=\u001b[0m \u001b[0metree\u001b[0m\u001b[1;33m.\u001b[0m\u001b[0mHTML\u001b[0m\u001b[1;33m(\u001b[0m\u001b[0mpage_text\u001b[0m\u001b[1;33m)\u001b[0m\u001b[1;33m\u001b[0m\u001b[1;33m\u001b[0m\u001b[0m\n\u001b[0;32m     17\u001b[0m \u001b[1;33m\u001b[0m\u001b[0m\n\u001b[1;32m---> 18\u001b[1;33m     \u001b[0mhouse_name_single\u001b[0m \u001b[1;33m=\u001b[0m \u001b[0mtree_2\u001b[0m\u001b[1;33m.\u001b[0m\u001b[0mxpath\u001b[0m\u001b[1;33m(\u001b[0m\u001b[1;34m'//div[@class=\"props-main\"]//h1//text()'\u001b[0m\u001b[1;33m)\u001b[0m\u001b[1;33m[\u001b[0m\u001b[1;36m0\u001b[0m\u001b[1;33m]\u001b[0m\u001b[1;33m\u001b[0m\u001b[1;33m\u001b[0m\u001b[0m\n\u001b[0m\u001b[0;32m     19\u001b[0m     \u001b[0mhouse_name\u001b[0m\u001b[1;33m.\u001b[0m\u001b[0mappend\u001b[0m\u001b[1;33m(\u001b[0m\u001b[0mhouse_name_single\u001b[0m\u001b[1;33m)\u001b[0m\u001b[1;33m\u001b[0m\u001b[1;33m\u001b[0m\u001b[0m\n\u001b[0;32m     20\u001b[0m \u001b[1;33m\u001b[0m\u001b[0m\n",
      "\u001b[1;31mIndexError\u001b[0m: list index out of range"
     ]
    }
   ],
   "source": [
    "# 现在尝试一下能不能短时间内多请求几次\n",
    "\n",
    "headers = {\n",
    "    'User-Agent': 'Mozilla/5.0 (Windows NT 10.0; Win64; x64) AppleWebKit/537.36 (KHTML, like Gecko) Chrome/90.0.4430.93 Safari/537.36'\n",
    "}\n",
    "\n",
    "house_name = []\n",
    "\n",
    "for i in range(len(house_url_list)):\n",
    "    url = house_url_list[i]\n",
    "\n",
    "    page_text = requests.get(url = url, headers = headers)\n",
    "    page_text.encoding = 'utf-8'\n",
    "    page_text = page_text.text\n",
    "\n",
    "    tree_2 = etree.HTML(page_text)\n",
    "    \n",
    "    house_name_single = tree_2.xpath('//div[@class=\"props-main\"]//h1//text()')[0]\n",
    "    house_name.append(house_name_single)\n",
    "    \n",
    "house_name\n",
    "# 这里出现错误，意味着已经被发现了，这里发现是只能短时间内请求20次"
   ]
  },
  {
   "cell_type": "code",
   "execution_count": 500,
   "id": "b0466e30",
   "metadata": {
    "ExecuteTime": {
     "end_time": "2021-05-16T00:45:48.923142Z",
     "start_time": "2021-05-16T00:45:48.918155Z"
    }
   },
   "outputs": [
    {
     "data": {
      "text/plain": [
       "[]"
      ]
     },
     "execution_count": 500,
     "metadata": {},
     "output_type": "execute_result"
    }
   ],
   "source": [
    "tree_2.xpath('//div[@class=\"props-main\"]//h1//text()')\n",
    "# 这里已经看不到任何东西了"
   ]
  },
  {
   "cell_type": "code",
   "execution_count": 503,
   "id": "d7ea48da",
   "metadata": {
    "ExecuteTime": {
     "end_time": "2021-05-16T00:46:30.935254Z",
     "start_time": "2021-05-16T00:46:30.929270Z"
    }
   },
   "outputs": [
    {
     "data": {
      "text/plain": [
       "20"
      ]
     },
     "execution_count": 503,
     "metadata": {},
     "output_type": "execute_result"
    }
   ],
   "source": [
    "len(house_name)"
   ]
  },
  {
   "cell_type": "code",
   "execution_count": 502,
   "id": "d5863c44",
   "metadata": {
    "ExecuteTime": {
     "end_time": "2021-05-16T00:46:16.081503Z",
     "start_time": "2021-05-16T00:46:16.076493Z"
    }
   },
   "outputs": [
    {
     "data": {
      "text/plain": [
       "120"
      ]
     },
     "execution_count": 502,
     "metadata": {},
     "output_type": "execute_result"
    }
   ],
   "source": [
    "len(house_url_list)"
   ]
  },
  {
   "cell_type": "raw",
   "id": "445c9af9",
   "metadata": {},
   "source": [
    "这里加一句，如果tree_3 = tree_2.xpath('//div[@class=\"props-main\"]//h1')中里面还有很多个子标签，可以继续这么写!\n",
    "tree_3.xpath(//h1/@#$) 这样可以的！ 但是一定要注意，第二次的开头一定是第一次的结尾！！\n",
    "\n",
    "所以经常可以这么写：\n",
    "li_list = tree.xpath('//div[@class=\"title\"]/h1')\n",
    "for li in li_list:\n",
    "    li.xpath('li/h1/text()')\n",
    "    \n",
    "或者\n",
    "li.xpath('./h1/text()') # 这里./表示当前目录！"
   ]
  },
  {
   "cell_type": "code",
   "execution_count": null,
   "id": "6b639bfc",
   "metadata": {},
   "outputs": [],
   "source": []
  },
  {
   "cell_type": "markdown",
   "id": "5bc443e5",
   "metadata": {},
   "source": [
    "### No.6，xpath案例！下载4K图片！！"
   ]
  },
  {
   "cell_type": "code",
   "execution_count": 508,
   "id": "7aec95f0",
   "metadata": {
    "ExecuteTime": {
     "end_time": "2021-05-16T01:03:31.204188Z",
     "start_time": "2021-05-16T01:03:30.307587Z"
    }
   },
   "outputs": [],
   "source": [
    "import requests\n",
    "import os\n",
    "from lxml import etree\n",
    "\n",
    "url = 'https://pic.netbian.com/4kmeinv/'\n",
    "\n",
    "headers = {\n",
    "    'User-Agent': 'Mozilla/5.0 (Windows NT 10.0; Win64; x64) AppleWebKit/537.36 (KHTML, like Gecko) Chrome/90.0.4430.93 Safari/537.36'\n",
    "}\n",
    "\n",
    "\n",
    "page_text = requests.get(url = url, headers = headers)\n",
    "page_text.encoding = 'utf-8'\n",
    "page_text = page_text.content"
   ]
  },
  {
   "cell_type": "code",
   "execution_count": 544,
   "id": "93482aa4",
   "metadata": {
    "ExecuteTime": {
     "end_time": "2021-05-16T01:17:10.456299Z",
     "start_time": "2021-05-16T01:17:08.220260Z"
    }
   },
   "outputs": [],
   "source": [
    "tree = etree.HTML(page_text)\n",
    "\n",
    "url_title = 'https://pic.netbian.com'\n",
    "\n",
    "if not os.path.exists('./netpian'):\n",
    "    os.mkdir('./netpian')\n",
    "        \n",
    "file_path = './netpian/'\n",
    "\n",
    "for i in range(len(tree.xpath('//div[@class=\"slist\"]//li'))):\n",
    "    \n",
    "    # 这里注意！在xpath中如果要用循环，则一定要拼接！更好的办法可以直接全部提取出来之后直接放到list中！更快\n",
    "    url_full = url_title + tree.xpath('//div[@class=\"slist\"]//li['+ str((i+1)) + ']/a/img/@src')[0]\n",
    "\n",
    "    image_data = requests.get(url = url_full, headers = headers).content\n",
    "\n",
    "    # 给图片命名，直接选取网页中的名字\n",
    "    tree = etree.HTML(page_text)\n",
    "    image_name = tree.xpath('//div[@class=\"slist\"]//li[' + str(i+1) + ']/a/b/text()')[0]\n",
    "\n",
    "    with open(file_path + image_name + '.jpg', 'wb') as fp:\n",
    "        fp.write(image_data)\n",
    "        fp.close()"
   ]
  },
  {
   "cell_type": "code",
   "execution_count": 546,
   "id": "17f862fb",
   "metadata": {
    "ExecuteTime": {
     "end_time": "2021-05-16T01:26:18.892315Z",
     "start_time": "2021-05-16T01:26:18.015663Z"
    }
   },
   "outputs": [],
   "source": [
    "# 在做循环的时候，更推荐这样做！\n",
    "tree = etree.HTML(page_text)\n",
    "\n",
    "url_title = 'https://pic.netbian.com'\n",
    "\n",
    "if not os.path.exists('./netpian'):\n",
    "    os.mkdir('./netpian')\n",
    "        \n",
    "file_path = './netpian/'\n",
    "\n",
    "for li in tree.xpath('//div[@class=\"slist\"]//li'):\n",
    "    image_data = li.xpath('./a/img/@src')[0]\n",
    "    image_src = url_title + image_data\n",
    "    \n",
    "    image_name = li.xpath('./a/img/@alt')[0]\n",
    "    image_content = requests.get(url = image_src, headers = headers).content # content这里就不需要转换成utf-8了\n",
    "    \n",
    "    with open(file_path + image_name + '.jpg', 'wb') as fp:\n",
    "        fp.write(image_content)\n",
    "        # print(image_name, ' success!')\n",
    "        fp.close()"
   ]
  },
  {
   "cell_type": "raw",
   "id": "84003e56",
   "metadata": {
    "ExecuteTime": {
     "end_time": "2021-05-16T01:15:11.038149Z",
     "start_time": "2021-05-16T01:15:11.033191Z"
    }
   },
   "source": [
    "如果出现乱码，要先找到乱码的位置\n",
    "如果是出现在原网页的response中，则 page_text.encoding = 'utf-8'一般可以解决\n",
    "如果出现在图片名当中，也可以这样：\n",
    "image_name = li.xpath('./a/img/@alt')[0] + '.jpg'\n",
    "image_name.encode('iso-8859-1').decode('gbk') # 这个是直接转化成gbk格式"
   ]
  },
  {
   "cell_type": "code",
   "execution_count": null,
   "id": "bcaf2d6f",
   "metadata": {
    "ExecuteTime": {
     "end_time": "2021-05-16T01:15:35.309071Z",
     "start_time": "2021-05-16T01:15:35.305080Z"
    }
   },
   "outputs": [],
   "source": []
  },
  {
   "cell_type": "markdown",
   "id": "64338350",
   "metadata": {},
   "source": [
    "### No.7，xpath案例！全国城市名称爬取"
   ]
  },
  {
   "cell_type": "raw",
   "id": "dc341e52",
   "metadata": {},
   "source": [
    "先注意一点，xpath('asdasd/text() | iahcia//iaucia/text()') 可以用这样的或的运算符！！"
   ]
  },
  {
   "cell_type": "code",
   "execution_count": 548,
   "id": "8f4ad154",
   "metadata": {
    "ExecuteTime": {
     "end_time": "2021-05-16T01:35:06.234427Z",
     "start_time": "2021-05-16T01:35:05.257974Z"
    }
   },
   "outputs": [],
   "source": [
    "# 爬取全国城市名称，这个难点在于，页面上的层级关系非常复杂，而且城市名称是按首字母排序的\n",
    "import requests\n",
    "from lxml import etree\n",
    "\n",
    "url = 'https://www.aqistudy.cn/historydata/'\n",
    "\n",
    "headers = {\n",
    "    'User-Agent': 'Mozilla/5.0 (Windows NT 10.0; Win64; x64) AppleWebKit/537.36 (KHTML, like Gecko) Chrome/90.0.4430.93 Safari/537.36'\n",
    "}\n",
    "\n",
    "page_text = requests.get(url = url, headers = headers)\n",
    "page_text.encoding = 'utf-8'\n",
    "page_text = page_text.text\n",
    "tree = etree.HTML(page_text)"
   ]
  },
  {
   "cell_type": "code",
   "execution_count": 564,
   "id": "0b088444",
   "metadata": {
    "ExecuteTime": {
     "end_time": "2021-05-16T01:40:37.554988Z",
     "start_time": "2021-05-16T01:40:37.550001Z"
    }
   },
   "outputs": [
    {
     "data": {
      "text/plain": [
       "['阿坝州', '安康', '阿克苏地区', '阿里地区', '阿拉善盟', '阿勒泰地区', '安庆', '安顺', '鞍山', '克孜勒苏州']"
      ]
     },
     "execution_count": 564,
     "metadata": {},
     "output_type": "execute_result"
    }
   ],
   "source": [
    "total_cities = tree.xpath('//body//div[@class=\"all\"]//ul/div/li/a//text()')\n",
    "total_cities[:10]"
   ]
  },
  {
   "cell_type": "code",
   "execution_count": 565,
   "id": "416f783c",
   "metadata": {
    "ExecuteTime": {
     "end_time": "2021-05-16T01:40:58.821178Z",
     "start_time": "2021-05-16T01:40:58.816192Z"
    }
   },
   "outputs": [
    {
     "data": {
      "text/plain": [
       "['北京', '上海', '广州', '深圳', '杭州', '天津', '成都', '南京', '西安', '武汉']"
      ]
     },
     "execution_count": 565,
     "metadata": {},
     "output_type": "execute_result"
    }
   ],
   "source": [
    "hot_cities = tree.xpath('//body//div[@class=\"hot\"]//ul/li/a//text()')\n",
    "hot_cities"
   ]
  },
  {
   "cell_type": "code",
   "execution_count": null,
   "id": "df732d46",
   "metadata": {},
   "outputs": [],
   "source": []
  },
  {
   "cell_type": "markdown",
   "id": "f809fec0",
   "metadata": {
    "ExecuteTime": {
     "end_time": "2021-05-16T01:57:27.773159Z",
     "start_time": "2021-05-16T01:57:27.766212Z"
    }
   },
   "source": [
    "<p>现在出现了一个比较好玩的情况\n",
    "<p>点开一个城市，发现f12调用不了，此时有三种解决办法：\n",
    "<p>以火狐浏览器为例：</p> \n",
    "<p>方法一：鼠标点击网址栏，然后再按F12。目前不清楚这是个例还是通用的，因为我就遇到了一个这种网页。</p> \n",
    "<p>方法二：Ctrl+Shift+i。</p> \n",
    "<p>方法三：打开菜单-&gt;web开发者-&gt;web开发者工具，这个就是上面那个快捷键。</p> \n",
    "<hr> \n",
    "<p>以谷歌浏览器为例：</p> \n",
    "<p>方法一：依旧可以</p> \n",
    "<p>方法二：依旧可以</p> \n",
    "<p>方法三：自定义及控制-&gt;更多工具-&gt;开发者工具。</p> \n",
    "<hr> \n",
    "<p>作为一个爬虫选手，如果连审查页面元素的能力都没有，那也就不要干了嘛。</p>\n",
    "<p>https://blog.csdn.net/weixin_46155246/article/details/108594993 也可以参考这个"
   ]
  },
  {
   "cell_type": "code",
   "execution_count": null,
   "id": "68067fe5",
   "metadata": {},
   "outputs": [],
   "source": [
    "# 现在点开上海的网页，发现里面有历史数据，想要提取出来。但是发现似乎挺难的。。。"
   ]
  },
  {
   "cell_type": "code",
   "execution_count": 567,
   "id": "af8f6dda",
   "metadata": {
    "ExecuteTime": {
     "end_time": "2021-05-16T01:48:53.055574Z",
     "start_time": "2021-05-16T01:48:52.115088Z"
    }
   },
   "outputs": [],
   "source": [
    "url = 'https://www.aqistudy.cn/historydata/monthdata.php?city=%E4%B8%8A%E6%B5%B7'\n",
    "page_text = requests.get(url = url).text"
   ]
  },
  {
   "cell_type": "code",
   "execution_count": 587,
   "id": "3107fe66",
   "metadata": {
    "ExecuteTime": {
     "end_time": "2021-05-16T01:53:48.428702Z",
     "start_time": "2021-05-16T01:53:48.421721Z"
    }
   },
   "outputs": [
    {
     "data": {
      "text/plain": [
       "['月份', 'AQI', '范围', '质量等级', 'PM2.5', 'PM10', 'SO2', 'CO', 'NO2', 'O3']"
      ]
     },
     "execution_count": 587,
     "metadata": {},
     "output_type": "execute_result"
    }
   ],
   "source": [
    "tree = etree.HTML(page_text)\n",
    "# tree.xpath('//div[@class=\"container\"]//tr[1]//text()')\n",
    "tree.xpath('//div[@class=\"container\"]//tr[@height=\"38px\"]/th/text()')"
   ]
  },
  {
   "cell_type": "code",
   "execution_count": null,
   "id": "4f9c80fb",
   "metadata": {
    "ExecuteTime": {
     "end_time": "2021-05-16T01:55:14.923648Z",
     "start_time": "2021-05-16T01:55:14.915088Z"
    }
   },
   "outputs": [],
   "source": []
  },
  {
   "cell_type": "markdown",
   "id": "025a2757",
   "metadata": {},
   "source": [
    "## 自己写的一个爬取法国疫苗是否available的script！！是纯粹自己写着玩没啥技术含量"
   ]
  },
  {
   "cell_type": "code",
   "execution_count": 16,
   "id": "d8d83b50",
   "metadata": {
    "ExecuteTime": {
     "end_time": "2021-06-02T12:23:47.202109Z",
     "start_time": "2021-06-02T12:23:31.375057Z"
    }
   },
   "outputs": [
    {
     "name": "stdout",
     "output_type": "stream",
     "text": [
      "SDIS 60 is available today!\n",
      "SDIS 60 is available tomorrow!\n",
      "SDIS 60 is available 7 days later!\n",
      "after 10 seconds, this window will be closed.\n",
      "10  seconds left\n",
      "9  seconds left\n",
      "8  seconds left\n",
      "7  seconds left\n",
      "6  seconds left\n",
      "5  seconds left\n",
      "4  seconds left\n",
      "3  seconds left\n",
      "2  seconds left\n",
      "1  seconds left\n",
      "bye bye!\n"
     ]
    }
   ],
   "source": [
    "# The following codes only help you find if there are empty slots in 3 stations near Cergy, the three stations are\n",
    "# goussainville, stade, and SDIS 60 (first one most preferred). \n",
    "\n",
    "import requests\n",
    "import time\n",
    "from datetime import date, timedelta\n",
    "\n",
    "localtime = time.localtime(time.time())\n",
    "localtime.tm_year\n",
    "\n",
    "today = str(localtime.tm_year)+'-'+str(localtime.tm_mon)+'-'+str(localtime.tm_mday)\n",
    "tomorrow = (date.today() + timedelta(days=1)).strftime(\"%Y-%m-%d\")\n",
    "next_week = (date.today() + timedelta(days=7)).strftime(\"%Y-%m-%d\")\n",
    "\n",
    "if __name__ == '__main__':\n",
    "    check_today()\n",
    "    check_tomorrow()\n",
    "    check_next_week()\n",
    "\n",
    "    import time\n",
    "    count = 0\n",
    "    b = 10\n",
    "    print('after 10 seconds, this window will be closed.')\n",
    "    while (count < b):\n",
    "        ncount = b - count\n",
    "        print(ncount, ' seconds left')\n",
    "        time.sleep(1)\n",
    "        count += 1\n",
    "\n",
    "    print('bye bye!')\n",
    "    time.sleep(1)"
   ]
  },
  {
   "cell_type": "code",
   "execution_count": 9,
   "id": "5a869873",
   "metadata": {
    "ExecuteTime": {
     "end_time": "2021-06-02T12:23:23.918035Z",
     "start_time": "2021-06-02T12:23:23.912016Z"
    }
   },
   "outputs": [],
   "source": [
    "# functions to check if there are empty slots available today, tomorrow and in 7 days\n",
    "\n",
    "def check_today():\n",
    "\n",
    "    localtime = time.localtime(time.time())\n",
    "    localtime.tm_year\n",
    "\n",
    "    today = str(localtime.tm_year)+'-'+str(localtime.tm_mon)+'-'+str(localtime.tm_mday)\n",
    "    \n",
    "    if vaccination_goussainville(today) == True:\n",
    "        print('goussainville is available today!')\n",
    "    elif vaccination_stade(today) == True:\n",
    "        print('stade is available today!')\n",
    "    elif vaccination_SDIS_60(today) == True:\n",
    "        print('SDIS 60 is available today!')\n",
    "    else:\n",
    "        print('No one is available today!')\n",
    "\n",
    "def check_tomorrow():\n",
    "    \n",
    "    tomorrow = (date.today() + timedelta(days=1)).strftime(\"%Y-%m-%d\")\n",
    "    \n",
    "    if vaccination_goussainville(today) == True:\n",
    "        print('goussainville is available tomorrow!')\n",
    "    elif vaccination_stade(today) == True:\n",
    "        print('stade is available tomorrow!')\n",
    "    elif vaccination_SDIS_60(today) == True:\n",
    "        print('SDIS 60 is available tomorrow!')\n",
    "    else:\n",
    "        print('No one is available tomorrow!')\n",
    "        \n",
    "def check_next_week():\n",
    "    \n",
    "    next_week = (date.today() + timedelta(days=7)).strftime(\"%Y-%m-%d\")\n",
    "    \n",
    "    if vaccination_goussainville(today) == True:\n",
    "        print('goussainville is available 7 days later!')\n",
    "    elif vaccination_stade(today) == True:\n",
    "        print('stade is available 7 days later!')\n",
    "    elif vaccination_SDIS_60(today) == True:\n",
    "        print('SDIS 60 is available 7 days later!')\n",
    "    else:\n",
    "        print('No one is available 7 days later!')"
   ]
  },
  {
   "cell_type": "code",
   "execution_count": 23,
   "id": "c9affe87",
   "metadata": {
    "ExecuteTime": {
     "end_time": "2021-06-02T12:47:15.424443Z",
     "start_time": "2021-06-02T12:47:15.419457Z"
    }
   },
   "outputs": [],
   "source": [
    "import time\n",
    "from datetime import date, timedelta\n",
    "\n",
    "localtime = time.localtime(time.time())\n",
    "localtime.tm_year\n",
    "\n",
    "today = str(localtime.tm_year)+'-'+str(localtime.tm_mon)+'-'+str(localtime.tm_mday)\n",
    "tomorrow = (date.today() + timedelta(days=1)).strftime(\"%Y-%m-%d\")\n",
    "next_week = (date.today() + timedelta(days=7)).strftime(\"%Y-%m-%d\")"
   ]
  },
  {
   "cell_type": "code",
   "execution_count": 18,
   "id": "600b89ab",
   "metadata": {
    "ExecuteTime": {
     "end_time": "2021-06-02T12:24:45.784832Z",
     "start_time": "2021-06-02T12:24:45.778849Z"
    }
   },
   "outputs": [],
   "source": [
    "# City of Goussainville的站点\n",
    "def vaccination_goussainville(today):\n",
    "    import requests\n",
    "\n",
    "    url = 'https://www.doctolib.fr/availabilities.json?start_date=2021-05-12&visit_motive_ids=2858018&agenda_ids=468303-468302-461143-468300-461141-461144-461147-468301-463304-461145-468304&insurance_sector=public&practice_ids=163985&destroy_temporary=true&limit=7'\n",
    "\n",
    "    headers = {\n",
    "        'User-Agent': 'Mozilla/5.0 (Windows NT 10.0; Win64; x64) AppleWebKit/537.36 (KHTML, like Gecko) Chrome/90.0.4430.93 Safari/537.36'\n",
    "    }\n",
    "\n",
    "    param = {\n",
    "        'start_date': today,\n",
    "        'visit_motive_ids': '2858018',\n",
    "        'agenda_ids': '468303-468302-461143-468300-461141-461144-461147-468301-463304-461145-468304',\n",
    "        'insurance_sector': 'public',\n",
    "        'practice_ids': '163985',\n",
    "        'destroy_temporary': 'true',\n",
    "        'limit': '7'\n",
    "    }\n",
    "\n",
    "\n",
    "    response = requests.get(url = url, params = param, headers= headers)\n",
    "    json_data = response.json()\n",
    "\n",
    "    if json_data['total'] != 0:\n",
    "        # print('You can apply the one in centre de vaccination ville de goussainville at ', today,'!!! Hurry up!!!')\n",
    "        return True\n",
    "    else:\n",
    "        # print('Now it\\'s only ', today, 'no available ones, please just wait more')\n",
    "        return False"
   ]
  },
  {
   "cell_type": "code",
   "execution_count": 12,
   "id": "5bfeea55",
   "metadata": {
    "ExecuteTime": {
     "end_time": "2021-06-02T12:23:24.361813Z",
     "start_time": "2021-06-02T12:23:24.356828Z"
    }
   },
   "outputs": [],
   "source": [
    "# 19-stade-de-france\n",
    "def vaccination_stade(today):\n",
    "    import requests\n",
    "\n",
    "    url = 'https://www.doctolib.fr/availabilities.json?start_date=2021-05-12&visit_motive_ids=2735278&agenda_ids=447491-447376-447377-447378-447388-447389-447391-447375-447373-447381-447384-447385-447492-472647-472652-447380-447390-472653-472655-447383-447490-472658-469829-470547-470548-470549-469823-469824-469825-469827-469831-469836&insurance_sector=public&practice_ids=179894&destroy_temporary=true&limit=7'\n",
    "\n",
    "    headers = {\n",
    "        'User-Agent': 'Mozilla/5.0 (Windows NT 10.0; Win64; x64) AppleWebKit/537.36 (KHTML, like Gecko) Chrome/90.0.4430.93 Safari/537.36'\n",
    "    }\n",
    "\n",
    "    param = {\n",
    "        'start_date': today,\n",
    "        'visit_motive_ids': '2735278',\n",
    "        'agenda_ids': '447491-447376-447377-447378-447388-447389-447391-447375-447373-447381-447384-447385-447492-472647-472652-447380-447390-472653-472655-447383-447490-472658-469829-470547-470548-470549-469823-469824-469825-469827-469831-469836',\n",
    "        'insurance_sector': 'public',\n",
    "        'practice_ids': '179894',\n",
    "        'destroy_temporary': 'true',\n",
    "        'limit': '7'\n",
    "    }\n",
    "\n",
    "    response = requests.get(url = url, params = param, headers= headers)\n",
    "    json_data = response.json()\n",
    "\n",
    "\n",
    "    if json_data['total'] != 0:\n",
    "        #print('You can apply in stade!!! Hurry up!!!')\n",
    "        return True\n",
    "    else:\n",
    "        #print('Just wait more until next week, let me check if it\\'s available next week, please wait...')\n",
    "        if stade_next_week()[0] == True:\n",
    "            #print('Oh my god!! There are ', stade_next_week()[1], ' slots available at stade next week!')\n",
    "        #else:\n",
    "            #print('You can\\'t apply even in next week, go to sleep man!!')\n",
    "            return False"
   ]
  },
  {
   "cell_type": "code",
   "execution_count": 13,
   "id": "954fc9a5",
   "metadata": {
    "ExecuteTime": {
     "end_time": "2021-06-02T12:23:24.503435Z",
     "start_time": "2021-06-02T12:23:24.497451Z"
    }
   },
   "outputs": [],
   "source": [
    "def stade_next_week():\n",
    "    url = 'https://www.doctolib.fr/availabilities.json?start_date=2021-05-23&visit_motive_ids=2735278&agenda_ids=447491-447376-447377-447378-447388-447389-447391-447375-447373-447381-447384-447385-447492-472647-472652-447380-447390-472653-472655-447383-447490-472658-469829-470547-470548-470549-469823-469824-469825-469827-469831-469836&insurance_sector=public&practice_ids=179894&destroy_temporary=true&limit=7'\n",
    "\n",
    "    headers = {\n",
    "        'User-Agent': 'Mozilla/5.0 (Windows NT 10.0; Win64; x64) AppleWebKit/537.36 (KHTML, like Gecko) Chrome/90.0.4430.93 Safari/537.36'\n",
    "    }\n",
    "\n",
    "    param = {\n",
    "        'start_date': '2021-05-23',\n",
    "        'visit_motive_ids': '2735278',\n",
    "        'agenda_ids': '447491-447376-447377-447378-447388-447389-447391-447375-447373-447381-447384-447385-447492-472647-472652-447380-447390-472653-472655-447383-447490-472658-469829-470547-470548-470549-469823-469824-469825-469827-469831-469836',\n",
    "        'insurance_sector': 'public',\n",
    "        'practice_ids': '179894',\n",
    "        'destroy_temporary': 'true',\n",
    "        'limit': '7'\n",
    "    }\n",
    "\n",
    "    response = requests.get(url = url, params = param, headers= headers)\n",
    "    json_data = response.json()\n",
    "\n",
    "    if json_data['total'] == 0:\n",
    "        #print('You can\\'t apply even in next week, go to sleep man!!')\n",
    "        return False, 0\n",
    "    else:\n",
    "        #print('Oh my god!! There are ', json_data['total'], ' slots available next week!')\n",
    "        return True, json_data['total']"
   ]
  },
  {
   "cell_type": "code",
   "execution_count": 14,
   "id": "8adcd1f8",
   "metadata": {
    "ExecuteTime": {
     "end_time": "2021-06-02T12:23:24.652037Z",
     "start_time": "2021-06-02T12:23:24.647051Z"
    }
   },
   "outputs": [],
   "source": [
    "def vaccination_SDIS_60(today):\n",
    "    url = 'https://www.doctolib.fr/availabilities.json?start_date=2021-05-12&visit_motive_ids=2810290&agenda_ids=467244-467245-458892-458893-458894-467219&insurance_sector=public&practice_ids=183218&destroy_temporary=true&limit=7'\n",
    "\n",
    "    headers = {\n",
    "        'User-Agent': 'Mozilla/5.0 (Windows NT 10.0; Win64; x64) AppleWebKit/537.36 (KHTML, like Gecko) Chrome/90.0.4430.93 Safari/537.36'\n",
    "    }\n",
    "\n",
    "    param = {\n",
    "        'start_date': today,\n",
    "        'visit_motive_ids': '2810290',\n",
    "        'agenda_ids': '467244-467245-458892-458893-458894-467219',\n",
    "        'insurance_sector': 'public',\n",
    "        'practice_ids': '183218',\n",
    "        'destroy_temporary': 'true',\n",
    "        'limit': '7'\n",
    "    }\n",
    "\n",
    "    response = requests.get(url = url, params = param, headers= headers)\n",
    "    json_data = response.json()\n",
    "\n",
    "    if json_data['total'] == 0:\n",
    "        #print('You can\\'t apply at SDIS 60 at ', today, ', go to sleep!!')\n",
    "        return False\n",
    "    else:\n",
    "        #print('Oh my god!! Please go check SDIS 60!! I think there are some empty slots!!')\n",
    "        return True"
   ]
  },
  {
   "cell_type": "code",
   "execution_count": 21,
   "id": "56d65f97",
   "metadata": {
    "ExecuteTime": {
     "end_time": "2021-06-02T12:26:09.865659Z",
     "start_time": "2021-06-02T12:26:09.536538Z"
    }
   },
   "outputs": [
    {
     "name": "stdout",
     "output_type": "stream",
     "text": [
      "Now it's only  2021-6-2 no available ones, please just wait more\n"
     ]
    }
   ],
   "source": [
    "# 自己试试能不能爬法国这个网站\n",
    "# City of Goussainville的站点\n",
    "\n",
    "import requests\n",
    "\n",
    "url = 'https://www.doctolib.fr/availabilities.json?start_date=2021-05-12&visit_motive_ids=2858018&agenda_ids=468303-468302-461143-468300-461141-461144-461147-468301-463304-461145-468304&insurance_sector=public&practice_ids=163985&destroy_temporary=true&limit=7'\n",
    "\n",
    "headers = {\n",
    "    'User-Agent': 'Mozilla/5.0 (Windows NT 10.0; Win64; x64) AppleWebKit/537.36 (KHTML, like Gecko) Chrome/90.0.4430.93 Safari/537.36'\n",
    "}\n",
    "\n",
    "param = {\n",
    "    'start_date': today,\n",
    "    'visit_motive_ids': '2858018',\n",
    "    'agenda_ids': '468303-468302-461143-468300-461141-461144-461147-468301-463304-461145-468304',\n",
    "    'insurance_sector': 'public',\n",
    "    'practice_ids': '163985',\n",
    "    'destroy_temporary': 'true',\n",
    "    'limit': '7'\n",
    "}\n",
    "\n",
    "\n",
    "response = requests.get(url = url, params = param, headers= headers)\n",
    "json_data = response.json()\n",
    "\n",
    "if json_data['total'] != 0:\n",
    "    print('You can apply the one in centre de vaccination ville de goussainville at ', today,'!!! Hurry up!!!')\n",
    "\n",
    "else:\n",
    "    print('Now it\\'s only ', today, 'no available ones, please just wait more')"
   ]
  },
  {
   "cell_type": "code",
   "execution_count": 22,
   "id": "02071b47",
   "metadata": {
    "ExecuteTime": {
     "end_time": "2021-06-02T12:27:17.005195Z",
     "start_time": "2021-06-02T12:27:15.449378Z"
    }
   },
   "outputs": [
    {
     "data": {
      "text/plain": [
       "True"
      ]
     },
     "execution_count": 22,
     "metadata": {},
     "output_type": "execute_result"
    }
   ],
   "source": [
    "vaccination_stade(today)"
   ]
  },
  {
   "cell_type": "code",
   "execution_count": null,
   "id": "98aeff31",
   "metadata": {},
   "outputs": [],
   "source": []
  },
  {
   "cell_type": "code",
   "execution_count": null,
   "id": "84b01c0d",
   "metadata": {},
   "outputs": [],
   "source": []
  },
  {
   "cell_type": "code",
   "execution_count": null,
   "id": "db26f40d",
   "metadata": {},
   "outputs": [],
   "source": []
  },
  {
   "cell_type": "code",
   "execution_count": null,
   "id": "b13807ea",
   "metadata": {},
   "outputs": [],
   "source": []
  },
  {
   "cell_type": "code",
   "execution_count": null,
   "id": "31e92385",
   "metadata": {},
   "outputs": [],
   "source": []
  },
  {
   "cell_type": "markdown",
   "id": "0fcc019e",
   "metadata": {},
   "source": [
    "## 验证码识别！"
   ]
  },
  {
   "cell_type": "markdown",
   "id": "e2a2b54d",
   "metadata": {},
   "source": [
    "### 古诗文提取验证码！"
   ]
  },
  {
   "cell_type": "code",
   "execution_count": 594,
   "id": "5266808c",
   "metadata": {
    "ExecuteTime": {
     "end_time": "2021-05-18T08:00:16.345998Z",
     "start_time": "2021-05-18T08:00:16.328046Z"
    }
   },
   "outputs": [],
   "source": [
    "# 验证码是一种反爬机制\n",
    "# 登录操作可以用requests完成\n",
    "url = 'https://so.gushiwen.cn/user/login.aspx?from=http://so.gushiwen.cn/user/collect.aspx'\n",
    "password = 'niubiniubi'\n",
    "account = 'handsomevictor@foxmail.com'"
   ]
  },
  {
   "cell_type": "code",
   "execution_count": 598,
   "id": "f08063f1",
   "metadata": {
    "ExecuteTime": {
     "end_time": "2021-05-18T08:09:06.996614Z",
     "start_time": "2021-05-18T08:09:06.992625Z"
    }
   },
   "outputs": [],
   "source": [
    "# 三方平台，云打码，可以帮助识别验证码，文字类型，计算题等，原理仅仅是图像识别！\n",
    "from yundama.Yundama import Yundama\n",
    "yundama = Yundama(app_id=\"129953\", app_key=\"z8nXa5O4+t0Z6zGonnVvyX3uMrKuQaaq\")"
   ]
  },
  {
   "cell_type": "code",
   "execution_count": 615,
   "id": "6e3a9232",
   "metadata": {
    "ExecuteTime": {
     "end_time": "2021-05-18T08:28:59.843433Z",
     "start_time": "2021-05-18T08:28:58.836103Z"
    }
   },
   "outputs": [
    {
     "data": {
      "text/plain": [
       "{'RetCode': '0',\n",
       " 'ErrMsg': 'succ',\n",
       " 'RequestId': '',\n",
       " 'RspData': {'cust_val': 990}}"
      ]
     },
     "execution_count": 615,
     "metadata": {},
     "output_type": "execute_result"
    }
   ],
   "source": [
    "yundama.get_balance()"
   ]
  },
  {
   "cell_type": "code",
   "execution_count": null,
   "id": "e2ba982b",
   "metadata": {},
   "outputs": [],
   "source": [
    "img = open('../data/image.png', 'rb')\n",
    "yundama.get_code_result(img.read(), '验证码类型')\n",
    "\n",
    "# 验证码类型查询：http://docs.fateadm.com/web/#/1?page_id=36"
   ]
  },
  {
   "cell_type": "code",
   "execution_count": 601,
   "id": "9b351e36",
   "metadata": {
    "ExecuteTime": {
     "end_time": "2021-05-18T08:19:53.619745Z",
     "start_time": "2021-05-18T08:19:51.436583Z"
    }
   },
   "outputs": [],
   "source": [
    "# 现在先把文件的验证码图片提取出来\n",
    "import requests\n",
    "from lxml import etree\n",
    "\n",
    "# 登陆网站\n",
    "url = 'https://so.gushiwen.cn/user/login.aspx?from=http://so.gushiwen.cn/user/collect.aspx'\n",
    "\n",
    "headers = {\n",
    "    'User-Agent': 'Mozilla/5.0 (Windows NT 10.0; Win64; x64) AppleWebKit/537.36 (KHTML, like Gecko) Chrome/90.0.4430.72 Safari/537.36'\n",
    "}\n",
    "\n",
    "page_text = requests.get(url = url, headers = headers)\n",
    "page_text.encoding = 'utf-8'\n",
    "page_text = page_text.text"
   ]
  },
  {
   "cell_type": "code",
   "execution_count": 612,
   "id": "3e2c1a89",
   "metadata": {
    "ExecuteTime": {
     "end_time": "2021-05-18T08:27:51.925678Z",
     "start_time": "2021-05-18T08:27:50.283074Z"
    }
   },
   "outputs": [],
   "source": [
    "import os\n",
    "\n",
    "tree = etree.HTML(page_text)\n",
    "\n",
    "url_head = 'https://so.gushiwen.cn'\n",
    "url_tail = tree.xpath('//div[@class=\"mainreg2\"]/div[@class=\"mainreg2\"][3]/img[@id=\"imgCode\"]/@src')[0]\n",
    "\n",
    "url_image = url_head + url_tail\n",
    "\n",
    "# 下载image\n",
    "image_content = requests.get(url = url_image, headers = headers).content\n",
    "\n",
    "if not os.path.exists('./验证码'):\n",
    "    os.mkdir('./验证码')\n",
    "\n",
    "with open('./验证码/verification_image.jpg', 'wb') as fp:\n",
    "    fp.write(image_content)\n",
    "    fp.close"
   ]
  },
  {
   "cell_type": "code",
   "execution_count": 614,
   "id": "5a181a09",
   "metadata": {
    "ExecuteTime": {
     "end_time": "2021-05-18T08:28:52.734484Z",
     "start_time": "2021-05-18T08:28:52.239733Z"
    }
   },
   "outputs": [],
   "source": [
    "# 现在图片已经提取出来了\n",
    "img = open('./验证码/verification_image.jpg', 'rb')\n",
    "result = yundama.get_code_result(img.read(), '30400')"
   ]
  },
  {
   "cell_type": "code",
   "execution_count": 630,
   "id": "3db1504b",
   "metadata": {
    "ExecuteTime": {
     "end_time": "2021-05-18T08:30:59.441967Z",
     "start_time": "2021-05-18T08:30:59.436978Z"
    }
   },
   "outputs": [
    {
     "data": {
      "text/plain": [
       "'518u'"
      ]
     },
     "execution_count": 630,
     "metadata": {},
     "output_type": "execute_result"
    }
   ],
   "source": [
    "code_result = result['RspData'].split('\"')[3]\n",
    "code_result"
   ]
  },
  {
   "cell_type": "markdown",
   "id": "ece90b34",
   "metadata": {},
   "source": [
    "### 人人网模拟登录！(发现图片都被加密，所以改为古诗文登录)"
   ]
  },
  {
   "cell_type": "code",
   "execution_count": 676,
   "id": "21986045",
   "metadata": {
    "ExecuteTime": {
     "end_time": "2021-05-18T09:33:36.396020Z",
     "start_time": "2021-05-18T09:33:36.389037Z"
    }
   },
   "outputs": [],
   "source": [
    "# 开始模拟登录\n",
    "# 爬取基于某些用户的个人信息\n",
    "# 先点击登录之后查看f12然后发现是post请求\n",
    "# 发现验证码是post请求中的一个属性，每一次请求都动态变化\n",
    "\n",
    "# 第一步：对验证码进行识别\n",
    "# 第二步：对post请求进行发送\n",
    "# 第三步：对响应出来的数据进行存储\n",
    "\n",
    "# 现在整体提取验证码（与上面一样）\n",
    "def get_code_result():\n",
    "    import requests\n",
    "    from lxml import etree\n",
    "    from yundama.Yundama import Yundama\n",
    "    yundama = Yundama(app_id=\"129953\", app_key=\"z8nXa5O4+t0Z6zGonnVvyX3uMrKuQaaq\")\n",
    "\n",
    "    # 登陆网站\n",
    "    url = 'https://so.gushiwen.cn/user/login.aspx?from=http://so.gushiwen.cn/user/collect.aspx'\n",
    "\n",
    "    headers = {\n",
    "        'User-Agent': 'Mozilla/5.0 (Windows NT 10.0; Win64; x64) AppleWebKit/537.36 (KHTML, like Gecko) Chrome/90.0.4430.72 Safari/537.36'\n",
    "    }\n",
    "\n",
    "    page_text = requests.get(url = url, headers = headers)\n",
    "    page_text.encoding = 'utf-8'\n",
    "    page_text = page_text.text\n",
    "\n",
    "    import os\n",
    "\n",
    "    tree = etree.HTML(page_text)\n",
    "\n",
    "    url_head = 'https://so.gushiwen.cn'\n",
    "    url_tail = tree.xpath('//div[@class=\"mainreg2\"]/div[@class=\"mainreg2\"][3]/img[@id=\"imgCode\"]/@src')[0]\n",
    "\n",
    "    url_image = url_head + url_tail\n",
    "\n",
    "    # 下载image\n",
    "    image_content = requests.get(url = url_image, headers = headers).content\n",
    "\n",
    "    if not os.path.exists('./验证码'):\n",
    "        os.mkdir('./验证码')\n",
    "\n",
    "    with open('./验证码/verification_image.jpg', 'wb') as fp:\n",
    "        fp.write(image_content)\n",
    "        fp.close\n",
    "\n",
    "    # 现在图片已经提取出来了\n",
    "    img = open('./验证码/verification_image.jpg', 'rb')\n",
    "    result = yundama.get_code_result(img.read(), '30400')\n",
    "\n",
    "    code_result = result['RspData'].split('\"')[3]\n",
    "    \n",
    "    return code_result"
   ]
  },
  {
   "cell_type": "code",
   "execution_count": 693,
   "id": "23177a21",
   "metadata": {
    "ExecuteTime": {
     "end_time": "2021-05-18T09:50:15.769084Z",
     "start_time": "2021-05-18T09:50:08.059675Z"
    }
   },
   "outputs": [
    {
     "name": "stdout",
     "output_type": "stream",
     "text": [
      "200\n"
     ]
    }
   ],
   "source": [
    "# 进行登录\n",
    "\n",
    "# 从f12找到login\n",
    "\n",
    "\n",
    "import requests\n",
    "from lxml import etree\n",
    "from yundama.Yundama import Yundama\n",
    "yundama = Yundama(app_id=\"129953\", app_key=\"z8nXa5O4+t0Z6zGonnVvyX3uMrKuQaaq\")\n",
    "\n",
    "# 登陆网站\n",
    "url = 'https://so.gushiwen.cn/user/login.aspx?from=http://so.gushiwen.cn/user/collect.aspx'\n",
    "\n",
    "headers = {\n",
    "    'User-Agent': 'Mozilla/5.0 (Windows NT 10.0; Win64; x64) AppleWebKit/537.36 (KHTML, like Gecko) Chrome/90.0.4430.72 Safari/537.36'\n",
    "}\n",
    "\n",
    "page_text = requests.get(url = url, headers = headers)\n",
    "page_text.encoding = 'utf-8'\n",
    "page_text = page_text.text\n",
    "\n",
    "import os\n",
    "\n",
    "tree = etree.HTML(page_text)\n",
    "\n",
    "url_head = 'https://so.gushiwen.cn'\n",
    "url_tail = tree.xpath('//div[@class=\"mainreg2\"]/div[@class=\"mainreg2\"][3]/img[@id=\"imgCode\"]/@src')[0]\n",
    "\n",
    "url_image = url_head + url_tail\n",
    "\n",
    "# 下载image\n",
    "image_content = requests.get(url = url_image, headers = headers).content\n",
    "\n",
    "if not os.path.exists('./验证码'):\n",
    "    os.mkdir('./验证码')\n",
    "\n",
    "with open('./验证码/verification_image.jpg', 'wb') as fp:\n",
    "    fp.write(image_content)\n",
    "    fp.close\n",
    "\n",
    "# 现在图片已经提取出来了\n",
    "img = open('./验证码/verification_image.jpg', 'rb')\n",
    "result = yundama.get_code_result(img.read(), '30400')\n",
    "\n",
    "code_result = result['RspData'].split('\"')[3]\n",
    "\n",
    "\n",
    "\n",
    "url_login = 'https://so.gushiwen.cn/user/login.aspx?from=http%3a%2f%2fso.gushiwen.cn%2fuser%2fcollect.aspx'\n",
    "\n",
    "data = {\n",
    "    '__VIEWSTATE': 'EEeM2jY+85+50CxO1Mvg6cYe4nXXAOGlgzVz4f9YaeqMdI44DxZPxIc5kp7/YIgAucbyOWtaHYfVu7x1H/YumnaLFULs8lIRC7B2bBxqXsq91iQ7453qQTIzgXc=',\n",
    "    '__VIEWSTATEGENERATOR': 'C93BE1AE',\n",
    "    'from': 'http://so.gushiwen.cn/user/collect.aspx',\n",
    "    'email': 'handsomevictor@foxmail.com',\n",
    "    'pwd': 'niubiniubi',\n",
    "    'code': code_result,\n",
    "    'denglu': '登录'\n",
    "}\n",
    "\n",
    "data = {\n",
    "    '__VIEWSTATE': 'EEeM2jY%2B85%2B50CxO1Mvg6cYe4nXXAOGlgzVz4f9YaeqMdI44DxZPxIc5kp7%2FYIgAucbyOWtaHYfVu7x1H%2FYumnaLFULs8lIRC7B2bBxqXsq91iQ7453qQTIzgXc%3D',\n",
    "    '__VIEWSTATEGENERATOR': 'C93BE1AE',\n",
    "    'from': 'http%3A%2F%2Fso.gushiwen.cn%2Fuser%2Fcollect.aspx',\n",
    "    'email': 'handsomevictor%40foxmail.com',\n",
    "    'pwd': 'niubiniubi',\n",
    "    'code': code_result.upper(),\n",
    "    'denglu': '%E7%99%BB%E5%BD%95'\n",
    "    \n",
    "}\n",
    "\n",
    "\n",
    "# 登录成功之后的页面！\n",
    "login_page_text = requests.post(url = url_login, data = data, headers = headers)\n",
    "print(login_page_text.status_code) # 响应码如果是200则代表响应成功！\n",
    "\n",
    "\n",
    "login_page_text = requests.post(url = url_login, data = data, headers = headers).text"
   ]
  },
  {
   "cell_type": "code",
   "execution_count": 694,
   "id": "0781d020",
   "metadata": {
    "ExecuteTime": {
     "end_time": "2021-05-18T09:50:15.942558Z",
     "start_time": "2021-05-18T09:50:15.936574Z"
    }
   },
   "outputs": [
    {
     "data": {
      "text/plain": [
       "[]"
      ]
     },
     "execution_count": 694,
     "metadata": {},
     "output_type": "execute_result"
    }
   ],
   "source": [
    "# 登陆成功后主页面上有一个图片，提取出来\n",
    "\n",
    "from lxml import etree\n",
    "\n",
    "tree = etree.HTML(login_page_text)\n",
    "tree.xpath('//div[@class=\"left\"]//text()')"
   ]
  },
  {
   "cell_type": "markdown",
   "id": "896b0010",
   "metadata": {},
   "source": [
    "正式宣布，挑战失败"
   ]
  },
  {
   "cell_type": "code",
   "execution_count": null,
   "id": "330783b1",
   "metadata": {},
   "outputs": [],
   "source": []
  },
  {
   "cell_type": "markdown",
   "id": "7d95f28d",
   "metadata": {},
   "source": [
    "## 模拟登录cookies操作！"
   ]
  },
  {
   "cell_type": "code",
   "execution_count": null,
   "id": "2b0c5f24",
   "metadata": {
    "ExecuteTime": {
     "end_time": "2021-06-09T21:15:15.268202Z",
     "start_time": "2021-06-09T21:15:15.101151Z"
    }
   },
   "outputs": [],
   "source": []
  },
  {
   "cell_type": "code",
   "execution_count": null,
   "id": "a6d29803",
   "metadata": {
    "ExecuteTime": {
     "end_time": "2021-06-09T21:17:19.475406Z",
     "start_time": "2021-06-09T21:17:19.454462Z"
    }
   },
   "outputs": [],
   "source": []
  },
  {
   "cell_type": "code",
   "execution_count": null,
   "id": "cde816ed",
   "metadata": {},
   "outputs": [],
   "source": []
  },
  {
   "cell_type": "code",
   "execution_count": null,
   "id": "8c06376d",
   "metadata": {},
   "outputs": [],
   "source": []
  },
  {
   "cell_type": "code",
   "execution_count": 22,
   "id": "8918fe2a",
   "metadata": {
    "ExecuteTime": {
     "end_time": "2021-06-18T21:44:51.458947Z",
     "start_time": "2021-06-18T21:44:51.445982Z"
    }
   },
   "outputs": [
    {
     "data": {
      "text/plain": [
       "<Element html at 0x2a52829c180>"
      ]
     },
     "execution_count": 22,
     "metadata": {},
     "output_type": "execute_result"
    }
   ],
   "source": [
    "import json\n",
    "from lxml import etree\n",
    "\n",
    "f=open(\".\\吉刻 Right Now.html\",\"rb\")\n",
    "content=f.read().decode('utf-8')\n",
    "tree=etree.HTML(content)\n",
    "tree"
   ]
  },
  {
   "cell_type": "code",
   "execution_count": 18,
   "id": "08ea4178",
   "metadata": {
    "ExecuteTime": {
     "end_time": "2021-06-18T21:41:37.923402Z",
     "start_time": "2021-06-18T21:41:37.901430Z"
    }
   },
   "outputs": [],
   "source": [
    "url = 'C:\\\\Users\\\\handsomevictor\\\\OneDrive - CentraleSupelec\\\\Bureau\\\\Python\\\\python自己的教程\\\\爬虫\\\\吉刻 Right Now.html'\n",
    "\n",
    "from bs4 import BeautifulSoup\n",
    "\n",
    "page_text = etree.parse('.\\吉刻 Right Now.html', etree.HTMLParser())\n",
    "\n",
    "result = etree.tostring(page_text)"
   ]
  },
  {
   "cell_type": "code",
   "execution_count": 35,
   "id": "636aaf97",
   "metadata": {
    "ExecuteTime": {
     "end_time": "2021-06-18T21:52:18.091559Z",
     "start_time": "2021-06-18T21:52:18.071581Z"
    }
   },
   "outputs": [],
   "source": [
    "from lxml import etree\n",
    "\n",
    "result = tree.xpath('//*[@id=\"gwc-table\"]/tbody/tr//div/h3/text()')\n",
    "price = tree.xpath('//*[@id=\"gwc-table\"]/tbody/tr/td[2]/text()')\n",
    "amount = tree.xpath('//*[@id=\"gwc-table\"]/tbody/tr/td[3]/text()')\n",
    "total_amount  = tree.xpath('//*[@id=\"totalMoney\"]/text()')"
   ]
  },
  {
   "cell_type": "code",
   "execution_count": 56,
   "id": "7773bb22",
   "metadata": {
    "ExecuteTime": {
     "end_time": "2021-06-18T22:01:25.208079Z",
     "start_time": "2021-06-18T22:01:25.176152Z"
    }
   },
   "outputs": [
    {
     "data": {
      "text/html": [
       "<div>\n",
       "<style scoped>\n",
       "    .dataframe tbody tr th:only-of-type {\n",
       "        vertical-align: middle;\n",
       "    }\n",
       "\n",
       "    .dataframe tbody tr th {\n",
       "        vertical-align: top;\n",
       "    }\n",
       "\n",
       "    .dataframe thead th {\n",
       "        text-align: right;\n",
       "    }\n",
       "</style>\n",
       "<table border=\"1\" class=\"dataframe\">\n",
       "  <thead>\n",
       "    <tr style=\"text-align: right;\">\n",
       "      <th></th>\n",
       "      <th>0</th>\n",
       "      <th>true_amount</th>\n",
       "      <th>true_price</th>\n",
       "      <th>total_amount_for_each</th>\n",
       "    </tr>\n",
       "  </thead>\n",
       "  <tbody>\n",
       "    <tr>\n",
       "      <th>0</th>\n",
       "      <td>自然之源 红花椒/50g Sichuan Wild Pepper Red Whole50g</td>\n",
       "      <td>1</td>\n",
       "      <td>1.89</td>\n",
       "      <td>1.89</td>\n",
       "    </tr>\n",
       "    <tr>\n",
       "      <th>1</th>\n",
       "      <td>金凤凰贵族香米 1K Riz parfume PHO/OR1kg*10</td>\n",
       "      <td>1</td>\n",
       "      <td>2.69</td>\n",
       "      <td>2.69</td>\n",
       "    </tr>\n",
       "    <tr>\n",
       "      <th>2</th>\n",
       "      <td>小浣熊 销魂香辣蟹味干脆面/40g Crispy Instant NoodlesSpicy ...</td>\n",
       "      <td>6</td>\n",
       "      <td>0.79</td>\n",
       "      <td>4.74</td>\n",
       "    </tr>\n",
       "    <tr>\n",
       "      <th>3</th>\n",
       "      <td>康雅酷 冰粉粉 鲜橙味/40g Konjac Powder-Orange Flavour40g</td>\n",
       "      <td>3</td>\n",
       "      <td>0.69</td>\n",
       "      <td>2.07</td>\n",
       "    </tr>\n",
       "    <tr>\n",
       "      <th>4</th>\n",
       "      <td>康雅酷 冰粉粉 草莓味/40g Konjac Powder-Strawberry Flavo...</td>\n",
       "      <td>3</td>\n",
       "      <td>0.69</td>\n",
       "      <td>2.07</td>\n",
       "    </tr>\n",
       "    <tr>\n",
       "      <th>5</th>\n",
       "      <td>康师傅 3+2 香草口味 夹心卷 \\n/55g Sandwich Roll Vanilla ...</td>\n",
       "      <td>3</td>\n",
       "      <td>1.69</td>\n",
       "      <td>5.07</td>\n",
       "    </tr>\n",
       "    <tr>\n",
       "      <th>6</th>\n",
       "      <td>午餐肉/梅林 Pate Porc Maling NL340g*12</td>\n",
       "      <td>1</td>\n",
       "      <td>4.19</td>\n",
       "      <td>4.19</td>\n",
       "    </tr>\n",
       "    <tr>\n",
       "      <th>7</th>\n",
       "      <td>旺旺仙贝/56g Cracker de riz WW56g</td>\n",
       "      <td>3</td>\n",
       "      <td>1.49</td>\n",
       "      <td>4.47</td>\n",
       "    </tr>\n",
       "    <tr>\n",
       "      <th>8</th>\n",
       "      <td>小浣熊 辣味帅锅味干脆面/40g Crispy Instant NoodlesSpicy F...</td>\n",
       "      <td>6</td>\n",
       "      <td>0.79</td>\n",
       "      <td>4.74</td>\n",
       "    </tr>\n",
       "    <tr>\n",
       "      <th>9</th>\n",
       "      <td>上好佳 鲜虾条/40g Oishi Prawn Crackers40g</td>\n",
       "      <td>2</td>\n",
       "      <td>1.49</td>\n",
       "      <td>2.98</td>\n",
       "    </tr>\n",
       "    <tr>\n",
       "      <th>10</th>\n",
       "      <td>阳春面/台湾六福 Nouille yangchun340g*30</td>\n",
       "      <td>1</td>\n",
       "      <td>2.69</td>\n",
       "      <td>2.69</td>\n",
       "    </tr>\n",
       "    <tr>\n",
       "      <th>11</th>\n",
       "      <td>中国鸭梨  Poire de Chine</td>\n",
       "      <td>2</td>\n",
       "      <td>4.49</td>\n",
       "      <td>8.98</td>\n",
       "    </tr>\n",
       "    <tr>\n",
       "      <th>12</th>\n",
       "      <td>鲜玉米/2根装  MAIS FRAIS2p</td>\n",
       "      <td>1</td>\n",
       "      <td>2.89</td>\n",
       "      <td>2.89</td>\n",
       "    </tr>\n",
       "    <tr>\n",
       "      <th>13</th>\n",
       "      <td>姜 GingembreRG233-13.6k/c</td>\n",
       "      <td>1</td>\n",
       "      <td>2.5</td>\n",
       "      <td>2.50</td>\n",
       "    </tr>\n",
       "    <tr>\n",
       "      <th>14</th>\n",
       "      <td>大蒜子(斤) Ail blanc(Kg)1019 RG219</td>\n",
       "      <td>1</td>\n",
       "      <td>3.4</td>\n",
       "      <td>3.40</td>\n",
       "    </tr>\n",
       "    <tr>\n",
       "      <th>15</th>\n",
       "      <td>鸡蛋(63-73) Oeuf(Paquet)</td>\n",
       "      <td>1</td>\n",
       "      <td>3.99</td>\n",
       "      <td>3.99</td>\n",
       "    </tr>\n",
       "  </tbody>\n",
       "</table>\n",
       "</div>"
      ],
      "text/plain": [
       "                                                    0 true_amount true_price  \\\n",
       "0       自然之源 红花椒/50g Sichuan Wild Pepper Red Whole50g           1       1.89   \n",
       "1                 金凤凰贵族香米 1K Riz parfume PHO/OR1kg*10           1       2.69   \n",
       "2   小浣熊 销魂香辣蟹味干脆面/40g Crispy Instant NoodlesSpicy ...           6       0.79   \n",
       "3     康雅酷 冰粉粉 鲜橙味/40g Konjac Powder-Orange Flavour40g           3       0.69   \n",
       "4   康雅酷 冰粉粉 草莓味/40g Konjac Powder-Strawberry Flavo...           3       0.69   \n",
       "5   康师傅 3+2 香草口味 夹心卷 \\n/55g Sandwich Roll Vanilla ...           3       1.69   \n",
       "6                   午餐肉/梅林 Pate Porc Maling NL340g*12           1       4.19   \n",
       "7                       旺旺仙贝/56g Cracker de riz WW56g           3       1.49   \n",
       "8   小浣熊 辣味帅锅味干脆面/40g Crispy Instant NoodlesSpicy F...           6       0.79   \n",
       "9                 上好佳 鲜虾条/40g Oishi Prawn Crackers40g           2       1.49   \n",
       "10                   阳春面/台湾六福 Nouille yangchun340g*30           1       2.69   \n",
       "11                               中国鸭梨  Poire de Chine           2       4.49   \n",
       "12                              鲜玉米/2根装  MAIS FRAIS2p           1       2.89   \n",
       "13                           姜 GingembreRG233-13.6k/c           1        2.5   \n",
       "14                     大蒜子(斤) Ail blanc(Kg)1019 RG219           1        3.4   \n",
       "15                             鸡蛋(63-73) Oeuf(Paquet)           1       3.99   \n",
       "\n",
       "    total_amount_for_each  \n",
       "0                    1.89  \n",
       "1                    2.69  \n",
       "2                    4.74  \n",
       "3                    2.07  \n",
       "4                    2.07  \n",
       "5                    5.07  \n",
       "6                    4.19  \n",
       "7                    4.47  \n",
       "8                    4.74  \n",
       "9                    2.98  \n",
       "10                   2.69  \n",
       "11                   8.98  \n",
       "12                   2.89  \n",
       "13                   2.50  \n",
       "14                   3.40  \n",
       "15                   3.99  "
      ]
     },
     "execution_count": 56,
     "metadata": {},
     "output_type": "execute_result"
    }
   ],
   "source": [
    "import pandas as pd\n",
    "import numpy as np\n",
    "\n",
    "c = zip(result, price, amount)\n",
    "\n",
    "df_jike = pd.DataFrame(c)\n",
    "\n",
    "true_amount = []\n",
    "for i in range(len(amount)):\n",
    "    a = amount[i][:1]\n",
    "    true_amount.append(a)\n",
    "\n",
    "true_price = []\n",
    "for i in range(len(price)):\n",
    "    a = price[i][1:]\n",
    "    true_price.append(a)\n",
    "\n",
    "df_jike['true_amount'] = true_amount\n",
    "df_jike['true_price'] = true_price\n",
    "\n",
    "true_amount = np.array(true_amount)\n",
    "true_price = np.array(true_price)\n",
    "\n",
    "true_amount = true_amount.astype(np.float64)\n",
    "true_price = true_price.astype(np.float64)\n",
    "\n",
    "total_amount_for_each = true_amount * true_price\n",
    "df_jike['total_amount_for_each'] = total_amount_for_each\n",
    "\n",
    "df_jike = df_jike.drop([1, 2], axis = 1)\n",
    "df_jike"
   ]
  },
  {
   "cell_type": "code",
   "execution_count": 57,
   "id": "af5e0062",
   "metadata": {
    "ExecuteTime": {
     "end_time": "2021-06-18T22:01:45.654941Z",
     "start_time": "2021-06-18T22:01:45.644968Z"
    }
   },
   "outputs": [
    {
     "data": {
      "text/plain": [
       "59.36"
      ]
     },
     "execution_count": 57,
     "metadata": {},
     "output_type": "execute_result"
    }
   ],
   "source": [
    "df_jike['total_amount_for_each'].sum()"
   ]
  },
  {
   "cell_type": "code",
   "execution_count": 100,
   "id": "e77867bc",
   "metadata": {
    "ExecuteTime": {
     "end_time": "2021-06-20T21:19:17.924486Z",
     "start_time": "2021-06-20T21:19:04.029476Z"
    }
   },
   "outputs": [
    {
     "data": {
      "text/plain": [
       "0.001613110174653851"
      ]
     },
     "execution_count": 100,
     "metadata": {},
     "output_type": "execute_result"
    }
   ],
   "source": [
    "def target():\n",
    "    pts = 10000\n",
    "    normal_result = 5*np.random.normal(0, 1, size=pts)\n",
    "    zero_list = np.zeros((pts,))\n",
    "\n",
    "    residuals = normal_result - zero_list\n",
    "    # create y = 10x+20\n",
    "    x_value = np.arange(0,pts)\n",
    "    y_value = 10*x_value + 20 + residuals\n",
    "\n",
    "    # now we calculate OLS\n",
    "    import statsmodels.api as sm\n",
    "    x_model = sm.add_constant(x_value)\n",
    "    y_model = y_value\n",
    "\n",
    "    result = sm.OLS(y_model, x_model)\n",
    "    result = result.fit()\n",
    "    params_result = result.params\n",
    "\n",
    "    nominal_residuals = x_value*params_result[1]+ params_result[0]-y_model\n",
    "    nominal_residuals_shift = nominal_residuals[1:]\n",
    "    nominal_residuals_shift = np.append(nominal_residuals_shift, 0)\n",
    "\n",
    "    #epsilon t * t+1\n",
    "    epsilon_result = nominal_residuals_shift * nominal_residuals\n",
    "\n",
    "    return epsilon_result.sum()/pts\n",
    "\n",
    "true_result = []\n",
    "pts2 = 1000\n",
    "for i in range(pts2):\n",
    "    true_result.append(target())\n",
    "\n",
    "sum(true_result)/pts2"
   ]
  },
  {
   "cell_type": "code",
   "execution_count": 80,
   "id": "665eec3b",
   "metadata": {
    "ExecuteTime": {
     "end_time": "2021-06-20T21:12:04.051427Z",
     "start_time": "2021-06-20T21:12:04.045411Z"
    }
   },
   "outputs": [
    {
     "data": {
      "text/plain": [
       "999"
      ]
     },
     "execution_count": 80,
     "metadata": {},
     "output_type": "execute_result"
    }
   ],
   "source": [
    "len(nominal_residuals_shift)"
   ]
  },
  {
   "cell_type": "code",
   "execution_count": null,
   "id": "18b61db8",
   "metadata": {},
   "outputs": [],
   "source": []
  },
  {
   "cell_type": "code",
   "execution_count": null,
   "id": "6596dc01",
   "metadata": {},
   "outputs": [],
   "source": []
  },
  {
   "cell_type": "code",
   "execution_count": null,
   "id": "61435824",
   "metadata": {},
   "outputs": [],
   "source": []
  },
  {
   "cell_type": "code",
   "execution_count": null,
   "id": "12ab42cf",
   "metadata": {},
   "outputs": [],
   "source": []
  },
  {
   "cell_type": "code",
   "execution_count": null,
   "id": "e992e97a",
   "metadata": {},
   "outputs": [],
   "source": []
  },
  {
   "cell_type": "code",
   "execution_count": null,
   "id": "45b86167",
   "metadata": {},
   "outputs": [],
   "source": []
  },
  {
   "cell_type": "code",
   "execution_count": null,
   "id": "b3959180",
   "metadata": {},
   "outputs": [],
   "source": []
  },
  {
   "cell_type": "code",
   "execution_count": null,
   "id": "b0677f2f",
   "metadata": {},
   "outputs": [],
   "source": []
  },
  {
   "cell_type": "code",
   "execution_count": null,
   "id": "4093aaf9",
   "metadata": {},
   "outputs": [],
   "source": []
  },
  {
   "cell_type": "code",
   "execution_count": null,
   "id": "c43bc2fe",
   "metadata": {},
   "outputs": [],
   "source": []
  },
  {
   "cell_type": "code",
   "execution_count": null,
   "id": "c4e24c13",
   "metadata": {},
   "outputs": [],
   "source": []
  },
  {
   "cell_type": "code",
   "execution_count": null,
   "id": "e64fd5eb",
   "metadata": {},
   "outputs": [],
   "source": []
  },
  {
   "cell_type": "code",
   "execution_count": null,
   "id": "3521970b",
   "metadata": {},
   "outputs": [],
   "source": []
  },
  {
   "cell_type": "code",
   "execution_count": null,
   "id": "03aa2a6c",
   "metadata": {},
   "outputs": [],
   "source": []
  },
  {
   "cell_type": "code",
   "execution_count": null,
   "id": "9fed79f9",
   "metadata": {},
   "outputs": [],
   "source": []
  },
  {
   "cell_type": "code",
   "execution_count": null,
   "id": "b9ff1bac",
   "metadata": {},
   "outputs": [],
   "source": []
  },
  {
   "cell_type": "code",
   "execution_count": null,
   "id": "1be5778f",
   "metadata": {},
   "outputs": [],
   "source": []
  },
  {
   "cell_type": "code",
   "execution_count": null,
   "id": "d0c36c8d",
   "metadata": {},
   "outputs": [],
   "source": []
  },
  {
   "cell_type": "code",
   "execution_count": null,
   "id": "8200669d",
   "metadata": {},
   "outputs": [],
   "source": []
  },
  {
   "cell_type": "code",
   "execution_count": null,
   "id": "61c68017",
   "metadata": {},
   "outputs": [],
   "source": []
  },
  {
   "cell_type": "code",
   "execution_count": null,
   "id": "361de16c",
   "metadata": {},
   "outputs": [],
   "source": []
  },
  {
   "cell_type": "code",
   "execution_count": null,
   "id": "5caeca7d",
   "metadata": {},
   "outputs": [],
   "source": []
  },
  {
   "cell_type": "code",
   "execution_count": null,
   "id": "8605b249",
   "metadata": {},
   "outputs": [],
   "source": []
  },
  {
   "cell_type": "code",
   "execution_count": null,
   "id": "71f31811",
   "metadata": {},
   "outputs": [],
   "source": []
  },
  {
   "cell_type": "code",
   "execution_count": null,
   "id": "84789a46",
   "metadata": {},
   "outputs": [],
   "source": []
  },
  {
   "cell_type": "code",
   "execution_count": null,
   "id": "55b349a4",
   "metadata": {},
   "outputs": [],
   "source": []
  },
  {
   "cell_type": "code",
   "execution_count": null,
   "id": "8df568c5",
   "metadata": {},
   "outputs": [],
   "source": []
  },
  {
   "cell_type": "code",
   "execution_count": null,
   "id": "ea999fe8",
   "metadata": {},
   "outputs": [],
   "source": []
  },
  {
   "cell_type": "code",
   "execution_count": null,
   "id": "4a771b9f",
   "metadata": {},
   "outputs": [],
   "source": []
  },
  {
   "cell_type": "code",
   "execution_count": null,
   "id": "3be5d8de",
   "metadata": {},
   "outputs": [],
   "source": []
  },
  {
   "cell_type": "code",
   "execution_count": null,
   "id": "5c4e2317",
   "metadata": {},
   "outputs": [],
   "source": []
  },
  {
   "cell_type": "code",
   "execution_count": null,
   "id": "e94cc1b8",
   "metadata": {},
   "outputs": [],
   "source": []
  },
  {
   "cell_type": "code",
   "execution_count": null,
   "id": "b0c8af9a",
   "metadata": {},
   "outputs": [],
   "source": []
  },
  {
   "cell_type": "code",
   "execution_count": null,
   "id": "dce8c6b5",
   "metadata": {},
   "outputs": [],
   "source": []
  },
  {
   "cell_type": "code",
   "execution_count": null,
   "id": "8e9c71c1",
   "metadata": {},
   "outputs": [],
   "source": []
  },
  {
   "cell_type": "code",
   "execution_count": null,
   "id": "ba0becbb",
   "metadata": {},
   "outputs": [],
   "source": []
  },
  {
   "cell_type": "code",
   "execution_count": null,
   "id": "465fb631",
   "metadata": {},
   "outputs": [],
   "source": []
  },
  {
   "cell_type": "code",
   "execution_count": null,
   "id": "d79c1475",
   "metadata": {},
   "outputs": [],
   "source": []
  },
  {
   "cell_type": "code",
   "execution_count": null,
   "id": "72d29331",
   "metadata": {},
   "outputs": [],
   "source": []
  }
 ],
 "metadata": {
  "kernelspec": {
   "display_name": "Python 3",
   "language": "python",
   "name": "python3"
  },
  "language_info": {
   "codemirror_mode": {
    "name": "ipython",
    "version": 3
   },
   "file_extension": ".py",
   "mimetype": "text/x-python",
   "name": "python",
   "nbconvert_exporter": "python",
   "pygments_lexer": "ipython3",
   "version": "3.8.1"
  },
  "latex_envs": {
   "LaTeX_envs_menu_present": true,
   "autoclose": false,
   "autocomplete": true,
   "bibliofile": "biblio.bib",
   "cite_by": "apalike",
   "current_citInitial": 1,
   "eqLabelWithNumbers": true,
   "eqNumInitial": 1,
   "hotkeys": {
    "equation": "Ctrl-E",
    "itemize": "Ctrl-I"
   },
   "labels_anchors": false,
   "latex_user_defs": false,
   "report_style_numbering": false,
   "user_envs_cfg": false
  },
  "toc": {
   "base_numbering": 1,
   "nav_menu": {},
   "number_sections": true,
   "sideBar": true,
   "skip_h1_title": false,
   "title_cell": "Table of Contents",
   "title_sidebar": "Contents",
   "toc_cell": false,
   "toc_position": {},
   "toc_section_display": true,
   "toc_window_display": false
  },
  "varInspector": {
   "cols": {
    "lenName": 16,
    "lenType": 16,
    "lenVar": 40
   },
   "kernels_config": {
    "python": {
     "delete_cmd_postfix": "",
     "delete_cmd_prefix": "del ",
     "library": "var_list.py",
     "varRefreshCmd": "print(var_dic_list())"
    },
    "r": {
     "delete_cmd_postfix": ") ",
     "delete_cmd_prefix": "rm(",
     "library": "var_list.r",
     "varRefreshCmd": "cat(var_dic_list()) "
    }
   },
   "types_to_exclude": [
    "module",
    "function",
    "builtin_function_or_method",
    "instance",
    "_Feature"
   ],
   "window_display": false
  }
 },
 "nbformat": 4,
 "nbformat_minor": 5
}
