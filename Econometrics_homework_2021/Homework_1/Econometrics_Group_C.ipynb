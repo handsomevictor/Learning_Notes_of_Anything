{
 "cells": [
  {
   "cell_type": "markdown",
   "id": "6a7c5f07",
   "metadata": {
    "ExecuteTime": {
     "end_time": "2021-05-28T15:09:00.245071Z",
     "start_time": "2021-05-28T15:08:55.098077Z"
    },
    "id": "K5YeKCrPHNjq"
   },
   "source": [
    "### Group C Member: \n",
    "    Zhenning Li (B00780786)\n",
    "    Yixin Zhao (B00780592)\n",
    "    Miao Wang (B00761718)\n",
    "    Jiaqian Ma (B00782247)"
   ]
  },
  {
   "cell_type": "code",
   "execution_count": 33,
   "id": "4aa06fdd",
   "metadata": {
    "ExecuteTime": {
     "end_time": "2021-05-28T16:08:16.949344Z",
     "start_time": "2021-05-28T16:08:16.944331Z"
    }
   },
   "outputs": [],
   "source": [
    "import pandas as pd\n",
    "import numpy as np\n",
    "import requests\n",
    "import io\n",
    "import matplotlib.pyplot as plt\n",
    "import statsmodels.api as sm\n",
    "import math\n",
    "from statsmodels.stats.outliers_influence import summary_table\n",
    "from scipy.stats import norm\n",
    "from scipy.stats import t\n",
    "from scipy import stats"
   ]
  },
  {
   "cell_type": "markdown",
   "id": "49fd2856",
   "metadata": {
    "id": "MdEgI8P7HNjm"
   },
   "source": [
    "# I. Summary statistics"
   ]
  },
  {
   "cell_type": "code",
   "execution_count": 3,
   "id": "9d22a156",
   "metadata": {
    "ExecuteTime": {
     "end_time": "2021-05-28T16:07:42.298339Z",
     "start_time": "2021-05-28T16:07:42.037054Z"
    },
    "colab": {
     "base_uri": "https://localhost:8080/",
     "height": 456
    },
    "id": "pG0jvc1sHNjr",
    "outputId": "94ea7ec9-3cd6-43f9-cffb-77ca6039b143"
   },
   "outputs": [
    {
     "data": {
      "text/html": [
       "<div>\n",
       "<style scoped>\n",
       "    .dataframe tbody tr th:only-of-type {\n",
       "        vertical-align: middle;\n",
       "    }\n",
       "\n",
       "    .dataframe tbody tr th {\n",
       "        vertical-align: top;\n",
       "    }\n",
       "\n",
       "    .dataframe thead th {\n",
       "        text-align: right;\n",
       "    }\n",
       "</style>\n",
       "<table border=\"1\" class=\"dataframe\">\n",
       "  <thead>\n",
       "    <tr style=\"text-align: right;\">\n",
       "      <th></th>\n",
       "      <th>Date</th>\n",
       "      <th>Mkt-RF</th>\n",
       "      <th>SMB</th>\n",
       "      <th>HML</th>\n",
       "      <th>RMW</th>\n",
       "      <th>CMA...6</th>\n",
       "      <th>MMM</th>\n",
       "      <th>ABT</th>\n",
       "      <th>ATVI</th>\n",
       "      <th>ADBE</th>\n",
       "    </tr>\n",
       "  </thead>\n",
       "  <tbody>\n",
       "    <tr>\n",
       "      <th>0</th>\n",
       "      <td>2000/01</td>\n",
       "      <td>-4.74</td>\n",
       "      <td>4.15</td>\n",
       "      <td>-0.29</td>\n",
       "      <td>-6.05</td>\n",
       "      <td>4.73</td>\n",
       "      <td>-1.20</td>\n",
       "      <td>-7.37</td>\n",
       "      <td>-5.35</td>\n",
       "      <td>-16.43</td>\n",
       "    </tr>\n",
       "    <tr>\n",
       "      <th>1</th>\n",
       "      <td>2000/02</td>\n",
       "      <td>2.45</td>\n",
       "      <td>18.32</td>\n",
       "      <td>-9.93</td>\n",
       "      <td>-18.33</td>\n",
       "      <td>-0.51</td>\n",
       "      <td>-6.24</td>\n",
       "      <td>0.91</td>\n",
       "      <td>-19.23</td>\n",
       "      <td>84.81</td>\n",
       "    </tr>\n",
       "    <tr>\n",
       "      <th>2</th>\n",
       "      <td>2000/03</td>\n",
       "      <td>5.20</td>\n",
       "      <td>-14.91</td>\n",
       "      <td>7.38</td>\n",
       "      <td>11.68</td>\n",
       "      <td>-1.05</td>\n",
       "      <td>-0.04</td>\n",
       "      <td>6.16</td>\n",
       "      <td>-5.40</td>\n",
       "      <td>8.66</td>\n",
       "    </tr>\n",
       "    <tr>\n",
       "      <th>3</th>\n",
       "      <td>2000/04</td>\n",
       "      <td>-6.40</td>\n",
       "      <td>-5.55</td>\n",
       "      <td>8.61</td>\n",
       "      <td>7.55</td>\n",
       "      <td>5.27</td>\n",
       "      <td>-2.65</td>\n",
       "      <td>8.78</td>\n",
       "      <td>-48.65</td>\n",
       "      <td>8.19</td>\n",
       "    </tr>\n",
       "    <tr>\n",
       "      <th>4</th>\n",
       "      <td>2000/05</td>\n",
       "      <td>-4.42</td>\n",
       "      <td>-3.68</td>\n",
       "      <td>2.56</td>\n",
       "      <td>4.63</td>\n",
       "      <td>0.74</td>\n",
       "      <td>-1.51</td>\n",
       "      <td>5.35</td>\n",
       "      <td>-1.50</td>\n",
       "      <td>-7.43</td>\n",
       "    </tr>\n",
       "    <tr>\n",
       "      <th>...</th>\n",
       "      <td>...</td>\n",
       "      <td>...</td>\n",
       "      <td>...</td>\n",
       "      <td>...</td>\n",
       "      <td>...</td>\n",
       "      <td>...</td>\n",
       "      <td>...</td>\n",
       "      <td>...</td>\n",
       "      <td>...</td>\n",
       "      <td>...</td>\n",
       "    </tr>\n",
       "    <tr>\n",
       "      <th>205</th>\n",
       "      <td>2017/02</td>\n",
       "      <td>3.57</td>\n",
       "      <td>-2.12</td>\n",
       "      <td>-1.79</td>\n",
       "      <td>0.78</td>\n",
       "      <td>-1.72</td>\n",
       "      <td>6.56</td>\n",
       "      <td>7.88</td>\n",
       "      <td>12.20</td>\n",
       "      <td>4.33</td>\n",
       "    </tr>\n",
       "    <tr>\n",
       "      <th>206</th>\n",
       "      <td>2017/03</td>\n",
       "      <td>0.17</td>\n",
       "      <td>0.78</td>\n",
       "      <td>-3.17</td>\n",
       "      <td>0.68</td>\n",
       "      <td>-1.00</td>\n",
       "      <td>2.64</td>\n",
       "      <td>-1.52</td>\n",
       "      <td>10.45</td>\n",
       "      <td>9.93</td>\n",
       "    </tr>\n",
       "    <tr>\n",
       "      <th>207</th>\n",
       "      <td>2017/04</td>\n",
       "      <td>1.09</td>\n",
       "      <td>0.49</td>\n",
       "      <td>-1.87</td>\n",
       "      <td>2.00</td>\n",
       "      <td>-1.55</td>\n",
       "      <td>2.30</td>\n",
       "      <td>-1.78</td>\n",
       "      <td>4.74</td>\n",
       "      <td>2.72</td>\n",
       "    </tr>\n",
       "    <tr>\n",
       "      <th>208</th>\n",
       "      <td>2017/05</td>\n",
       "      <td>1.06</td>\n",
       "      <td>-3.05</td>\n",
       "      <td>-3.78</td>\n",
       "      <td>1.21</td>\n",
       "      <td>-1.88</td>\n",
       "      <td>4.35</td>\n",
       "      <td>4.57</td>\n",
       "      <td>12.05</td>\n",
       "      <td>6.01</td>\n",
       "    </tr>\n",
       "    <tr>\n",
       "      <th>209</th>\n",
       "      <td>2017/06</td>\n",
       "      <td>0.78</td>\n",
       "      <td>2.48</td>\n",
       "      <td>1.35</td>\n",
       "      <td>-2.01</td>\n",
       "      <td>-0.07</td>\n",
       "      <td>1.76</td>\n",
       "      <td>6.40</td>\n",
       "      <td>-1.78</td>\n",
       "      <td>-0.36</td>\n",
       "    </tr>\n",
       "  </tbody>\n",
       "</table>\n",
       "<p>210 rows × 10 columns</p>\n",
       "</div>"
      ],
      "text/plain": [
       "        Date  Mkt-RF    SMB   HML    RMW  CMA...6   MMM   ABT   ATVI   ADBE\n",
       "0    2000/01   -4.74   4.15 -0.29  -6.05     4.73 -1.20 -7.37  -5.35 -16.43\n",
       "1    2000/02    2.45  18.32 -9.93 -18.33    -0.51 -6.24  0.91 -19.23  84.81\n",
       "2    2000/03    5.20 -14.91  7.38  11.68    -1.05 -0.04  6.16  -5.40   8.66\n",
       "3    2000/04   -6.40  -5.55  8.61   7.55     5.27 -2.65  8.78 -48.65   8.19\n",
       "4    2000/05   -4.42  -3.68  2.56   4.63     0.74 -1.51  5.35  -1.50  -7.43\n",
       "..       ...     ...    ...   ...    ...      ...   ...   ...    ...    ...\n",
       "205  2017/02    3.57  -2.12 -1.79   0.78    -1.72  6.56  7.88  12.20   4.33\n",
       "206  2017/03    0.17   0.78 -3.17   0.68    -1.00  2.64 -1.52  10.45   9.93\n",
       "207  2017/04    1.09   0.49 -1.87   2.00    -1.55  2.30 -1.78   4.74   2.72\n",
       "208  2017/05    1.06  -3.05 -3.78   1.21    -1.88  4.35  4.57  12.05   6.01\n",
       "209  2017/06    0.78   2.48  1.35  -2.01    -0.07  1.76  6.40  -1.78  -0.36\n",
       "\n",
       "[210 rows x 10 columns]"
      ]
     },
     "execution_count": 3,
     "metadata": {},
     "output_type": "execute_result"
    }
   ],
   "source": [
    "url = 'https://raw.githubusercontent.com/adufays/GDP_expectancy/main/APM_Returns.csv'\n",
    "s = requests.get(url).content\n",
    "df = pd.read_csv(io.StringIO(s.decode('utf-8')))\n",
    "df = df.drop('Unnamed: 0', axis = 1)\n",
    "df.iloc[:,:10]"
   ]
  },
  {
   "cell_type": "markdown",
   "id": "aa73f6c7",
   "metadata": {
    "id": "BukMbrcsHNjs"
   },
   "source": [
    "## 1.1 Computing monthly average return and standard deviation"
   ]
  },
  {
   "cell_type": "code",
   "execution_count": 4,
   "id": "e8750769",
   "metadata": {
    "ExecuteTime": {
     "end_time": "2021-05-28T16:07:42.303326Z",
     "start_time": "2021-05-28T16:07:42.299337Z"
    },
    "id": "vvXhUQclHNjt"
   },
   "outputs": [],
   "source": [
    "df_1 = df.iloc[:,6:]"
   ]
  },
  {
   "cell_type": "code",
   "execution_count": 5,
   "id": "3bee2f71",
   "metadata": {
    "ExecuteTime": {
     "end_time": "2021-05-28T16:07:43.752549Z",
     "start_time": "2021-05-28T16:07:42.305320Z"
    },
    "colab": {
     "base_uri": "https://localhost:8080/",
     "height": 346
    },
    "id": "o_2L_4MXHNjt",
    "outputId": "c032896d-c250-4925-ba8a-9ca8ba03c82d"
   },
   "outputs": [
    {
     "data": {
      "text/html": [
       "<div>\n",
       "<style scoped>\n",
       "    .dataframe tbody tr th:only-of-type {\n",
       "        vertical-align: middle;\n",
       "    }\n",
       "\n",
       "    .dataframe tbody tr th {\n",
       "        vertical-align: top;\n",
       "    }\n",
       "\n",
       "    .dataframe thead th {\n",
       "        text-align: right;\n",
       "    }\n",
       "</style>\n",
       "<table border=\"1\" class=\"dataframe\">\n",
       "  <thead>\n",
       "    <tr style=\"text-align: right;\">\n",
       "      <th></th>\n",
       "      <th>MMM</th>\n",
       "      <th>ABT</th>\n",
       "      <th>ATVI</th>\n",
       "      <th>ADBE</th>\n",
       "      <th>AES</th>\n",
       "      <th>AET</th>\n",
       "      <th>AMG</th>\n",
       "    </tr>\n",
       "  </thead>\n",
       "  <tbody>\n",
       "    <tr>\n",
       "      <th>count</th>\n",
       "      <td>210.000000</td>\n",
       "      <td>210.000000</td>\n",
       "      <td>210.000000</td>\n",
       "      <td>210.000000</td>\n",
       "      <td>210.000000</td>\n",
       "      <td>210.000000</td>\n",
       "      <td>210.000000</td>\n",
       "    </tr>\n",
       "    <tr>\n",
       "      <th>mean</th>\n",
       "      <td>0.734286</td>\n",
       "      <td>0.572381</td>\n",
       "      <td>2.379476</td>\n",
       "      <td>1.569095</td>\n",
       "      <td>0.488429</td>\n",
       "      <td>1.784286</td>\n",
       "      <td>1.396762</td>\n",
       "    </tr>\n",
       "    <tr>\n",
       "      <th>std</th>\n",
       "      <td>5.661786</td>\n",
       "      <td>5.714191</td>\n",
       "      <td>12.059177</td>\n",
       "      <td>11.942540</td>\n",
       "      <td>14.581512</td>\n",
       "      <td>9.353504</td>\n",
       "      <td>10.969253</td>\n",
       "    </tr>\n",
       "    <tr>\n",
       "      <th>min</th>\n",
       "      <td>-15.500000</td>\n",
       "      <td>-20.870000</td>\n",
       "      <td>-48.650000</td>\n",
       "      <td>-33.860000</td>\n",
       "      <td>-62.330000</td>\n",
       "      <td>-31.210000</td>\n",
       "      <td>-44.100000</td>\n",
       "    </tr>\n",
       "    <tr>\n",
       "      <th>25%</th>\n",
       "      <td>-2.592500</td>\n",
       "      <td>-2.625000</td>\n",
       "      <td>-3.460000</td>\n",
       "      <td>-4.582500</td>\n",
       "      <td>-5.452500</td>\n",
       "      <td>-3.870000</td>\n",
       "      <td>-4.190000</td>\n",
       "    </tr>\n",
       "    <tr>\n",
       "      <th>50%</th>\n",
       "      <td>0.955000</td>\n",
       "      <td>0.950000</td>\n",
       "      <td>2.265000</td>\n",
       "      <td>2.710000</td>\n",
       "      <td>-0.665000</td>\n",
       "      <td>2.495000</td>\n",
       "      <td>1.930000</td>\n",
       "    </tr>\n",
       "    <tr>\n",
       "      <th>75%</th>\n",
       "      <td>3.885000</td>\n",
       "      <td>4.520000</td>\n",
       "      <td>7.800000</td>\n",
       "      <td>7.600000</td>\n",
       "      <td>6.417500</td>\n",
       "      <td>6.905000</td>\n",
       "      <td>6.677500</td>\n",
       "    </tr>\n",
       "    <tr>\n",
       "      <th>max</th>\n",
       "      <td>20.150000</td>\n",
       "      <td>13.820000</td>\n",
       "      <td>59.500000</td>\n",
       "      <td>84.810000</td>\n",
       "      <td>74.290000</td>\n",
       "      <td>34.480000</td>\n",
       "      <td>49.710000</td>\n",
       "    </tr>\n",
       "  </tbody>\n",
       "</table>\n",
       "</div>"
      ],
      "text/plain": [
       "              MMM         ABT        ATVI        ADBE         AES         AET  \\\n",
       "count  210.000000  210.000000  210.000000  210.000000  210.000000  210.000000   \n",
       "mean     0.734286    0.572381    2.379476    1.569095    0.488429    1.784286   \n",
       "std      5.661786    5.714191   12.059177   11.942540   14.581512    9.353504   \n",
       "min    -15.500000  -20.870000  -48.650000  -33.860000  -62.330000  -31.210000   \n",
       "25%     -2.592500   -2.625000   -3.460000   -4.582500   -5.452500   -3.870000   \n",
       "50%      0.955000    0.950000    2.265000    2.710000   -0.665000    2.495000   \n",
       "75%      3.885000    4.520000    7.800000    7.600000    6.417500    6.905000   \n",
       "max     20.150000   13.820000   59.500000   84.810000   74.290000   34.480000   \n",
       "\n",
       "              AMG  \n",
       "count  210.000000  \n",
       "mean     1.396762  \n",
       "std     10.969253  \n",
       "min    -44.100000  \n",
       "25%     -4.190000  \n",
       "50%      1.930000  \n",
       "75%      6.677500  \n",
       "max     49.710000  "
      ]
     },
     "execution_count": 5,
     "metadata": {},
     "output_type": "execute_result"
    }
   ],
   "source": [
    "asset_name_list = list(df_1.columns)\n",
    "\n",
    "# we used describe() function to generate dataframes \n",
    "# of average return and standard deviation\n",
    "\n",
    "asset_average_return_list = list(df_1.describe().iloc[1])\n",
    "asset_standard_deviation_list = list(df_1.describe().iloc[2])\n",
    "df_1.describe().iloc[:, :7]"
   ]
  },
  {
   "cell_type": "code",
   "execution_count": 6,
   "id": "68284977",
   "metadata": {
    "ExecuteTime": {
     "end_time": "2021-05-28T16:07:43.886193Z",
     "start_time": "2021-05-28T16:07:43.753555Z"
    },
    "colab": {
     "base_uri": "https://localhost:8080/",
     "height": 442
    },
    "id": "WNU1YDYkHNjt",
    "outputId": "83ff278a-b72a-4407-ae07-ac4dab7f35c5"
   },
   "outputs": [
    {
     "data": {
      "image/png": "[encoded data removed]",
      "text/plain": [
       "<Figure size 720x504 with 1 Axes>"
      ]
     },
     "metadata": {
      "needs_background": "light"
     },
     "output_type": "display_data"
    }
   ],
   "source": [
    "plt.rcParams['figure.figsize'] = (10.0, 7.0)\n",
    "plt.scatter(asset_average_return_list, asset_standard_deviation_list, c = 'black', s = 5, \n",
    "            alpha = 0.7, label = 'samples')\n",
    "\n",
    "plt.grid()\n",
    "plt.legend(fontsize = 14)\n",
    "\n",
    "plt.xlabel('Average return')\n",
    "plt.ylabel('Standard deviation')\n",
    "plt.show()"
   ]
  },
  {
   "cell_type": "markdown",
   "id": "11f2190c",
   "metadata": {
    "id": "pRRd-TmVHNjv"
   },
   "source": [
    "## 1.2 Use OLS to estimate the model"
   ]
  },
  {
   "cell_type": "markdown",
   "id": "c9f333af",
   "metadata": {
    "id": "7b8g7A4uHNjv"
   },
   "source": [
    "The model is: $std_{i} = \\beta_{1} + \\beta_{2}\\times ave_{i} + \\epsilon_{i}$"
   ]
  },
  {
   "cell_type": "code",
   "execution_count": 7,
   "id": "d71ec0b7",
   "metadata": {
    "ExecuteTime": {
     "end_time": "2021-05-28T16:07:43.893142Z",
     "start_time": "2021-05-28T16:07:43.887158Z"
    },
    "colab": {
     "base_uri": "https://localhost:8080/"
    },
    "id": "AB5xbztNHNjv",
    "outputId": "6f0731f5-12fb-42bf-82b6-97c36f8feb02"
   },
   "outputs": [
    {
     "data": {
      "text/plain": [
       "array([6.82753557, 2.65556998])"
      ]
     },
     "execution_count": 7,
     "metadata": {},
     "output_type": "execute_result"
    }
   ],
   "source": [
    "ave = np.array(asset_average_return_list)\n",
    "std = np.array(asset_standard_deviation_list)\n",
    "\n",
    "x_model = sm.add_constant(ave)\n",
    "y_model = std\n",
    "model = sm.OLS(y_model, x_model)\n",
    "result = model.fit()\n",
    "result.params"
   ]
  },
  {
   "cell_type": "markdown",
   "id": "0499e307",
   "metadata": {
    "id": "Ssq7Z7yAHNjx"
   },
   "source": [
    "Here, $\\hat \\beta_{1} = 6.82753557$, and $\\hat \\beta_{2} = 2.65556998 $\n",
    "\n",
    "$std_{i} = 6.83 + 2.66\\times ave_{i} $"
   ]
  },
  {
   "cell_type": "markdown",
   "id": "015c7368",
   "metadata": {
    "ExecuteTime": {
     "end_time": "2021-05-19T23:52:56.284060Z",
     "start_time": "2021-05-19T23:52:56.279073Z"
    },
    "id": "jB5IlD6WHNjx"
   },
   "source": [
    "## 1.3 Interpret the coefficient $\\beta_{2}$"
   ]
  },
  {
   "cell_type": "markdown",
   "id": "79568a7e",
   "metadata": {
    "id": "zu1EzWMUHNjx"
   },
   "source": [
    "The literal interpretation of the estimated coefficient $\\beta_{2}$ is that a one-unit increase in $ave_{i}$ (asset average return) will produce an expected increase in $std_{i}$ (asset standard deviation)of $\\beta_{2}$=2.66 units."
   ]
  },
  {
   "cell_type": "markdown",
   "id": "81abd2f8",
   "metadata": {
    "id": "f50b_8bYHNjx"
   },
   "source": [
    "## 1.4 Scatter plot with regression line"
   ]
  },
  {
   "cell_type": "code",
   "execution_count": 8,
   "id": "55f6940d",
   "metadata": {
    "ExecuteTime": {
     "end_time": "2021-05-28T16:07:44.014816Z",
     "start_time": "2021-05-28T16:07:43.895138Z"
    },
    "colab": {
     "base_uri": "https://localhost:8080/",
     "height": 442
    },
    "id": "pu0bZYOxHNjy",
    "outputId": "fcac7571-1440-4bf1-eac4-411cf1a45e60"
   },
   "outputs": [
    {
     "data": {
      "image/png": "[encoded data removed]",
      "text/plain": [
       "<Figure size 720x504 with 1 Axes>"
      ]
     },
     "metadata": {
      "needs_background": "light"
     },
     "output_type": "display_data"
    }
   ],
   "source": [
    "x_reg= np.asarray(asset_average_return_list)\n",
    "y_reg = result.params[0] + result.params[1]*x_reg\n",
    "\n",
    "plt.scatter(asset_average_return_list, asset_standard_deviation_list, c = 'black', \n",
    "            s = 5, alpha = 0.7, label = 'sample')\n",
    "\n",
    "plt.xlabel('Average return')\n",
    "plt.ylabel('Standard deviation')\n",
    "\n",
    "plt.plot(x_reg, y_reg, label = 'regression')\n",
    "plt.grid()\n",
    "plt.legend(fontsize = 14)\n",
    "plt.rcParams['figure.figsize'] = (10.0, 7.0)\n",
    "plt.show()"
   ]
  },
  {
   "cell_type": "markdown",
   "id": "b5c64188",
   "metadata": {
    "id": "9iN3FByUHNjy"
   },
   "source": [
    "## 1.5 Write explicit mathematical formula for the estimators"
   ]
  },
  {
   "cell_type": "markdown",
   "id": "a7c30089",
   "metadata": {
    "id": "PBLVUCmHHNjy"
   },
   "source": [
    "$\\hat \\beta_{2} = \\frac{\\sum_{t=1}^{T}\\left(x_{t}-\\bar{x}\\right)\\left(y_{t}-\\bar{y}\\right)}{\\sum_{t=1}^{T}\\left(x_{t}-\\bar{x}\\right)^{2}} =\\frac{cov(ave, std)}{var(ave)}$ \n",
    "\n",
    "$\\hat \\beta_{1} = average(std) - \\hat \\beta_{2} * average(ave)$"
   ]
  },
  {
   "cell_type": "markdown",
   "id": "d4f10f83",
   "metadata": {
    "id": "1Cl9tBbpHNjz"
   },
   "source": [
    "## 1.6 Is Beta2 statistically significant? Perform a hypothesis testing"
   ]
  },
  {
   "cell_type": "code",
   "execution_count": 9,
   "id": "b54ecc1e",
   "metadata": {
    "ExecuteTime": {
     "end_time": "2021-05-28T16:07:44.027813Z",
     "start_time": "2021-05-28T16:07:44.015845Z"
    },
    "colab": {
     "base_uri": "https://localhost:8080/",
     "height": 444
    },
    "id": "Vwdn_2eWHNjz",
    "outputId": "f9c7a93b-57d1-4ca0-b0be-275ca540c06e"
   },
   "outputs": [
    {
     "data": {
      "text/html": [
       "<table class=\"simpletable\">\n",
       "<caption>OLS Regression Results</caption>\n",
       "<tr>\n",
       "  <th>Dep. Variable:</th>            <td>y</td>        <th>  R-squared:         </th> <td>   0.219</td>\n",
       "</tr>\n",
       "<tr>\n",
       "  <th>Model:</th>                   <td>OLS</td>       <th>  Adj. R-squared:    </th> <td>   0.217</td>\n",
       "</tr>\n",
       "<tr>\n",
       "  <th>Method:</th>             <td>Least Squares</td>  <th>  F-statistic:       </th> <td>   107.4</td>\n",
       "</tr>\n",
       "<tr>\n",
       "  <th>Date:</th>             <td>Fri, 28 May 2021</td> <th>  Prob (F-statistic):</th> <td>2.47e-22</td>\n",
       "</tr>\n",
       "<tr>\n",
       "  <th>Time:</th>                 <td>18:07:44</td>     <th>  Log-Likelihood:    </th> <td> -975.32</td>\n",
       "</tr>\n",
       "<tr>\n",
       "  <th>No. Observations:</th>      <td>   384</td>      <th>  AIC:               </th> <td>   1955.</td>\n",
       "</tr>\n",
       "<tr>\n",
       "  <th>Df Residuals:</th>          <td>   382</td>      <th>  BIC:               </th> <td>   1963.</td>\n",
       "</tr>\n",
       "<tr>\n",
       "  <th>Df Model:</th>              <td>     1</td>      <th>                     </th>     <td> </td>   \n",
       "</tr>\n",
       "<tr>\n",
       "  <th>Covariance Type:</th>      <td>nonrobust</td>    <th>                     </th>     <td> </td>   \n",
       "</tr>\n",
       "</table>\n",
       "<table class=\"simpletable\">\n",
       "<tr>\n",
       "    <td></td>       <th>coef</th>     <th>std err</th>      <th>t</th>      <th>P>|t|</th>  <th>[0.025</th>    <th>0.975]</th>  \n",
       "</tr>\n",
       "<tr>\n",
       "  <th>const</th> <td>    6.8275</td> <td>    0.293</td> <td>   23.303</td> <td> 0.000</td> <td>    6.251</td> <td>    7.404</td>\n",
       "</tr>\n",
       "<tr>\n",
       "  <th>x1</th>    <td>    2.6556</td> <td>    0.256</td> <td>   10.361</td> <td> 0.000</td> <td>    2.152</td> <td>    3.160</td>\n",
       "</tr>\n",
       "</table>\n",
       "<table class=\"simpletable\">\n",
       "<tr>\n",
       "  <th>Omnibus:</th>       <td>108.212</td> <th>  Durbin-Watson:     </th> <td>   1.901</td>\n",
       "</tr>\n",
       "<tr>\n",
       "  <th>Prob(Omnibus):</th> <td> 0.000</td>  <th>  Jarque-Bera (JB):  </th> <td> 255.712</td>\n",
       "</tr>\n",
       "<tr>\n",
       "  <th>Skew:</th>          <td> 1.405</td>  <th>  Prob(JB):          </th> <td>2.97e-56</td>\n",
       "</tr>\n",
       "<tr>\n",
       "  <th>Kurtosis:</th>      <td> 5.844</td>  <th>  Cond. No.          </th> <td>    3.48</td>\n",
       "</tr>\n",
       "</table><br/><br/>Notes:<br/>[1] Standard Errors assume that the covariance matrix of the errors is correctly specified."
      ],
      "text/plain": [
       "<class 'statsmodels.iolib.summary.Summary'>\n",
       "\"\"\"\n",
       "                            OLS Regression Results                            \n",
       "==============================================================================\n",
       "Dep. Variable:                      y   R-squared:                       0.219\n",
       "Model:                            OLS   Adj. R-squared:                  0.217\n",
       "Method:                 Least Squares   F-statistic:                     107.4\n",
       "Date:                Fri, 28 May 2021   Prob (F-statistic):           2.47e-22\n",
       "Time:                        18:07:44   Log-Likelihood:                -975.32\n",
       "No. Observations:                 384   AIC:                             1955.\n",
       "Df Residuals:                     382   BIC:                             1963.\n",
       "Df Model:                           1                                         \n",
       "Covariance Type:            nonrobust                                         \n",
       "==============================================================================\n",
       "                 coef    std err          t      P>|t|      [0.025      0.975]\n",
       "------------------------------------------------------------------------------\n",
       "const          6.8275      0.293     23.303      0.000       6.251       7.404\n",
       "x1             2.6556      0.256     10.361      0.000       2.152       3.160\n",
       "==============================================================================\n",
       "Omnibus:                      108.212   Durbin-Watson:                   1.901\n",
       "Prob(Omnibus):                  0.000   Jarque-Bera (JB):              255.712\n",
       "Skew:                           1.405   Prob(JB):                     2.97e-56\n",
       "Kurtosis:                       5.844   Cond. No.                         3.48\n",
       "==============================================================================\n",
       "\n",
       "Notes:\n",
       "[1] Standard Errors assume that the covariance matrix of the errors is correctly specified.\n",
       "\"\"\""
      ]
     },
     "execution_count": 9,
     "metadata": {},
     "output_type": "execute_result"
    }
   ],
   "source": [
    "result.summary()"
   ]
  },
  {
   "cell_type": "markdown",
   "id": "77e5d5e8",
   "metadata": {
    "id": "vm157kOlHNjz"
   },
   "source": [
    "From the table above, we can see for $\\beta{2}$, the t-value is 10.361, and $P>|t|$ is nearly $0$, thus we can say $\\beta{2}$ is statistically significant.\n",
    "\n",
    "We can also calculate t-value by using the formula:"
   ]
  },
  {
   "cell_type": "code",
   "execution_count": 10,
   "id": "faa46d50",
   "metadata": {
    "ExecuteTime": {
     "end_time": "2021-05-28T16:07:44.035761Z",
     "start_time": "2021-05-28T16:07:44.029776Z"
    },
    "colab": {
     "base_uri": "https://localhost:8080/"
    },
    "id": "bj2OVBfmHNj0",
    "outputId": "18b889dc-a2c5-44cd-bf82-fc46b6e19a1f"
   },
   "outputs": [
    {
     "data": {
      "text/plain": [
       "10.349174525454748"
      ]
     },
     "execution_count": 10,
     "metadata": {},
     "output_type": "execute_result"
    }
   ],
   "source": [
    "y = np.array(asset_standard_deviation_list)\n",
    "y_reg = result.params[0] + result.params[1]*np.array(asset_average_return_list)\n",
    "\n",
    "residual_square = (np.square(y-y_reg)).sum()/(len(y)-2)\n",
    "x_variance = np.var(asset_average_return_list)\n",
    "x_error = x_variance*(len(np.array(asset_average_return_list))-1)\n",
    "\n",
    "t = 2.656/(math.sqrt(residual_square/x_error))\n",
    "t"
   ]
  },
  {
   "cell_type": "markdown",
   "id": "9781f37a",
   "metadata": {
    "id": "sGGZzDQKHNj0"
   },
   "source": [
    "$H_{0}$: $\\beta_{2} = 0$\n",
    "\n",
    "$H_{1}$: $\\beta_{2} \\neq 0$\n",
    "\n",
    "Test statistic: $t_{\\beta_{2}}=\\frac{2.656-0}{SE} = \\frac{2.6556-0}{0.2563} = 10.36$ \n",
    "\n",
    "$P-value = 2[1-p(t_{382}\\leq t_{\\beta_{2}})] = 0 < 5\\% $ \n",
    "\n",
    "We should reject the null hypothesis $\\beta_{2}=0 $. \n",
    "\n",
    "$\\beta_{2}=2.656$ is thus statistically significant."
   ]
  },
  {
   "cell_type": "markdown",
   "id": "f256db6d",
   "metadata": {
    "id": "YzWqTcOsHNj0"
   },
   "source": [
    "# II. Linear Regression"
   ]
  },
  {
   "cell_type": "code",
   "execution_count": 11,
   "id": "35544424",
   "metadata": {
    "ExecuteTime": {
     "end_time": "2021-05-28T16:07:44.274155Z",
     "start_time": "2021-05-28T16:07:44.037755Z"
    },
    "id": "DNIBPceDHNj1"
   },
   "outputs": [],
   "source": [
    "url = 'https://raw.githubusercontent.com/adufays/GDP_expectancy/main/life_gdp.csv'\n",
    "s = requests.get(url).content\n",
    "df_2 = pd.read_csv(io.StringIO(s.decode('utf-8')))"
   ]
  },
  {
   "cell_type": "markdown",
   "id": "85e5666d",
   "metadata": {
    "id": "YUWLUQp7HNj1"
   },
   "source": [
    "## 2.1 Scatter plot x-y model"
   ]
  },
  {
   "cell_type": "code",
   "execution_count": 12,
   "id": "051f25ec",
   "metadata": {
    "ExecuteTime": {
     "end_time": "2021-05-28T16:07:44.401385Z",
     "start_time": "2021-05-28T16:07:44.276117Z"
    },
    "colab": {
     "base_uri": "https://localhost:8080/",
     "height": 442
    },
    "id": "DUwt8I9vHNj2",
    "outputId": "ed1cef4d-bcf4-481a-f064-d2ec3323478c"
   },
   "outputs": [
    {
     "data": {
      "image/png": "[encoded data removed]",
      "text/plain": [
       "<Figure size 720x504 with 1 Axes>"
      ]
     },
     "metadata": {
      "needs_background": "light"
     },
     "output_type": "display_data"
    }
   ],
   "source": [
    "plt.scatter(df_2['GDPpcap'], df_2['Life exp.'], c = 'black', s = 5, \n",
    "            alpha = 0.7, label = 'samples')\n",
    "\n",
    "slope, intercept, r_value, p_value, std_err = stats.linregress(df_2['GDPpcap'], \n",
    "                                                               df_2['Life exp.'])\n",
    "\n",
    "x_reg_1= np.linspace(0, 120, 10)\n",
    "y_reg_1 = intercept + slope*x_reg_1\n",
    "plt.plot(x_reg_1, y_reg_1, label = 'regression')\n",
    "\n",
    "plt.grid()\n",
    "plt.legend(fontsize = 14)\n",
    "plt.xlabel('GDP per cap')\n",
    "plt.ylabel('Life expectancy')\n",
    "plt.rcParams['figure.figsize'] = (10.0, 7.0)\n",
    "plt.show()"
   ]
  },
  {
   "cell_type": "markdown",
   "id": "870db22b",
   "metadata": {
    "id": "7hLy3Q0jHNj2"
   },
   "source": [
    "## 2.2 Scatter plot logx-y model"
   ]
  },
  {
   "cell_type": "code",
   "execution_count": 13,
   "id": "c42293c0",
   "metadata": {
    "ExecuteTime": {
     "end_time": "2021-05-28T16:07:44.406371Z",
     "start_time": "2021-05-28T16:07:44.402390Z"
    },
    "id": "sZfik4bVHNj2"
   },
   "outputs": [],
   "source": [
    "life_exp_list = np.array(df_2['Life exp.'])\n",
    "GDP_list = np.array(df_2['GDPpcap'])\n",
    "GDP_list_log = np.log(GDP_list)"
   ]
  },
  {
   "cell_type": "code",
   "execution_count": 14,
   "id": "0c38e90f",
   "metadata": {
    "ExecuteTime": {
     "end_time": "2021-05-28T16:07:44.527016Z",
     "start_time": "2021-05-28T16:07:44.407380Z"
    },
    "colab": {
     "base_uri": "https://localhost:8080/",
     "height": 442
    },
    "id": "zMDRUllsHNj3",
    "outputId": "955660e8-2eb6-4c19-9d15-d6ce5bc37026"
   },
   "outputs": [
    {
     "data": {
      "image/png": "[encoded data removed]",
      "text/plain": [
       "<Figure size 720x504 with 1 Axes>"
      ]
     },
     "metadata": {
      "needs_background": "light"
     },
     "output_type": "display_data"
    }
   ],
   "source": [
    "plt.scatter(GDP_list_log, life_exp_list, c = 'black', s = 5, \n",
    "            alpha = 0.7, label = 'samples')\n",
    "\n",
    "slope, intercept, r_value, p_value, std_err = stats.linregress(GDP_list_log, \n",
    "                                                               life_exp_list)\n",
    "\n",
    "x_reg_2= np.linspace(-1, 5, 10)\n",
    "y_reg_2 = intercept + slope*x_reg_2\n",
    "plt.plot(x_reg_2, y_reg_2, label = 'regression')\n",
    "\n",
    "plt.grid()\n",
    "plt.legend(fontsize = 14)\n",
    "plt.rcParams['figure.figsize'] = (10.0, 7.0)\n",
    "\n",
    "plt.xlabel('log GDP per cap')\n",
    "plt.ylabel('Life expectancy')\n",
    "plt.show()"
   ]
  },
  {
   "cell_type": "markdown",
   "id": "d1ed5b7c",
   "metadata": {
    "id": "H7Sh5xafHNj3"
   },
   "source": [
    "## 2.3 Coefficient of determination"
   ]
  },
  {
   "cell_type": "markdown",
   "id": "ca5cd7ad",
   "metadata": {
    "id": "MWQs9tNUHNj3"
   },
   "source": [
    "### x-y model"
   ]
  },
  {
   "cell_type": "code",
   "execution_count": 15,
   "id": "146ddf43",
   "metadata": {
    "ExecuteTime": {
     "end_time": "2021-05-28T16:07:45.363780Z",
     "start_time": "2021-05-28T16:07:45.359790Z"
    },
    "id": "TLhzg681HNj3"
   },
   "outputs": [],
   "source": [
    "x = np.array(df_2['GDPpcap'])\n",
    "y = np.array(df_2['Life exp.'])\n",
    "\n",
    "x_model = sm.add_constant(x)\n",
    "y_model = y\n",
    "model_2 = sm.OLS(y_model, x_model)\n",
    "result_2 = model_2.fit()"
   ]
  },
  {
   "cell_type": "code",
   "execution_count": 16,
   "id": "09fee4ee",
   "metadata": {
    "ExecuteTime": {
     "end_time": "2021-05-28T16:07:45.425614Z",
     "start_time": "2021-05-28T16:07:45.420627Z"
    },
    "colab": {
     "base_uri": "https://localhost:8080/"
    },
    "id": "R4DLRLW5HNj4",
    "outputId": "d20c012e-38a4-4ae6-bc74-2d1dee96d3e0"
   },
   "outputs": [
    {
     "data": {
      "text/plain": [
       "array([67.51367284,  0.24932456])"
      ]
     },
     "execution_count": 16,
     "metadata": {},
     "output_type": "execute_result"
    }
   ],
   "source": [
    "result_2.params"
   ]
  },
  {
   "cell_type": "code",
   "execution_count": 17,
   "id": "6077e39d",
   "metadata": {
    "ExecuteTime": {
     "end_time": "2021-05-28T16:07:45.439578Z",
     "start_time": "2021-05-28T16:07:45.426611Z"
    },
    "colab": {
     "base_uri": "https://localhost:8080/",
     "height": 444
    },
    "id": "iyljOLtfHNj4",
    "outputId": "85702650-6286-415e-a166-bf9bec0c8677"
   },
   "outputs": [
    {
     "data": {
      "text/html": [
       "<table class=\"simpletable\">\n",
       "<caption>OLS Regression Results</caption>\n",
       "<tr>\n",
       "  <th>Dep. Variable:</th>            <td>y</td>        <th>  R-squared:         </th> <td>   0.442</td>\n",
       "</tr>\n",
       "<tr>\n",
       "  <th>Model:</th>                   <td>OLS</td>       <th>  Adj. R-squared:    </th> <td>   0.439</td>\n",
       "</tr>\n",
       "<tr>\n",
       "  <th>Method:</th>             <td>Least Squares</td>  <th>  F-statistic:       </th> <td>   142.4</td>\n",
       "</tr>\n",
       "<tr>\n",
       "  <th>Date:</th>             <td>Fri, 28 May 2021</td> <th>  Prob (F-statistic):</th> <td>1.47e-24</td>\n",
       "</tr>\n",
       "<tr>\n",
       "  <th>Time:</th>                 <td>18:07:45</td>     <th>  Log-Likelihood:    </th> <td> -574.97</td>\n",
       "</tr>\n",
       "<tr>\n",
       "  <th>No. Observations:</th>      <td>   182</td>      <th>  AIC:               </th> <td>   1154.</td>\n",
       "</tr>\n",
       "<tr>\n",
       "  <th>Df Residuals:</th>          <td>   180</td>      <th>  BIC:               </th> <td>   1160.</td>\n",
       "</tr>\n",
       "<tr>\n",
       "  <th>Df Model:</th>              <td>     1</td>      <th>                     </th>     <td> </td>   \n",
       "</tr>\n",
       "<tr>\n",
       "  <th>Covariance Type:</th>      <td>nonrobust</td>    <th>                     </th>     <td> </td>   \n",
       "</tr>\n",
       "</table>\n",
       "<table class=\"simpletable\">\n",
       "<tr>\n",
       "    <td></td>       <th>coef</th>     <th>std err</th>      <th>t</th>      <th>P>|t|</th>  <th>[0.025</th>    <th>0.975]</th>  \n",
       "</tr>\n",
       "<tr>\n",
       "  <th>const</th> <td>   67.5137</td> <td>    0.585</td> <td>  115.478</td> <td> 0.000</td> <td>   66.360</td> <td>   68.667</td>\n",
       "</tr>\n",
       "<tr>\n",
       "  <th>x1</th>    <td>    0.2493</td> <td>    0.021</td> <td>   11.933</td> <td> 0.000</td> <td>    0.208</td> <td>    0.291</td>\n",
       "</tr>\n",
       "</table>\n",
       "<table class=\"simpletable\">\n",
       "<tr>\n",
       "  <th>Omnibus:</th>       <td>22.094</td> <th>  Durbin-Watson:     </th> <td>   2.006</td>\n",
       "</tr>\n",
       "<tr>\n",
       "  <th>Prob(Omnibus):</th> <td> 0.000</td> <th>  Jarque-Bera (JB):  </th> <td>  26.566</td>\n",
       "</tr>\n",
       "<tr>\n",
       "  <th>Skew:</th>          <td>-0.925</td> <th>  Prob(JB):          </th> <td>1.70e-06</td>\n",
       "</tr>\n",
       "<tr>\n",
       "  <th>Kurtosis:</th>      <td> 3.285</td> <th>  Cond. No.          </th> <td>    38.5</td>\n",
       "</tr>\n",
       "</table><br/><br/>Notes:<br/>[1] Standard Errors assume that the covariance matrix of the errors is correctly specified."
      ],
      "text/plain": [
       "<class 'statsmodels.iolib.summary.Summary'>\n",
       "\"\"\"\n",
       "                            OLS Regression Results                            \n",
       "==============================================================================\n",
       "Dep. Variable:                      y   R-squared:                       0.442\n",
       "Model:                            OLS   Adj. R-squared:                  0.439\n",
       "Method:                 Least Squares   F-statistic:                     142.4\n",
       "Date:                Fri, 28 May 2021   Prob (F-statistic):           1.47e-24\n",
       "Time:                        18:07:45   Log-Likelihood:                -574.97\n",
       "No. Observations:                 182   AIC:                             1154.\n",
       "Df Residuals:                     180   BIC:                             1160.\n",
       "Df Model:                           1                                         \n",
       "Covariance Type:            nonrobust                                         \n",
       "==============================================================================\n",
       "                 coef    std err          t      P>|t|      [0.025      0.975]\n",
       "------------------------------------------------------------------------------\n",
       "const         67.5137      0.585    115.478      0.000      66.360      68.667\n",
       "x1             0.2493      0.021     11.933      0.000       0.208       0.291\n",
       "==============================================================================\n",
       "Omnibus:                       22.094   Durbin-Watson:                   2.006\n",
       "Prob(Omnibus):                  0.000   Jarque-Bera (JB):               26.566\n",
       "Skew:                          -0.925   Prob(JB):                     1.70e-06\n",
       "Kurtosis:                       3.285   Cond. No.                         38.5\n",
       "==============================================================================\n",
       "\n",
       "Notes:\n",
       "[1] Standard Errors assume that the covariance matrix of the errors is correctly specified.\n",
       "\"\"\""
      ]
     },
     "execution_count": 17,
     "metadata": {},
     "output_type": "execute_result"
    }
   ],
   "source": [
    "result_2.summary()"
   ]
  },
  {
   "cell_type": "markdown",
   "id": "cdc308f3",
   "metadata": {
    "ExecuteTime": {
     "end_time": "2021-05-20T00:15:57.789639Z",
     "start_time": "2021-05-20T00:15:57.779674Z"
    },
    "id": "IsKwEeqhHNj5"
   },
   "source": [
    "The adjusted coefficient of determination for x-y model $R^2_{x}$ is $0.439$"
   ]
  },
  {
   "cell_type": "markdown",
   "id": "1e2b7a64",
   "metadata": {
    "id": "1Twig_HvHNj5"
   },
   "source": [
    "### lnx-y model"
   ]
  },
  {
   "cell_type": "code",
   "execution_count": 18,
   "id": "e2ba89f0",
   "metadata": {
    "ExecuteTime": {
     "end_time": "2021-05-28T16:07:45.446558Z",
     "start_time": "2021-05-28T16:07:45.440574Z"
    },
    "id": "zSoHiWVWHNj5"
   },
   "outputs": [],
   "source": [
    "x_model = sm.add_constant(GDP_list_log)\n",
    "y_model = life_exp_list\n",
    "model_3 = sm.OLS(y_model, x_model)\n",
    "result_3 = model_3.fit()"
   ]
  },
  {
   "cell_type": "code",
   "execution_count": 19,
   "id": "c2c0c0a8",
   "metadata": {
    "ExecuteTime": {
     "end_time": "2021-05-28T16:07:45.453566Z",
     "start_time": "2021-05-28T16:07:45.447556Z"
    },
    "colab": {
     "base_uri": "https://localhost:8080/"
    },
    "id": "Vgk1w8lXHNj6",
    "outputId": "6e9ac0aa-5be7-484e-f215-e37d721c1dd2"
   },
   "outputs": [
    {
     "data": {
      "text/plain": [
       "array([59.65932948,  5.33364812])"
      ]
     },
     "execution_count": 19,
     "metadata": {},
     "output_type": "execute_result"
    }
   ],
   "source": [
    "result_3.params"
   ]
  },
  {
   "cell_type": "code",
   "execution_count": 20,
   "id": "99d1377b",
   "metadata": {
    "ExecuteTime": {
     "end_time": "2021-05-28T16:07:45.468523Z",
     "start_time": "2021-05-28T16:07:45.454536Z"
    },
    "colab": {
     "base_uri": "https://localhost:8080/",
     "height": 444
    },
    "id": "QrjGlIj6HNj6",
    "outputId": "9918ba96-a1bc-4d7d-bdc5-703e0769f099"
   },
   "outputs": [
    {
     "data": {
      "text/html": [
       "<table class=\"simpletable\">\n",
       "<caption>OLS Regression Results</caption>\n",
       "<tr>\n",
       "  <th>Dep. Variable:</th>            <td>y</td>        <th>  R-squared:         </th> <td>   0.680</td>\n",
       "</tr>\n",
       "<tr>\n",
       "  <th>Model:</th>                   <td>OLS</td>       <th>  Adj. R-squared:    </th> <td>   0.678</td>\n",
       "</tr>\n",
       "<tr>\n",
       "  <th>Method:</th>             <td>Least Squares</td>  <th>  F-statistic:       </th> <td>   382.8</td>\n",
       "</tr>\n",
       "<tr>\n",
       "  <th>Date:</th>             <td>Fri, 28 May 2021</td> <th>  Prob (F-statistic):</th> <td>2.00e-46</td>\n",
       "</tr>\n",
       "<tr>\n",
       "  <th>Time:</th>                 <td>18:07:45</td>     <th>  Log-Likelihood:    </th> <td> -524.28</td>\n",
       "</tr>\n",
       "<tr>\n",
       "  <th>No. Observations:</th>      <td>   182</td>      <th>  AIC:               </th> <td>   1053.</td>\n",
       "</tr>\n",
       "<tr>\n",
       "  <th>Df Residuals:</th>          <td>   180</td>      <th>  BIC:               </th> <td>   1059.</td>\n",
       "</tr>\n",
       "<tr>\n",
       "  <th>Df Model:</th>              <td>     1</td>      <th>                     </th>     <td> </td>   \n",
       "</tr>\n",
       "<tr>\n",
       "  <th>Covariance Type:</th>      <td>nonrobust</td>    <th>                     </th>     <td> </td>   \n",
       "</tr>\n",
       "</table>\n",
       "<table class=\"simpletable\">\n",
       "<tr>\n",
       "    <td></td>       <th>coef</th>     <th>std err</th>      <th>t</th>      <th>P>|t|</th>  <th>[0.025</th>    <th>0.975]</th>  \n",
       "</tr>\n",
       "<tr>\n",
       "  <th>const</th> <td>   59.6593</td> <td>    0.722</td> <td>   82.628</td> <td> 0.000</td> <td>   58.235</td> <td>   61.084</td>\n",
       "</tr>\n",
       "<tr>\n",
       "  <th>x1</th>    <td>    5.3336</td> <td>    0.273</td> <td>   19.565</td> <td> 0.000</td> <td>    4.796</td> <td>    5.872</td>\n",
       "</tr>\n",
       "</table>\n",
       "<table class=\"simpletable\">\n",
       "<tr>\n",
       "  <th>Omnibus:</th>       <td>40.029</td> <th>  Durbin-Watson:     </th> <td>   2.238</td>\n",
       "</tr>\n",
       "<tr>\n",
       "  <th>Prob(Omnibus):</th> <td> 0.000</td> <th>  Jarque-Bera (JB):  </th> <td>  68.168</td>\n",
       "</tr>\n",
       "<tr>\n",
       "  <th>Skew:</th>          <td>-1.116</td> <th>  Prob(JB):          </th> <td>1.58e-15</td>\n",
       "</tr>\n",
       "<tr>\n",
       "  <th>Kurtosis:</th>      <td> 5.002</td> <th>  Cond. No.          </th> <td>    6.65</td>\n",
       "</tr>\n",
       "</table><br/><br/>Notes:<br/>[1] Standard Errors assume that the covariance matrix of the errors is correctly specified."
      ],
      "text/plain": [
       "<class 'statsmodels.iolib.summary.Summary'>\n",
       "\"\"\"\n",
       "                            OLS Regression Results                            \n",
       "==============================================================================\n",
       "Dep. Variable:                      y   R-squared:                       0.680\n",
       "Model:                            OLS   Adj. R-squared:                  0.678\n",
       "Method:                 Least Squares   F-statistic:                     382.8\n",
       "Date:                Fri, 28 May 2021   Prob (F-statistic):           2.00e-46\n",
       "Time:                        18:07:45   Log-Likelihood:                -524.28\n",
       "No. Observations:                 182   AIC:                             1053.\n",
       "Df Residuals:                     180   BIC:                             1059.\n",
       "Df Model:                           1                                         \n",
       "Covariance Type:            nonrobust                                         \n",
       "==============================================================================\n",
       "                 coef    std err          t      P>|t|      [0.025      0.975]\n",
       "------------------------------------------------------------------------------\n",
       "const         59.6593      0.722     82.628      0.000      58.235      61.084\n",
       "x1             5.3336      0.273     19.565      0.000       4.796       5.872\n",
       "==============================================================================\n",
       "Omnibus:                       40.029   Durbin-Watson:                   2.238\n",
       "Prob(Omnibus):                  0.000   Jarque-Bera (JB):               68.168\n",
       "Skew:                          -1.116   Prob(JB):                     1.58e-15\n",
       "Kurtosis:                       5.002   Cond. No.                         6.65\n",
       "==============================================================================\n",
       "\n",
       "Notes:\n",
       "[1] Standard Errors assume that the covariance matrix of the errors is correctly specified.\n",
       "\"\"\""
      ]
     },
     "execution_count": 20,
     "metadata": {},
     "output_type": "execute_result"
    }
   ],
   "source": [
    "result_3.summary()"
   ]
  },
  {
   "cell_type": "markdown",
   "id": "62486f54",
   "metadata": {
    "id": "lQUBCJlkHNj6"
   },
   "source": [
    "The adjusted coefficient of determination for lnx-y model $R^2_{lnx}$ is $0.678$"
   ]
  },
  {
   "cell_type": "markdown",
   "id": "0d50100a",
   "metadata": {
    "id": "XEOzHghiHNj6"
   },
   "source": [
    "### Conclusion"
   ]
  },
  {
   "cell_type": "markdown",
   "id": "2b2b806b",
   "metadata": {
    "id": "Z79OrWT4HNj7"
   },
   "source": [
    "Here we have $R^2_{x} = 0.439$ and $R^2_{lnx} = 0.678$. With x-y model, we improve the fit by 43.9% compared to the sample average, and we improve the fit by 67.8% with the lnx-y model. \n",
    "\n",
    "It's clear that the lnx-y model performs better. Since GDP has a long-tailed distribution (right skewed), the logarithmic transformation on GDP(x variable) reduces or removes the skewness of our original data, creating the desired asymptotic association between input (X variable )and target (Y variable) on the original input scale.\n",
    "\n",
    "Besides, we can infer from the scatter plot that the lnx-y model has smaller error."
   ]
  },
  {
   "cell_type": "markdown",
   "id": "aacb0c5c",
   "metadata": {
    "id": "fAUN2mFWHNj8"
   },
   "source": [
    "## 2.4 Empirical correlation between the log of GDP and life expectancy"
   ]
  },
  {
   "cell_type": "markdown",
   "id": "7e5c9eb0",
   "metadata": {
    "id": "4DV0169oHNj8"
   },
   "source": [
    "The correlation coefficient is:"
   ]
  },
  {
   "cell_type": "code",
   "execution_count": 21,
   "id": "cc335967",
   "metadata": {
    "ExecuteTime": {
     "end_time": "2021-05-28T16:07:45.475505Z",
     "start_time": "2021-05-28T16:07:45.469520Z"
    },
    "colab": {
     "base_uri": "https://localhost:8080/"
    },
    "id": "MbEQbPBeHNj8",
    "outputId": "3ee054c0-5b1e-494c-83c8-97647afb09c5"
   },
   "outputs": [
    {
     "name": "stdout",
     "output_type": "stream",
     "text": [
      "The  empirical correlation is: 0.8247155249526711\n",
      "The squared empirical correlation is: 0.6801556970979599\n",
      "The coefficient of determination for lnx-y model is:  0.6801556970979601\n"
     ]
    }
   ],
   "source": [
    "fanx = np.array(df_2['GDPpcap'])\n",
    "x_1 = np.log(x)\n",
    "y = np.array(df_2['Life exp.'])\n",
    "cor = np.vstack((x_1, y))\n",
    "print('The  empirical correlation is:', (np.corrcoef(cor)[0][1]))\n",
    "print('The squared empirical correlation is:', (np.corrcoef(cor)[0][1])**2)\n",
    "print('The coefficient of determination for lnx-y model is: ', result_3.rsquared)"
   ]
  },
  {
   "cell_type": "markdown",
   "id": "cdc325c3",
   "metadata": {
    "id": "3ikQPSh1y82h"
   },
   "source": [
    "The coefficient of determination is equal to the square of the empirical correlation. "
   ]
  },
  {
   "cell_type": "markdown",
   "id": "fdb588d1",
   "metadata": {
    "id": "E4bZPjSaHNj9"
   },
   "source": [
    "# III. Generating spurious correlation"
   ]
  },
  {
   "cell_type": "code",
   "execution_count": 22,
   "id": "b6569c7c",
   "metadata": {
    "ExecuteTime": {
     "end_time": "2021-05-28T16:07:45.663010Z",
     "start_time": "2021-05-28T16:07:45.476479Z"
    },
    "colab": {
     "base_uri": "https://localhost:8080/",
     "height": 419
    },
    "id": "k6oCFxqNHNj9",
    "outputId": "96314bbc-cab1-432c-a82f-81d48bd1d4f0"
   },
   "outputs": [
    {
     "data": {
      "text/html": [
       "<div>\n",
       "<style scoped>\n",
       "    .dataframe tbody tr th:only-of-type {\n",
       "        vertical-align: middle;\n",
       "    }\n",
       "\n",
       "    .dataframe tbody tr th {\n",
       "        vertical-align: top;\n",
       "    }\n",
       "\n",
       "    .dataframe thead th {\n",
       "        text-align: right;\n",
       "    }\n",
       "</style>\n",
       "<table border=\"1\" class=\"dataframe\">\n",
       "  <thead>\n",
       "    <tr style=\"text-align: right;\">\n",
       "      <th></th>\n",
       "      <th>Date</th>\n",
       "      <th>Apple returns</th>\n",
       "      <th>Russell returns</th>\n",
       "    </tr>\n",
       "  </thead>\n",
       "  <tbody>\n",
       "    <tr>\n",
       "      <th>0</th>\n",
       "      <td>2016-04-25</td>\n",
       "      <td>-11.989084</td>\n",
       "      <td>-1.260337</td>\n",
       "    </tr>\n",
       "    <tr>\n",
       "      <th>1</th>\n",
       "      <td>2016-05-02</td>\n",
       "      <td>-1.094085</td>\n",
       "      <td>-0.561795</td>\n",
       "    </tr>\n",
       "    <tr>\n",
       "      <th>2</th>\n",
       "      <td>2016-05-09</td>\n",
       "      <td>-1.794334</td>\n",
       "      <td>-0.581591</td>\n",
       "    </tr>\n",
       "    <tr>\n",
       "      <th>3</th>\n",
       "      <td>2016-05-16</td>\n",
       "      <td>5.061906</td>\n",
       "      <td>0.377336</td>\n",
       "    </tr>\n",
       "    <tr>\n",
       "      <th>4</th>\n",
       "      <td>2016-05-23</td>\n",
       "      <td>5.247411</td>\n",
       "      <td>2.334956</td>\n",
       "    </tr>\n",
       "    <tr>\n",
       "      <th>...</th>\n",
       "      <td>...</td>\n",
       "      <td>...</td>\n",
       "      <td>...</td>\n",
       "    </tr>\n",
       "    <tr>\n",
       "      <th>257</th>\n",
       "      <td>2021-03-29</td>\n",
       "      <td>1.465979</td>\n",
       "      <td>1.245510</td>\n",
       "    </tr>\n",
       "    <tr>\n",
       "      <th>258</th>\n",
       "      <td>2021-04-05</td>\n",
       "      <td>7.816477</td>\n",
       "      <td>2.372223</td>\n",
       "    </tr>\n",
       "    <tr>\n",
       "      <th>259</th>\n",
       "      <td>2021-04-12</td>\n",
       "      <td>0.868402</td>\n",
       "      <td>1.428772</td>\n",
       "    </tr>\n",
       "    <tr>\n",
       "      <th>260</th>\n",
       "      <td>2021-04-19</td>\n",
       "      <td>0.505571</td>\n",
       "      <td>-0.641943</td>\n",
       "    </tr>\n",
       "    <tr>\n",
       "      <th>261</th>\n",
       "      <td>2021-04-19</td>\n",
       "      <td>0.074139</td>\n",
       "      <td>-0.000118</td>\n",
       "    </tr>\n",
       "  </tbody>\n",
       "</table>\n",
       "<p>262 rows × 3 columns</p>\n",
       "</div>"
      ],
      "text/plain": [
       "           Date  Apple returns  Russell returns\n",
       "0    2016-04-25     -11.989084        -1.260337\n",
       "1    2016-05-02      -1.094085        -0.561795\n",
       "2    2016-05-09      -1.794334        -0.581591\n",
       "3    2016-05-16       5.061906         0.377336\n",
       "4    2016-05-23       5.247411         2.334956\n",
       "..          ...            ...              ...\n",
       "257  2021-03-29       1.465979         1.245510\n",
       "258  2021-04-05       7.816477         2.372223\n",
       "259  2021-04-12       0.868402         1.428772\n",
       "260  2021-04-19       0.505571        -0.641943\n",
       "261  2021-04-19       0.074139        -0.000118\n",
       "\n",
       "[262 rows x 3 columns]"
      ]
     },
     "execution_count": 22,
     "metadata": {},
     "output_type": "execute_result"
    }
   ],
   "source": [
    "url = 'https://raw.githubusercontent.com/adufays/GDP_expectancy/main/Appl_Russell.csv'\n",
    "s = requests.get(url).content\n",
    "df_3 = pd.read_csv(io.StringIO(s.decode('utf-8')))\n",
    "df_3 = df_3.drop('Unnamed: 0', axis = 1)\n",
    "df_3"
   ]
  },
  {
   "cell_type": "code",
   "execution_count": 23,
   "id": "c05b4ad6",
   "metadata": {
    "ExecuteTime": {
     "end_time": "2021-05-28T16:07:45.798616Z",
     "start_time": "2021-05-28T16:07:45.663976Z"
    },
    "colab": {
     "base_uri": "https://localhost:8080/",
     "height": 459
    },
    "id": "2ka6cESTHNj-",
    "outputId": "c1e8e7b9-37f2-4cfc-f03f-b44fdc4a2f2d"
   },
   "outputs": [
    {
     "data": {
      "text/plain": [
       "<AxesSubplot:xlabel='Date'>"
      ]
     },
     "execution_count": 23,
     "metadata": {},
     "output_type": "execute_result"
    },
    {
     "data": {
      "image/png": "[encoded data removed]",
      "text/plain": [
       "<Figure size 720x504 with 1 Axes>"
      ]
     },
     "metadata": {
      "needs_background": "light"
     },
     "output_type": "display_data"
    }
   ],
   "source": [
    "df_4 = df_3.set_index('Date')\n",
    "df_4.plot()"
   ]
  },
  {
   "cell_type": "markdown",
   "id": "83f81b93",
   "metadata": {
    "id": "Hkol9HbhGK7b"
   },
   "source": [
    "## 3.1 Generate explanatory variables from Normal Distribution"
   ]
  },
  {
   "cell_type": "code",
   "execution_count": 24,
   "id": "feee8088",
   "metadata": {
    "ExecuteTime": {
     "end_time": "2021-05-28T16:07:46.112812Z",
     "start_time": "2021-05-28T16:07:45.799664Z"
    },
    "colab": {
     "base_uri": "https://localhost:8080/",
     "height": 439
    },
    "id": "fBYRL0p7HNj-",
    "outputId": "be90d670-c8de-48ce-86c3-78a571e5e5d0"
   },
   "outputs": [
    {
     "data": {
      "text/html": [
       "<div>\n",
       "<style scoped>\n",
       "    .dataframe tbody tr th:only-of-type {\n",
       "        vertical-align: middle;\n",
       "    }\n",
       "\n",
       "    .dataframe tbody tr th {\n",
       "        vertical-align: top;\n",
       "    }\n",
       "\n",
       "    .dataframe thead th {\n",
       "        text-align: right;\n",
       "    }\n",
       "</style>\n",
       "<table border=\"1\" class=\"dataframe\">\n",
       "  <thead>\n",
       "    <tr style=\"text-align: right;\">\n",
       "      <th></th>\n",
       "      <th>0</th>\n",
       "      <th>1</th>\n",
       "      <th>2</th>\n",
       "      <th>3</th>\n",
       "      <th>4</th>\n",
       "      <th>5</th>\n",
       "      <th>6</th>\n",
       "    </tr>\n",
       "  </thead>\n",
       "  <tbody>\n",
       "    <tr>\n",
       "      <th>0</th>\n",
       "      <td>1.297910</td>\n",
       "      <td>0.804206</td>\n",
       "      <td>-1.103979</td>\n",
       "      <td>-0.068985</td>\n",
       "      <td>-0.415247</td>\n",
       "      <td>-0.368813</td>\n",
       "      <td>-1.151460</td>\n",
       "    </tr>\n",
       "    <tr>\n",
       "      <th>1</th>\n",
       "      <td>0.949897</td>\n",
       "      <td>-0.141375</td>\n",
       "      <td>-0.871852</td>\n",
       "      <td>1.291526</td>\n",
       "      <td>0.419458</td>\n",
       "      <td>-0.498054</td>\n",
       "      <td>-0.174098</td>\n",
       "    </tr>\n",
       "    <tr>\n",
       "      <th>2</th>\n",
       "      <td>1.216040</td>\n",
       "      <td>-0.263023</td>\n",
       "      <td>-0.141120</td>\n",
       "      <td>-1.244212</td>\n",
       "      <td>-1.805208</td>\n",
       "      <td>1.005682</td>\n",
       "      <td>0.454859</td>\n",
       "    </tr>\n",
       "    <tr>\n",
       "      <th>3</th>\n",
       "      <td>0.692110</td>\n",
       "      <td>-0.069647</td>\n",
       "      <td>-0.749674</td>\n",
       "      <td>0.270932</td>\n",
       "      <td>1.760037</td>\n",
       "      <td>-0.773310</td>\n",
       "      <td>1.254317</td>\n",
       "    </tr>\n",
       "    <tr>\n",
       "      <th>4</th>\n",
       "      <td>1.032070</td>\n",
       "      <td>0.277932</td>\n",
       "      <td>0.274575</td>\n",
       "      <td>1.272772</td>\n",
       "      <td>-0.416011</td>\n",
       "      <td>1.425553</td>\n",
       "      <td>-1.010408</td>\n",
       "    </tr>\n",
       "    <tr>\n",
       "      <th>...</th>\n",
       "      <td>...</td>\n",
       "      <td>...</td>\n",
       "      <td>...</td>\n",
       "      <td>...</td>\n",
       "      <td>...</td>\n",
       "      <td>...</td>\n",
       "      <td>...</td>\n",
       "    </tr>\n",
       "    <tr>\n",
       "      <th>257</th>\n",
       "      <td>-0.782331</td>\n",
       "      <td>-1.363049</td>\n",
       "      <td>0.971107</td>\n",
       "      <td>-0.159323</td>\n",
       "      <td>0.676408</td>\n",
       "      <td>-0.945307</td>\n",
       "      <td>-0.601152</td>\n",
       "    </tr>\n",
       "    <tr>\n",
       "      <th>258</th>\n",
       "      <td>-0.557416</td>\n",
       "      <td>0.606416</td>\n",
       "      <td>1.174797</td>\n",
       "      <td>0.120092</td>\n",
       "      <td>-0.875927</td>\n",
       "      <td>0.722186</td>\n",
       "      <td>-0.542585</td>\n",
       "    </tr>\n",
       "    <tr>\n",
       "      <th>259</th>\n",
       "      <td>-1.240483</td>\n",
       "      <td>0.434995</td>\n",
       "      <td>0.636910</td>\n",
       "      <td>1.106097</td>\n",
       "      <td>-1.190532</td>\n",
       "      <td>-0.411126</td>\n",
       "      <td>0.029605</td>\n",
       "    </tr>\n",
       "    <tr>\n",
       "      <th>260</th>\n",
       "      <td>2.497227</td>\n",
       "      <td>-1.754366</td>\n",
       "      <td>-0.786905</td>\n",
       "      <td>-0.505423</td>\n",
       "      <td>0.352118</td>\n",
       "      <td>-1.304097</td>\n",
       "      <td>0.417685</td>\n",
       "    </tr>\n",
       "    <tr>\n",
       "      <th>261</th>\n",
       "      <td>0.639011</td>\n",
       "      <td>0.809549</td>\n",
       "      <td>1.469021</td>\n",
       "      <td>-1.084726</td>\n",
       "      <td>-0.934225</td>\n",
       "      <td>1.164064</td>\n",
       "      <td>-0.631074</td>\n",
       "    </tr>\n",
       "  </tbody>\n",
       "</table>\n",
       "<p>262 rows × 7 columns</p>\n",
       "</div>"
      ],
      "text/plain": [
       "            0         1         2         3         4         5         6\n",
       "0    1.297910  0.804206 -1.103979 -0.068985 -0.415247 -0.368813 -1.151460\n",
       "1    0.949897 -0.141375 -0.871852  1.291526  0.419458 -0.498054 -0.174098\n",
       "2    1.216040 -0.263023 -0.141120 -1.244212 -1.805208  1.005682  0.454859\n",
       "3    0.692110 -0.069647 -0.749674  0.270932  1.760037 -0.773310  1.254317\n",
       "4    1.032070  0.277932  0.274575  1.272772 -0.416011  1.425553 -1.010408\n",
       "..        ...       ...       ...       ...       ...       ...       ...\n",
       "257 -0.782331 -1.363049  0.971107 -0.159323  0.676408 -0.945307 -0.601152\n",
       "258 -0.557416  0.606416  1.174797  0.120092 -0.875927  0.722186 -0.542585\n",
       "259 -1.240483  0.434995  0.636910  1.106097 -1.190532 -0.411126  0.029605\n",
       "260  2.497227 -1.754366 -0.786905 -0.505423  0.352118 -1.304097  0.417685\n",
       "261  0.639011  0.809549  1.469021 -1.084726 -0.934225  1.164064 -0.631074\n",
       "\n",
       "[262 rows x 7 columns]"
      ]
     },
     "execution_count": 24,
     "metadata": {},
     "output_type": "execute_result"
    }
   ],
   "source": [
    "df_explanVar = pd.DataFrame()\n",
    "for i in range(1000):\n",
    "    df_explanVar[i] = norm.rvs(size=262, loc=0, scale=1)\n",
    "df_explanVar.iloc[:, :7]"
   ]
  },
  {
   "cell_type": "markdown",
   "id": "2e976707",
   "metadata": {
    "id": "jh_JoYRFIrck"
   },
   "source": [
    "Now we have 1000 explanatory variables of size 262"
   ]
  },
  {
   "cell_type": "markdown",
   "id": "8f71be35",
   "metadata": {
    "id": "IcLv_4WNI0jz"
   },
   "source": [
    "## 3.2 Test statistics"
   ]
  },
  {
   "cell_type": "code",
   "execution_count": 25,
   "id": "50ff66e9",
   "metadata": {
    "ExecuteTime": {
     "end_time": "2021-05-28T16:07:46.807919Z",
     "start_time": "2021-05-28T16:07:46.803930Z"
    },
    "id": "E9VLLnEB-tTt"
   },
   "outputs": [],
   "source": [
    "y_model_1 = df_3['Apple returns']\n",
    "test_statistics = []\n",
    "x_for_plot = []\n",
    "beta1 = []\n",
    "beta2 = []\n",
    "p_value_lst = []\n",
    "std_err_lst = []"
   ]
  },
  {
   "cell_type": "code",
   "execution_count": 26,
   "id": "f86a8ebe",
   "metadata": {
    "ExecuteTime": {
     "end_time": "2021-05-28T16:07:47.178958Z",
     "start_time": "2021-05-28T16:07:46.886706Z"
    },
    "id": "0BI3Iz3w-IAc"
   },
   "outputs": [],
   "source": [
    "for i in range(1000):\n",
    "  x_model = df_explanVar.iloc[:,i]\n",
    "  slope, intercept, r_value, p_value, std_err = stats.linregress(x_model, \n",
    "                                                                 y_model_1)\n",
    "  \n",
    "  x_for_plot.append(i)\n",
    "  test_statistics.append(slope/std_err)\n",
    "  beta1.append(intercept)\n",
    "  beta2.append(slope)\n",
    "  p_value_lst.append(p_value)\n",
    "  std_err_lst.append(std_err)"
   ]
  },
  {
   "cell_type": "code",
   "execution_count": 27,
   "id": "df8761f4",
   "metadata": {
    "ExecuteTime": {
     "end_time": "2021-05-28T16:07:47.269718Z",
     "start_time": "2021-05-28T16:07:47.256746Z"
    },
    "colab": {
     "base_uri": "https://localhost:8080/",
     "height": 419
    },
    "id": "UDUQktMr87rr",
    "outputId": "eaafaec7-4e74-4b11-8e29-35400281ffc6"
   },
   "outputs": [
    {
     "data": {
      "text/html": [
       "<div>\n",
       "<style scoped>\n",
       "    .dataframe tbody tr th:only-of-type {\n",
       "        vertical-align: middle;\n",
       "    }\n",
       "\n",
       "    .dataframe tbody tr th {\n",
       "        vertical-align: top;\n",
       "    }\n",
       "\n",
       "    .dataframe thead th {\n",
       "        text-align: right;\n",
       "    }\n",
       "</style>\n",
       "<table border=\"1\" class=\"dataframe\">\n",
       "  <thead>\n",
       "    <tr style=\"text-align: right;\">\n",
       "      <th></th>\n",
       "      <th>intercept</th>\n",
       "      <th>slope</th>\n",
       "      <th>test-statistics</th>\n",
       "      <th>p-value</th>\n",
       "      <th>std err</th>\n",
       "    </tr>\n",
       "  </thead>\n",
       "  <tbody>\n",
       "    <tr>\n",
       "      <th>0</th>\n",
       "      <td>0.647768</td>\n",
       "      <td>-0.021644</td>\n",
       "      <td>-0.089326</td>\n",
       "      <td>0.928892</td>\n",
       "      <td>0.242300</td>\n",
       "    </tr>\n",
       "    <tr>\n",
       "      <th>1</th>\n",
       "      <td>0.646012</td>\n",
       "      <td>-0.192805</td>\n",
       "      <td>-0.740348</td>\n",
       "      <td>0.459757</td>\n",
       "      <td>0.260425</td>\n",
       "    </tr>\n",
       "    <tr>\n",
       "      <th>2</th>\n",
       "      <td>0.650820</td>\n",
       "      <td>-0.230201</td>\n",
       "      <td>-0.897561</td>\n",
       "      <td>0.370250</td>\n",
       "      <td>0.256474</td>\n",
       "    </tr>\n",
       "    <tr>\n",
       "      <th>3</th>\n",
       "      <td>0.650115</td>\n",
       "      <td>-0.004412</td>\n",
       "      <td>-0.017935</td>\n",
       "      <td>0.985705</td>\n",
       "      <td>0.246016</td>\n",
       "    </tr>\n",
       "    <tr>\n",
       "      <th>4</th>\n",
       "      <td>0.661927</td>\n",
       "      <td>0.203463</td>\n",
       "      <td>0.837105</td>\n",
       "      <td>0.403302</td>\n",
       "      <td>0.243056</td>\n",
       "    </tr>\n",
       "    <tr>\n",
       "      <th>...</th>\n",
       "      <td>...</td>\n",
       "      <td>...</td>\n",
       "      <td>...</td>\n",
       "      <td>...</td>\n",
       "      <td>...</td>\n",
       "    </tr>\n",
       "    <tr>\n",
       "      <th>995</th>\n",
       "      <td>0.651106</td>\n",
       "      <td>-0.011481</td>\n",
       "      <td>-0.050252</td>\n",
       "      <td>0.959961</td>\n",
       "      <td>0.228480</td>\n",
       "    </tr>\n",
       "    <tr>\n",
       "      <th>996</th>\n",
       "      <td>0.630077</td>\n",
       "      <td>-0.238862</td>\n",
       "      <td>-1.019512</td>\n",
       "      <td>0.308907</td>\n",
       "      <td>0.234291</td>\n",
       "    </tr>\n",
       "    <tr>\n",
       "      <th>997</th>\n",
       "      <td>0.638431</td>\n",
       "      <td>-0.188627</td>\n",
       "      <td>-0.732820</td>\n",
       "      <td>0.464329</td>\n",
       "      <td>0.257399</td>\n",
       "    </tr>\n",
       "    <tr>\n",
       "      <th>998</th>\n",
       "      <td>0.650794</td>\n",
       "      <td>-0.068434</td>\n",
       "      <td>-0.272627</td>\n",
       "      <td>0.785356</td>\n",
       "      <td>0.251017</td>\n",
       "    </tr>\n",
       "    <tr>\n",
       "      <th>999</th>\n",
       "      <td>0.670594</td>\n",
       "      <td>-0.309140</td>\n",
       "      <td>-1.298278</td>\n",
       "      <td>0.195342</td>\n",
       "      <td>0.238115</td>\n",
       "    </tr>\n",
       "  </tbody>\n",
       "</table>\n",
       "<p>1000 rows × 5 columns</p>\n",
       "</div>"
      ],
      "text/plain": [
       "     intercept     slope  test-statistics   p-value   std err\n",
       "0     0.647768 -0.021644        -0.089326  0.928892  0.242300\n",
       "1     0.646012 -0.192805        -0.740348  0.459757  0.260425\n",
       "2     0.650820 -0.230201        -0.897561  0.370250  0.256474\n",
       "3     0.650115 -0.004412        -0.017935  0.985705  0.246016\n",
       "4     0.661927  0.203463         0.837105  0.403302  0.243056\n",
       "..         ...       ...              ...       ...       ...\n",
       "995   0.651106 -0.011481        -0.050252  0.959961  0.228480\n",
       "996   0.630077 -0.238862        -1.019512  0.308907  0.234291\n",
       "997   0.638431 -0.188627        -0.732820  0.464329  0.257399\n",
       "998   0.650794 -0.068434        -0.272627  0.785356  0.251017\n",
       "999   0.670594 -0.309140        -1.298278  0.195342  0.238115\n",
       "\n",
       "[1000 rows x 5 columns]"
      ]
     },
     "execution_count": 27,
     "metadata": {},
     "output_type": "execute_result"
    }
   ],
   "source": [
    "df_lm = pd.DataFrame(list(zip(beta1, beta2, \n",
    "                              test_statistics,\n",
    "                              p_value_lst,\n",
    "                              std_err_lst)), \n",
    "                     columns=[\"intercept\", \"slope\", \n",
    "                              \"test-statistics\",\n",
    "                              \"p-value\", \n",
    "                              \"std err\"])\n",
    "df_lm"
   ]
  },
  {
   "cell_type": "code",
   "execution_count": 28,
   "id": "16935206",
   "metadata": {
    "ExecuteTime": {
     "end_time": "2021-05-28T16:07:47.484119Z",
     "start_time": "2021-05-28T16:07:47.353516Z"
    },
    "colab": {
     "base_uri": "https://localhost:8080/",
     "height": 442
    },
    "id": "yxenYdfp_-X0",
    "outputId": "277113b8-dbbb-4bcd-db04-a88f82bf39c3"
   },
   "outputs": [
    {
     "data": {
      "image/png": "[encoded data removed]",
      "text/plain": [
       "<Figure size 720x504 with 1 Axes>"
      ]
     },
     "metadata": {
      "needs_background": "light"
     },
     "output_type": "display_data"
    }
   ],
   "source": [
    "plt.rcParams['figure.figsize'] = (10.0, 7.0)\n",
    "plt.scatter(x_for_plot, test_statistics, c = 'black', s = 5, \n",
    "            alpha = 0.7, label = 'test statistics values')\n",
    "\n",
    "plt.grid()\n",
    "plt.legend(fontsize = 14)\n",
    "\n",
    "one_line = np.linspace(0, 1000, 1000)\n",
    "y_value = np.array([1.96]*1000)\n",
    "plt.plot(one_line, y_value, label = 'upper bound')\n",
    "y_value_2 = np.array([-1.96]*1000)\n",
    "plt.plot(one_line, y_value_2, label = 'lower bound')\n",
    "\n",
    "plt.legend(loc= 'upper right')\n",
    "plt.xlabel('1000 random normal distribution values')\n",
    "plt.ylabel('test statistics values')\n",
    "plt.show()"
   ]
  },
  {
   "cell_type": "markdown",
   "id": "61c56a2d",
   "metadata": {
    "id": "8IVQLpLE_wjC"
   },
   "source": [
    "Here, the test statistic formula is: \n",
    "\n",
    "$t=\\frac{\\hat{\\beta}_{2}- 0}{S E(\\hat{\\beta}_{2})}$\n",
    "\n",
    "where \n",
    "$SE(\\hat{\\beta}_{2})=\\sqrt{\\frac{\\hat{\\sigma}^{2}}{\\sum_{t=1}^{T}\\left(x_{t}-\\bar{x}\\right)^{2}}}$"
   ]
  },
  {
   "cell_type": "markdown",
   "id": "6e360003",
   "metadata": {
    "id": "SvJZAvXFCaqO"
   },
   "source": [
    "## 3.3 Hypothesis test"
   ]
  },
  {
   "cell_type": "code",
   "execution_count": 29,
   "id": "d8c7c90e",
   "metadata": {
    "ExecuteTime": {
     "end_time": "2021-05-28T16:08:05.980650Z",
     "start_time": "2021-05-28T16:08:05.975662Z"
    },
    "colab": {
     "base_uri": "https://localhost:8080/"
    },
    "id": "PVhbYfXzAmYk",
    "outputId": "120691d9-2a6f-45d9-f085-df5580a18124"
   },
   "outputs": [
    {
     "name": "stdout",
     "output_type": "stream",
     "text": [
      "So, the maximum value of test statistics is: 3.378476711517529\n"
     ]
    }
   ],
   "source": [
    "maximum_t = np.absolute(np.array(test_statistics)).max()\n",
    "print(\"So, the maximum value of test statistics is:\",  maximum_t)"
   ]
  },
  {
   "cell_type": "markdown",
   "id": "dbaef754",
   "metadata": {
    "id": "0zDxLkd7DZRc"
   },
   "source": [
    "Since $P-value = 2(1-P[t_{T-2}\\leq|t|])$, we have:"
   ]
  },
  {
   "cell_type": "code",
   "execution_count": 34,
   "id": "cbeb662c",
   "metadata": {
    "ExecuteTime": {
     "end_time": "2021-05-28T16:08:20.668623Z",
     "start_time": "2021-05-28T16:08:20.663417Z"
    },
    "colab": {
     "base_uri": "https://localhost:8080/"
    },
    "id": "jRezjKMfZBZ_",
    "outputId": "b4c19d03-45a3-41f5-f76d-b4b0802a1e41"
   },
   "outputs": [
    {
     "name": "stdout",
     "output_type": "stream",
     "text": [
      "P-value is:  0.0008406438969521535\n"
     ]
    }
   ],
   "source": [
    "p_value_1 = 2*(1- t.cdf(maximum_t,260))\n",
    "print('P-value is: ', p_value_1)"
   ]
  },
  {
   "cell_type": "markdown",
   "id": "cc09dcc1",
   "metadata": {
    "id": "xoQ6VTvrE3DG"
   },
   "source": [
    " With the maximun value of test statistics, we got a p-value far smaller than 0.05, which indicates that we can confidently reject the Null Hypothesis that $\\beta_2 = 0$ at a significant level of 95%.\n",
    " \n",
    "This experiment shows that, even if we generate some random numbers, it is still possible that the result can reject the Null Hypothesis, so we cannot blindly trust the result we got and write down the conclusion without thinking."
   ]
  }
 ],
 "metadata": {
  "colab": {
   "collapsed_sections": [],
   "name": "Econometrics_hw1.ipynb",
   "provenance": []
  },
  "kernelspec": {
   "display_name": "Python 3",
   "language": "python",
   "name": "python3"
  },
  "language_info": {
   "codemirror_mode": {
    "name": "ipython",
    "version": 3
   },
   "file_extension": ".py",
   "mimetype": "text/x-python",
   "name": "python",
   "nbconvert_exporter": "python",
   "pygments_lexer": "ipython3",
   "version": "3.8.1"
  },
  "latex_envs": {
   "LaTeX_envs_menu_present": true,
   "autoclose": false,
   "autocomplete": true,
   "bibliofile": "biblio.bib",
   "cite_by": "apalike",
   "current_citInitial": 1,
   "eqLabelWithNumbers": true,
   "eqNumInitial": 1,
   "hotkeys": {
    "equation": "Ctrl-E",
    "itemize": "Ctrl-I"
   },
   "labels_anchors": false,
   "latex_user_defs": false,
   "report_style_numbering": false,
   "user_envs_cfg": false
  },
  "toc": {
   "base_numbering": 1,
   "nav_menu": {},
   "number_sections": true,
   "sideBar": true,
   "skip_h1_title": false,
   "title_cell": "Table of Contents",
   "title_sidebar": "Contents",
   "toc_cell": false,
   "toc_position": {},
   "toc_section_display": true,
   "toc_window_display": false
  },
  "varInspector": {
   "cols": {
    "lenName": 16,
    "lenType": 16,
    "lenVar": 40
   },
   "kernels_config": {
    "python": {
     "delete_cmd_postfix": "",
     "delete_cmd_prefix": "del ",
     "library": "var_list.py",
     "varRefreshCmd": "print(var_dic_list())"
    },
    "r": {
     "delete_cmd_postfix": ") ",
     "delete_cmd_prefix": "rm(",
     "library": "var_list.r",
     "varRefreshCmd": "cat(var_dic_list()) "
    }
   },
   "types_to_exclude": [
    "module",
    "function",
    "builtin_function_or_method",
    "instance",
    "_Feature"
   ],
   "window_display": false
  }
 },
 "nbformat": 4,
 "nbformat_minor": 5
}
