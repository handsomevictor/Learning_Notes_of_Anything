{
 "cells": [
  {
   "cell_type": "markdown",
   "metadata": {
    "id": "V_iahTpJ4eD6"
   },
   "source": [
    "# Introduction to Econometrics - Homework 2\n",
    "\n",
    "June 18, 2021\n",
    "\n",
    "Zhenning LI, Miao WANG, Jiaqian MA, Yixin ZHAO"
   ]
  },
  {
   "cell_type": "markdown",
   "metadata": {
    "id": "Y5O1CYU35PNL"
   },
   "source": [
    "## 1. CAPM versus Fama-French model\n",
    "\n",
    "### 1.1 Estimate the CAPM model"
   ]
  },
  {
   "cell_type": "code",
   "execution_count": 7,
   "metadata": {
    "ExecuteTime": {
     "end_time": "2021-06-15T10:34:15.248335Z",
     "start_time": "2021-06-15T10:34:15.041857Z"
    },
    "colab": {
     "base_uri": "https://localhost:8080/",
     "height": 422
    },
    "id": "_fahn28d8_Gb",
    "outputId": "5e319cc1-07a0-4361-ad46-b35be393354a"
   },
   "outputs": [
    {
     "data": {
      "text/html": [
       "<div>\n",
       "<style scoped>\n",
       "    .dataframe tbody tr th:only-of-type {\n",
       "        vertical-align: middle;\n",
       "    }\n",
       "\n",
       "    .dataframe tbody tr th {\n",
       "        vertical-align: top;\n",
       "    }\n",
       "\n",
       "    .dataframe thead th {\n",
       "        text-align: right;\n",
       "    }\n",
       "</style>\n",
       "<table border=\"1\" class=\"dataframe\">\n",
       "  <thead>\n",
       "    <tr style=\"text-align: right;\">\n",
       "      <th></th>\n",
       "      <th>Date</th>\n",
       "      <th>IBM - RF</th>\n",
       "      <th>Mkt - RF</th>\n",
       "      <th>SMB</th>\n",
       "      <th>HML</th>\n",
       "      <th>RMW</th>\n",
       "      <th>CMA</th>\n",
       "    </tr>\n",
       "  </thead>\n",
       "  <tbody>\n",
       "    <tr>\n",
       "      <th>0</th>\n",
       "      <td>2000/01</td>\n",
       "      <td>-3.64</td>\n",
       "      <td>-4.74</td>\n",
       "      <td>4.15</td>\n",
       "      <td>-0.29</td>\n",
       "      <td>-6.05</td>\n",
       "      <td>4.73</td>\n",
       "    </tr>\n",
       "    <tr>\n",
       "      <th>1</th>\n",
       "      <td>2000/02</td>\n",
       "      <td>-8.89</td>\n",
       "      <td>2.45</td>\n",
       "      <td>18.32</td>\n",
       "      <td>-9.93</td>\n",
       "      <td>-18.33</td>\n",
       "      <td>-0.51</td>\n",
       "    </tr>\n",
       "    <tr>\n",
       "      <th>2</th>\n",
       "      <td>2000/03</td>\n",
       "      <td>14.74</td>\n",
       "      <td>5.20</td>\n",
       "      <td>-14.91</td>\n",
       "      <td>7.38</td>\n",
       "      <td>11.68</td>\n",
       "      <td>-1.05</td>\n",
       "    </tr>\n",
       "    <tr>\n",
       "      <th>3</th>\n",
       "      <td>2000/04</td>\n",
       "      <td>-6.27</td>\n",
       "      <td>-6.40</td>\n",
       "      <td>-5.55</td>\n",
       "      <td>8.61</td>\n",
       "      <td>7.55</td>\n",
       "      <td>5.27</td>\n",
       "    </tr>\n",
       "    <tr>\n",
       "      <th>4</th>\n",
       "      <td>2000/05</td>\n",
       "      <td>-4.26</td>\n",
       "      <td>-4.42</td>\n",
       "      <td>-3.68</td>\n",
       "      <td>2.56</td>\n",
       "      <td>4.63</td>\n",
       "      <td>0.74</td>\n",
       "    </tr>\n",
       "    <tr>\n",
       "      <th>...</th>\n",
       "      <td>...</td>\n",
       "      <td>...</td>\n",
       "      <td>...</td>\n",
       "      <td>...</td>\n",
       "      <td>...</td>\n",
       "      <td>...</td>\n",
       "      <td>...</td>\n",
       "    </tr>\n",
       "    <tr>\n",
       "      <th>205</th>\n",
       "      <td>2017/02</td>\n",
       "      <td>3.00</td>\n",
       "      <td>3.57</td>\n",
       "      <td>-2.12</td>\n",
       "      <td>-1.79</td>\n",
       "      <td>0.78</td>\n",
       "      <td>-1.72</td>\n",
       "    </tr>\n",
       "    <tr>\n",
       "      <th>206</th>\n",
       "      <td>2017/03</td>\n",
       "      <td>-3.19</td>\n",
       "      <td>0.17</td>\n",
       "      <td>0.78</td>\n",
       "      <td>-3.17</td>\n",
       "      <td>0.68</td>\n",
       "      <td>-1.00</td>\n",
       "    </tr>\n",
       "    <tr>\n",
       "      <th>207</th>\n",
       "      <td>2017/04</td>\n",
       "      <td>-8.00</td>\n",
       "      <td>1.09</td>\n",
       "      <td>0.49</td>\n",
       "      <td>-1.87</td>\n",
       "      <td>2.00</td>\n",
       "      <td>-1.55</td>\n",
       "    </tr>\n",
       "    <tr>\n",
       "      <th>208</th>\n",
       "      <td>2017/05</td>\n",
       "      <td>-4.84</td>\n",
       "      <td>1.06</td>\n",
       "      <td>-3.05</td>\n",
       "      <td>-3.78</td>\n",
       "      <td>1.21</td>\n",
       "      <td>-1.88</td>\n",
       "    </tr>\n",
       "    <tr>\n",
       "      <th>209</th>\n",
       "      <td>2017/06</td>\n",
       "      <td>0.73</td>\n",
       "      <td>0.78</td>\n",
       "      <td>2.48</td>\n",
       "      <td>1.35</td>\n",
       "      <td>-2.01</td>\n",
       "      <td>-0.07</td>\n",
       "    </tr>\n",
       "  </tbody>\n",
       "</table>\n",
       "<p>210 rows × 7 columns</p>\n",
       "</div>"
      ],
      "text/plain": [
       "        Date  IBM - RF  Mkt - RF    SMB   HML    RMW   CMA\n",
       "0    2000/01     -3.64     -4.74   4.15 -0.29  -6.05  4.73\n",
       "1    2000/02     -8.89      2.45  18.32 -9.93 -18.33 -0.51\n",
       "2    2000/03     14.74      5.20 -14.91  7.38  11.68 -1.05\n",
       "3    2000/04     -6.27     -6.40  -5.55  8.61   7.55  5.27\n",
       "4    2000/05     -4.26     -4.42  -3.68  2.56   4.63  0.74\n",
       "..       ...       ...       ...    ...   ...    ...   ...\n",
       "205  2017/02      3.00      3.57  -2.12 -1.79   0.78 -1.72\n",
       "206  2017/03     -3.19      0.17   0.78 -3.17   0.68 -1.00\n",
       "207  2017/04     -8.00      1.09   0.49 -1.87   2.00 -1.55\n",
       "208  2017/05     -4.84      1.06  -3.05 -3.78   1.21 -1.88\n",
       "209  2017/06      0.73      0.78   2.48  1.35  -2.01 -0.07\n",
       "\n",
       "[210 rows x 7 columns]"
      ]
     },
     "execution_count": 7,
     "metadata": {},
     "output_type": "execute_result"
    }
   ],
   "source": [
    "import pandas as pd\n",
    "import statsmodels.api as sm\n",
    "import matplotlib.pyplot as plt\n",
    "import numpy as np\n",
    "from scipy import stats\n",
    "\n",
    "\n",
    "url = \"https://raw.githubusercontent.com/adufays/GDP_expectancy/main/IBM_returns.csv\"\n",
    "df = pd.read_csv(url, sep=\",\")\n",
    "df = df.drop('Unnamed: 0', axis = 1)\n",
    "df"
   ]
  },
  {
   "cell_type": "code",
   "execution_count": 8,
   "metadata": {
    "ExecuteTime": {
     "end_time": "2021-06-15T10:34:15.280251Z",
     "start_time": "2021-06-15T10:34:15.249302Z"
    },
    "colab": {
     "base_uri": "https://localhost:8080/"
    },
    "id": "O2vLNL8k_edh",
    "outputId": "ab4a07b5-4925-40d6-f4d7-0d57949b38fe"
   },
   "outputs": [
    {
     "name": "stdout",
     "output_type": "stream",
     "text": [
      "                            OLS Regression Results                            \n",
      "==============================================================================\n",
      "Dep. Variable:               IBM - RF   R-squared:                       0.372\n",
      "Model:                            OLS   Adj. R-squared:                  0.369\n",
      "Method:                 Least Squares   F-statistic:                     123.1\n",
      "Date:                Tue, 15 Jun 2021   Prob (F-statistic):           9.13e-23\n",
      "Time:                        12:34:15   Log-Likelihood:                -663.24\n",
      "No. Observations:                 210   AIC:                             1330.\n",
      "Df Residuals:                     208   BIC:                             1337.\n",
      "Df Model:                           1                                         \n",
      "Covariance Type:            nonrobust                                         \n",
      "==============================================================================\n",
      "                 coef    std err          t      P>|t|      [0.025      0.975]\n",
      "------------------------------------------------------------------------------\n",
      "const         -0.1379      0.396     -0.348      0.728      -0.919       0.644\n",
      "Mkt - RF       0.9983      0.090     11.094      0.000       0.821       1.176\n",
      "==============================================================================\n",
      "Omnibus:                       62.284   Durbin-Watson:                   2.199\n",
      "Prob(Omnibus):                  0.000   Jarque-Bera (JB):              258.673\n",
      "Skew:                           1.104   Prob(JB):                     6.76e-57\n",
      "Kurtosis:                       7.969   Cond. No.                         4.42\n",
      "==============================================================================\n",
      "\n",
      "Notes:\n",
      "[1] Standard Errors assume that the covariance matrix of the errors is correctly specified.\n"
     ]
    }
   ],
   "source": [
    "# CAPM parameters \n",
    "y = df[\"IBM - RF\"]\n",
    "x = df[\"Mkt - RF\"]\n",
    "\n",
    "x_capm = sm.add_constant(x)\n",
    "y_capm = y\n",
    "model_capm = sm.OLS(y_capm, x_capm).fit()\n",
    "print(model_capm.summary())"
   ]
  },
  {
   "cell_type": "markdown",
   "metadata": {
    "id": "tKmGBrQfDKLB"
   },
   "source": [
    "So the model now is: $P[K_t=1|x_t]=\\Phi(-0.1379 + 0.9983*x_{t, 2})$"
   ]
  },
  {
   "cell_type": "code",
   "execution_count": 9,
   "metadata": {
    "ExecuteTime": {
     "end_time": "2021-06-15T10:34:15.417886Z",
     "start_time": "2021-06-15T10:34:15.282213Z"
    },
    "colab": {
     "base_uri": "https://localhost:8080/",
     "height": 299
    },
    "id": "luzZ6sCAzXkU",
    "outputId": "377eb472-5bef-40e0-ce37-27df96c0d426"
   },
   "outputs": [
    {
     "data": {
      "text/plain": [
       "<AxesSubplot:xlabel='y(t)', ylabel='y(t + 1)'>"
      ]
     },
     "execution_count": 9,
     "metadata": {},
     "output_type": "execute_result"
    },
    {
     "data": {
      "image/png": "[encoded data removed]",
      "text/plain": [
       "<Figure size 432x288 with 1 Axes>"
      ]
     },
     "metadata": {
      "needs_background": "light"
     },
     "output_type": "display_data"
    }
   ],
   "source": [
    "# scatter plot of residuals  \n",
    "resid = y - model_capm.fittedvalues\n",
    "pd.plotting.lag_plot(resid, lag=1)"
   ]
  },
  {
   "cell_type": "markdown",
   "metadata": {
    "id": "BXGnVUF86iu9"
   },
   "source": [
    "The lag plot shows that there exists no linear relation between error terms. The white noise assumption thus holds."
   ]
  },
  {
   "cell_type": "markdown",
   "metadata": {
    "id": "mjVG2i0F4GLO"
   },
   "source": [
    "$H_0: \\beta_1=0$ VS $H_1: \\beta_1 \\neq 0$ at significance level of 5%\n",
    "\n",
    "The absolute value of t-statistic is 0.348, below the critical value 1.96. The p-value of beta1 is 0.728, way higher than 5%. We do not reject the null hypothesis. $\\beta_1$ is **not** statiscally significant.\n",
    "\n",
    "---\n",
    "\n",
    "$H_0: \\beta_2=0$ VS $H_1: \\beta_2 \\neq 0$ at significance level of 5%.\n",
    "\n",
    "The absolute value of t-statistic is 0.0.090, below the critical value 1.96. The p-value of beta1 is 0.000, lower than 5%. We reject the null hypothesis. $\\beta_2$ is statiscally significant.\n"
   ]
  },
  {
   "cell_type": "markdown",
   "metadata": {
    "id": "qo4OG0dc5iiX"
   },
   "source": [
    "### 1.2 Estimate the FF model"
   ]
  },
  {
   "cell_type": "code",
   "execution_count": 10,
   "metadata": {
    "ExecuteTime": {
     "end_time": "2021-06-15T10:34:15.433808Z",
     "start_time": "2021-06-15T10:34:15.419845Z"
    },
    "colab": {
     "base_uri": "https://localhost:8080/"
    },
    "id": "EIJi-rT-4Nnb",
    "outputId": "d39634d0-cec8-4806-b826-e48c80b01d78"
   },
   "outputs": [
    {
     "name": "stdout",
     "output_type": "stream",
     "text": [
      "                            OLS Regression Results                            \n",
      "==============================================================================\n",
      "Dep. Variable:               IBM - RF   R-squared:                       0.425\n",
      "Model:                            OLS   Adj. R-squared:                  0.411\n",
      "Method:                 Least Squares   F-statistic:                     30.17\n",
      "Date:                Tue, 15 Jun 2021   Prob (F-statistic):           6.68e-23\n",
      "Time:                        12:34:15   Log-Likelihood:                -653.92\n",
      "No. Observations:                 210   AIC:                             1320.\n",
      "Df Residuals:                     204   BIC:                             1340.\n",
      "Df Model:                           5                                         \n",
      "Covariance Type:            nonrobust                                         \n",
      "==============================================================================\n",
      "                 coef    std err          t      P>|t|      [0.025      0.975]\n",
      "------------------------------------------------------------------------------\n",
      "const          0.2760      0.408      0.676      0.500      -0.529       1.081\n",
      "x1             0.9670      0.108      8.955      0.000       0.754       1.180\n",
      "x2            -0.3988      0.147     -2.713      0.007      -0.689      -0.109\n",
      "x3            -0.2093      0.169     -1.237      0.218      -0.543       0.124\n",
      "x4            -0.1820      0.188     -0.968      0.334      -0.553       0.189\n",
      "x5            -0.2687      0.243     -1.104      0.271      -0.748       0.211\n",
      "==============================================================================\n",
      "Omnibus:                       49.207   Durbin-Watson:                   2.093\n",
      "Prob(Omnibus):                  0.000   Jarque-Bera (JB):              161.488\n",
      "Skew:                           0.925   Prob(JB):                     8.58e-36\n",
      "Kurtosis:                       6.877   Cond. No.                         5.60\n",
      "==============================================================================\n",
      "\n",
      "Notes:\n",
      "[1] Standard Errors assume that the covariance matrix of the errors is correctly specified.\n"
     ]
    }
   ],
   "source": [
    "Y = df[\"IBM - RF\"]\n",
    "T = np.size(Y)\n",
    "X = np.zeros([T,6])\n",
    "X[:,0] = 1 #intercept\n",
    "X[:,1:6] = df.iloc[:,2:7]\n",
    "\n",
    "X = sm.add_constant(X) \n",
    "model_ff = sm.OLS(Y, X).fit()\n",
    "print(model_ff.summary())"
   ]
  },
  {
   "cell_type": "code",
   "execution_count": 11,
   "metadata": {
    "ExecuteTime": {
     "end_time": "2021-06-15T10:34:15.448801Z",
     "start_time": "2021-06-15T10:34:15.435802Z"
    },
    "colab": {
     "base_uri": "https://localhost:8080/",
     "height": 236
    },
    "id": "kgBkRt4wC647",
    "outputId": "06bd94f5-c084-4ddb-d4c8-3f634dd644c2"
   },
   "outputs": [
    {
     "data": {
      "text/html": [
       "<div>\n",
       "<style scoped>\n",
       "    .dataframe tbody tr th:only-of-type {\n",
       "        vertical-align: middle;\n",
       "    }\n",
       "\n",
       "    .dataframe tbody tr th {\n",
       "        vertical-align: top;\n",
       "    }\n",
       "\n",
       "    .dataframe thead th {\n",
       "        text-align: right;\n",
       "    }\n",
       "</style>\n",
       "<table border=\"1\" class=\"dataframe\">\n",
       "  <thead>\n",
       "    <tr style=\"text-align: right;\">\n",
       "      <th></th>\n",
       "      <th>param</th>\n",
       "      <th>p-value</th>\n",
       "    </tr>\n",
       "  </thead>\n",
       "  <tbody>\n",
       "    <tr>\n",
       "      <th>0</th>\n",
       "      <td>const</td>\n",
       "      <td>0.500</td>\n",
       "    </tr>\n",
       "    <tr>\n",
       "      <th>1</th>\n",
       "      <td>x1</td>\n",
       "      <td>0.000</td>\n",
       "    </tr>\n",
       "    <tr>\n",
       "      <th>2</th>\n",
       "      <td>x2</td>\n",
       "      <td>0.007</td>\n",
       "    </tr>\n",
       "    <tr>\n",
       "      <th>3</th>\n",
       "      <td>x3</td>\n",
       "      <td>0.218</td>\n",
       "    </tr>\n",
       "    <tr>\n",
       "      <th>4</th>\n",
       "      <td>x4</td>\n",
       "      <td>0.334</td>\n",
       "    </tr>\n",
       "    <tr>\n",
       "      <th>5</th>\n",
       "      <td>x5</td>\n",
       "      <td>0.271</td>\n",
       "    </tr>\n",
       "  </tbody>\n",
       "</table>\n",
       "</div>"
      ],
      "text/plain": [
       "   param  p-value\n",
       "0  const    0.500\n",
       "1     x1    0.000\n",
       "2     x2    0.007\n",
       "3     x3    0.218\n",
       "4     x4    0.334\n",
       "5     x5    0.271"
      ]
     },
     "execution_count": 11,
     "metadata": {},
     "output_type": "execute_result"
    }
   ],
   "source": [
    "content = round(model_ff.pvalues,3)\n",
    "content = pd.DataFrame(content)\n",
    "content = content.reset_index()\n",
    "content.columns = ['param', 'p-value']\n",
    "content"
   ]
  },
  {
   "cell_type": "markdown",
   "metadata": {
    "id": "AGABeb69DBWL"
   },
   "source": [
    "Among 5 parameters, only $\\beta_2$ and $\\beta_3$ have p-values smaller than 5%. So $\\beta_2$ and $\\beta_3$ are statistically different from zero."
   ]
  },
  {
   "cell_type": "markdown",
   "metadata": {
    "id": "Yi84LSNj5o9S"
   },
   "source": [
    "### 1.3 Fisher test"
   ]
  },
  {
   "cell_type": "markdown",
   "metadata": {
    "id": "xxBQ-fpJEGJI"
   },
   "source": [
    "$H_0:\\beta_{3}^{(\\mathrm{FF})}=\\beta_{4}^{(\\mathrm{FF})}=\\beta_{5}^{(\\mathrm{FF})}=\\beta_{6}^{(\\mathrm{FF})}=0\\quad VS\\quad H_1: at\\ least\\ one\\ \\beta_{i}^{(\\mathrm{FF})}\\neq0, i\\in[3,6]$ at significance level of 5%"
   ]
  },
  {
   "cell_type": "code",
   "execution_count": 12,
   "metadata": {
    "ExecuteTime": {
     "end_time": "2021-06-15T10:34:15.589424Z",
     "start_time": "2021-06-15T10:34:15.485669Z"
    },
    "id": "shU2X4lTFw7D"
   },
   "outputs": [
    {
     "ename": "AttributeError",
     "evalue": "module 'statsmodels.api' has no attribute 'OS'",
     "output_type": "error",
     "traceback": [
      "\u001b[1;31m---------------------------------------------------------------------------\u001b[0m",
      "\u001b[1;31mAttributeError\u001b[0m                            Traceback (most recent call last)",
      "\u001b[1;32m<ipython-input-12-d4cd6741603e>\u001b[0m in \u001b[0;36m<module>\u001b[1;34m\u001b[0m\n\u001b[0;32m      2\u001b[0m \u001b[0mY_tilde\u001b[0m \u001b[1;33m=\u001b[0m \u001b[0mY\u001b[0m\u001b[1;33m\u001b[0m\u001b[1;33m\u001b[0m\u001b[0m\n\u001b[0;32m      3\u001b[0m \u001b[0mX_2\u001b[0m \u001b[1;33m=\u001b[0m \u001b[0mX\u001b[0m\u001b[1;33m[\u001b[0m\u001b[1;33m:\u001b[0m\u001b[1;33m,\u001b[0m\u001b[1;36m0\u001b[0m\u001b[1;33m:\u001b[0m\u001b[1;36m2\u001b[0m\u001b[1;33m]\u001b[0m\u001b[1;33m\u001b[0m\u001b[1;33m\u001b[0m\u001b[0m\n\u001b[1;32m----> 4\u001b[1;33m \u001b[0mmodel_ff2\u001b[0m \u001b[1;33m=\u001b[0m \u001b[0msm\u001b[0m\u001b[1;33m.\u001b[0m\u001b[0mOS\u001b[0m\u001b[1;33m(\u001b[0m\u001b[0mY_tilde\u001b[0m\u001b[1;33m,\u001b[0m \u001b[0mX_2\u001b[0m\u001b[1;33m)\u001b[0m\u001b[1;33m.\u001b[0m\u001b[0mfit\u001b[0m\u001b[1;33m(\u001b[0m\u001b[1;33m)\u001b[0m\u001b[1;33m\u001b[0m\u001b[1;33m\u001b[0m\u001b[0m\n\u001b[0m\u001b[0;32m      5\u001b[0m \u001b[0mresid_R\u001b[0m \u001b[1;33m=\u001b[0m \u001b[0mY\u001b[0m \u001b[1;33m-\u001b[0m \u001b[0mmodel_ff2\u001b[0m\u001b[1;33m.\u001b[0m\u001b[0mfittedvalues\u001b[0m\u001b[1;33m\u001b[0m\u001b[1;33m\u001b[0m\u001b[0m\n\u001b[0;32m      6\u001b[0m \u001b[0mSSR_R\u001b[0m \u001b[1;33m=\u001b[0m \u001b[0mnp\u001b[0m\u001b[1;33m.\u001b[0m\u001b[0msum\u001b[0m\u001b[1;33m(\u001b[0m\u001b[0mresid_R\u001b[0m\u001b[1;33m**\u001b[0m\u001b[1;36m2\u001b[0m\u001b[1;33m)\u001b[0m\u001b[1;33m\u001b[0m\u001b[1;33m\u001b[0m\u001b[0m\n",
      "\u001b[1;31mAttributeError\u001b[0m: module 'statsmodels.api' has no attribute 'OS'"
     ]
    }
   ],
   "source": [
    "# restricted model\n",
    "Y_tilde = Y \n",
    "X_2 = X[:,0:2]\n",
    "model_ff2 = sm.OS(Y_tilde, X_2).fit()\n",
    "resid_R = Y - model_ff2.fittedvalues\n",
    "SSR_R = np.sum(resid_R**2)"
   ]
  },
  {
   "cell_type": "code",
   "execution_count": null,
   "metadata": {
    "ExecuteTime": {
     "end_time": "2021-06-15T10:34:15.590390Z",
     "start_time": "2021-06-15T10:34:15.503Z"
    },
    "id": "biNM9HgQKIPX"
   },
   "outputs": [],
   "source": [
    "# unrestriced model \n",
    "beta_U = [model_ff.params[i] for i in range(6)]\n",
    "resid_U = Y - X@beta_U\n",
    "SSR_U = np.sum(resid_U**2)"
   ]
  },
  {
   "cell_type": "code",
   "execution_count": null,
   "metadata": {
    "ExecuteTime": {
     "end_time": "2021-06-15T10:34:15.591386Z",
     "start_time": "2021-06-15T10:34:15.525Z"
    },
    "colab": {
     "base_uri": "https://localhost:8080/"
    },
    "id": "_CIekhi3DZh7",
    "outputId": "7807658a-e882-414b-c7f3-a4a1c48b8e6b"
   },
   "outputs": [],
   "source": [
    "K = np.size(X,1)\n",
    "T = np.size(Y)\n",
    "R_sq = 1-SSR_U/SSR_R\n",
    "df1 = 4 #number of constraints \n",
    "df2 = T-K\n",
    "F_test = (df2/df1)*(SSR_R-SSR_U)/SSR_U\n",
    "F_p_val = (1-stats.f.cdf(F_test,df1,df2))\n",
    "print(\"F statistic:\", F_test)\n",
    "print(\"p-value:\", F_p_val)"
   ]
  },
  {
   "cell_type": "markdown",
   "metadata": {
    "id": "ctlDk1P6ZoV3"
   },
   "source": [
    "Here T = 210 >100, the F-statistic is proportional to a chi-square realization. F-statistics is 4.74 > 1. We reject the null hypothesis. \n",
    "\n",
    "The p-value of 1.13% also shows that under the null hypothesis, it is unlikely to observe such a sample. Therefore we reject the null hypothesis.  \n",
    "\n",
    "We conclude that CAPM does NOT fit comparably to the FF model and FF includes more statistically significant variables. "
   ]
  },
  {
   "cell_type": "markdown",
   "metadata": {
    "id": "31Agy5VMe6m4"
   },
   "source": [
    "## 2. Limited dependent variables"
   ]
  },
  {
   "cell_type": "markdown",
   "metadata": {
    "id": "FgZa_q3pkfrP"
   },
   "source": [
    "### 2.1 Estimate the probit model"
   ]
  },
  {
   "cell_type": "markdown",
   "metadata": {
    "id": "waCuhyzBTnOW"
   },
   "source": [
    "The probit model is: $P[K_t=1|x_t]=\\Phi(\\beta_{1} + \\beta_{2}x_{t, 2} + \\beta_{3}x_{t, 3} + \\beta_{4}x_{t, 4})$, now we can use the Probit function to calculate."
   ]
  },
  {
   "cell_type": "code",
   "execution_count": 13,
   "metadata": {
    "ExecuteTime": {
     "end_time": "2021-06-15T10:34:16.261595Z",
     "start_time": "2021-06-15T10:34:15.726027Z"
    },
    "colab": {
     "base_uri": "https://localhost:8080/"
    },
    "id": "oqS0ibmogGxz",
    "outputId": "93a577e0-4733-40d2-b3a4-2c8a8fc9103a"
   },
   "outputs": [
    {
     "name": "stdout",
     "output_type": "stream",
     "text": [
      "Optimization terminated successfully.\n",
      "         Current function value: 0.207425\n",
      "         Iterations 8\n",
      "                          Probit Regression Results                           \n",
      "==============================================================================\n",
      "Dep. Variable:          killerappgros   No. Observations:                 7683\n",
      "Model:                         Probit   Df Residuals:                     7679\n",
      "Method:                           MLE   Df Model:                            3\n",
      "Date:                Tue, 15 Jun 2021   Pseudo R-squ.:                  0.1791\n",
      "Time:                        12:34:16   Log-Likelihood:                -1593.6\n",
      "converged:                       True   LL-Null:                       -1941.4\n",
      "Covariance Type:            nonrobust   LLR p-value:                1.916e-150\n",
      "==============================================================================\n",
      "                 coef    std err          z      P>|z|      [0.025      0.975]\n",
      "------------------------------------------------------------------------------\n",
      "const         -2.6547      0.072    -36.849      0.000      -2.796      -2.513\n",
      "scoreapp       0.2636      0.016     16.139      0.000       0.232       0.296\n",
      "avprice        0.1294      0.012     11.062      0.000       0.106       0.152\n",
      "avsize         0.0063      0.001     10.342      0.000       0.005       0.008\n",
      "==============================================================================\n"
     ]
    }
   ],
   "source": [
    "from statsmodels.discrete.discrete_model import Probit\n",
    "\n",
    "url_2 = \"https://raw.githubusercontent.com/adufays/GDP_expectancy/main/AER_App_data.csv\"\n",
    "data = pd.read_csv(url_2, sep = \",\")\n",
    "\n",
    "game = np.array(data['cat5'])\n",
    "data_gameonly=data[game==1]\n",
    "killer=data_gameonly[\"killerappgros\"]\n",
    "X_killer = data_gameonly[[\"scoreapp\",\"avprice\",\"avsize\"]]\n",
    "X_killer = sm.add_constant(X_killer)\n",
    "\n",
    "# fit the model using maximum likelihood\n",
    "probit_model = Probit(killer, X_killer).fit()\n",
    "print(probit_model.summary())"
   ]
  },
  {
   "cell_type": "markdown",
   "metadata": {
    "id": "CFm4MYDVkmy4"
   },
   "source": [
    "### 2.2 Significance of parameters"
   ]
  },
  {
   "cell_type": "code",
   "execution_count": 14,
   "metadata": {
    "ExecuteTime": {
     "end_time": "2021-06-15T10:34:16.276584Z",
     "start_time": "2021-06-15T10:34:16.263589Z"
    },
    "colab": {
     "base_uri": "https://localhost:8080/"
    },
    "id": "Q5NzbLs3hbAM",
    "outputId": "16bfb66d-8071-4e2f-8fbe-4cafd5c52717"
   },
   "outputs": [
    {
     "name": "stdout",
     "output_type": "stream",
     "text": [
      "const       3.071704e-297\n",
      "scoreapp     1.347346e-58\n",
      "avprice      1.913249e-28\n",
      "avsize       4.530415e-25\n",
      "dtype: float64\n"
     ]
    }
   ],
   "source": [
    "print(probit_model.pvalues)"
   ]
  },
  {
   "cell_type": "markdown",
   "metadata": {
    "id": "shs2tG2LkRjF"
   },
   "source": [
    "From the result we can see, all parameters are significant, because their p-values are almost equal to zero."
   ]
  },
  {
   "cell_type": "markdown",
   "metadata": {
    "id": "ySf7LUSDkXps"
   },
   "source": [
    "### 2.3 Interpret signs of coefficient "
   ]
  },
  {
   "cell_type": "code",
   "execution_count": 15,
   "metadata": {
    "ExecuteTime": {
     "end_time": "2021-06-15T10:34:16.292542Z",
     "start_time": "2021-06-15T10:34:16.278581Z"
    },
    "colab": {
     "base_uri": "https://localhost:8080/"
    },
    "id": "4NYe4lwdTvXM",
    "outputId": "8877eb92-dc7f-4433-9965-26204d2d4e48"
   },
   "outputs": [
    {
     "name": "stdout",
     "output_type": "stream",
     "text": [
      "Coefficient for Constant is -2.654660819428224, \n",
      "Coefficient for scoreapp is 0.2636077537641145,     \n",
      "Coefficient for avprice is 0.12935353364239707, \n",
      "Coefficient for avsize is     0.006336470446564775\n"
     ]
    }
   ],
   "source": [
    "a = list(probit_model.params)\n",
    "print('Coefficient for Constant is {}, \\nCoefficient for scoreapp is {}, \\\n",
    "    \\nCoefficient for avprice is {}, \\nCoefficient for avsize is \\\n",
    "    {}'.format(a[0],a[1],a[2],a[3]))"
   ]
  },
  {
   "cell_type": "markdown",
   "metadata": {
    "id": "wekYBCZckxTZ"
   },
   "source": [
    "From the result, we can see all of the coefficients are positive (except the one for constant), indicating that all factors exert a positive effect on the app popularity."
   ]
  },
  {
   "cell_type": "markdown",
   "metadata": {
    "id": "MyG4ydEslHwb"
   },
   "source": [
    "### 2.4 Probit model with ratings only"
   ]
  },
  {
   "cell_type": "markdown",
   "metadata": {
    "id": "jufpgIzsT0Y-"
   },
   "source": [
    "Here we use a second model, $P[K_t=1|x_t]=\\Phi(\\beta_{1} + \\beta_{2}x_{t, 2})$."
   ]
  },
  {
   "cell_type": "code",
   "execution_count": 16,
   "metadata": {
    "ExecuteTime": {
     "end_time": "2021-06-15T10:34:16.354347Z",
     "start_time": "2021-06-15T10:34:16.294507Z"
    },
    "colab": {
     "base_uri": "https://localhost:8080/"
    },
    "id": "j4utj6qulTIc",
    "outputId": "c5298cce-85d8-4d8a-e3f2-4dc38ba20deb"
   },
   "outputs": [
    {
     "name": "stdout",
     "output_type": "stream",
     "text": [
      "Optimization terminated successfully.\n",
      "         Current function value: 0.224877\n",
      "         Iterations 8\n",
      "                          Probit Regression Results                           \n",
      "==============================================================================\n",
      "Dep. Variable:          killerappgros   No. Observations:                 7683\n",
      "Model:                         Probit   Df Residuals:                     7681\n",
      "Method:                           MLE   Df Model:                            1\n",
      "Date:                Tue, 15 Jun 2021   Pseudo R-squ.:                  0.1101\n",
      "Time:                        12:34:16   Log-Likelihood:                -1727.7\n",
      "converged:                       True   LL-Null:                       -1941.4\n",
      "Covariance Type:            nonrobust   LLR p-value:                 5.965e-95\n",
      "==============================================================================\n",
      "                 coef    std err          z      P>|z|      [0.025      0.975]\n",
      "------------------------------------------------------------------------------\n",
      "const         -2.3512      0.064    -37.003      0.000      -2.476      -2.227\n",
      "scoreapp       0.2632      0.015     17.211      0.000       0.233       0.293\n",
      "==============================================================================\n"
     ]
    }
   ],
   "source": [
    "score=data_gameonly[\"scoreapp\"]\n",
    "score = sm.add_constant(score)\n",
    "probit_model_score = Probit(killer, score).fit() \n",
    "print(probit_model_score.summary())"
   ]
  },
  {
   "cell_type": "markdown",
   "metadata": {
    "id": "aB-0pUNdmCqX"
   },
   "source": [
    "### 2.5 Likelihood ratio test"
   ]
  },
  {
   "cell_type": "markdown",
   "metadata": {
    "id": "-lgFZn6hocM3"
   },
   "source": [
    "$H_0:\\beta_{3}=\\beta_{4}=0\\quad VS\\quad H_1: at\\ least\\ one\\ \\beta_{i}\\neq0, i\\in[3,4]$ at significance level of 95% \n",
    "\n",
    "\n",
    "\n",
    "*   **Under the null**\n",
    "\n",
    "    The nested model (restricted model): $P\\left[K_{t}=1 \\mid x_{t}\\right]=\\Phi\\left(\\beta_{1}+\\beta_{2} x_{t, 2}\\right)$\n",
    "\n",
    "*   **Under the alternative** \n",
    "\n",
    "    The full model (unrestricted model): $P\\left[K_{t}=1 \\mid x_{t}\\right]=\\Phi\\left(\\beta_{1}+\\beta_{2} x_{t, 2}+\\beta_{3} x_{t, 3}+\\beta_{4} x_{t, 4}\\right)$\n",
    "\n",
    "*   **Likelihood ratio test**\n",
    "\n",
    "$2\\left[\\ln f\\left(c_{1}, \\ldots, c_{T} \\mid \\hat{\\beta}, x_{1: T}\\right)-\\ln f\\left(c_{1}, \\ldots, c_{T} \\mid \\tilde{\\beta}_{1},\\tilde{\\beta}_{2}\\right)\\right] \\sim \\chi^{2}(m)$ under $H_{0}$"
   ]
  },
  {
   "cell_type": "code",
   "execution_count": 17,
   "metadata": {
    "ExecuteTime": {
     "end_time": "2021-06-15T10:34:16.369308Z",
     "start_time": "2021-06-15T10:34:16.355344Z"
    },
    "id": "u-r5gb6bvXmu"
   },
   "outputs": [],
   "source": [
    "def lrtest(likelihood_R, likelihood_U, df):\n",
    "  \"\"\"\n",
    "    Compute the likelihood ratio test and the p-value.\n",
    "  \"\"\"\n",
    "  lr = 2 * (likelihood_U - likelihood_R)\n",
    "  pvalue = 1-stats.chi2.cdf(lr, df)\n",
    "  return lr, pvalue"
   ]
  },
  {
   "cell_type": "code",
   "execution_count": 18,
   "metadata": {
    "ExecuteTime": {
     "end_time": "2021-06-15T10:34:16.385265Z",
     "start_time": "2021-06-15T10:34:16.370306Z"
    },
    "colab": {
     "base_uri": "https://localhost:8080/"
    },
    "id": "SJDxZJgOmG8G",
    "outputId": "868bf31c-7387-47e2-b0e7-556aed4b49fc"
   },
   "outputs": [
    {
     "name": "stdout",
     "output_type": "stream",
     "text": [
      "-1593.6458689504368 -1727.7288714316326\n"
     ]
    }
   ],
   "source": [
    "ll_U = probit_model.llf #Log-likelihood of model\n",
    "ll_R = probit_model_score.llf\n",
    "m = 2 # number of restrictions \n",
    "print(ll_U, ll_R)"
   ]
  },
  {
   "cell_type": "code",
   "execution_count": 19,
   "metadata": {
    "ExecuteTime": {
     "end_time": "2021-06-15T10:34:16.401222Z",
     "start_time": "2021-06-15T10:34:16.386263Z"
    },
    "colab": {
     "base_uri": "https://localhost:8080/"
    },
    "id": "2UjgpCjh0R5m",
    "outputId": "f7dec086-ce16-4778-a669-fd5fd129d360"
   },
   "outputs": [
    {
     "name": "stdout",
     "output_type": "stream",
     "text": [
      "Likelihood ratio test retult is 268.1660049623915, p value is: 0.0\n"
     ]
    }
   ],
   "source": [
    "lr, p = lrtest(ll_R, ll_U, m)\n",
    "print('Likelihood ratio test retult is {}, p value is: {}'.format(lr, p))"
   ]
  },
  {
   "cell_type": "code",
   "execution_count": 20,
   "metadata": {
    "ExecuteTime": {
     "end_time": "2021-06-15T10:34:16.416213Z",
     "start_time": "2021-06-15T10:34:16.402220Z"
    },
    "colab": {
     "base_uri": "https://localhost:8080/"
    },
    "id": "roAuhbZc1TRz",
    "outputId": "2e245f2c-ff3d-4159-db07-0d6425a56bff"
   },
   "outputs": [
    {
     "name": "stdout",
     "output_type": "stream",
     "text": [
      "The threshold is: 5.991464547107979\n"
     ]
    }
   ],
   "source": [
    "# To determine the threshold\n",
    "threshold = stats.chi2.ppf(0.95,2)\n",
    "print('The threshold is: {}'.format(threshold))"
   ]
  },
  {
   "cell_type": "markdown",
   "metadata": {
    "id": "5sZE05EBUXfn"
   },
   "source": [
    "Here the p-value is almost 0 and the likelihood test result (268.17) is far larger than the critical value(5.99). \n",
    "\n",
    "Therefore, we reject the null hypothesis with very strong level of confidence. Full model better predicts whether an app will become a 'killer app'. \n",
    "\n",
    "Apart from average rating, price and size are also significant factors."
   ]
  }
 ],
 "metadata": {
  "colab": {
   "collapsed_sections": [],
   "name": "Econometrics_hw2.ipynb",
   "provenance": []
  },
  "kernelspec": {
   "display_name": "Python 3",
   "language": "python",
   "name": "python3"
  },
  "language_info": {
   "codemirror_mode": {
    "name": "ipython",
    "version": 3
   },
   "file_extension": ".py",
   "mimetype": "text/x-python",
   "name": "python",
   "nbconvert_exporter": "python",
   "pygments_lexer": "ipython3",
   "version": "3.8.1"
  },
  "latex_envs": {
   "LaTeX_envs_menu_present": true,
   "autoclose": false,
   "autocomplete": true,
   "bibliofile": "biblio.bib",
   "cite_by": "apalike",
   "current_citInitial": 1,
   "eqLabelWithNumbers": true,
   "eqNumInitial": 1,
   "hotkeys": {
    "equation": "Ctrl-E",
    "itemize": "Ctrl-I"
   },
   "labels_anchors": false,
   "latex_user_defs": false,
   "report_style_numbering": false,
   "user_envs_cfg": false
  },
  "toc": {
   "base_numbering": 1,
   "nav_menu": {},
   "number_sections": true,
   "sideBar": true,
   "skip_h1_title": false,
   "title_cell": "Table of Contents",
   "title_sidebar": "Contents",
   "toc_cell": false,
   "toc_position": {},
   "toc_section_display": true,
   "toc_window_display": false
  },
  "varInspector": {
   "cols": {
    "lenName": 16,
    "lenType": 16,
    "lenVar": 40
   },
   "kernels_config": {
    "python": {
     "delete_cmd_postfix": "",
     "delete_cmd_prefix": "del ",
     "library": "var_list.py",
     "varRefreshCmd": "print(var_dic_list())"
    },
    "r": {
     "delete_cmd_postfix": ") ",
     "delete_cmd_prefix": "rm(",
     "library": "var_list.r",
     "varRefreshCmd": "cat(var_dic_list()) "
    }
   },
   "types_to_exclude": [
    "module",
    "function",
    "builtin_function_or_method",
    "instance",
    "_Feature"
   ],
   "window_display": false
  }
 },
 "nbformat": 4,
 "nbformat_minor": 1
}
