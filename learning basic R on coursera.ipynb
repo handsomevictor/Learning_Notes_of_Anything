{
 "cells": [
  {
   "cell_type": "markdown",
   "metadata": {},
   "source": [
    "### This notes are from Coursera Learning R from JHU"
   ]
  },
  {
   "cell_type": "markdown",
   "metadata": {},
   "source": [
    "## Most foundamental things"
   ]
  },
  {
   "cell_type": "code",
   "execution_count": 6,
   "metadata": {
    "ExecuteTime": {
     "end_time": "2021-01-18T00:01:52.189443Z",
     "start_time": "2021-01-18T00:01:52.163Z"
    }
   },
   "outputs": [
    {
     "data": {
      "text/html": [
       "<style>\n",
       ".list-inline {list-style: none; margin:0; padding: 0}\n",
       ".list-inline>li {display: inline-block}\n",
       ".list-inline>li:not(:last-child)::after {content: \"\\00b7\"; padding: 0 .5ex}\n",
       "</style>\n",
       "<ol class=list-inline><li>'myfunction'</li><li>'second'</li><li>'var_dic_list'</li></ol>\n"
      ],
      "text/latex": [
       "\\begin{enumerate*}\n",
       "\\item 'myfunction'\n",
       "\\item 'second'\n",
       "\\item 'var\\_dic\\_list'\n",
       "\\end{enumerate*}\n"
      ],
      "text/markdown": [
       "1. 'myfunction'\n",
       "2. 'second'\n",
       "3. 'var_dic_list'\n",
       "\n",
       "\n"
      ],
      "text/plain": [
       "[1] \"myfunction\"   \"second\"       \"var_dic_list\""
      ]
     },
     "metadata": {},
     "output_type": "display_data"
    },
    {
     "data": {
      "text/html": [
       "<style>\n",
       ".list-inline {list-style: none; margin:0; padding: 0}\n",
       ".list-inline>li {display: inline-block}\n",
       ".list-inline>li:not(:last-child)::after {content: \"\\00b7\"; padding: 0 .5ex}\n",
       "</style>\n",
       "<ol class=list-inline><li>2.25533382977358</li><li>3.27031858980897</li><li>4.94754814251423</li><li>5.75286981903956</li><li>6.98340510089575</li><li>8.21336367770099</li><li>10.3173807920475</li><li>9.92645068628284</li></ol>\n"
      ],
      "text/latex": [
       "\\begin{enumerate*}\n",
       "\\item 2.25533382977358\n",
       "\\item 3.27031858980897\n",
       "\\item 4.94754814251423\n",
       "\\item 5.75286981903956\n",
       "\\item 6.98340510089575\n",
       "\\item 8.21336367770099\n",
       "\\item 10.3173807920475\n",
       "\\item 9.92645068628284\n",
       "\\end{enumerate*}\n"
      ],
      "text/markdown": [
       "1. 2.25533382977358\n",
       "2. 3.27031858980897\n",
       "3. 4.94754814251423\n",
       "4. 5.75286981903956\n",
       "5. 6.98340510089575\n",
       "6. 8.21336367770099\n",
       "7. 10.3173807920475\n",
       "8. 9.92645068628284\n",
       "\n",
       "\n"
      ],
      "text/plain": [
       "[1]  2.255334  3.270319  4.947548  5.752870  6.983405  8.213364 10.317381\n",
       "[8]  9.926451"
      ]
     },
     "metadata": {},
     "output_type": "display_data"
    }
   ],
   "source": [
    "# source的意思是引用这个.r文件里面的函数\n",
    "source(\"C:/Users/handsomevictor/Desktop/学习R/working directory/coursera11.R\")\n",
    "ls() #看都有哪些函数\n",
    "second(3:10)"
   ]
  },
  {
   "cell_type": "code",
   "execution_count": 10,
   "metadata": {
    "ExecuteTime": {
     "end_time": "2021-01-19T03:32:21.555520Z",
     "start_time": "2021-01-19T03:32:21.525Z"
    }
   },
   "outputs": [
    {
     "data": {
      "text/html": [
       "1"
      ],
      "text/latex": [
       "1"
      ],
      "text/markdown": [
       "1"
      ],
      "text/plain": [
       "[1] 1"
      ]
     },
     "metadata": {},
     "output_type": "display_data"
    },
    {
     "data": {
      "text/html": [
       "'I love you'"
      ],
      "text/latex": [
       "'I love you'"
      ],
      "text/markdown": [
       "'I love you'"
      ],
      "text/plain": [
       "[1] \"I love you\""
      ]
     },
     "metadata": {},
     "output_type": "display_data"
    },
    {
     "name": "stdout",
     "output_type": "stream",
     "text": [
      "[1] \"I love you\"\n"
     ]
    }
   ],
   "source": [
    "# 赋值\n",
    "x <- 1\n",
    "x\n",
    "\n",
    "msg <- 'I love you'\n",
    "msg # it's auto-printing\n",
    "print(msg) # this is explicit printing"
   ]
  },
  {
   "cell_type": "code",
   "execution_count": 21,
   "metadata": {
    "ExecuteTime": {
     "end_time": "2021-01-19T03:35:49.553865Z",
     "start_time": "2021-01-19T03:35:49.527Z"
    }
   },
   "outputs": [
    {
     "data": {
      "text/html": [
       "<style>\n",
       ".list-inline {list-style: none; margin:0; padding: 0}\n",
       ".list-inline>li {display: inline-block}\n",
       ".list-inline>li:not(:last-child)::after {content: \"\\00b7\"; padding: 0 .5ex}\n",
       "</style>\n",
       "<ol class=list-inline><li>1</li><li>2</li><li>3</li><li>4</li><li>5</li><li>6</li><li>7</li><li>8</li><li>9</li><li>10</li><li>11</li><li>12</li><li>13</li><li>14</li><li>15</li><li>16</li><li>17</li><li>18</li><li>19</li><li>20</li></ol>\n"
      ],
      "text/latex": [
       "\\begin{enumerate*}\n",
       "\\item 1\n",
       "\\item 2\n",
       "\\item 3\n",
       "\\item 4\n",
       "\\item 5\n",
       "\\item 6\n",
       "\\item 7\n",
       "\\item 8\n",
       "\\item 9\n",
       "\\item 10\n",
       "\\item 11\n",
       "\\item 12\n",
       "\\item 13\n",
       "\\item 14\n",
       "\\item 15\n",
       "\\item 16\n",
       "\\item 17\n",
       "\\item 18\n",
       "\\item 19\n",
       "\\item 20\n",
       "\\end{enumerate*}\n"
      ],
      "text/markdown": [
       "1. 1\n",
       "2. 2\n",
       "3. 3\n",
       "4. 4\n",
       "5. 5\n",
       "6. 6\n",
       "7. 7\n",
       "8. 8\n",
       "9. 9\n",
       "10. 10\n",
       "11. 11\n",
       "12. 12\n",
       "13. 13\n",
       "14. 14\n",
       "15. 15\n",
       "16. 16\n",
       "17. 17\n",
       "18. 18\n",
       "19. 19\n",
       "20. 20\n",
       "\n",
       "\n"
      ],
      "text/plain": [
       " [1]  1  2  3  4  5  6  7  8  9 10 11 12 13 14 15 16 17 18 19 20"
      ]
     },
     "metadata": {},
     "output_type": "display_data"
    },
    {
     "data": {
      "text/html": [
       "<style>\n",
       ".list-inline {list-style: none; margin:0; padding: 0}\n",
       ".list-inline>li {display: inline-block}\n",
       ".list-inline>li:not(:last-child)::after {content: \"\\00b7\"; padding: 0 .5ex}\n",
       "</style>\n",
       "<ol class=list-inline><li>10</li><li>9</li><li>8</li><li>7</li><li>6</li><li>5</li><li>4</li><li>3</li><li>2</li><li>1</li></ol>\n"
      ],
      "text/latex": [
       "\\begin{enumerate*}\n",
       "\\item 10\n",
       "\\item 9\n",
       "\\item 8\n",
       "\\item 7\n",
       "\\item 6\n",
       "\\item 5\n",
       "\\item 4\n",
       "\\item 3\n",
       "\\item 2\n",
       "\\item 1\n",
       "\\end{enumerate*}\n"
      ],
      "text/markdown": [
       "1. 10\n",
       "2. 9\n",
       "3. 8\n",
       "4. 7\n",
       "5. 6\n",
       "6. 5\n",
       "7. 4\n",
       "8. 3\n",
       "9. 2\n",
       "10. 1\n",
       "\n",
       "\n"
      ],
      "text/plain": [
       " [1] 10  9  8  7  6  5  4  3  2  1"
      ]
     },
     "metadata": {},
     "output_type": "display_data"
    }
   ],
   "source": [
    "x <- 1:20\n",
    "x\n",
    "y <- 10:1\n",
    "y"
   ]
  },
  {
   "cell_type": "markdown",
   "metadata": {},
   "source": [
    "R has basic classes:<br>\n",
    "character; numeric, integer, complex, logical (bool)<br>\n",
    "the most important object is vector which can be created by vector()<br>\n",
    "get the attribute of an object by attribute()"
   ]
  },
  {
   "cell_type": "code",
   "execution_count": 28,
   "metadata": {
    "ExecuteTime": {
     "end_time": "2021-01-19T03:41:01.657948Z",
     "start_time": "2021-01-19T03:41:01.613Z"
    }
   },
   "outputs": [
    {
     "data": {
      "text/html": [
       "<style>\n",
       ".list-inline {list-style: none; margin:0; padding: 0}\n",
       ".list-inline>li {display: inline-block}\n",
       ".list-inline>li:not(:last-child)::after {content: \"\\00b7\"; padding: 0 .5ex}\n",
       "</style>\n",
       "<ol class=list-inline><li>0.5</li><li>0.6</li></ol>\n"
      ],
      "text/latex": [
       "\\begin{enumerate*}\n",
       "\\item 0.5\n",
       "\\item 0.6\n",
       "\\end{enumerate*}\n"
      ],
      "text/markdown": [
       "1. 0.5\n",
       "2. 0.6\n",
       "\n",
       "\n"
      ],
      "text/plain": [
       "[1] 0.5 0.6"
      ]
     },
     "metadata": {},
     "output_type": "display_data"
    },
    {
     "data": {
      "text/html": [
       "<style>\n",
       ".list-inline {list-style: none; margin:0; padding: 0}\n",
       ".list-inline>li {display: inline-block}\n",
       ".list-inline>li:not(:last-child)::after {content: \"\\00b7\"; padding: 0 .5ex}\n",
       "</style>\n",
       "<ol class=list-inline><li>TRUE</li><li>FALSE</li></ol>\n"
      ],
      "text/latex": [
       "\\begin{enumerate*}\n",
       "\\item TRUE\n",
       "\\item FALSE\n",
       "\\end{enumerate*}\n"
      ],
      "text/markdown": [
       "1. TRUE\n",
       "2. FALSE\n",
       "\n",
       "\n"
      ],
      "text/plain": [
       "[1]  TRUE FALSE"
      ]
     },
     "metadata": {},
     "output_type": "display_data"
    },
    {
     "data": {
      "text/html": [
       "<style>\n",
       ".list-inline {list-style: none; margin:0; padding: 0}\n",
       ".list-inline>li {display: inline-block}\n",
       ".list-inline>li:not(:last-child)::after {content: \"\\00b7\"; padding: 0 .5ex}\n",
       "</style>\n",
       "<ol class=list-inline><li>TRUE</li><li>FALSE</li></ol>\n"
      ],
      "text/latex": [
       "\\begin{enumerate*}\n",
       "\\item TRUE\n",
       "\\item FALSE\n",
       "\\end{enumerate*}\n"
      ],
      "text/markdown": [
       "1. TRUE\n",
       "2. FALSE\n",
       "\n",
       "\n"
      ],
      "text/plain": [
       "[1]  TRUE FALSE"
      ]
     },
     "metadata": {},
     "output_type": "display_data"
    },
    {
     "data": {
      "text/html": [
       "<style>\n",
       ".list-inline {list-style: none; margin:0; padding: 0}\n",
       ".list-inline>li {display: inline-block}\n",
       ".list-inline>li:not(:last-child)::after {content: \"\\00b7\"; padding: 0 .5ex}\n",
       "</style>\n",
       "<ol class=list-inline><li>'a'</li><li>'b'</li><li>'c'</li></ol>\n"
      ],
      "text/latex": [
       "\\begin{enumerate*}\n",
       "\\item 'a'\n",
       "\\item 'b'\n",
       "\\item 'c'\n",
       "\\end{enumerate*}\n"
      ],
      "text/markdown": [
       "1. 'a'\n",
       "2. 'b'\n",
       "3. 'c'\n",
       "\n",
       "\n"
      ],
      "text/plain": [
       "[1] \"a\" \"b\" \"c\""
      ]
     },
     "metadata": {},
     "output_type": "display_data"
    },
    {
     "data": {
      "text/html": [
       "<style>\n",
       ".list-inline {list-style: none; margin:0; padding: 0}\n",
       ".list-inline>li {display: inline-block}\n",
       ".list-inline>li:not(:last-child)::after {content: \"\\00b7\"; padding: 0 .5ex}\n",
       "</style>\n",
       "<ol class=list-inline><li>1+10i</li><li>1+3i</li></ol>\n"
      ],
      "text/latex": [
       "\\begin{enumerate*}\n",
       "\\item 1+10i\n",
       "\\item 1+3i\n",
       "\\end{enumerate*}\n"
      ],
      "text/markdown": [
       "1. 1+10i\n",
       "2. 1+3i\n",
       "\n",
       "\n"
      ],
      "text/plain": [
       "[1] 1+10i 1+ 3i"
      ]
     },
     "metadata": {},
     "output_type": "display_data"
    }
   ],
   "source": [
    "# creating objects\n",
    "x <- c(0.5, 0.6)\n",
    "x\n",
    "x <- c(TRUE, FALSE)\n",
    "x\n",
    "x <- c(T, F) # a simplified way of bool\n",
    "x\n",
    "x <- c('a', 'b', 'c')\n",
    "x\n",
    "x <- c(1+10i, 1+3i) # complex number\n",
    "x"
   ]
  },
  {
   "cell_type": "code",
   "execution_count": 29,
   "metadata": {
    "ExecuteTime": {
     "end_time": "2021-01-19T03:41:30.015529Z",
     "start_time": "2021-01-19T03:41:29.993Z"
    }
   },
   "outputs": [
    {
     "data": {
      "text/html": [
       "<style>\n",
       ".list-inline {list-style: none; margin:0; padding: 0}\n",
       ".list-inline>li {display: inline-block}\n",
       ".list-inline>li:not(:last-child)::after {content: \"\\00b7\"; padding: 0 .5ex}\n",
       "</style>\n",
       "<ol class=list-inline><li>'0.5'</li><li>'a'</li><li>'TRUE'</li></ol>\n"
      ],
      "text/latex": [
       "\\begin{enumerate*}\n",
       "\\item '0.5'\n",
       "\\item 'a'\n",
       "\\item 'TRUE'\n",
       "\\end{enumerate*}\n"
      ],
      "text/markdown": [
       "1. '0.5'\n",
       "2. 'a'\n",
       "3. 'TRUE'\n",
       "\n",
       "\n"
      ],
      "text/plain": [
       "[1] \"0.5\"  \"a\"    \"TRUE\""
      ]
     },
     "metadata": {},
     "output_type": "display_data"
    }
   ],
   "source": [
    "x <- c(0.5, 'a', TRUE)  # it can be a combination\n",
    "x\n",
    "# in R, TRUE stands for 1, FALSE for 0"
   ]
  },
  {
   "cell_type": "code",
   "execution_count": 37,
   "metadata": {
    "ExecuteTime": {
     "end_time": "2021-01-19T03:44:31.364459Z",
     "start_time": "2021-01-19T03:44:31.326Z"
    }
   },
   "outputs": [
    {
     "data": {
      "text/html": [
       "'integer'"
      ],
      "text/latex": [
       "'integer'"
      ],
      "text/markdown": [
       "'integer'"
      ],
      "text/plain": [
       "[1] \"integer\""
      ]
     },
     "metadata": {},
     "output_type": "display_data"
    },
    {
     "data": {
      "text/html": [
       "<style>\n",
       ".list-inline {list-style: none; margin:0; padding: 0}\n",
       ".list-inline>li {display: inline-block}\n",
       ".list-inline>li:not(:last-child)::after {content: \"\\00b7\"; padding: 0 .5ex}\n",
       "</style>\n",
       "<ol class=list-inline><li>10</li><li>9</li><li>8</li><li>7</li><li>6</li><li>5</li><li>4</li><li>3</li><li>2</li><li>1</li><li>0</li></ol>\n"
      ],
      "text/latex": [
       "\\begin{enumerate*}\n",
       "\\item 10\n",
       "\\item 9\n",
       "\\item 8\n",
       "\\item 7\n",
       "\\item 6\n",
       "\\item 5\n",
       "\\item 4\n",
       "\\item 3\n",
       "\\item 2\n",
       "\\item 1\n",
       "\\item 0\n",
       "\\end{enumerate*}\n"
      ],
      "text/markdown": [
       "1. 10\n",
       "2. 9\n",
       "3. 8\n",
       "4. 7\n",
       "5. 6\n",
       "6. 5\n",
       "7. 4\n",
       "8. 3\n",
       "9. 2\n",
       "10. 1\n",
       "11. 0\n",
       "\n",
       "\n"
      ],
      "text/plain": [
       " [1] 10  9  8  7  6  5  4  3  2  1  0"
      ]
     },
     "metadata": {},
     "output_type": "display_data"
    },
    {
     "data": {
      "text/html": [
       "<style>\n",
       ".list-inline {list-style: none; margin:0; padding: 0}\n",
       ".list-inline>li {display: inline-block}\n",
       ".list-inline>li:not(:last-child)::after {content: \"\\00b7\"; padding: 0 .5ex}\n",
       "</style>\n",
       "<ol class=list-inline><li>TRUE</li><li>TRUE</li><li>TRUE</li><li>TRUE</li><li>TRUE</li><li>TRUE</li><li>TRUE</li><li>TRUE</li><li>TRUE</li><li>TRUE</li><li>FALSE</li></ol>\n"
      ],
      "text/latex": [
       "\\begin{enumerate*}\n",
       "\\item TRUE\n",
       "\\item TRUE\n",
       "\\item TRUE\n",
       "\\item TRUE\n",
       "\\item TRUE\n",
       "\\item TRUE\n",
       "\\item TRUE\n",
       "\\item TRUE\n",
       "\\item TRUE\n",
       "\\item TRUE\n",
       "\\item FALSE\n",
       "\\end{enumerate*}\n"
      ],
      "text/markdown": [
       "1. TRUE\n",
       "2. TRUE\n",
       "3. TRUE\n",
       "4. TRUE\n",
       "5. TRUE\n",
       "6. TRUE\n",
       "7. TRUE\n",
       "8. TRUE\n",
       "9. TRUE\n",
       "10. TRUE\n",
       "11. FALSE\n",
       "\n",
       "\n"
      ],
      "text/plain": [
       " [1]  TRUE  TRUE  TRUE  TRUE  TRUE  TRUE  TRUE  TRUE  TRUE  TRUE FALSE"
      ]
     },
     "metadata": {},
     "output_type": "display_data"
    },
    {
     "data": {
      "text/html": [
       "<style>\n",
       ".list-inline {list-style: none; margin:0; padding: 0}\n",
       ".list-inline>li {display: inline-block}\n",
       ".list-inline>li:not(:last-child)::after {content: \"\\00b7\"; padding: 0 .5ex}\n",
       "</style>\n",
       "<ol class=list-inline><li>'10'</li><li>'9'</li><li>'8'</li><li>'7'</li><li>'6'</li><li>'5'</li><li>'4'</li><li>'3'</li><li>'2'</li><li>'1'</li><li>'0'</li></ol>\n"
      ],
      "text/latex": [
       "\\begin{enumerate*}\n",
       "\\item '10'\n",
       "\\item '9'\n",
       "\\item '8'\n",
       "\\item '7'\n",
       "\\item '6'\n",
       "\\item '5'\n",
       "\\item '4'\n",
       "\\item '3'\n",
       "\\item '2'\n",
       "\\item '1'\n",
       "\\item '0'\n",
       "\\end{enumerate*}\n"
      ],
      "text/markdown": [
       "1. '10'\n",
       "2. '9'\n",
       "3. '8'\n",
       "4. '7'\n",
       "5. '6'\n",
       "6. '5'\n",
       "7. '4'\n",
       "8. '3'\n",
       "9. '2'\n",
       "10. '1'\n",
       "11. '0'\n",
       "\n",
       "\n"
      ],
      "text/plain": [
       " [1] \"10\" \"9\"  \"8\"  \"7\"  \"6\"  \"5\"  \"4\"  \"3\"  \"2\"  \"1\"  \"0\" "
      ]
     },
     "metadata": {},
     "output_type": "display_data"
    },
    {
     "data": {
      "text/html": [
       "<style>\n",
       ".list-inline {list-style: none; margin:0; padding: 0}\n",
       ".list-inline>li {display: inline-block}\n",
       ".list-inline>li:not(:last-child)::after {content: \"\\00b7\"; padding: 0 .5ex}\n",
       "</style>\n",
       "<ol class=list-inline><li>10+0i</li><li>9+0i</li><li>8+0i</li><li>7+0i</li><li>6+0i</li><li>5+0i</li><li>4+0i</li><li>3+0i</li><li>2+0i</li><li>1+0i</li><li>0+0i</li></ol>\n"
      ],
      "text/latex": [
       "\\begin{enumerate*}\n",
       "\\item 10+0i\n",
       "\\item 9+0i\n",
       "\\item 8+0i\n",
       "\\item 7+0i\n",
       "\\item 6+0i\n",
       "\\item 5+0i\n",
       "\\item 4+0i\n",
       "\\item 3+0i\n",
       "\\item 2+0i\n",
       "\\item 1+0i\n",
       "\\item 0+0i\n",
       "\\end{enumerate*}\n"
      ],
      "text/markdown": [
       "1. 10+0i\n",
       "2. 9+0i\n",
       "3. 8+0i\n",
       "4. 7+0i\n",
       "5. 6+0i\n",
       "6. 5+0i\n",
       "7. 4+0i\n",
       "8. 3+0i\n",
       "9. 2+0i\n",
       "10. 1+0i\n",
       "11. 0+0i\n",
       "\n",
       "\n"
      ],
      "text/plain": [
       " [1] 10+0i  9+0i  8+0i  7+0i  6+0i  5+0i  4+0i  3+0i  2+0i  1+0i  0+0i"
      ]
     },
     "metadata": {},
     "output_type": "display_data"
    }
   ],
   "source": [
    "# use class(x)\n",
    "y <- 10:0\n",
    "class(y)\n",
    "\n",
    "# it's easy to change the object into different types 更改数值类型\n",
    "as.numeric(y)\n",
    "as.logical(y)\n",
    "as.character(y)\n",
    "as.complex(y)"
   ]
  },
  {
   "cell_type": "code",
   "execution_count": 44,
   "metadata": {
    "ExecuteTime": {
     "end_time": "2021-01-19T03:46:54.863772Z",
     "start_time": "2021-01-19T03:46:54.837Z"
    }
   },
   "outputs": [
    {
     "data": {
      "text/html": [
       "<ol>\n",
       "\t<li>1</li>\n",
       "</ol>\n"
      ],
      "text/latex": [
       "\\begin{enumerate}\n",
       "\\item 1\n",
       "\\end{enumerate}\n"
      ],
      "text/markdown": [
       "1. 1\n",
       "\n",
       "\n"
      ],
      "text/plain": [
       "[[1]]\n",
       "[1] 1\n"
      ]
     },
     "metadata": {},
     "output_type": "display_data"
    },
    {
     "data": {
      "text/html": [
       "TRUE"
      ],
      "text/latex": [
       "TRUE"
      ],
      "text/markdown": [
       "TRUE"
      ],
      "text/plain": [
       "[1] TRUE"
      ]
     },
     "metadata": {},
     "output_type": "display_data"
    }
   ],
   "source": [
    "# Lists\n",
    "x <- list(1, 'a', 1+5i, TRUE)\n",
    "# 直接单括号是返回index加数值\n",
    "x[1]\n",
    "# 双括号是只返回数值\n",
    "x[[4]]\n",
    "\n",
    "# 这里第一个并不是从0开始！"
   ]
  },
  {
   "cell_type": "code",
   "execution_count": 50,
   "metadata": {
    "ExecuteTime": {
     "end_time": "2021-01-19T03:58:06.145363Z",
     "start_time": "2021-01-19T03:58:06.100Z"
    }
   },
   "outputs": [
    {
     "data": {
      "text/html": [
       "<table>\n",
       "<caption>A matrix: 2 × 3 of type lgl</caption>\n",
       "<tbody>\n",
       "\t<tr><td>NA</td><td>NA</td><td>NA</td></tr>\n",
       "\t<tr><td>NA</td><td>NA</td><td>NA</td></tr>\n",
       "</tbody>\n",
       "</table>\n"
      ],
      "text/latex": [
       "A matrix: 2 × 3 of type lgl\n",
       "\\begin{tabular}{lll}\n",
       "\t NA & NA & NA\\\\\n",
       "\t NA & NA & NA\\\\\n",
       "\\end{tabular}\n"
      ],
      "text/markdown": [
       "\n",
       "A matrix: 2 × 3 of type lgl\n",
       "\n",
       "| NA | NA | NA |\n",
       "| NA | NA | NA |\n",
       "\n"
      ],
      "text/plain": [
       "     [,1] [,2] [,3]\n",
       "[1,] NA   NA   NA  \n",
       "[2,] NA   NA   NA  "
      ]
     },
     "metadata": {},
     "output_type": "display_data"
    },
    {
     "data": {
      "text/html": [
       "<style>\n",
       ".list-inline {list-style: none; margin:0; padding: 0}\n",
       ".list-inline>li {display: inline-block}\n",
       ".list-inline>li:not(:last-child)::after {content: \"\\00b7\"; padding: 0 .5ex}\n",
       "</style>\n",
       "<ol class=list-inline><li>2</li><li>3</li></ol>\n"
      ],
      "text/latex": [
       "\\begin{enumerate*}\n",
       "\\item 2\n",
       "\\item 3\n",
       "\\end{enumerate*}\n"
      ],
      "text/markdown": [
       "1. 2\n",
       "2. 3\n",
       "\n",
       "\n"
      ],
      "text/plain": [
       "[1] 2 3"
      ]
     },
     "metadata": {},
     "output_type": "display_data"
    },
    {
     "data": {
      "text/html": [
       "<strong>$dim</strong> = <style>\n",
       ".list-inline {list-style: none; margin:0; padding: 0}\n",
       ".list-inline>li {display: inline-block}\n",
       ".list-inline>li:not(:last-child)::after {content: \"\\00b7\"; padding: 0 .5ex}\n",
       "</style>\n",
       "<ol class=list-inline><li>2</li><li>3</li></ol>\n"
      ],
      "text/latex": [
       "\\textbf{\\$dim} = \\begin{enumerate*}\n",
       "\\item 2\n",
       "\\item 3\n",
       "\\end{enumerate*}\n"
      ],
      "text/markdown": [
       "**$dim** = 1. 2\n",
       "2. 3\n",
       "\n",
       "\n"
      ],
      "text/plain": [
       "$dim\n",
       "[1] 2 3\n"
      ]
     },
     "metadata": {},
     "output_type": "display_data"
    },
    {
     "data": {
      "text/html": [
       "<table>\n",
       "<caption>A matrix: 2 × 3 of type int</caption>\n",
       "<tbody>\n",
       "\t<tr><td>1</td><td>3</td><td>5</td></tr>\n",
       "\t<tr><td>2</td><td>4</td><td>6</td></tr>\n",
       "</tbody>\n",
       "</table>\n"
      ],
      "text/latex": [
       "A matrix: 2 × 3 of type int\n",
       "\\begin{tabular}{lll}\n",
       "\t 1 & 3 & 5\\\\\n",
       "\t 2 & 4 & 6\\\\\n",
       "\\end{tabular}\n"
      ],
      "text/markdown": [
       "\n",
       "A matrix: 2 × 3 of type int\n",
       "\n",
       "| 1 | 3 | 5 |\n",
       "| 2 | 4 | 6 |\n",
       "\n"
      ],
      "text/plain": [
       "     [,1] [,2] [,3]\n",
       "[1,] 1    3    5   \n",
       "[2,] 2    4    6   "
      ]
     },
     "metadata": {},
     "output_type": "display_data"
    }
   ],
   "source": [
    "# 矩阵\n",
    "m <- matrix(nrow=2, ncol=3)\n",
    "m\n",
    "dim(m)\n",
    "attributes(m)\n",
    "\n",
    "m <- matrix(1:6, nrow=2, ncol=3) # 会自动判定1*6是否等于2*3\n",
    "m"
   ]
  },
  {
   "cell_type": "code",
   "execution_count": 58,
   "metadata": {
    "ExecuteTime": {
     "end_time": "2021-01-19T03:59:38.023437Z",
     "start_time": "2021-01-19T03:59:37.998Z"
    }
   },
   "outputs": [
    {
     "data": {
      "text/html": [
       "<table>\n",
       "<caption>A matrix: 2 × 5 of type int</caption>\n",
       "<tbody>\n",
       "\t<tr><td>1</td><td>3</td><td>5</td><td>7</td><td> 9</td></tr>\n",
       "\t<tr><td>2</td><td>4</td><td>6</td><td>8</td><td>10</td></tr>\n",
       "</tbody>\n",
       "</table>\n"
      ],
      "text/latex": [
       "A matrix: 2 × 5 of type int\n",
       "\\begin{tabular}{lllll}\n",
       "\t 1 & 3 & 5 & 7 &  9\\\\\n",
       "\t 2 & 4 & 6 & 8 & 10\\\\\n",
       "\\end{tabular}\n"
      ],
      "text/markdown": [
       "\n",
       "A matrix: 2 × 5 of type int\n",
       "\n",
       "| 1 | 3 | 5 | 7 |  9 |\n",
       "| 2 | 4 | 6 | 8 | 10 |\n",
       "\n"
      ],
      "text/plain": [
       "     [,1] [,2] [,3] [,4] [,5]\n",
       "[1,] 1    3    5    7     9  \n",
       "[2,] 2    4    6    8    10  "
      ]
     },
     "metadata": {},
     "output_type": "display_data"
    }
   ],
   "source": [
    "# 矩阵\n",
    "m <- 1:10\n",
    "dim(m) <- c(2, 5)  # 通过numeric的c来创建matrix\n",
    "m"
   ]
  },
  {
   "cell_type": "code",
   "execution_count": 60,
   "metadata": {
    "ExecuteTime": {
     "end_time": "2021-01-19T04:01:06.688651Z",
     "start_time": "2021-01-19T04:01:06.652Z"
    }
   },
   "outputs": [
    {
     "data": {
      "text/html": [
       "<table>\n",
       "<caption>A matrix: 3 × 2 of type int</caption>\n",
       "<thead>\n",
       "\t<tr><th scope=col>x</th><th scope=col>y</th></tr>\n",
       "</thead>\n",
       "<tbody>\n",
       "\t<tr><td>1</td><td>10</td></tr>\n",
       "\t<tr><td>2</td><td>11</td></tr>\n",
       "\t<tr><td>3</td><td>12</td></tr>\n",
       "</tbody>\n",
       "</table>\n"
      ],
      "text/latex": [
       "A matrix: 3 × 2 of type int\n",
       "\\begin{tabular}{ll}\n",
       " x & y\\\\\n",
       "\\hline\n",
       "\t 1 & 10\\\\\n",
       "\t 2 & 11\\\\\n",
       "\t 3 & 12\\\\\n",
       "\\end{tabular}\n"
      ],
      "text/markdown": [
       "\n",
       "A matrix: 3 × 2 of type int\n",
       "\n",
       "| x | y |\n",
       "|---|---|\n",
       "| 1 | 10 |\n",
       "| 2 | 11 |\n",
       "| 3 | 12 |\n",
       "\n"
      ],
      "text/plain": [
       "     x y \n",
       "[1,] 1 10\n",
       "[2,] 2 11\n",
       "[3,] 3 12"
      ]
     },
     "metadata": {},
     "output_type": "display_data"
    },
    {
     "data": {
      "text/html": [
       "<table>\n",
       "<caption>A matrix: 2 × 3 of type int</caption>\n",
       "<tbody>\n",
       "\t<tr><th scope=row>x</th><td> 1</td><td> 2</td><td> 3</td></tr>\n",
       "\t<tr><th scope=row>y</th><td>10</td><td>11</td><td>12</td></tr>\n",
       "</tbody>\n",
       "</table>\n"
      ],
      "text/latex": [
       "A matrix: 2 × 3 of type int\n",
       "\\begin{tabular}{r|lll}\n",
       "\tx &  1 &  2 &  3\\\\\n",
       "\ty & 10 & 11 & 12\\\\\n",
       "\\end{tabular}\n"
      ],
      "text/markdown": [
       "\n",
       "A matrix: 2 × 3 of type int\n",
       "\n",
       "| x |  1 |  2 |  3 |\n",
       "| y | 10 | 11 | 12 |\n",
       "\n"
      ],
      "text/plain": [
       "  [,1] [,2] [,3]\n",
       "x  1    2    3  \n",
       "y 10   11   12  "
      ]
     },
     "metadata": {},
     "output_type": "display_data"
    }
   ],
   "source": [
    "# 矩阵\n",
    "x <- 1:3\n",
    "y <- 10:12\n",
    "cbind(x, y) # colume binding 把输入的值当作colume\n",
    "rbind(x, y) # row binding"
   ]
  },
  {
   "cell_type": "code",
   "execution_count": 71,
   "metadata": {
    "ExecuteTime": {
     "end_time": "2021-01-19T04:07:43.796964Z",
     "start_time": "2021-01-19T04:07:43.763Z"
    }
   },
   "outputs": [
    {
     "data": {
      "text/html": [
       "<style>\n",
       ".list-inline {list-style: none; margin:0; padding: 0}\n",
       ".list-inline>li {display: inline-block}\n",
       ".list-inline>li:not(:last-child)::after {content: \"\\00b7\"; padding: 0 .5ex}\n",
       "</style>\n",
       "<ol class=list-inline><li>yes</li><li>no</li><li>yes</li><li>yes</li></ol>\n",
       "\n",
       "<details>\n",
       "\t<summary style=display:list-item;cursor:pointer>\n",
       "\t\t<strong>Levels</strong>:\n",
       "\t</summary>\n",
       "\t<style>\n",
       "\t.list-inline {list-style: none; margin:0; padding: 0}\n",
       "\t.list-inline>li {display: inline-block}\n",
       "\t.list-inline>li:not(:last-child)::after {content: \"\\00b7\"; padding: 0 .5ex}\n",
       "\t</style>\n",
       "\t<ol class=list-inline><li>'no'</li><li>'yes'</li></ol>\n",
       "</details>"
      ],
      "text/latex": [
       "\\begin{enumerate*}\n",
       "\\item yes\n",
       "\\item no\n",
       "\\item yes\n",
       "\\item yes\n",
       "\\end{enumerate*}\n",
       "\n",
       "\\emph{Levels}: \\begin{enumerate*}\n",
       "\\item 'no'\n",
       "\\item 'yes'\n",
       "\\end{enumerate*}\n"
      ],
      "text/markdown": [
       "1. yes\n",
       "2. no\n",
       "3. yes\n",
       "4. yes\n",
       "\n",
       "\n",
       "\n",
       "**Levels**: 1. 'no'\n",
       "2. 'yes'\n",
       "\n",
       "\n"
      ],
      "text/plain": [
       "[1] yes no  yes yes\n",
       "Levels: no yes"
      ]
     },
     "metadata": {},
     "output_type": "display_data"
    },
    {
     "data": {
      "text/plain": [
       "x\n",
       " no yes \n",
       "  1   3 "
      ]
     },
     "metadata": {},
     "output_type": "display_data"
    },
    {
     "data": {
      "text/html": [
       "<style>\n",
       ".list-inline {list-style: none; margin:0; padding: 0}\n",
       ".list-inline>li {display: inline-block}\n",
       ".list-inline>li:not(:last-child)::after {content: \"\\00b7\"; padding: 0 .5ex}\n",
       "</style>\n",
       "<ol class=list-inline><li>2</li><li>1</li><li>2</li><li>2</li></ol>\n"
      ],
      "text/latex": [
       "\\begin{enumerate*}\n",
       "\\item 2\n",
       "\\item 1\n",
       "\\item 2\n",
       "\\item 2\n",
       "\\end{enumerate*}\n"
      ],
      "text/markdown": [
       "1. 2\n",
       "2. 1\n",
       "3. 2\n",
       "4. 2\n",
       "\n",
       "\n"
      ],
      "text/plain": [
       "[1] 2 1 2 2\n",
       "attr(,\"levels\")\n",
       "[1] \"no\"  \"yes\""
      ]
     },
     "metadata": {},
     "output_type": "display_data"
    }
   ],
   "source": [
    "# Factors 因子类型\n",
    "x <- factor(c('yes', 'no', 'yes', 'yes'))\n",
    "x\n",
    "table(x) # 直接有一个简单的统计\n",
    "unclass(x)"
   ]
  },
  {
   "cell_type": "code",
   "execution_count": 70,
   "metadata": {
    "ExecuteTime": {
     "end_time": "2021-01-19T04:07:42.129338Z",
     "start_time": "2021-01-19T04:07:42.099Z"
    }
   },
   "outputs": [
    {
     "data": {
      "text/html": [
       "<style>\n",
       ".list-inline {list-style: none; margin:0; padding: 0}\n",
       ".list-inline>li {display: inline-block}\n",
       ".list-inline>li:not(:last-child)::after {content: \"\\00b7\"; padding: 0 .5ex}\n",
       "</style>\n",
       "<ol class=list-inline><li>yes</li><li>no</li><li>yes</li><li>yes</li></ol>\n",
       "\n",
       "<details>\n",
       "\t<summary style=display:list-item;cursor:pointer>\n",
       "\t\t<strong>Levels</strong>:\n",
       "\t</summary>\n",
       "\t<style>\n",
       "\t.list-inline {list-style: none; margin:0; padding: 0}\n",
       "\t.list-inline>li {display: inline-block}\n",
       "\t.list-inline>li:not(:last-child)::after {content: \"\\00b7\"; padding: 0 .5ex}\n",
       "\t</style>\n",
       "\t<ol class=list-inline><li>'yes'</li><li>'no'</li></ol>\n",
       "</details>"
      ],
      "text/latex": [
       "\\begin{enumerate*}\n",
       "\\item yes\n",
       "\\item no\n",
       "\\item yes\n",
       "\\item yes\n",
       "\\end{enumerate*}\n",
       "\n",
       "\\emph{Levels}: \\begin{enumerate*}\n",
       "\\item 'yes'\n",
       "\\item 'no'\n",
       "\\end{enumerate*}\n"
      ],
      "text/markdown": [
       "1. yes\n",
       "2. no\n",
       "3. yes\n",
       "4. yes\n",
       "\n",
       "\n",
       "\n",
       "**Levels**: 1. 'yes'\n",
       "2. 'no'\n",
       "\n",
       "\n"
      ],
      "text/plain": [
       "[1] yes no  yes yes\n",
       "Levels: yes no"
      ]
     },
     "metadata": {},
     "output_type": "display_data"
    }
   ],
   "source": [
    "# factor，改变输出顺序\n",
    "x <- factor(c('yes', 'no', 'yes', 'yes'),\n",
    "           levels = c('yes', 'no'))\n",
    "x"
   ]
  },
  {
   "cell_type": "code",
   "execution_count": 85,
   "metadata": {
    "ExecuteTime": {
     "end_time": "2021-01-19T04:10:52.184521Z",
     "start_time": "2021-01-19T04:10:52.151Z"
    }
   },
   "outputs": [
    {
     "data": {
      "text/html": [
       "<style>\n",
       ".list-inline {list-style: none; margin:0; padding: 0}\n",
       ".list-inline>li {display: inline-block}\n",
       ".list-inline>li:not(:last-child)::after {content: \"\\00b7\"; padding: 0 .5ex}\n",
       "</style>\n",
       "<ol class=list-inline><li>1</li><li>3</li><li>&lt;NA&gt;</li><li>NaN</li></ol>\n"
      ],
      "text/latex": [
       "\\begin{enumerate*}\n",
       "\\item 1\n",
       "\\item 3\n",
       "\\item <NA>\n",
       "\\item NaN\n",
       "\\end{enumerate*}\n"
      ],
      "text/markdown": [
       "1. 1\n",
       "2. 3\n",
       "3. &lt;NA&gt;\n",
       "4. NaN\n",
       "\n",
       "\n"
      ],
      "text/plain": [
       "[1]   1   3  NA NaN"
      ]
     },
     "metadata": {},
     "output_type": "display_data"
    },
    {
     "data": {
      "text/html": [
       "<style>\n",
       ".list-inline {list-style: none; margin:0; padding: 0}\n",
       ".list-inline>li {display: inline-block}\n",
       ".list-inline>li:not(:last-child)::after {content: \"\\00b7\"; padding: 0 .5ex}\n",
       "</style>\n",
       "<ol class=list-inline><li>FALSE</li><li>FALSE</li><li>TRUE</li><li>TRUE</li></ol>\n"
      ],
      "text/latex": [
       "\\begin{enumerate*}\n",
       "\\item FALSE\n",
       "\\item FALSE\n",
       "\\item TRUE\n",
       "\\item TRUE\n",
       "\\end{enumerate*}\n"
      ],
      "text/markdown": [
       "1. FALSE\n",
       "2. FALSE\n",
       "3. TRUE\n",
       "4. TRUE\n",
       "\n",
       "\n"
      ],
      "text/plain": [
       "[1] FALSE FALSE  TRUE  TRUE"
      ]
     },
     "metadata": {},
     "output_type": "display_data"
    },
    {
     "data": {
      "text/html": [
       "<style>\n",
       ".list-inline {list-style: none; margin:0; padding: 0}\n",
       ".list-inline>li {display: inline-block}\n",
       ".list-inline>li:not(:last-child)::after {content: \"\\00b7\"; padding: 0 .5ex}\n",
       "</style>\n",
       "<ol class=list-inline><li>FALSE</li><li>FALSE</li><li>FALSE</li><li>TRUE</li></ol>\n"
      ],
      "text/latex": [
       "\\begin{enumerate*}\n",
       "\\item FALSE\n",
       "\\item FALSE\n",
       "\\item FALSE\n",
       "\\item TRUE\n",
       "\\end{enumerate*}\n"
      ],
      "text/markdown": [
       "1. FALSE\n",
       "2. FALSE\n",
       "3. FALSE\n",
       "4. TRUE\n",
       "\n",
       "\n"
      ],
      "text/plain": [
       "[1] FALSE FALSE FALSE  TRUE"
      ]
     },
     "metadata": {},
     "output_type": "display_data"
    }
   ],
   "source": [
    "# missing values\n",
    "# NaN is considered as NA but the converse is wrong\n",
    "x <- c(1, 3, NA, NaN)\n",
    "x\n",
    "is.na(x)\n",
    "is.nan(x)"
   ]
  },
  {
   "cell_type": "code",
   "execution_count": 89,
   "metadata": {
    "ExecuteTime": {
     "end_time": "2021-01-19T04:14:57.409903Z",
     "start_time": "2021-01-19T04:14:57.384Z"
    }
   },
   "outputs": [
    {
     "data": {
      "text/html": [
       "<table>\n",
       "<caption>A data.frame: 4 × 2</caption>\n",
       "<thead>\n",
       "\t<tr><th scope=col>foo</th><th scope=col>bar</th></tr>\n",
       "\t<tr><th scope=col>&lt;int&gt;</th><th scope=col>&lt;lgl&gt;</th></tr>\n",
       "</thead>\n",
       "<tbody>\n",
       "\t<tr><td>1</td><td> TRUE</td></tr>\n",
       "\t<tr><td>2</td><td> TRUE</td></tr>\n",
       "\t<tr><td>3</td><td>FALSE</td></tr>\n",
       "\t<tr><td>4</td><td>FALSE</td></tr>\n",
       "</tbody>\n",
       "</table>\n"
      ],
      "text/latex": [
       "A data.frame: 4 × 2\n",
       "\\begin{tabular}{ll}\n",
       " foo & bar\\\\\n",
       " <int> & <lgl>\\\\\n",
       "\\hline\n",
       "\t 1 &  TRUE\\\\\n",
       "\t 2 &  TRUE\\\\\n",
       "\t 3 & FALSE\\\\\n",
       "\t 4 & FALSE\\\\\n",
       "\\end{tabular}\n"
      ],
      "text/markdown": [
       "\n",
       "A data.frame: 4 × 2\n",
       "\n",
       "| foo &lt;int&gt; | bar &lt;lgl&gt; |\n",
       "|---|---|\n",
       "| 1 |  TRUE |\n",
       "| 2 |  TRUE |\n",
       "| 3 | FALSE |\n",
       "| 4 | FALSE |\n",
       "\n"
      ],
      "text/plain": [
       "  foo bar  \n",
       "1 1    TRUE\n",
       "2 2    TRUE\n",
       "3 3   FALSE\n",
       "4 4   FALSE"
      ]
     },
     "metadata": {},
     "output_type": "display_data"
    }
   ],
   "source": [
    "# Data Frams\n",
    "x <-data.frame(foo = 1:4, bar = c(T,T,F,F)) # 括号里面的是dataframe里面的内容！\n",
    "x"
   ]
  },
  {
   "cell_type": "code",
   "execution_count": 91,
   "metadata": {
    "ExecuteTime": {
     "end_time": "2021-01-19T04:16:30.414187Z",
     "start_time": "2021-01-19T04:16:30.377Z"
    }
   },
   "outputs": [
    {
     "data": {
      "text/plain": [
       "NULL"
      ]
     },
     "metadata": {},
     "output_type": "display_data"
    },
    {
     "data": {
      "text/html": [
       "<style>\n",
       ".dl-inline {width: auto; margin:0; padding: 0}\n",
       ".dl-inline>dt, .dl-inline>dd {float: none; width: auto; display: inline-block}\n",
       ".dl-inline>dt::after {content: \":\\0020\"; padding-right: .5ex}\n",
       ".dl-inline>dt:not(:first-of-type) {padding-left: .5ex}\n",
       "</style><dl class=dl-inline><dt>foo</dt><dd>1</dd><dt>bar</dt><dd>2</dd><dt>norf</dt><dd>3</dd></dl>\n"
      ],
      "text/latex": [
       "\\begin{description*}\n",
       "\\item[foo] 1\n",
       "\\item[bar] 2\n",
       "\\item[norf] 3\n",
       "\\end{description*}\n"
      ],
      "text/markdown": [
       "foo\n",
       ":   1bar\n",
       ":   2norf\n",
       ":   3\n",
       "\n"
      ],
      "text/plain": [
       " foo  bar norf \n",
       "   1    2    3 "
      ]
     },
     "metadata": {},
     "output_type": "display_data"
    }
   ],
   "source": [
    "# names\n",
    "x <- 1:3\n",
    "names(x)\n",
    "names(x) <- c('foo', 'bar', 'norf')\n",
    "x\n",
    "# 相当于list中每个单位都有了自己的名字"
   ]
  },
  {
   "cell_type": "code",
   "execution_count": 92,
   "metadata": {
    "ExecuteTime": {
     "end_time": "2021-01-19T04:17:15.791176Z",
     "start_time": "2021-01-19T04:17:15.763Z"
    }
   },
   "outputs": [
    {
     "data": {
      "text/html": [
       "<dl>\n",
       "\t<dt>$a</dt>\n",
       "\t\t<dd>12</dd>\n",
       "\t<dt>$b</dt>\n",
       "\t\t<dd>23</dd>\n",
       "</dl>\n"
      ],
      "text/latex": [
       "\\begin{description}\n",
       "\\item[\\$a] 12\n",
       "\\item[\\$b] 23\n",
       "\\end{description}\n"
      ],
      "text/markdown": [
       "$a\n",
       ":   12\n",
       "$b\n",
       ":   23\n",
       "\n",
       "\n"
      ],
      "text/plain": [
       "$a\n",
       "[1] 12\n",
       "\n",
       "$b\n",
       "[1] 23\n"
      ]
     },
     "metadata": {},
     "output_type": "display_data"
    },
    {
     "data": {
      "text/html": [
       "<style>\n",
       ".list-inline {list-style: none; margin:0; padding: 0}\n",
       ".list-inline>li {display: inline-block}\n",
       ".list-inline>li:not(:last-child)::after {content: \"\\00b7\"; padding: 0 .5ex}\n",
       "</style>\n",
       "<ol class=list-inline><li>'a'</li><li>'b'</li></ol>\n"
      ],
      "text/latex": [
       "\\begin{enumerate*}\n",
       "\\item 'a'\n",
       "\\item 'b'\n",
       "\\end{enumerate*}\n"
      ],
      "text/markdown": [
       "1. 'a'\n",
       "2. 'b'\n",
       "\n",
       "\n"
      ],
      "text/plain": [
       "[1] \"a\" \"b\""
      ]
     },
     "metadata": {},
     "output_type": "display_data"
    }
   ],
   "source": [
    "# names\n",
    "# list也可以有名字\n",
    "m <- list(a=12, b=23)\n",
    "m\n",
    "names(m)"
   ]
  },
  {
   "cell_type": "code",
   "execution_count": 97,
   "metadata": {
    "ExecuteTime": {
     "end_time": "2021-01-19T04:20:06.923875Z",
     "start_time": "2021-01-19T04:20:06.884Z"
    }
   },
   "outputs": [
    {
     "data": {
      "text/html": [
       "<table>\n",
       "<caption>A matrix: 2 × 2 of type int</caption>\n",
       "<tbody>\n",
       "\t<tr><td>1</td><td>3</td></tr>\n",
       "\t<tr><td>2</td><td>4</td></tr>\n",
       "</tbody>\n",
       "</table>\n"
      ],
      "text/latex": [
       "A matrix: 2 × 2 of type int\n",
       "\\begin{tabular}{ll}\n",
       "\t 1 & 3\\\\\n",
       "\t 2 & 4\\\\\n",
       "\\end{tabular}\n"
      ],
      "text/markdown": [
       "\n",
       "A matrix: 2 × 2 of type int\n",
       "\n",
       "| 1 | 3 |\n",
       "| 2 | 4 |\n",
       "\n"
      ],
      "text/plain": [
       "     [,1] [,2]\n",
       "[1,] 1    3   \n",
       "[2,] 2    4   "
      ]
     },
     "metadata": {},
     "output_type": "display_data"
    },
    {
     "data": {
      "text/html": [
       "<table>\n",
       "<caption>A matrix: 2 × 2 of type int</caption>\n",
       "<thead>\n",
       "\t<tr><th></th><th scope=col>c</th><th scope=col>d</th></tr>\n",
       "</thead>\n",
       "<tbody>\n",
       "\t<tr><th scope=row>a</th><td>1</td><td>3</td></tr>\n",
       "\t<tr><th scope=row>b</th><td>2</td><td>4</td></tr>\n",
       "</tbody>\n",
       "</table>\n"
      ],
      "text/latex": [
       "A matrix: 2 × 2 of type int\n",
       "\\begin{tabular}{r|ll}\n",
       "  & c & d\\\\\n",
       "\\hline\n",
       "\ta & 1 & 3\\\\\n",
       "\tb & 2 & 4\\\\\n",
       "\\end{tabular}\n"
      ],
      "text/markdown": [
       "\n",
       "A matrix: 2 × 2 of type int\n",
       "\n",
       "| <!--/--> | c | d |\n",
       "|---|---|---|\n",
       "| a | 1 | 3 |\n",
       "| b | 2 | 4 |\n",
       "\n"
      ],
      "text/plain": [
       "  c d\n",
       "a 1 3\n",
       "b 2 4"
      ]
     },
     "metadata": {},
     "output_type": "display_data"
    },
    {
     "data": {
      "text/plain": [
       "NULL"
      ]
     },
     "metadata": {},
     "output_type": "display_data"
    },
    {
     "data": {
      "text/html": [
       "<ol>\n",
       "\t<li><style>\n",
       ".list-inline {list-style: none; margin:0; padding: 0}\n",
       ".list-inline>li {display: inline-block}\n",
       ".list-inline>li:not(:last-child)::after {content: \"\\00b7\"; padding: 0 .5ex}\n",
       "</style>\n",
       "<ol class=list-inline><li>'a'</li><li>'b'</li></ol>\n",
       "</li>\n",
       "\t<li><style>\n",
       ".list-inline {list-style: none; margin:0; padding: 0}\n",
       ".list-inline>li {display: inline-block}\n",
       ".list-inline>li:not(:last-child)::after {content: \"\\00b7\"; padding: 0 .5ex}\n",
       "</style>\n",
       "<ol class=list-inline><li>'c'</li><li>'d'</li></ol>\n",
       "</li>\n",
       "</ol>\n"
      ],
      "text/latex": [
       "\\begin{enumerate}\n",
       "\\item \\begin{enumerate*}\n",
       "\\item 'a'\n",
       "\\item 'b'\n",
       "\\end{enumerate*}\n",
       "\n",
       "\\item \\begin{enumerate*}\n",
       "\\item 'c'\n",
       "\\item 'd'\n",
       "\\end{enumerate*}\n",
       "\n",
       "\\end{enumerate}\n"
      ],
      "text/markdown": [
       "1. 1. 'a'\n",
       "2. 'b'\n",
       "\n",
       "\n",
       "\n",
       "2. 1. 'c'\n",
       "2. 'd'\n",
       "\n",
       "\n",
       "\n",
       "\n",
       "\n"
      ],
      "text/plain": [
       "[[1]]\n",
       "[1] \"a\" \"b\"\n",
       "\n",
       "[[2]]\n",
       "[1] \"c\" \"d\"\n"
      ]
     },
     "metadata": {},
     "output_type": "display_data"
    }
   ],
   "source": [
    "# names\n",
    "# 矩阵也可以有名字\n",
    "m <- matrix(1:4, nrow=2, ncol=2)\n",
    "m\n",
    "dimnames(m) = list(c('a', 'b'), c('c', 'd'))\n",
    "m\n",
    "\n",
    "names(m) # 因为设置的是dimnames所以names里面为空\n",
    "dimnames(m) # 为设置里面的list内容"
   ]
  },
  {
   "cell_type": "code",
   "execution_count": 116,
   "metadata": {
    "ExecuteTime": {
     "end_time": "2021-01-19T04:33:01.750955Z",
     "start_time": "2021-01-19T04:33:01.706Z"
    }
   },
   "outputs": [
    {
     "data": {
      "text/html": [
       "<table>\n",
       "<caption>A data.frame: 9 × 3</caption>\n",
       "<thead>\n",
       "\t<tr><th scope=col>name</th><th scope=col>grade</th><th scope=col>height</th></tr>\n",
       "\t<tr><th scope=col>&lt;chr&gt;</th><th scope=col>&lt;dbl&gt;</th><th scope=col>&lt;int&gt;</th></tr>\n",
       "</thead>\n",
       "<tbody>\n",
       "\t<tr><td>a </td><td>83.661087</td><td>1</td></tr>\n",
       "\t<tr><td>s </td><td>74.432939</td><td>2</td></tr>\n",
       "\t<tr><td>v </td><td>66.755592</td><td>3</td></tr>\n",
       "\t<tr><td>w </td><td> 3.813707</td><td>4</td></tr>\n",
       "\t<tr><td>f </td><td>55.148212</td><td>5</td></tr>\n",
       "\t<tr><td>d </td><td>63.216028</td><td>6</td></tr>\n",
       "\t<tr><td>x </td><td>56.852869</td><td>7</td></tr>\n",
       "\t<tr><td>ws</td><td>33.555481</td><td>8</td></tr>\n",
       "\t<tr><td>f </td><td>85.509272</td><td>9</td></tr>\n",
       "</tbody>\n",
       "</table>\n"
      ],
      "text/latex": [
       "A data.frame: 9 × 3\n",
       "\\begin{tabular}{lll}\n",
       " name & grade & height\\\\\n",
       " <chr> & <dbl> & <int>\\\\\n",
       "\\hline\n",
       "\t a  & 83.661087 & 1\\\\\n",
       "\t s  & 74.432939 & 2\\\\\n",
       "\t v  & 66.755592 & 3\\\\\n",
       "\t w  &  3.813707 & 4\\\\\n",
       "\t f  & 55.148212 & 5\\\\\n",
       "\t d  & 63.216028 & 6\\\\\n",
       "\t x  & 56.852869 & 7\\\\\n",
       "\t ws & 33.555481 & 8\\\\\n",
       "\t f  & 85.509272 & 9\\\\\n",
       "\\end{tabular}\n"
      ],
      "text/markdown": [
       "\n",
       "A data.frame: 9 × 3\n",
       "\n",
       "| name &lt;chr&gt; | grade &lt;dbl&gt; | height &lt;int&gt; |\n",
       "|---|---|---|\n",
       "| a  | 83.661087 | 1 |\n",
       "| s  | 74.432939 | 2 |\n",
       "| v  | 66.755592 | 3 |\n",
       "| w  |  3.813707 | 4 |\n",
       "| f  | 55.148212 | 5 |\n",
       "| d  | 63.216028 | 6 |\n",
       "| x  | 56.852869 | 7 |\n",
       "| ws | 33.555481 | 8 |\n",
       "| f  | 85.509272 | 9 |\n",
       "\n"
      ],
      "text/plain": [
       "  name grade     height\n",
       "1 a    83.661087 1     \n",
       "2 s    74.432939 2     \n",
       "3 v    66.755592 3     \n",
       "4 w     3.813707 4     \n",
       "5 f    55.148212 5     \n",
       "6 d    63.216028 6     \n",
       "7 x    56.852869 7     \n",
       "8 ws   33.555481 8     \n",
       "9 f    85.509272 9     "
      ]
     },
     "metadata": {},
     "output_type": "display_data"
    },
    {
     "data": {
      "text/html": [
       "<table>\n",
       "<caption>A data.frame: 10 × 1</caption>\n",
       "<thead>\n",
       "\t<tr><th scope=col>V1</th></tr>\n",
       "\t<tr><th scope=col>&lt;chr&gt;</th></tr>\n",
       "</thead>\n",
       "<tbody>\n",
       "\t<tr><td>sdouiwooiuwxe</td></tr>\n",
       "\t<tr><td>pwex         </td></tr>\n",
       "\t<tr><td>pweup        </td></tr>\n",
       "\t<tr><td>9xuwep9w     </td></tr>\n",
       "\t<tr><td>pwue9p       </td></tr>\n",
       "\t<tr><td>xwe9p        </td></tr>\n",
       "\t<tr><td>xnwepu9      </td></tr>\n",
       "\t<tr><td>rnupwe9      </td></tr>\n",
       "\t<tr><td>nusp         </td></tr>\n",
       "\t<tr><td>9nfpsomfosmo;</td></tr>\n",
       "</tbody>\n",
       "</table>\n"
      ],
      "text/latex": [
       "A data.frame: 10 × 1\n",
       "\\begin{tabular}{l}\n",
       " V1\\\\\n",
       " <chr>\\\\\n",
       "\\hline\n",
       "\t sdouiwooiuwxe\\\\\n",
       "\t pwex         \\\\\n",
       "\t pweup        \\\\\n",
       "\t 9xuwep9w     \\\\\n",
       "\t pwue9p       \\\\\n",
       "\t xwe9p        \\\\\n",
       "\t xnwepu9      \\\\\n",
       "\t rnupwe9      \\\\\n",
       "\t nusp         \\\\\n",
       "\t 9nfpsomfosmo;\\\\\n",
       "\\end{tabular}\n"
      ],
      "text/markdown": [
       "\n",
       "A data.frame: 10 × 1\n",
       "\n",
       "| V1 &lt;chr&gt; |\n",
       "|---|\n",
       "| sdouiwooiuwxe |\n",
       "| pwex          |\n",
       "| pweup         |\n",
       "| 9xuwep9w      |\n",
       "| pwue9p        |\n",
       "| xwe9p         |\n",
       "| xnwepu9       |\n",
       "| rnupwe9       |\n",
       "| nusp          |\n",
       "| 9nfpsomfosmo; |\n",
       "\n"
      ],
      "text/plain": [
       "   V1           \n",
       "1  sdouiwooiuwxe\n",
       "2  pwex         \n",
       "3  pweup        \n",
       "4  9xuwep9w     \n",
       "5  pwue9p       \n",
       "6  xwe9p        \n",
       "7  xnwepu9      \n",
       "8  rnupwe9      \n",
       "9  nusp         \n",
       "10 9nfpsomfosmo;"
      ]
     },
     "metadata": {},
     "output_type": "display_data"
    }
   ],
   "source": [
    "# reading data 读取数据\n",
    "# read.table, read.csv是读取外部tabular数据\n",
    "# readLines读取一个txt文件每一行\n",
    "# source读取外部R code\n",
    "# dget读取外部R code (inverse of dput)\n",
    "# load读取in saved workspaces\n",
    "# unserialize读取single R objects in binary form\n",
    "\n",
    "# 注意：外部数据地址的/一定不是\\!\n",
    "# read.table()会自动识别txt和csv! read.csv()仅有的不同为the seperator is a comma\n",
    "direction = 'C:/Users/handsomevictor/Desktop/学习R/try.csv'\n",
    "text_direction = 'C:/Users/handsomevictor/Desktop/学习R/hate you.txt'\n",
    "\n",
    "data = read.csv(direction)\n",
    "data\n",
    "\n",
    "text_file = read.table(text_direction)\n",
    "text_file # txt文件按每一行输出dataframe格式!"
   ]
  },
  {
   "cell_type": "code",
   "execution_count": 128,
   "metadata": {
    "ExecuteTime": {
     "end_time": "2021-01-19T04:41:02.847714Z",
     "start_time": "2021-01-19T04:41:02.811Z"
    }
   },
   "outputs": [
    {
     "data": {
      "text/html": [
       "<table>\n",
       "<caption>A data.frame: 3 × 1</caption>\n",
       "<thead>\n",
       "\t<tr><th scope=col>V1</th></tr>\n",
       "\t<tr><th scope=col>&lt;chr&gt;</th></tr>\n",
       "</thead>\n",
       "<tbody>\n",
       "\t<tr><td>sdouiwooiuwxe</td></tr>\n",
       "\t<tr><td>pwex         </td></tr>\n",
       "\t<tr><td>pweup        </td></tr>\n",
       "</tbody>\n",
       "</table>\n"
      ],
      "text/latex": [
       "A data.frame: 3 × 1\n",
       "\\begin{tabular}{l}\n",
       " V1\\\\\n",
       " <chr>\\\\\n",
       "\\hline\n",
       "\t sdouiwooiuwxe\\\\\n",
       "\t pwex         \\\\\n",
       "\t pweup        \\\\\n",
       "\\end{tabular}\n"
      ],
      "text/markdown": [
       "\n",
       "A data.frame: 3 × 1\n",
       "\n",
       "| V1 &lt;chr&gt; |\n",
       "|---|\n",
       "| sdouiwooiuwxe |\n",
       "| pwex          |\n",
       "| pweup         |\n",
       "\n"
      ],
      "text/plain": [
       "  V1           \n",
       "1 sdouiwooiuwxe\n",
       "2 pwex         \n",
       "3 pweup        "
      ]
     },
     "metadata": {},
     "output_type": "display_data"
    },
    {
     "data": {
      "text/html": [
       "<table>\n",
       "<caption>A data.frame: 5 × 1</caption>\n",
       "<thead>\n",
       "\t<tr><th scope=col>V1</th></tr>\n",
       "\t<tr><th scope=col>&lt;chr&gt;</th></tr>\n",
       "</thead>\n",
       "<tbody>\n",
       "\t<tr><td>sdouiwooiuwxe</td></tr>\n",
       "\t<tr><td>pwex         </td></tr>\n",
       "\t<tr><td>pweup        </td></tr>\n",
       "\t<tr><td>9xuwep9w     </td></tr>\n",
       "\t<tr><td>pwue9p       </td></tr>\n",
       "</tbody>\n",
       "</table>\n"
      ],
      "text/latex": [
       "A data.frame: 5 × 1\n",
       "\\begin{tabular}{l}\n",
       " V1\\\\\n",
       " <chr>\\\\\n",
       "\\hline\n",
       "\t sdouiwooiuwxe\\\\\n",
       "\t pwex         \\\\\n",
       "\t pweup        \\\\\n",
       "\t 9xuwep9w     \\\\\n",
       "\t pwue9p       \\\\\n",
       "\\end{tabular}\n"
      ],
      "text/markdown": [
       "\n",
       "A data.frame: 5 × 1\n",
       "\n",
       "| V1 &lt;chr&gt; |\n",
       "|---|\n",
       "| sdouiwooiuwxe |\n",
       "| pwex          |\n",
       "| pweup         |\n",
       "| 9xuwep9w      |\n",
       "| pwue9p        |\n",
       "\n"
      ],
      "text/plain": [
       "  V1           \n",
       "1 sdouiwooiuwxe\n",
       "2 pwex         \n",
       "3 pweup        \n",
       "4 9xuwep9w     \n",
       "5 pwue9p       "
      ]
     },
     "metadata": {},
     "output_type": "display_data"
    }
   ],
   "source": [
    "# reading large tables\n",
    "# 读取大量数据\n",
    "# 如果内存不够用，先尝试comment.char = \"\" if there are no commenred lines in your file\n",
    "# 也可以用colClasses来让R运行的更快\n",
    "\n",
    "initial <- read.table('C:/Users/handsomevictor/Desktop/学习R/hate you.txt', nrows = 3) # 这里nrows指的是前多少行，不会让R更快，但会让内存更好\n",
    "initial\n",
    "\n",
    "classes <- sapply(initial, class) # 这个只是获取initial里面的每一列的种类，好让r运行的更快点\n",
    "tabAll <- read.table('C:/Users/handsomevictor/Desktop/学习R/hate you.txt',\n",
    "                    colClasses = classes, nrows = 5) # 这种办法更快\n",
    "tabAll"
   ]
  },
  {
   "cell_type": "code",
   "execution_count": 132,
   "metadata": {
    "ExecuteTime": {
     "end_time": "2021-01-19T05:18:00.010884Z",
     "start_time": "2021-01-19T05:17:59.969Z"
    }
   },
   "outputs": [
    {
     "data": {
      "text/html": [
       "<table>\n",
       "<caption>A data.frame: 1 × 2</caption>\n",
       "<thead>\n",
       "\t<tr><th scope=col>a</th><th scope=col>b</th></tr>\n",
       "\t<tr><th scope=col>&lt;dbl&gt;</th><th scope=col>&lt;chr&gt;</th></tr>\n",
       "</thead>\n",
       "<tbody>\n",
       "\t<tr><td>1</td><td>a</td></tr>\n",
       "</tbody>\n",
       "</table>\n"
      ],
      "text/latex": [
       "A data.frame: 1 × 2\n",
       "\\begin{tabular}{ll}\n",
       " a & b\\\\\n",
       " <dbl> & <chr>\\\\\n",
       "\\hline\n",
       "\t 1 & a\\\\\n",
       "\\end{tabular}\n"
      ],
      "text/markdown": [
       "\n",
       "A data.frame: 1 × 2\n",
       "\n",
       "| a &lt;dbl&gt; | b &lt;chr&gt; |\n",
       "|---|---|\n",
       "| 1 | a |\n",
       "\n"
      ],
      "text/plain": [
       "  a b\n",
       "1 1 a"
      ]
     },
     "metadata": {},
     "output_type": "display_data"
    },
    {
     "name": "stdout",
     "output_type": "stream",
     "text": [
      "structure(list(a = 1, b = \"a\"), class = \"data.frame\", row.names = c(NA, \n",
      "-1L))\n"
     ]
    },
    {
     "data": {
      "text/html": [
       "<table>\n",
       "<caption>A data.frame: 1 × 2</caption>\n",
       "<thead>\n",
       "\t<tr><th scope=col>a</th><th scope=col>b</th></tr>\n",
       "\t<tr><th scope=col>&lt;dbl&gt;</th><th scope=col>&lt;chr&gt;</th></tr>\n",
       "</thead>\n",
       "<tbody>\n",
       "\t<tr><td>1</td><td>a</td></tr>\n",
       "</tbody>\n",
       "</table>\n"
      ],
      "text/latex": [
       "A data.frame: 1 × 2\n",
       "\\begin{tabular}{ll}\n",
       " a & b\\\\\n",
       " <dbl> & <chr>\\\\\n",
       "\\hline\n",
       "\t 1 & a\\\\\n",
       "\\end{tabular}\n"
      ],
      "text/markdown": [
       "\n",
       "A data.frame: 1 × 2\n",
       "\n",
       "| a &lt;dbl&gt; | b &lt;chr&gt; |\n",
       "|---|---|\n",
       "| 1 | a |\n",
       "\n"
      ],
      "text/plain": [
       "  a b\n",
       "1 1 a"
      ]
     },
     "metadata": {},
     "output_type": "display_data"
    }
   ],
   "source": [
    "# dput-ting R object\n",
    "y <- data.frame(a=1, b='a')\n",
    "y\n",
    "dput(y) # 可以看到具体信息，根据这些信息足够创建一个y了，reconstruct R object\n",
    "dput(y, file='y.R')\n",
    "new.y <- dget('y.R') # 会产生一个y.R的文件，供短期使用\n",
    "new.y"
   ]
  },
  {
   "cell_type": "code",
   "execution_count": 137,
   "metadata": {
    "ExecuteTime": {
     "end_time": "2021-01-19T05:23:32.976742Z",
     "start_time": "2021-01-19T05:23:32.940Z"
    }
   },
   "outputs": [
    {
     "data": {
      "text/html": [
       "<table>\n",
       "<caption>A data.frame: 1 × 2</caption>\n",
       "<thead>\n",
       "\t<tr><th scope=col>a</th><th scope=col>b</th></tr>\n",
       "\t<tr><th scope=col>&lt;dbl&gt;</th><th scope=col>&lt;chr&gt;</th></tr>\n",
       "</thead>\n",
       "<tbody>\n",
       "\t<tr><td>1</td><td>a</td></tr>\n",
       "</tbody>\n",
       "</table>\n"
      ],
      "text/latex": [
       "A data.frame: 1 × 2\n",
       "\\begin{tabular}{ll}\n",
       " a & b\\\\\n",
       " <dbl> & <chr>\\\\\n",
       "\\hline\n",
       "\t 1 & a\\\\\n",
       "\\end{tabular}\n"
      ],
      "text/markdown": [
       "\n",
       "A data.frame: 1 × 2\n",
       "\n",
       "| a &lt;dbl&gt; | b &lt;chr&gt; |\n",
       "|---|---|\n",
       "| 1 | a |\n",
       "\n"
      ],
      "text/plain": [
       "  a b\n",
       "1 1 a"
      ]
     },
     "metadata": {},
     "output_type": "display_data"
    },
    {
     "data": {
      "text/html": [
       "<table>\n",
       "<caption>A data.frame: 1 × 2</caption>\n",
       "<thead>\n",
       "\t<tr><th scope=col>a</th><th scope=col>b</th></tr>\n",
       "\t<tr><th scope=col>&lt;dbl&gt;</th><th scope=col>&lt;chr&gt;</th></tr>\n",
       "</thead>\n",
       "<tbody>\n",
       "\t<tr><td>1</td><td>a</td></tr>\n",
       "</tbody>\n",
       "</table>\n"
      ],
      "text/latex": [
       "A data.frame: 1 × 2\n",
       "\\begin{tabular}{ll}\n",
       " a & b\\\\\n",
       " <dbl> & <chr>\\\\\n",
       "\\hline\n",
       "\t 1 & a\\\\\n",
       "\\end{tabular}\n"
      ],
      "text/markdown": [
       "\n",
       "A data.frame: 1 × 2\n",
       "\n",
       "| a &lt;dbl&gt; | b &lt;chr&gt; |\n",
       "|---|---|\n",
       "| 1 | a |\n",
       "\n"
      ],
      "text/plain": [
       "  a b\n",
       "1 1 a"
      ]
     },
     "metadata": {},
     "output_type": "display_data"
    }
   ],
   "source": [
    "# dumping\n",
    "x <- 'foo'\n",
    "y <- data.frame(a=1, b='a')\n",
    "dump(c('x', 'y'), file='data.R')\n",
    "y\n",
    "rm(x, y)\n",
    "# y # 此时已经被remove掉了\n",
    "\n",
    "source('data.R')\n",
    "y"
   ]
  },
  {
   "cell_type": "code",
   "execution_count": 141,
   "metadata": {
    "ExecuteTime": {
     "end_time": "2021-01-19T05:26:35.360536Z",
     "start_time": "2021-01-19T05:26:35.336Z"
    }
   },
   "outputs": [
    {
     "name": "stdout",
     "output_type": "stream",
     "text": [
      "function (description = \"\", open = \"\", blocking = TRUE, encoding = getOption(\"encoding\"), \n",
      "    raw = FALSE, method = getOption(\"url.method\", \"default\"))  \n",
      "function (description, open = \"\", encoding = getOption(\"encoding\"), compression = 6)  \n"
     ]
    }
   ],
   "source": [
    "# interface to the outside world\n",
    "# file, gzfile (compressed with gzip), bzfile, url\n",
    "str(file)\n",
    "str(gzfile) # 查看细节，没啥用"
   ]
  },
  {
   "cell_type": "code",
   "execution_count": 148,
   "metadata": {
    "ExecuteTime": {
     "end_time": "2021-01-19T05:29:03.733455Z",
     "start_time": "2021-01-19T05:29:03.703Z"
    }
   },
   "outputs": [
    {
     "data": {
      "text/plain": [
       "A connection with                            \n",
       "description \"rval\"          \n",
       "class       \"textConnection\"\n",
       "mode        \"w\"             \n",
       "text        \"text\"          \n",
       "opened      \"opened\"        \n",
       "can read    \"no\"            \n",
       "can write   \"yes\"           "
      ]
     },
     "metadata": {},
     "output_type": "display_data"
    }
   ],
   "source": [
    "# connections\n",
    "con <- file('C:/Users/handsomevictor/Desktop/学习R/hate you.txt', 'r')\n",
    "data <- read.csv(con)\n",
    "close(con)\n",
    "con\n",
    "# 这个跟data <- read.csv(direction)一样"
   ]
  },
  {
   "cell_type": "code",
   "execution_count": 153,
   "metadata": {
    "ExecuteTime": {
     "end_time": "2021-01-19T05:33:32.750316Z",
     "start_time": "2021-01-19T05:33:31.519Z"
    }
   },
   "outputs": [
    {
     "data": {
      "text/html": [
       "<ol>\n",
       "\t<li><style>\n",
       ".list-inline {list-style: none; margin:0; padding: 0}\n",
       ".list-inline>li {display: inline-block}\n",
       ".list-inline>li:not(:last-child)::after {content: \"\\00b7\"; padding: 0 .5ex}\n",
       "</style>\n",
       "<ol class=list-inline><li>'&lt;!DOCTYPE html&gt;'</li><li>'&lt;html lang=\"en-US\"&gt;'</li><li>'&lt;head&gt;'</li><li>'&lt;meta charset=\"UTF-8\"&gt;'</li><li>'&lt;meta name=\"viewport\" content=\"width=device-width, initial-scale=1\"&gt;'</li><li>'&lt;link rel=\"profile\" href=\"https://gmpg.org/xfn/11\"&gt;'</li></ol>\n",
       "</li>\n",
       "</ol>\n"
      ],
      "text/latex": [
       "\\begin{enumerate}\n",
       "\\item \\begin{enumerate*}\n",
       "\\item '<!DOCTYPE html>'\n",
       "\\item '<html lang=\"en-US\">'\n",
       "\\item '<head>'\n",
       "\\item '<meta charset=\"UTF-8\">'\n",
       "\\item '<meta name=\"viewport\" content=\"width=device-width, initial-scale=1\">'\n",
       "\\item '<link rel=\"profile\" href=\"https://gmpg.org/xfn/11\">'\n",
       "\\end{enumerate*}\n",
       "\n",
       "\\end{enumerate}\n"
      ],
      "text/markdown": [
       "1. 1. '&lt;!DOCTYPE html&gt;'\n",
       "2. '&lt;html lang=\"en-US\"&gt;'\n",
       "3. '&lt;head&gt;'\n",
       "4. '&lt;meta charset=\"UTF-8\"&gt;'\n",
       "5. '&lt;meta name=\"viewport\" content=\"width=device-width, initial-scale=1\"&gt;'\n",
       "6. '&lt;link rel=\"profile\" href=\"https://gmpg.org/xfn/11\"&gt;'\n",
       "\n",
       "\n",
       "\n",
       "\n",
       "\n"
      ],
      "text/plain": [
       "[[1]]\n",
       "[1] \"<!DOCTYPE html>\"                                                         \n",
       "[2] \"<html lang=\\\"en-US\\\">\"                                                   \n",
       "[3] \"<head>\"                                                                  \n",
       "[4] \"<meta charset=\\\"UTF-8\\\">\"                                                \n",
       "[5] \"<meta name=\\\"viewport\\\" content=\\\"width=device-width, initial-scale=1\\\">\"\n",
       "[6] \"<link rel=\\\"profile\\\" href=\\\"https://gmpg.org/xfn/11\\\">\"                 \n"
      ]
     },
     "metadata": {},
     "output_type": "display_data"
    }
   ],
   "source": [
    "# 也可以用readLines来读取网页\n",
    "con <- url('http://zhenning-li.com/', 'r')\n",
    "x <- readLines(con)\n",
    "head(x) # 爬取的是html"
   ]
  },
  {
   "cell_type": "code",
   "execution_count": 161,
   "metadata": {
    "ExecuteTime": {
     "end_time": "2021-01-19T05:43:01.369322Z",
     "start_time": "2021-01-19T05:43:01.326Z"
    }
   },
   "outputs": [
    {
     "data": {
      "text/html": [
       "1"
      ],
      "text/latex": [
       "1"
      ],
      "text/markdown": [
       "1"
      ],
      "text/plain": [
       "[1] 1"
      ]
     },
     "metadata": {},
     "output_type": "display_data"
    },
    {
     "data": {
      "text/html": [
       "'numeric'"
      ],
      "text/latex": [
       "'numeric'"
      ],
      "text/markdown": [
       "'numeric'"
      ],
      "text/plain": [
       "[1] \"numeric\""
      ]
     },
     "metadata": {},
     "output_type": "display_data"
    },
    {
     "data": {
      "text/html": [
       "<style>\n",
       ".list-inline {list-style: none; margin:0; padding: 0}\n",
       ".list-inline>li {display: inline-block}\n",
       ".list-inline>li:not(:last-child)::after {content: \"\\00b7\"; padding: 0 .5ex}\n",
       "</style>\n",
       "<ol class=list-inline><li>1</li><li>2</li><li>3</li><li>4</li></ol>\n"
      ],
      "text/latex": [
       "\\begin{enumerate*}\n",
       "\\item 1\n",
       "\\item 2\n",
       "\\item 3\n",
       "\\item 4\n",
       "\\end{enumerate*}\n"
      ],
      "text/markdown": [
       "1. 1\n",
       "2. 2\n",
       "3. 3\n",
       "4. 4\n",
       "\n",
       "\n"
      ],
      "text/plain": [
       "[1] 1 2 3 4"
      ]
     },
     "metadata": {},
     "output_type": "display_data"
    },
    {
     "data": {
      "text/html": [
       "'numeric'"
      ],
      "text/latex": [
       "'numeric'"
      ],
      "text/markdown": [
       "'numeric'"
      ],
      "text/plain": [
       "[1] \"numeric\""
      ]
     },
     "metadata": {},
     "output_type": "display_data"
    },
    {
     "data": {
      "text/html": [
       "1"
      ],
      "text/latex": [
       "1"
      ],
      "text/markdown": [
       "1"
      ],
      "text/plain": [
       "[1] 1"
      ]
     },
     "metadata": {},
     "output_type": "display_data"
    },
    {
     "data": {
      "text/html": [
       "'numeric'"
      ],
      "text/latex": [
       "'numeric'"
      ],
      "text/markdown": [
       "'numeric'"
      ],
      "text/plain": [
       "[1] \"numeric\""
      ]
     },
     "metadata": {},
     "output_type": "display_data"
    }
   ],
   "source": [
    "# subsetting R objects\n",
    "# [] returns an object of the same class as the original\n",
    "# [[]] is used to extract elements of a list or a data frame, used to extract a single element\n",
    "# $ us used for returning certain names\n",
    "x <- c(1, 2, 3, 4, 5, 4, 4, 3, 2)\n",
    "x[1]\n",
    "class(x[1])\n",
    "\n",
    "x[1:4]\n",
    "class(x[1:4])\n",
    "\n",
    "x[[1]]\n",
    "class(x[[1]])"
   ]
  },
  {
   "cell_type": "code",
   "execution_count": 167,
   "metadata": {
    "ExecuteTime": {
     "end_time": "2021-01-19T05:44:38.515235Z",
     "start_time": "2021-01-19T05:44:38.480Z"
    }
   },
   "outputs": [
    {
     "data": {
      "text/html": [
       "'a'"
      ],
      "text/latex": [
       "'a'"
      ],
      "text/markdown": [
       "'a'"
      ],
      "text/plain": [
       "[1] \"a\""
      ]
     },
     "metadata": {},
     "output_type": "display_data"
    },
    {
     "data": {
      "text/html": [
       "<style>\n",
       ".list-inline {list-style: none; margin:0; padding: 0}\n",
       ".list-inline>li {display: inline-block}\n",
       ".list-inline>li:not(:last-child)::after {content: \"\\00b7\"; padding: 0 .5ex}\n",
       "</style>\n",
       "<ol class=list-inline><li>'b'</li><li>'c'</li><li>'d'</li><li>'e'</li></ol>\n"
      ],
      "text/latex": [
       "\\begin{enumerate*}\n",
       "\\item 'b'\n",
       "\\item 'c'\n",
       "\\item 'd'\n",
       "\\item 'e'\n",
       "\\end{enumerate*}\n"
      ],
      "text/markdown": [
       "1. 'b'\n",
       "2. 'c'\n",
       "3. 'd'\n",
       "4. 'e'\n",
       "\n",
       "\n"
      ],
      "text/plain": [
       "[1] \"b\" \"c\" \"d\" \"e\""
      ]
     },
     "metadata": {},
     "output_type": "display_data"
    },
    {
     "data": {
      "text/html": [
       "<style>\n",
       ".list-inline {list-style: none; margin:0; padding: 0}\n",
       ".list-inline>li {display: inline-block}\n",
       ".list-inline>li:not(:last-child)::after {content: \"\\00b7\"; padding: 0 .5ex}\n",
       "</style>\n",
       "<ol class=list-inline><li>FALSE</li><li>TRUE</li><li>TRUE</li><li>TRUE</li><li>TRUE</li><li>FALSE</li></ol>\n"
      ],
      "text/latex": [
       "\\begin{enumerate*}\n",
       "\\item FALSE\n",
       "\\item TRUE\n",
       "\\item TRUE\n",
       "\\item TRUE\n",
       "\\item TRUE\n",
       "\\item FALSE\n",
       "\\end{enumerate*}\n"
      ],
      "text/markdown": [
       "1. FALSE\n",
       "2. TRUE\n",
       "3. TRUE\n",
       "4. TRUE\n",
       "5. TRUE\n",
       "6. FALSE\n",
       "\n",
       "\n"
      ],
      "text/plain": [
       "[1] FALSE  TRUE  TRUE  TRUE  TRUE FALSE"
      ]
     },
     "metadata": {},
     "output_type": "display_data"
    },
    {
     "data": {
      "text/html": [
       "<style>\n",
       ".list-inline {list-style: none; margin:0; padding: 0}\n",
       ".list-inline>li {display: inline-block}\n",
       ".list-inline>li:not(:last-child)::after {content: \"\\00b7\"; padding: 0 .5ex}\n",
       "</style>\n",
       "<ol class=list-inline><li>'b'</li><li>'c'</li><li>'d'</li><li>'e'</li></ol>\n"
      ],
      "text/latex": [
       "\\begin{enumerate*}\n",
       "\\item 'b'\n",
       "\\item 'c'\n",
       "\\item 'd'\n",
       "\\item 'e'\n",
       "\\end{enumerate*}\n"
      ],
      "text/markdown": [
       "1. 'b'\n",
       "2. 'c'\n",
       "3. 'd'\n",
       "4. 'e'\n",
       "\n",
       "\n"
      ],
      "text/plain": [
       "[1] \"b\" \"c\" \"d\" \"e\""
      ]
     },
     "metadata": {},
     "output_type": "display_data"
    }
   ],
   "source": [
    "# subsetting R objects\n",
    "x <- c('a','b','c','d','e',3)\n",
    "x[1]\n",
    "x[x > 'a'] # 这里字母可以比较大小! 但是不会返回数字\n",
    "\n",
    "u<- x>'a'\n",
    "u\n",
    "x[u]"
   ]
  },
  {
   "cell_type": "code",
   "execution_count": 180,
   "metadata": {
    "ExecuteTime": {
     "end_time": "2021-01-19T05:56:50.138083Z",
     "start_time": "2021-01-19T05:56:50.077Z"
    }
   },
   "outputs": [
    {
     "data": {
      "text/html": [
       "<dl>\n",
       "\t<dt>$foo</dt>\n",
       "\t\t<dd><style>\n",
       ".list-inline {list-style: none; margin:0; padding: 0}\n",
       ".list-inline>li {display: inline-block}\n",
       ".list-inline>li:not(:last-child)::after {content: \"\\00b7\"; padding: 0 .5ex}\n",
       "</style>\n",
       "<ol class=list-inline><li>1</li><li>2</li><li>3</li><li>4</li></ol>\n",
       "</dd>\n",
       "\t<dt>$bar</dt>\n",
       "\t\t<dd>0.6</dd>\n",
       "</dl>\n"
      ],
      "text/latex": [
       "\\begin{description}\n",
       "\\item[\\$foo] \\begin{enumerate*}\n",
       "\\item 1\n",
       "\\item 2\n",
       "\\item 3\n",
       "\\item 4\n",
       "\\end{enumerate*}\n",
       "\n",
       "\\item[\\$bar] 0.6\n",
       "\\end{description}\n"
      ],
      "text/markdown": [
       "$foo\n",
       ":   1. 1\n",
       "2. 2\n",
       "3. 3\n",
       "4. 4\n",
       "\n",
       "\n",
       "\n",
       "$bar\n",
       ":   0.6\n",
       "\n",
       "\n"
      ],
      "text/plain": [
       "$foo\n",
       "[1] 1 2 3 4\n",
       "\n",
       "$bar\n",
       "[1] 0.6\n"
      ]
     },
     "metadata": {},
     "output_type": "display_data"
    },
    {
     "data": {
      "text/html": [
       "'-------'"
      ],
      "text/latex": [
       "'-------'"
      ],
      "text/markdown": [
       "'-------'"
      ],
      "text/plain": [
       "[1] \"-------\""
      ]
     },
     "metadata": {},
     "output_type": "display_data"
    },
    {
     "data": {
      "text/html": [
       "<strong>$bar</strong> = 0.6"
      ],
      "text/latex": [
       "\\textbf{\\$bar} = 0.6"
      ],
      "text/markdown": [
       "**$bar** = 0.6"
      ],
      "text/plain": [
       "$bar\n",
       "[1] 0.6\n"
      ]
     },
     "metadata": {},
     "output_type": "display_data"
    },
    {
     "data": {
      "text/html": [
       "<strong>$foo</strong> = <style>\n",
       ".list-inline {list-style: none; margin:0; padding: 0}\n",
       ".list-inline>li {display: inline-block}\n",
       ".list-inline>li:not(:last-child)::after {content: \"\\00b7\"; padding: 0 .5ex}\n",
       "</style>\n",
       "<ol class=list-inline><li>1</li><li>2</li><li>3</li><li>4</li></ol>\n"
      ],
      "text/latex": [
       "\\textbf{\\$foo} = \\begin{enumerate*}\n",
       "\\item 1\n",
       "\\item 2\n",
       "\\item 3\n",
       "\\item 4\n",
       "\\end{enumerate*}\n"
      ],
      "text/markdown": [
       "**$foo** = 1. 1\n",
       "2. 2\n",
       "3. 3\n",
       "4. 4\n",
       "\n",
       "\n"
      ],
      "text/plain": [
       "$foo\n",
       "[1] 1 2 3 4\n"
      ]
     },
     "metadata": {},
     "output_type": "display_data"
    },
    {
     "data": {
      "text/html": [
       "'list'"
      ],
      "text/latex": [
       "'list'"
      ],
      "text/markdown": [
       "'list'"
      ],
      "text/plain": [
       "[1] \"list\""
      ]
     },
     "metadata": {},
     "output_type": "display_data"
    },
    {
     "data": {
      "text/html": [
       "<style>\n",
       ".list-inline {list-style: none; margin:0; padding: 0}\n",
       ".list-inline>li {display: inline-block}\n",
       ".list-inline>li:not(:last-child)::after {content: \"\\00b7\"; padding: 0 .5ex}\n",
       "</style>\n",
       "<ol class=list-inline><li>1</li><li>2</li><li>3</li><li>4</li></ol>\n"
      ],
      "text/latex": [
       "\\begin{enumerate*}\n",
       "\\item 1\n",
       "\\item 2\n",
       "\\item 3\n",
       "\\item 4\n",
       "\\end{enumerate*}\n"
      ],
      "text/markdown": [
       "1. 1\n",
       "2. 2\n",
       "3. 3\n",
       "4. 4\n",
       "\n",
       "\n"
      ],
      "text/plain": [
       "[1] 1 2 3 4"
      ]
     },
     "metadata": {},
     "output_type": "display_data"
    },
    {
     "data": {
      "text/html": [
       "'integer'"
      ],
      "text/latex": [
       "'integer'"
      ],
      "text/markdown": [
       "'integer'"
      ],
      "text/plain": [
       "[1] \"integer\""
      ]
     },
     "metadata": {},
     "output_type": "display_data"
    },
    {
     "data": {
      "text/html": [
       "'-------'"
      ],
      "text/latex": [
       "'-------'"
      ],
      "text/markdown": [
       "'-------'"
      ],
      "text/plain": [
       "[1] \"-------\""
      ]
     },
     "metadata": {},
     "output_type": "display_data"
    },
    {
     "data": {
      "text/html": [
       "0.6"
      ],
      "text/latex": [
       "0.6"
      ],
      "text/markdown": [
       "0.6"
      ],
      "text/plain": [
       "[1] 0.6"
      ]
     },
     "metadata": {},
     "output_type": "display_data"
    },
    {
     "data": {
      "text/html": [
       "0.6"
      ],
      "text/latex": [
       "0.6"
      ],
      "text/markdown": [
       "0.6"
      ],
      "text/plain": [
       "[1] 0.6"
      ]
     },
     "metadata": {},
     "output_type": "display_data"
    },
    {
     "data": {
      "text/html": [
       "<strong>$bar</strong> = 0.6"
      ],
      "text/latex": [
       "\\textbf{\\$bar} = 0.6"
      ],
      "text/markdown": [
       "**$bar** = 0.6"
      ],
      "text/plain": [
       "$bar\n",
       "[1] 0.6\n"
      ]
     },
     "metadata": {},
     "output_type": "display_data"
    }
   ],
   "source": [
    "# subsetting R lists\n",
    "x <- list(foo=1:4, bar=0.6)\n",
    "x\n",
    "'-------'\n",
    "x[2]\n",
    "x[1]\n",
    "class(x[1]) # 这个是list! 跟原来的class一样\n",
    "\n",
    "x[[1]]\n",
    "class(x[[1]]) # 这个返回是sequence，改变了class!\n",
    "\n",
    "'-------'\n",
    "x$bar # class是sequence的numeric\n",
    "x[['bar']] # class是sequence的numeric\n",
    "x['bar'] # class是list"
   ]
  },
  {
   "cell_type": "code",
   "execution_count": 183,
   "metadata": {
    "ExecuteTime": {
     "end_time": "2021-01-19T06:02:07.334571Z",
     "start_time": "2021-01-19T06:02:07.310Z"
    }
   },
   "outputs": [
    {
     "data": {
      "text/html": [
       "<dl>\n",
       "\t<dt>$foo</dt>\n",
       "\t\t<dd><style>\n",
       ".list-inline {list-style: none; margin:0; padding: 0}\n",
       ".list-inline>li {display: inline-block}\n",
       ".list-inline>li:not(:last-child)::after {content: \"\\00b7\"; padding: 0 .5ex}\n",
       "</style>\n",
       "<ol class=list-inline><li>1</li><li>2</li><li>3</li><li>4</li></ol>\n",
       "</dd>\n",
       "\t<dt>$chinese</dt>\n",
       "\t\t<dd>'hello'</dd>\n",
       "</dl>\n"
      ],
      "text/latex": [
       "\\begin{description}\n",
       "\\item[\\$foo] \\begin{enumerate*}\n",
       "\\item 1\n",
       "\\item 2\n",
       "\\item 3\n",
       "\\item 4\n",
       "\\end{enumerate*}\n",
       "\n",
       "\\item[\\$chinese] 'hello'\n",
       "\\end{description}\n"
      ],
      "text/markdown": [
       "$foo\n",
       ":   1. 1\n",
       "2. 2\n",
       "3. 3\n",
       "4. 4\n",
       "\n",
       "\n",
       "\n",
       "$chinese\n",
       ":   'hello'\n",
       "\n",
       "\n"
      ],
      "text/plain": [
       "$foo\n",
       "[1] 1 2 3 4\n",
       "\n",
       "$chinese\n",
       "[1] \"hello\"\n"
      ]
     },
     "metadata": {},
     "output_type": "display_data"
    }
   ],
   "source": [
    "x <- list(foo=1:4, bar=0.6, chinese='hello')\n",
    "x[c(1,3)] # 只返回第一第三个list的element"
   ]
  },
  {
   "cell_type": "code",
   "execution_count": 196,
   "metadata": {
    "ExecuteTime": {
     "end_time": "2021-01-19T06:07:17.221881Z",
     "start_time": "2021-01-19T06:07:17.185Z"
    }
   },
   "outputs": [
    {
     "data": {
      "text/html": [
       "<ol>\n",
       "\t<li>1</li>\n",
       "\t<li>2</li>\n",
       "\t<li>3</li>\n",
       "</ol>\n"
      ],
      "text/latex": [
       "\\begin{enumerate}\n",
       "\\item 1\n",
       "\\item 2\n",
       "\\item 3\n",
       "\\end{enumerate}\n"
      ],
      "text/markdown": [
       "1. 1\n",
       "2. 2\n",
       "3. 3\n",
       "\n",
       "\n"
      ],
      "text/plain": [
       "[[1]]\n",
       "[1] 1\n",
       "\n",
       "[[2]]\n",
       "[1] 2\n",
       "\n",
       "[[3]]\n",
       "[1] 3\n"
      ]
     },
     "metadata": {},
     "output_type": "display_data"
    },
    {
     "data": {
      "text/html": [
       "<ol>\n",
       "\t<li>3</li>\n",
       "</ol>\n"
      ],
      "text/latex": [
       "\\begin{enumerate}\n",
       "\\item 3\n",
       "\\end{enumerate}\n"
      ],
      "text/markdown": [
       "1. 3\n",
       "\n",
       "\n"
      ],
      "text/plain": [
       "[[1]]\n",
       "[1] 3\n"
      ]
     },
     "metadata": {},
     "output_type": "display_data"
    },
    {
     "data": {
      "text/html": [
       "3"
      ],
      "text/latex": [
       "3"
      ],
      "text/markdown": [
       "3"
      ],
      "text/plain": [
       "[1] 3"
      ]
     },
     "metadata": {},
     "output_type": "display_data"
    },
    {
     "data": {
      "text/html": [
       "2"
      ],
      "text/latex": [
       "2"
      ],
      "text/markdown": [
       "2"
      ],
      "text/plain": [
       "[1] 2"
      ]
     },
     "metadata": {},
     "output_type": "display_data"
    }
   ],
   "source": [
    "x <- list(a=list(1, 2, 3), b=c(4, 5))\n",
    "x[[1]]\n",
    "x[[1]][3]\n",
    "x[[1]][[3]]\n",
    "\n",
    "x[[c(1, 2)]] # 这个表示的是，list中第一个element中的第二项!!!!"
   ]
  },
  {
   "cell_type": "code",
   "execution_count": 201,
   "metadata": {
    "ExecuteTime": {
     "end_time": "2021-01-19T06:09:44.580484Z",
     "start_time": "2021-01-19T06:09:44.534Z"
    }
   },
   "outputs": [
    {
     "data": {
      "text/html": [
       "<table>\n",
       "<caption>A matrix: 2 × 3 of type int</caption>\n",
       "<tbody>\n",
       "\t<tr><td>1</td><td>3</td><td>5</td></tr>\n",
       "\t<tr><td>2</td><td>4</td><td>6</td></tr>\n",
       "</tbody>\n",
       "</table>\n"
      ],
      "text/latex": [
       "A matrix: 2 × 3 of type int\n",
       "\\begin{tabular}{lll}\n",
       "\t 1 & 3 & 5\\\\\n",
       "\t 2 & 4 & 6\\\\\n",
       "\\end{tabular}\n"
      ],
      "text/markdown": [
       "\n",
       "A matrix: 2 × 3 of type int\n",
       "\n",
       "| 1 | 3 | 5 |\n",
       "| 2 | 4 | 6 |\n",
       "\n"
      ],
      "text/plain": [
       "     [,1] [,2] [,3]\n",
       "[1,] 1    3    5   \n",
       "[2,] 2    4    6   "
      ]
     },
     "metadata": {},
     "output_type": "display_data"
    },
    {
     "data": {
      "text/html": [
       "3"
      ],
      "text/latex": [
       "3"
      ],
      "text/markdown": [
       "3"
      ],
      "text/plain": [
       "[1] 3"
      ]
     },
     "metadata": {},
     "output_type": "display_data"
    },
    {
     "data": {
      "text/html": [
       "2"
      ],
      "text/latex": [
       "2"
      ],
      "text/markdown": [
       "2"
      ],
      "text/plain": [
       "[1] 2"
      ]
     },
     "metadata": {},
     "output_type": "display_data"
    },
    {
     "data": {
      "text/html": [
       "'integer'"
      ],
      "text/latex": [
       "'integer'"
      ],
      "text/markdown": [
       "'integer'"
      ],
      "text/plain": [
       "[1] \"integer\""
      ]
     },
     "metadata": {},
     "output_type": "display_data"
    },
    {
     "data": {
      "text/html": [
       "<table>\n",
       "<caption>A matrix: 1 × 1 of type int</caption>\n",
       "<tbody>\n",
       "\t<tr><td>3</td></tr>\n",
       "</tbody>\n",
       "</table>\n"
      ],
      "text/latex": [
       "A matrix: 1 × 1 of type int\n",
       "\\begin{tabular}{l}\n",
       "\t 3\\\\\n",
       "\\end{tabular}\n"
      ],
      "text/markdown": [
       "\n",
       "A matrix: 1 × 1 of type int\n",
       "\n",
       "| 3 |\n",
       "\n"
      ],
      "text/plain": [
       "     [,1]\n",
       "[1,] 3   "
      ]
     },
     "metadata": {},
     "output_type": "display_data"
    },
    {
     "data": {
      "text/html": [
       "<style>\n",
       ".list-inline {list-style: none; margin:0; padding: 0}\n",
       ".list-inline>li {display: inline-block}\n",
       ".list-inline>li:not(:last-child)::after {content: \"\\00b7\"; padding: 0 .5ex}\n",
       "</style>\n",
       "<ol class=list-inline><li>'matrix'</li><li>'array'</li></ol>\n"
      ],
      "text/latex": [
       "\\begin{enumerate*}\n",
       "\\item 'matrix'\n",
       "\\item 'array'\n",
       "\\end{enumerate*}\n"
      ],
      "text/markdown": [
       "1. 'matrix'\n",
       "2. 'array'\n",
       "\n",
       "\n"
      ],
      "text/plain": [
       "[1] \"matrix\" \"array\" "
      ]
     },
     "metadata": {},
     "output_type": "display_data"
    }
   ],
   "source": [
    "# subsetting matrices\n",
    "x <- matrix(1:6, 2, 3)\n",
    "x\n",
    "x[1, 2] # 第一行第二列!\n",
    "x[2, 1]\n",
    "class(x[2, 1]) # 返回的就是一个数\n",
    "\n",
    "x[1, 2, drop=FALSE]\n",
    "class(x[1, 2, drop=FALSE]) # 这个返回的是1*1的matrix，以防以后出现问题"
   ]
  },
  {
   "cell_type": "code",
   "execution_count": 204,
   "metadata": {
    "ExecuteTime": {
     "end_time": "2021-01-19T06:13:14.627443Z",
     "start_time": "2021-01-19T06:13:14.593Z"
    }
   },
   "outputs": [
    {
     "data": {
      "text/html": [
       "<style>\n",
       ".list-inline {list-style: none; margin:0; padding: 0}\n",
       ".list-inline>li {display: inline-block}\n",
       ".list-inline>li:not(:last-child)::after {content: \"\\00b7\"; padding: 0 .5ex}\n",
       "</style>\n",
       "<ol class=list-inline><li>1</li><li>3</li><li>5</li></ol>\n"
      ],
      "text/latex": [
       "\\begin{enumerate*}\n",
       "\\item 1\n",
       "\\item 3\n",
       "\\item 5\n",
       "\\end{enumerate*}\n"
      ],
      "text/markdown": [
       "1. 1\n",
       "2. 3\n",
       "3. 5\n",
       "\n",
       "\n"
      ],
      "text/plain": [
       "[1] 1 3 5"
      ]
     },
     "metadata": {},
     "output_type": "display_data"
    },
    {
     "data": {
      "text/html": [
       "'integer'"
      ],
      "text/latex": [
       "'integer'"
      ],
      "text/markdown": [
       "'integer'"
      ],
      "text/plain": [
       "[1] \"integer\""
      ]
     },
     "metadata": {},
     "output_type": "display_data"
    },
    {
     "data": {
      "text/html": [
       "<table>\n",
       "<caption>A matrix: 1 × 3 of type int</caption>\n",
       "<tbody>\n",
       "\t<tr><td>1</td><td>3</td><td>5</td></tr>\n",
       "</tbody>\n",
       "</table>\n"
      ],
      "text/latex": [
       "A matrix: 1 × 3 of type int\n",
       "\\begin{tabular}{lll}\n",
       "\t 1 & 3 & 5\\\\\n",
       "\\end{tabular}\n"
      ],
      "text/markdown": [
       "\n",
       "A matrix: 1 × 3 of type int\n",
       "\n",
       "| 1 | 3 | 5 |\n",
       "\n"
      ],
      "text/plain": [
       "     [,1] [,2] [,3]\n",
       "[1,] 1    3    5   "
      ]
     },
     "metadata": {},
     "output_type": "display_data"
    },
    {
     "data": {
      "text/html": [
       "<style>\n",
       ".list-inline {list-style: none; margin:0; padding: 0}\n",
       ".list-inline>li {display: inline-block}\n",
       ".list-inline>li:not(:last-child)::after {content: \"\\00b7\"; padding: 0 .5ex}\n",
       "</style>\n",
       "<ol class=list-inline><li>'matrix'</li><li>'array'</li></ol>\n"
      ],
      "text/latex": [
       "\\begin{enumerate*}\n",
       "\\item 'matrix'\n",
       "\\item 'array'\n",
       "\\end{enumerate*}\n"
      ],
      "text/markdown": [
       "1. 'matrix'\n",
       "2. 'array'\n",
       "\n",
       "\n"
      ],
      "text/plain": [
       "[1] \"matrix\" \"array\" "
      ]
     },
     "metadata": {},
     "output_type": "display_data"
    }
   ],
   "source": [
    "# subsetting matrices\n",
    "x <- matrix(1:6, 2, 3)\n",
    "x[1,] # 返回第一列，class是sequence integer\n",
    "class(x[1,])\n",
    "x[1, , drop=FALSE]\n",
    "class(x[1, , drop=FALSE])"
   ]
  },
  {
   "cell_type": "code",
   "execution_count": 211,
   "metadata": {
    "ExecuteTime": {
     "end_time": "2021-01-19T06:15:56.743648Z",
     "start_time": "2021-01-19T06:15:56.704Z"
    }
   },
   "outputs": [
    {
     "data": {
      "text/html": [
       "<strong>$aa</strong> = <style>\n",
       ".list-inline {list-style: none; margin:0; padding: 0}\n",
       ".list-inline>li {display: inline-block}\n",
       ".list-inline>li:not(:last-child)::after {content: \"\\00b7\"; padding: 0 .5ex}\n",
       "</style>\n",
       "<ol class=list-inline><li>1</li><li>2</li><li>3</li><li>4</li><li>5</li></ol>\n"
      ],
      "text/latex": [
       "\\textbf{\\$aa} = \\begin{enumerate*}\n",
       "\\item 1\n",
       "\\item 2\n",
       "\\item 3\n",
       "\\item 4\n",
       "\\item 5\n",
       "\\end{enumerate*}\n"
      ],
      "text/markdown": [
       "**$aa** = 1. 1\n",
       "2. 2\n",
       "3. 3\n",
       "4. 4\n",
       "5. 5\n",
       "\n",
       "\n"
      ],
      "text/plain": [
       "$aa\n",
       "[1] 1 2 3 4 5\n"
      ]
     },
     "metadata": {},
     "output_type": "display_data"
    },
    {
     "data": {
      "text/html": [
       "'----------------------------------------------------'"
      ],
      "text/latex": [
       "'----------------------------------------------------'"
      ],
      "text/markdown": [
       "'----------------------------------------------------'"
      ],
      "text/plain": [
       "[1] \"----------------------------------------------------\""
      ]
     },
     "metadata": {},
     "output_type": "display_data"
    },
    {
     "data": {
      "text/html": [
       "<style>\n",
       ".list-inline {list-style: none; margin:0; padding: 0}\n",
       ".list-inline>li {display: inline-block}\n",
       ".list-inline>li:not(:last-child)::after {content: \"\\00b7\"; padding: 0 .5ex}\n",
       "</style>\n",
       "<ol class=list-inline><li>1</li><li>2</li><li>3</li><li>4</li><li>5</li></ol>\n"
      ],
      "text/latex": [
       "\\begin{enumerate*}\n",
       "\\item 1\n",
       "\\item 2\n",
       "\\item 3\n",
       "\\item 4\n",
       "\\item 5\n",
       "\\end{enumerate*}\n"
      ],
      "text/markdown": [
       "1. 1\n",
       "2. 2\n",
       "3. 3\n",
       "4. 4\n",
       "5. 5\n",
       "\n",
       "\n"
      ],
      "text/plain": [
       "[1] 1 2 3 4 5"
      ]
     },
     "metadata": {},
     "output_type": "display_data"
    },
    {
     "data": {
      "text/plain": [
       "NULL"
      ]
     },
     "metadata": {},
     "output_type": "display_data"
    },
    {
     "data": {
      "text/html": [
       "<style>\n",
       ".list-inline {list-style: none; margin:0; padding: 0}\n",
       ".list-inline>li {display: inline-block}\n",
       ".list-inline>li:not(:last-child)::after {content: \"\\00b7\"; padding: 0 .5ex}\n",
       "</style>\n",
       "<ol class=list-inline><li>1</li><li>2</li><li>3</li><li>4</li><li>5</li></ol>\n"
      ],
      "text/latex": [
       "\\begin{enumerate*}\n",
       "\\item 1\n",
       "\\item 2\n",
       "\\item 3\n",
       "\\item 4\n",
       "\\item 5\n",
       "\\end{enumerate*}\n"
      ],
      "text/markdown": [
       "1. 1\n",
       "2. 2\n",
       "3. 3\n",
       "4. 4\n",
       "5. 5\n",
       "\n",
       "\n"
      ],
      "text/plain": [
       "[1] 1 2 3 4 5"
      ]
     },
     "metadata": {},
     "output_type": "display_data"
    }
   ],
   "source": [
    "# subsetting with names, partial matching 用部分name来做匹配!\n",
    "x <- list(aa=1:5)\n",
    "x\n",
    "'----------------------------------------------------'\n",
    "x$a # looks for a name in the list that matches 'a'\n",
    "x[['a']] # 这个返回null是因为R自动判断需要有一个完全等于'a'，但并不存在\n",
    "x[['a', exact=FALSE]]"
   ]
  },
  {
   "cell_type": "code",
   "execution_count": 215,
   "metadata": {
    "ExecuteTime": {
     "end_time": "2021-01-19T06:26:08.350961Z",
     "start_time": "2021-01-19T06:26:08.323Z"
    }
   },
   "outputs": [
    {
     "data": {
      "text/html": [
       "<style>\n",
       ".list-inline {list-style: none; margin:0; padding: 0}\n",
       ".list-inline>li {display: inline-block}\n",
       ".list-inline>li:not(:last-child)::after {content: \"\\00b7\"; padding: 0 .5ex}\n",
       "</style>\n",
       "<ol class=list-inline><li>TRUE</li><li>TRUE</li><li>FALSE</li><li>FALSE</li><li>FALSE</li></ol>\n"
      ],
      "text/latex": [
       "\\begin{enumerate*}\n",
       "\\item TRUE\n",
       "\\item TRUE\n",
       "\\item FALSE\n",
       "\\item FALSE\n",
       "\\item FALSE\n",
       "\\end{enumerate*}\n"
      ],
      "text/markdown": [
       "1. TRUE\n",
       "2. TRUE\n",
       "3. FALSE\n",
       "4. FALSE\n",
       "5. FALSE\n",
       "\n",
       "\n"
      ],
      "text/plain": [
       "[1]  TRUE  TRUE FALSE FALSE FALSE"
      ]
     },
     "metadata": {},
     "output_type": "display_data"
    },
    {
     "data": {
      "text/html": [
       "<style>\n",
       ".list-inline {list-style: none; margin:0; padding: 0}\n",
       ".list-inline>li {display: inline-block}\n",
       ".list-inline>li:not(:last-child)::after {content: \"\\00b7\"; padding: 0 .5ex}\n",
       "</style>\n",
       "<ol class=list-inline><li>FALSE</li><li>FALSE</li><li>TRUE</li><li>TRUE</li><li>TRUE</li></ol>\n"
      ],
      "text/latex": [
       "\\begin{enumerate*}\n",
       "\\item FALSE\n",
       "\\item FALSE\n",
       "\\item TRUE\n",
       "\\item TRUE\n",
       "\\item TRUE\n",
       "\\end{enumerate*}\n"
      ],
      "text/markdown": [
       "1. FALSE\n",
       "2. FALSE\n",
       "3. TRUE\n",
       "4. TRUE\n",
       "5. TRUE\n",
       "\n",
       "\n"
      ],
      "text/plain": [
       "[1] FALSE FALSE  TRUE  TRUE  TRUE"
      ]
     },
     "metadata": {},
     "output_type": "display_data"
    },
    {
     "data": {
      "text/html": [
       "<style>\n",
       ".list-inline {list-style: none; margin:0; padding: 0}\n",
       ".list-inline>li {display: inline-block}\n",
       ".list-inline>li:not(:last-child)::after {content: \"\\00b7\"; padding: 0 .5ex}\n",
       "</style>\n",
       "<ol class=list-inline><li>1</li><li>2</li><li>3</li></ol>\n"
      ],
      "text/latex": [
       "\\begin{enumerate*}\n",
       "\\item 1\n",
       "\\item 2\n",
       "\\item 3\n",
       "\\end{enumerate*}\n"
      ],
      "text/markdown": [
       "1. 1\n",
       "2. 2\n",
       "3. 3\n",
       "\n",
       "\n"
      ],
      "text/plain": [
       "[1] 1 2 3"
      ]
     },
     "metadata": {},
     "output_type": "display_data"
    }
   ],
   "source": [
    "# removing missing values\n",
    "x <- c(NA, NaN, 1, 2, 3)\n",
    "bad <- is.na(x)\n",
    "bad\n",
    "!bad # 取反\n",
    "x[!bad] # 这样就可以直接移除了!"
   ]
  },
  {
   "cell_type": "code",
   "execution_count": 222,
   "metadata": {
    "ExecuteTime": {
     "end_time": "2021-01-19T06:30:35.629722Z",
     "start_time": "2021-01-19T06:30:35.590Z"
    }
   },
   "outputs": [
    {
     "data": {
      "text/html": [
       "<style>\n",
       ".list-inline {list-style: none; margin:0; padding: 0}\n",
       ".list-inline>li {display: inline-block}\n",
       ".list-inline>li:not(:last-child)::after {content: \"\\00b7\"; padding: 0 .5ex}\n",
       "</style>\n",
       "<ol class=list-inline><li>FALSE</li><li>TRUE</li><li>FALSE</li><li>FALSE</li><li>TRUE</li></ol>\n"
      ],
      "text/latex": [
       "\\begin{enumerate*}\n",
       "\\item FALSE\n",
       "\\item TRUE\n",
       "\\item FALSE\n",
       "\\item FALSE\n",
       "\\item TRUE\n",
       "\\end{enumerate*}\n"
      ],
      "text/markdown": [
       "1. FALSE\n",
       "2. TRUE\n",
       "3. FALSE\n",
       "4. FALSE\n",
       "5. TRUE\n",
       "\n",
       "\n"
      ],
      "text/plain": [
       "[1] FALSE  TRUE FALSE FALSE  TRUE"
      ]
     },
     "metadata": {},
     "output_type": "display_data"
    },
    {
     "data": {
      "text/html": [
       "<style>\n",
       ".list-inline {list-style: none; margin:0; padding: 0}\n",
       ".list-inline>li {display: inline-block}\n",
       ".list-inline>li:not(:last-child)::after {content: \"\\00b7\"; padding: 0 .5ex}\n",
       "</style>\n",
       "<ol class=list-inline><li>FALSE</li><li>TRUE</li><li>TRUE</li><li>TRUE</li><li>TRUE</li></ol>\n"
      ],
      "text/latex": [
       "\\begin{enumerate*}\n",
       "\\item FALSE\n",
       "\\item TRUE\n",
       "\\item TRUE\n",
       "\\item TRUE\n",
       "\\item TRUE\n",
       "\\end{enumerate*}\n"
      ],
      "text/markdown": [
       "1. FALSE\n",
       "2. TRUE\n",
       "3. TRUE\n",
       "4. TRUE\n",
       "5. TRUE\n",
       "\n",
       "\n"
      ],
      "text/plain": [
       "[1] FALSE  TRUE  TRUE  TRUE  TRUE"
      ]
     },
     "metadata": {},
     "output_type": "display_data"
    },
    {
     "data": {
      "text/html": [
       "<style>\n",
       ".list-inline {list-style: none; margin:0; padding: 0}\n",
       ".list-inline>li {display: inline-block}\n",
       ".list-inline>li:not(:last-child)::after {content: \"\\00b7\"; padding: 0 .5ex}\n",
       "</style>\n",
       "<ol class=list-inline><li>'NaN'</li><li>'1'</li><li>'2'</li><li>'hello'</li></ol>\n"
      ],
      "text/latex": [
       "\\begin{enumerate*}\n",
       "\\item 'NaN'\n",
       "\\item '1'\n",
       "\\item '2'\n",
       "\\item 'hello'\n",
       "\\end{enumerate*}\n"
      ],
      "text/markdown": [
       "1. 'NaN'\n",
       "2. '1'\n",
       "3. '2'\n",
       "4. 'hello'\n",
       "\n",
       "\n"
      ],
      "text/plain": [
       "[1] \"NaN\"   \"1\"     \"2\"     \"hello\""
      ]
     },
     "metadata": {},
     "output_type": "display_data"
    },
    {
     "data": {
      "text/html": [
       "<style>\n",
       ".list-inline {list-style: none; margin:0; padding: 0}\n",
       ".list-inline>li {display: inline-block}\n",
       ".list-inline>li:not(:last-child)::after {content: \"\\00b7\"; padding: 0 .5ex}\n",
       "</style>\n",
       "<ol class=list-inline><li>'b'</li><li>'1'</li></ol>\n"
      ],
      "text/latex": [
       "\\begin{enumerate*}\n",
       "\\item 'b'\n",
       "\\item '1'\n",
       "\\end{enumerate*}\n"
      ],
      "text/markdown": [
       "1. 'b'\n",
       "2. '1'\n",
       "\n",
       "\n"
      ],
      "text/plain": [
       "[1] \"b\" \"1\""
      ]
     },
     "metadata": {},
     "output_type": "display_data"
    }
   ],
   "source": [
    "# removing missing values\n",
    "# 如果有多种格式的数据\n",
    "# complete.cases() 可以去除data frame中的NA行，方便后续对文本的分析和处理\n",
    "\n",
    "x <- c(NA, NaN, 1, 2, 'hello')\n",
    "y <- c('a', 'b', NA, NA, 1)\n",
    "good <- complete.cases(x, y)\n",
    "good # 去掉了NA行，所以只剩下2和5是TRUE了\n",
    "good_x <- complete.cases(x) # 去掉处于位置1的NA\n",
    "good_x\n",
    "\n",
    "x[good_x]\n",
    "y[good]"
   ]
  },
  {
   "cell_type": "code",
   "execution_count": 233,
   "metadata": {
    "ExecuteTime": {
     "end_time": "2021-01-19T06:41:35.553429Z",
     "start_time": "2021-01-19T06:41:35.495Z"
    }
   },
   "outputs": [
    {
     "data": {
      "text/html": [
       "<table>\n",
       "<caption>A data.frame: 6 × 3</caption>\n",
       "<thead>\n",
       "\t<tr><th></th><th scope=col>name</th><th scope=col>grade</th><th scope=col>height</th></tr>\n",
       "\t<tr><th></th><th scope=col>&lt;chr&gt;</th><th scope=col>&lt;dbl&gt;</th><th scope=col>&lt;int&gt;</th></tr>\n",
       "</thead>\n",
       "<tbody>\n",
       "\t<tr><th scope=row>1</th><td>a</td><td>83.661087</td><td>1</td></tr>\n",
       "\t<tr><th scope=row>2</th><td>s</td><td>74.432939</td><td>2</td></tr>\n",
       "\t<tr><th scope=row>3</th><td>v</td><td>66.755592</td><td>3</td></tr>\n",
       "\t<tr><th scope=row>4</th><td>w</td><td> 3.813707</td><td>4</td></tr>\n",
       "\t<tr><th scope=row>5</th><td>f</td><td>55.148212</td><td>5</td></tr>\n",
       "\t<tr><th scope=row>6</th><td>d</td><td>63.216028</td><td>6</td></tr>\n",
       "</tbody>\n",
       "</table>\n"
      ],
      "text/latex": [
       "A data.frame: 6 × 3\n",
       "\\begin{tabular}{r|lll}\n",
       "  & name & grade & height\\\\\n",
       "  & <chr> & <dbl> & <int>\\\\\n",
       "\\hline\n",
       "\t1 & a & 83.661087 & 1\\\\\n",
       "\t2 & s & 74.432939 & 2\\\\\n",
       "\t3 & v & 66.755592 & 3\\\\\n",
       "\t4 & w &  3.813707 & 4\\\\\n",
       "\t5 & f & 55.148212 & 5\\\\\n",
       "\t6 & d & 63.216028 & 6\\\\\n",
       "\\end{tabular}\n"
      ],
      "text/markdown": [
       "\n",
       "A data.frame: 6 × 3\n",
       "\n",
       "| <!--/--> | name &lt;chr&gt; | grade &lt;dbl&gt; | height &lt;int&gt; |\n",
       "|---|---|---|---|\n",
       "| 1 | a | 83.661087 | 1 |\n",
       "| 2 | s | 74.432939 | 2 |\n",
       "| 3 | v | 66.755592 | 3 |\n",
       "| 4 | w |  3.813707 | 4 |\n",
       "| 5 | f | 55.148212 | 5 |\n",
       "| 6 | d | 63.216028 | 6 |\n",
       "\n"
      ],
      "text/plain": [
       "  name grade     height\n",
       "1 a    83.661087 1     \n",
       "2 s    74.432939 2     \n",
       "3 v    66.755592 3     \n",
       "4 w     3.813707 4     \n",
       "5 f    55.148212 5     \n",
       "6 d    63.216028 6     "
      ]
     },
     "metadata": {},
     "output_type": "display_data"
    },
    {
     "data": {
      "text/html": [
       "<table>\n",
       "<caption>A data.frame: 3 × 2</caption>\n",
       "<thead>\n",
       "\t<tr><th></th><th scope=col>name</th><th scope=col>grade</th></tr>\n",
       "\t<tr><th></th><th scope=col>&lt;chr&gt;</th><th scope=col>&lt;dbl&gt;</th></tr>\n",
       "</thead>\n",
       "<tbody>\n",
       "\t<tr><th scope=row>1</th><td>a</td><td>83.66109</td></tr>\n",
       "\t<tr><th scope=row>2</th><td>s</td><td>74.43294</td></tr>\n",
       "\t<tr><th scope=row>3</th><td>v</td><td>66.75559</td></tr>\n",
       "</tbody>\n",
       "</table>\n"
      ],
      "text/latex": [
       "A data.frame: 3 × 2\n",
       "\\begin{tabular}{r|ll}\n",
       "  & name & grade\\\\\n",
       "  & <chr> & <dbl>\\\\\n",
       "\\hline\n",
       "\t1 & a & 83.66109\\\\\n",
       "\t2 & s & 74.43294\\\\\n",
       "\t3 & v & 66.75559\\\\\n",
       "\\end{tabular}\n"
      ],
      "text/markdown": [
       "\n",
       "A data.frame: 3 × 2\n",
       "\n",
       "| <!--/--> | name &lt;chr&gt; | grade &lt;dbl&gt; |\n",
       "|---|---|---|\n",
       "| 1 | a | 83.66109 |\n",
       "| 2 | s | 74.43294 |\n",
       "| 3 | v | 66.75559 |\n",
       "\n"
      ],
      "text/plain": [
       "  name grade   \n",
       "1 a    83.66109\n",
       "2 s    74.43294\n",
       "3 v    66.75559"
      ]
     },
     "metadata": {},
     "output_type": "display_data"
    },
    {
     "data": {
      "text/html": [
       "<table>\n",
       "<caption>A data.frame: 9 × 3</caption>\n",
       "<thead>\n",
       "\t<tr><th scope=col>name</th><th scope=col>grade</th><th scope=col>height</th></tr>\n",
       "\t<tr><th scope=col>&lt;chr&gt;</th><th scope=col>&lt;dbl&gt;</th><th scope=col>&lt;int&gt;</th></tr>\n",
       "</thead>\n",
       "<tbody>\n",
       "\t<tr><td>a </td><td>83.661087</td><td>NA</td></tr>\n",
       "\t<tr><td>s </td><td>74.432939</td><td> 2</td></tr>\n",
       "\t<tr><td>v </td><td>66.755592</td><td> 3</td></tr>\n",
       "\t<tr><td>w </td><td> 3.813707</td><td> 4</td></tr>\n",
       "\t<tr><td>f </td><td>       NA</td><td> 5</td></tr>\n",
       "\t<tr><td>d </td><td>63.216028</td><td> 6</td></tr>\n",
       "\t<tr><td>x </td><td>56.852869</td><td> 7</td></tr>\n",
       "\t<tr><td>ws</td><td>33.555481</td><td> 8</td></tr>\n",
       "\t<tr><td>f </td><td>85.509272</td><td> 9</td></tr>\n",
       "</tbody>\n",
       "</table>\n"
      ],
      "text/latex": [
       "A data.frame: 9 × 3\n",
       "\\begin{tabular}{lll}\n",
       " name & grade & height\\\\\n",
       " <chr> & <dbl> & <int>\\\\\n",
       "\\hline\n",
       "\t a  & 83.661087 & NA\\\\\n",
       "\t s  & 74.432939 &  2\\\\\n",
       "\t v  & 66.755592 &  3\\\\\n",
       "\t w  &  3.813707 &  4\\\\\n",
       "\t f  &        NA &  5\\\\\n",
       "\t d  & 63.216028 &  6\\\\\n",
       "\t x  & 56.852869 &  7\\\\\n",
       "\t ws & 33.555481 &  8\\\\\n",
       "\t f  & 85.509272 &  9\\\\\n",
       "\\end{tabular}\n"
      ],
      "text/markdown": [
       "\n",
       "A data.frame: 9 × 3\n",
       "\n",
       "| name &lt;chr&gt; | grade &lt;dbl&gt; | height &lt;int&gt; |\n",
       "|---|---|---|\n",
       "| a  | 83.661087 | NA |\n",
       "| s  | 74.432939 |  2 |\n",
       "| v  | 66.755592 |  3 |\n",
       "| w  |  3.813707 |  4 |\n",
       "| f  |        NA |  5 |\n",
       "| d  | 63.216028 |  6 |\n",
       "| x  | 56.852869 |  7 |\n",
       "| ws | 33.555481 |  8 |\n",
       "| f  | 85.509272 |  9 |\n",
       "\n"
      ],
      "text/plain": [
       "  name grade     height\n",
       "1 a    83.661087 NA    \n",
       "2 s    74.432939  2    \n",
       "3 v    66.755592  3    \n",
       "4 w     3.813707  4    \n",
       "5 f           NA  5    \n",
       "6 d    63.216028  6    \n",
       "7 x    56.852869  7    \n",
       "8 ws   33.555481  8    \n",
       "9 f    85.509272  9    "
      ]
     },
     "metadata": {},
     "output_type": "display_data"
    },
    {
     "data": {
      "text/html": [
       "<table>\n",
       "<caption>A data.frame: 3 × 3</caption>\n",
       "<thead>\n",
       "\t<tr><th></th><th scope=col>name</th><th scope=col>grade</th><th scope=col>height</th></tr>\n",
       "\t<tr><th></th><th scope=col>&lt;chr&gt;</th><th scope=col>&lt;dbl&gt;</th><th scope=col>&lt;int&gt;</th></tr>\n",
       "</thead>\n",
       "<tbody>\n",
       "\t<tr><th scope=row>2</th><td>s</td><td>74.432939</td><td>2</td></tr>\n",
       "\t<tr><th scope=row>3</th><td>v</td><td>66.755592</td><td>3</td></tr>\n",
       "\t<tr><th scope=row>4</th><td>w</td><td> 3.813707</td><td>4</td></tr>\n",
       "</tbody>\n",
       "</table>\n"
      ],
      "text/latex": [
       "A data.frame: 3 × 3\n",
       "\\begin{tabular}{r|lll}\n",
       "  & name & grade & height\\\\\n",
       "  & <chr> & <dbl> & <int>\\\\\n",
       "\\hline\n",
       "\t2 & s & 74.432939 & 2\\\\\n",
       "\t3 & v & 66.755592 & 3\\\\\n",
       "\t4 & w &  3.813707 & 4\\\\\n",
       "\\end{tabular}\n"
      ],
      "text/markdown": [
       "\n",
       "A data.frame: 3 × 3\n",
       "\n",
       "| <!--/--> | name &lt;chr&gt; | grade &lt;dbl&gt; | height &lt;int&gt; |\n",
       "|---|---|---|---|\n",
       "| 2 | s | 74.432939 | 2 |\n",
       "| 3 | v | 66.755592 | 3 |\n",
       "| 4 | w |  3.813707 | 4 |\n",
       "\n"
      ],
      "text/plain": [
       "  name grade     height\n",
       "2 s    74.432939 2     \n",
       "3 v    66.755592 3     \n",
       "4 w     3.813707 4     "
      ]
     },
     "metadata": {},
     "output_type": "display_data"
    }
   ],
   "source": [
    "# removing missing values\n",
    "# 在dataframe里面使用complete.cases()\n",
    "\n",
    "direction = 'C:/Users/handsomevictor/Desktop/学习R/try.csv'\n",
    "data = read.csv(direction)\n",
    "head(data)\n",
    "data[1:3, 1:2] #slicing\n",
    "\n",
    "# 替换几个数，可以直接赋值\n",
    "data[1, 3] = NA\n",
    "data[5, 2] = NA\n",
    "data\n",
    "\n",
    "good <- complete.cases(data) # 此时good是按每一行来判断是否有NA的\n",
    "data[good, ][1:3, ] # !!!!!!!!!!!!!!后面这两个逗号一定要加!因为good本质上是sequence bool，而data是dataframe需要两个参数，所以第二个得有"
   ]
  },
  {
   "cell_type": "code",
   "execution_count": 237,
   "metadata": {
    "ExecuteTime": {
     "end_time": "2021-01-19T06:44:53.256942Z",
     "start_time": "2021-01-19T06:44:53.221Z"
    }
   },
   "outputs": [
    {
     "data": {
      "text/html": [
       "<style>\n",
       ".list-inline {list-style: none; margin:0; padding: 0}\n",
       ".list-inline>li {display: inline-block}\n",
       ".list-inline>li:not(:last-child)::after {content: \"\\00b7\"; padding: 0 .5ex}\n",
       "</style>\n",
       "<ol class=list-inline><li>3</li><li>5</li><li>7</li><li>9</li></ol>\n"
      ],
      "text/latex": [
       "\\begin{enumerate*}\n",
       "\\item 3\n",
       "\\item 5\n",
       "\\item 7\n",
       "\\item 9\n",
       "\\end{enumerate*}\n"
      ],
      "text/markdown": [
       "1. 3\n",
       "2. 5\n",
       "3. 7\n",
       "4. 9\n",
       "\n",
       "\n"
      ],
      "text/plain": [
       "[1] 3 5 7 9"
      ]
     },
     "metadata": {},
     "output_type": "display_data"
    },
    {
     "data": {
      "text/html": [
       "<style>\n",
       ".list-inline {list-style: none; margin:0; padding: 0}\n",
       ".list-inline>li {display: inline-block}\n",
       ".list-inline>li:not(:last-child)::after {content: \"\\00b7\"; padding: 0 .5ex}\n",
       "</style>\n",
       "<ol class=list-inline><li>FALSE</li><li>FALSE</li><li>TRUE</li><li>TRUE</li></ol>\n"
      ],
      "text/latex": [
       "\\begin{enumerate*}\n",
       "\\item FALSE\n",
       "\\item FALSE\n",
       "\\item TRUE\n",
       "\\item TRUE\n",
       "\\end{enumerate*}\n"
      ],
      "text/markdown": [
       "1. FALSE\n",
       "2. FALSE\n",
       "3. TRUE\n",
       "4. TRUE\n",
       "\n",
       "\n"
      ],
      "text/plain": [
       "[1] FALSE FALSE  TRUE  TRUE"
      ]
     },
     "metadata": {},
     "output_type": "display_data"
    },
    {
     "data": {
      "text/html": [
       "<style>\n",
       ".list-inline {list-style: none; margin:0; padding: 0}\n",
       ".list-inline>li {display: inline-block}\n",
       ".list-inline>li:not(:last-child)::after {content: \"\\00b7\"; padding: 0 .5ex}\n",
       "</style>\n",
       "<ol class=list-inline><li>FALSE</li><li>FALSE</li><li>FALSE</li><li>TRUE</li></ol>\n"
      ],
      "text/latex": [
       "\\begin{enumerate*}\n",
       "\\item FALSE\n",
       "\\item FALSE\n",
       "\\item FALSE\n",
       "\\item TRUE\n",
       "\\end{enumerate*}\n"
      ],
      "text/markdown": [
       "1. FALSE\n",
       "2. FALSE\n",
       "3. FALSE\n",
       "4. TRUE\n",
       "\n",
       "\n"
      ],
      "text/plain": [
       "[1] FALSE FALSE FALSE  TRUE"
      ]
     },
     "metadata": {},
     "output_type": "display_data"
    },
    {
     "data": {
      "text/html": [
       "<style>\n",
       ".list-inline {list-style: none; margin:0; padding: 0}\n",
       ".list-inline>li {display: inline-block}\n",
       ".list-inline>li:not(:last-child)::after {content: \"\\00b7\"; padding: 0 .5ex}\n",
       "</style>\n",
       "<ol class=list-inline><li>2</li><li>6</li><li>12</li><li>20</li></ol>\n"
      ],
      "text/latex": [
       "\\begin{enumerate*}\n",
       "\\item 2\n",
       "\\item 6\n",
       "\\item 12\n",
       "\\item 20\n",
       "\\end{enumerate*}\n"
      ],
      "text/markdown": [
       "1. 2\n",
       "2. 6\n",
       "3. 12\n",
       "4. 20\n",
       "\n",
       "\n"
      ],
      "text/plain": [
       "[1]  2  6 12 20"
      ]
     },
     "metadata": {},
     "output_type": "display_data"
    },
    {
     "data": {
      "text/html": [
       "<style>\n",
       ".list-inline {list-style: none; margin:0; padding: 0}\n",
       ".list-inline>li {display: inline-block}\n",
       ".list-inline>li:not(:last-child)::after {content: \"\\00b7\"; padding: 0 .5ex}\n",
       "</style>\n",
       "<ol class=list-inline><li>0.5</li><li>0.666666666666667</li><li>0.75</li><li>0.8</li></ol>\n"
      ],
      "text/latex": [
       "\\begin{enumerate*}\n",
       "\\item 0.5\n",
       "\\item 0.666666666666667\n",
       "\\item 0.75\n",
       "\\item 0.8\n",
       "\\end{enumerate*}\n"
      ],
      "text/markdown": [
       "1. 0.5\n",
       "2. 0.666666666666667\n",
       "3. 0.75\n",
       "4. 0.8\n",
       "\n",
       "\n"
      ],
      "text/plain": [
       "[1] 0.5000000 0.6666667 0.7500000 0.8000000"
      ]
     },
     "metadata": {},
     "output_type": "display_data"
    }
   ],
   "source": [
    "# vectorized operation\n",
    "# things can happen in paralled\n",
    "x <- 1:4; y <- 2:5 # 本质上x是一个有4个数据的向量\n",
    "x + y\n",
    "x > 2\n",
    "y == 5\n",
    "x * y\n",
    "x / y"
   ]
  },
  {
   "cell_type": "code",
   "execution_count": 240,
   "metadata": {
    "ExecuteTime": {
     "end_time": "2021-01-19T06:46:49.546272Z",
     "start_time": "2021-01-19T06:46:49.504Z"
    }
   },
   "outputs": [
    {
     "data": {
      "text/html": [
       "<table>\n",
       "<caption>A matrix: 2 × 2 of type dbl</caption>\n",
       "<tbody>\n",
       "\t<tr><td>10</td><td>10</td></tr>\n",
       "\t<tr><td>10</td><td>10</td></tr>\n",
       "</tbody>\n",
       "</table>\n"
      ],
      "text/latex": [
       "A matrix: 2 × 2 of type dbl\n",
       "\\begin{tabular}{ll}\n",
       "\t 10 & 10\\\\\n",
       "\t 10 & 10\\\\\n",
       "\\end{tabular}\n"
      ],
      "text/markdown": [
       "\n",
       "A matrix: 2 × 2 of type dbl\n",
       "\n",
       "| 10 | 10 |\n",
       "| 10 | 10 |\n",
       "\n"
      ],
      "text/plain": [
       "     [,1] [,2]\n",
       "[1,] 10   10  \n",
       "[2,] 10   10  "
      ]
     },
     "metadata": {},
     "output_type": "display_data"
    },
    {
     "data": {
      "text/html": [
       "<table>\n",
       "<caption>A matrix: 2 × 2 of type dbl</caption>\n",
       "<tbody>\n",
       "\t<tr><td>10</td><td>30</td></tr>\n",
       "\t<tr><td>20</td><td>40</td></tr>\n",
       "</tbody>\n",
       "</table>\n"
      ],
      "text/latex": [
       "A matrix: 2 × 2 of type dbl\n",
       "\\begin{tabular}{ll}\n",
       "\t 10 & 30\\\\\n",
       "\t 20 & 40\\\\\n",
       "\\end{tabular}\n"
      ],
      "text/markdown": [
       "\n",
       "A matrix: 2 × 2 of type dbl\n",
       "\n",
       "| 10 | 30 |\n",
       "| 20 | 40 |\n",
       "\n"
      ],
      "text/plain": [
       "     [,1] [,2]\n",
       "[1,] 10   30  \n",
       "[2,] 20   40  "
      ]
     },
     "metadata": {},
     "output_type": "display_data"
    },
    {
     "data": {
      "text/html": [
       "<table>\n",
       "<caption>A matrix: 2 × 2 of type dbl</caption>\n",
       "<tbody>\n",
       "\t<tr><td>0.1</td><td>0.3</td></tr>\n",
       "\t<tr><td>0.2</td><td>0.4</td></tr>\n",
       "</tbody>\n",
       "</table>\n"
      ],
      "text/latex": [
       "A matrix: 2 × 2 of type dbl\n",
       "\\begin{tabular}{ll}\n",
       "\t 0.1 & 0.3\\\\\n",
       "\t 0.2 & 0.4\\\\\n",
       "\\end{tabular}\n"
      ],
      "text/markdown": [
       "\n",
       "A matrix: 2 × 2 of type dbl\n",
       "\n",
       "| 0.1 | 0.3 |\n",
       "| 0.2 | 0.4 |\n",
       "\n"
      ],
      "text/plain": [
       "     [,1] [,2]\n",
       "[1,] 0.1  0.3 \n",
       "[2,] 0.2  0.4 "
      ]
     },
     "metadata": {},
     "output_type": "display_data"
    },
    {
     "data": {
      "text/html": [
       "<table>\n",
       "<caption>A matrix: 2 × 2 of type dbl</caption>\n",
       "<tbody>\n",
       "\t<tr><td>40</td><td>40</td></tr>\n",
       "\t<tr><td>60</td><td>60</td></tr>\n",
       "</tbody>\n",
       "</table>\n"
      ],
      "text/latex": [
       "A matrix: 2 × 2 of type dbl\n",
       "\\begin{tabular}{ll}\n",
       "\t 40 & 40\\\\\n",
       "\t 60 & 60\\\\\n",
       "\\end{tabular}\n"
      ],
      "text/markdown": [
       "\n",
       "A matrix: 2 × 2 of type dbl\n",
       "\n",
       "| 40 | 40 |\n",
       "| 60 | 60 |\n",
       "\n"
      ],
      "text/plain": [
       "     [,1] [,2]\n",
       "[1,] 40   40  \n",
       "[2,] 60   60  "
      ]
     },
     "metadata": {},
     "output_type": "display_data"
    }
   ],
   "source": [
    "# vectorized matrix operation\n",
    "x <- matrix(1:4, 2, 2); y <- matrix(rep(10, 4), 2, 2) # 这里rep指的是重复值! 复制!\n",
    "y\n",
    "x * y\n",
    "x / y\n",
    "\n",
    "# 矩阵乘积 %*%\n",
    "x %*% y"
   ]
  },
  {
   "cell_type": "code",
   "execution_count": 299,
   "metadata": {
    "ExecuteTime": {
     "end_time": "2021-01-19T07:44:53.505493Z",
     "start_time": "2021-01-19T07:44:53.468Z"
    }
   },
   "outputs": [
    {
     "data": {
      "text/html": [
       "<style>\n",
       ".list-inline {list-style: none; margin:0; padding: 0}\n",
       ".list-inline>li {display: inline-block}\n",
       ".list-inline>li:not(:last-child)::after {content: \"\\00b7\"; padding: 0 .5ex}\n",
       "</style>\n",
       "<ol class=list-inline><li>1</li><li>2</li><li>3</li><li>4</li></ol>\n"
      ],
      "text/latex": [
       "\\begin{enumerate*}\n",
       "\\item 1\n",
       "\\item 2\n",
       "\\item 3\n",
       "\\item 4\n",
       "\\end{enumerate*}\n"
      ],
      "text/markdown": [
       "1. 1\n",
       "2. 2\n",
       "3. 3\n",
       "4. 4\n",
       "\n",
       "\n"
      ],
      "text/plain": [
       "[1] 1 2 3 4"
      ]
     },
     "metadata": {},
     "output_type": "display_data"
    },
    {
     "data": {
      "text/html": [
       "<style>\n",
       ".list-inline {list-style: none; margin:0; padding: 0}\n",
       ".list-inline>li {display: inline-block}\n",
       ".list-inline>li:not(:last-child)::after {content: \"\\00b7\"; padding: 0 .5ex}\n",
       "</style>\n",
       "<ol class=list-inline><li>2</li><li>3</li></ol>\n"
      ],
      "text/latex": [
       "\\begin{enumerate*}\n",
       "\\item 2\n",
       "\\item 3\n",
       "\\end{enumerate*}\n"
      ],
      "text/markdown": [
       "1. 2\n",
       "2. 3\n",
       "\n",
       "\n"
      ],
      "text/plain": [
       "[1] 2 3"
      ]
     },
     "metadata": {},
     "output_type": "display_data"
    },
    {
     "data": {
      "text/html": [
       "<style>\n",
       ".list-inline {list-style: none; margin:0; padding: 0}\n",
       ".list-inline>li {display: inline-block}\n",
       ".list-inline>li:not(:last-child)::after {content: \"\\00b7\"; padding: 0 .5ex}\n",
       "</style>\n",
       "<ol class=list-inline><li>3</li><li>5</li><li>5</li><li>7</li></ol>\n"
      ],
      "text/latex": [
       "\\begin{enumerate*}\n",
       "\\item 3\n",
       "\\item 5\n",
       "\\item 5\n",
       "\\item 7\n",
       "\\end{enumerate*}\n"
      ],
      "text/markdown": [
       "1. 3\n",
       "2. 5\n",
       "3. 5\n",
       "4. 7\n",
       "\n",
       "\n"
      ],
      "text/plain": [
       "[1] 3 5 5 7"
      ]
     },
     "metadata": {},
     "output_type": "display_data"
    },
    {
     "data": {
      "text/html": [
       "<style>\n",
       ".list-inline {list-style: none; margin:0; padding: 0}\n",
       ".list-inline>li {display: inline-block}\n",
       ".list-inline>li:not(:last-child)::after {content: \"\\00b7\"; padding: 0 .5ex}\n",
       "</style>\n",
       "<ol class=list-inline><li>10</li><li>11</li><li>12</li><li>13</li></ol>\n"
      ],
      "text/latex": [
       "\\begin{enumerate*}\n",
       "\\item 10\n",
       "\\item 11\n",
       "\\item 12\n",
       "\\item 13\n",
       "\\end{enumerate*}\n"
      ],
      "text/markdown": [
       "1. 10\n",
       "2. 11\n",
       "3. 12\n",
       "4. 13\n",
       "\n",
       "\n"
      ],
      "text/plain": [
       "[1] 10 11 12 13"
      ]
     },
     "metadata": {},
     "output_type": "display_data"
    },
    {
     "data": {
      "text/html": [
       "'integer'"
      ],
      "text/latex": [
       "'integer'"
      ],
      "text/markdown": [
       "'integer'"
      ],
      "text/plain": [
       "[1] \"integer\""
      ]
     },
     "metadata": {},
     "output_type": "display_data"
    }
   ],
   "source": [
    "# 不同长度的vector也是可以相加的!\n",
    "x <- 1:4\n",
    "y <- 2:3\n",
    "z <- 9\n",
    "x\n",
    "y\n",
    "x+y\n",
    "x+z # 只有一个数字作为sequence的话，是其他vector每一项都加上他!\n",
    "class(x+y)"
   ]
  },
  {
   "cell_type": "code",
   "execution_count": 253,
   "metadata": {
    "ExecuteTime": {
     "end_time": "2021-01-19T07:02:34.437400Z",
     "start_time": "2021-01-19T07:02:34.407Z"
    }
   },
   "outputs": [
    {
     "data": {
      "text/html": [
       "<style>\n",
       ".list-inline {list-style: none; margin:0; padding: 0}\n",
       ".list-inline>li {display: inline-block}\n",
       ".list-inline>li:not(:last-child)::after {content: \"\\00b7\"; padding: 0 .5ex}\n",
       "</style>\n",
       "<ol class=list-inline><li>999</li><li>999</li><li>4</li><li>5</li><li>999</li><li>999</li><li>10</li></ol>\n"
      ],
      "text/latex": [
       "\\begin{enumerate*}\n",
       "\\item 999\n",
       "\\item 999\n",
       "\\item 4\n",
       "\\item 5\n",
       "\\item 999\n",
       "\\item 999\n",
       "\\item 10\n",
       "\\end{enumerate*}\n"
      ],
      "text/markdown": [
       "1. 999\n",
       "2. 999\n",
       "3. 4\n",
       "4. 5\n",
       "5. 999\n",
       "6. 999\n",
       "7. 10\n",
       "\n",
       "\n"
      ],
      "text/plain": [
       "[1] 999 999   4   5 999 999  10"
      ]
     },
     "metadata": {},
     "output_type": "display_data"
    },
    {
     "data": {
      "text/html": [
       "<style>\n",
       ".list-inline {list-style: none; margin:0; padding: 0}\n",
       ".list-inline>li {display: inline-block}\n",
       ".list-inline>li:not(:last-child)::after {content: \"\\00b7\"; padding: 0 .5ex}\n",
       "</style>\n",
       "<ol class=list-inline><li>99999</li><li>99999</li><li>4</li><li>5</li><li>99999</li><li>99999</li><li>10</li></ol>\n"
      ],
      "text/latex": [
       "\\begin{enumerate*}\n",
       "\\item 99999\n",
       "\\item 99999\n",
       "\\item 4\n",
       "\\item 5\n",
       "\\item 99999\n",
       "\\item 99999\n",
       "\\item 10\n",
       "\\end{enumerate*}\n"
      ],
      "text/markdown": [
       "1. 99999\n",
       "2. 99999\n",
       "3. 4\n",
       "4. 5\n",
       "5. 99999\n",
       "6. 99999\n",
       "7. 10\n",
       "\n",
       "\n"
      ],
      "text/plain": [
       "[1] 99999 99999     4     5 99999 99999    10"
      ]
     },
     "metadata": {},
     "output_type": "display_data"
    }
   ],
   "source": [
    "# 把vector的数改掉有两种办法\n",
    "x <- c(17, 14, 4, 5, 13, 12, 10)\n",
    "x[x>10] <- 999\n",
    "x\n",
    "x[x>10] = 99999\n",
    "x"
   ]
  },
  {
   "cell_type": "code",
   "execution_count": null,
   "metadata": {},
   "outputs": [],
   "source": [
    "# 'matrix', 'table', 'data frame', 'array' are not atomic data type in R"
   ]
  },
  {
   "cell_type": "markdown",
   "metadata": {},
   "source": [
    "### Quiz1里面practice中用到的技巧"
   ]
  },
  {
   "cell_type": "code",
   "execution_count": 291,
   "metadata": {
    "ExecuteTime": {
     "end_time": "2021-01-19T07:20:52.975279Z",
     "start_time": "2021-01-19T07:20:52.925Z"
    }
   },
   "outputs": [
    {
     "data": {
      "text/html": [
       "<dl>\n",
       "\t<dt>$names</dt>\n",
       "\t\t<dd><style>\n",
       ".list-inline {list-style: none; margin:0; padding: 0}\n",
       ".list-inline>li {display: inline-block}\n",
       ".list-inline>li:not(:last-child)::after {content: \"\\00b7\"; padding: 0 .5ex}\n",
       "</style>\n",
       "<ol class=list-inline><li>'Ozone'</li><li>'Solar.R'</li><li>'Wind'</li><li>'Temp'</li><li>'Month'</li><li>'Day'</li></ol>\n",
       "</dd>\n",
       "\t<dt>$class</dt>\n",
       "\t\t<dd>'data.frame'</dd>\n",
       "\t<dt>$row.names</dt>\n",
       "\t\t<dd><style>\n",
       ".list-inline {list-style: none; margin:0; padding: 0}\n",
       ".list-inline>li {display: inline-block}\n",
       ".list-inline>li:not(:last-child)::after {content: \"\\00b7\"; padding: 0 .5ex}\n",
       "</style>\n",
       "<ol class=list-inline><li>1</li><li>2</li><li>3</li><li>4</li><li>5</li><li>6</li><li>7</li><li>8</li><li>9</li><li>10</li><li>11</li><li>12</li><li>13</li><li>14</li><li>15</li><li>16</li><li>17</li><li>18</li><li>19</li><li>20</li><li>21</li><li>22</li><li>23</li><li>24</li><li>25</li><li>26</li><li>27</li><li>28</li><li>29</li><li>30</li><li>31</li><li>32</li><li>33</li><li>34</li><li>35</li><li>36</li><li>37</li><li>38</li><li>39</li><li>40</li><li>41</li><li>42</li><li>43</li><li>44</li><li>45</li><li>46</li><li>47</li><li>48</li><li>49</li><li>50</li><li>51</li><li>52</li><li>53</li><li>54</li><li>55</li><li>56</li><li>57</li><li>58</li><li>59</li><li>60</li><li>61</li><li>62</li><li>63</li><li>64</li><li>65</li><li>66</li><li>67</li><li>68</li><li>69</li><li>70</li><li>71</li><li>72</li><li>73</li><li>74</li><li>75</li><li>76</li><li>77</li><li>78</li><li>79</li><li>80</li><li>81</li><li>82</li><li>83</li><li>84</li><li>85</li><li>86</li><li>87</li><li>88</li><li>89</li><li>90</li><li>91</li><li>92</li><li>93</li><li>94</li><li>95</li><li>96</li><li>97</li><li>98</li><li>99</li><li>100</li><li>101</li><li>102</li><li>103</li><li>104</li><li>105</li><li>106</li><li>107</li><li>108</li><li>109</li><li>110</li><li>111</li><li>112</li><li>113</li><li>114</li><li>115</li><li>116</li><li>117</li><li>118</li><li>119</li><li>120</li><li>121</li><li>122</li><li>123</li><li>124</li><li>125</li><li>126</li><li>127</li><li>128</li><li>129</li><li>130</li><li>131</li><li>132</li><li>133</li><li>134</li><li>135</li><li>136</li><li>137</li><li>138</li><li>139</li><li>140</li><li>141</li><li>142</li><li>143</li><li>144</li><li>145</li><li>146</li><li>147</li><li>148</li><li>149</li><li>150</li><li>151</li><li>152</li><li>153</li></ol>\n",
       "</dd>\n",
       "</dl>\n"
      ],
      "text/latex": [
       "\\begin{description}\n",
       "\\item[\\$names] \\begin{enumerate*}\n",
       "\\item 'Ozone'\n",
       "\\item 'Solar.R'\n",
       "\\item 'Wind'\n",
       "\\item 'Temp'\n",
       "\\item 'Month'\n",
       "\\item 'Day'\n",
       "\\end{enumerate*}\n",
       "\n",
       "\\item[\\$class] 'data.frame'\n",
       "\\item[\\$row.names] \\begin{enumerate*}\n",
       "\\item 1\n",
       "\\item 2\n",
       "\\item 3\n",
       "\\item 4\n",
       "\\item 5\n",
       "\\item 6\n",
       "\\item 7\n",
       "\\item 8\n",
       "\\item 9\n",
       "\\item 10\n",
       "\\item 11\n",
       "\\item 12\n",
       "\\item 13\n",
       "\\item 14\n",
       "\\item 15\n",
       "\\item 16\n",
       "\\item 17\n",
       "\\item 18\n",
       "\\item 19\n",
       "\\item 20\n",
       "\\item 21\n",
       "\\item 22\n",
       "\\item 23\n",
       "\\item 24\n",
       "\\item 25\n",
       "\\item 26\n",
       "\\item 27\n",
       "\\item 28\n",
       "\\item 29\n",
       "\\item 30\n",
       "\\item 31\n",
       "\\item 32\n",
       "\\item 33\n",
       "\\item 34\n",
       "\\item 35\n",
       "\\item 36\n",
       "\\item 37\n",
       "\\item 38\n",
       "\\item 39\n",
       "\\item 40\n",
       "\\item 41\n",
       "\\item 42\n",
       "\\item 43\n",
       "\\item 44\n",
       "\\item 45\n",
       "\\item 46\n",
       "\\item 47\n",
       "\\item 48\n",
       "\\item 49\n",
       "\\item 50\n",
       "\\item 51\n",
       "\\item 52\n",
       "\\item 53\n",
       "\\item 54\n",
       "\\item 55\n",
       "\\item 56\n",
       "\\item 57\n",
       "\\item 58\n",
       "\\item 59\n",
       "\\item 60\n",
       "\\item 61\n",
       "\\item 62\n",
       "\\item 63\n",
       "\\item 64\n",
       "\\item 65\n",
       "\\item 66\n",
       "\\item 67\n",
       "\\item 68\n",
       "\\item 69\n",
       "\\item 70\n",
       "\\item 71\n",
       "\\item 72\n",
       "\\item 73\n",
       "\\item 74\n",
       "\\item 75\n",
       "\\item 76\n",
       "\\item 77\n",
       "\\item 78\n",
       "\\item 79\n",
       "\\item 80\n",
       "\\item 81\n",
       "\\item 82\n",
       "\\item 83\n",
       "\\item 84\n",
       "\\item 85\n",
       "\\item 86\n",
       "\\item 87\n",
       "\\item 88\n",
       "\\item 89\n",
       "\\item 90\n",
       "\\item 91\n",
       "\\item 92\n",
       "\\item 93\n",
       "\\item 94\n",
       "\\item 95\n",
       "\\item 96\n",
       "\\item 97\n",
       "\\item 98\n",
       "\\item 99\n",
       "\\item 100\n",
       "\\item 101\n",
       "\\item 102\n",
       "\\item 103\n",
       "\\item 104\n",
       "\\item 105\n",
       "\\item 106\n",
       "\\item 107\n",
       "\\item 108\n",
       "\\item 109\n",
       "\\item 110\n",
       "\\item 111\n",
       "\\item 112\n",
       "\\item 113\n",
       "\\item 114\n",
       "\\item 115\n",
       "\\item 116\n",
       "\\item 117\n",
       "\\item 118\n",
       "\\item 119\n",
       "\\item 120\n",
       "\\item 121\n",
       "\\item 122\n",
       "\\item 123\n",
       "\\item 124\n",
       "\\item 125\n",
       "\\item 126\n",
       "\\item 127\n",
       "\\item 128\n",
       "\\item 129\n",
       "\\item 130\n",
       "\\item 131\n",
       "\\item 132\n",
       "\\item 133\n",
       "\\item 134\n",
       "\\item 135\n",
       "\\item 136\n",
       "\\item 137\n",
       "\\item 138\n",
       "\\item 139\n",
       "\\item 140\n",
       "\\item 141\n",
       "\\item 142\n",
       "\\item 143\n",
       "\\item 144\n",
       "\\item 145\n",
       "\\item 146\n",
       "\\item 147\n",
       "\\item 148\n",
       "\\item 149\n",
       "\\item 150\n",
       "\\item 151\n",
       "\\item 152\n",
       "\\item 153\n",
       "\\end{enumerate*}\n",
       "\n",
       "\\end{description}\n"
      ],
      "text/markdown": [
       "$names\n",
       ":   1. 'Ozone'\n",
       "2. 'Solar.R'\n",
       "3. 'Wind'\n",
       "4. 'Temp'\n",
       "5. 'Month'\n",
       "6. 'Day'\n",
       "\n",
       "\n",
       "\n",
       "$class\n",
       ":   'data.frame'\n",
       "$row.names\n",
       ":   1. 1\n",
       "2. 2\n",
       "3. 3\n",
       "4. 4\n",
       "5. 5\n",
       "6. 6\n",
       "7. 7\n",
       "8. 8\n",
       "9. 9\n",
       "10. 10\n",
       "11. 11\n",
       "12. 12\n",
       "13. 13\n",
       "14. 14\n",
       "15. 15\n",
       "16. 16\n",
       "17. 17\n",
       "18. 18\n",
       "19. 19\n",
       "20. 20\n",
       "21. 21\n",
       "22. 22\n",
       "23. 23\n",
       "24. 24\n",
       "25. 25\n",
       "26. 26\n",
       "27. 27\n",
       "28. 28\n",
       "29. 29\n",
       "30. 30\n",
       "31. 31\n",
       "32. 32\n",
       "33. 33\n",
       "34. 34\n",
       "35. 35\n",
       "36. 36\n",
       "37. 37\n",
       "38. 38\n",
       "39. 39\n",
       "40. 40\n",
       "41. 41\n",
       "42. 42\n",
       "43. 43\n",
       "44. 44\n",
       "45. 45\n",
       "46. 46\n",
       "47. 47\n",
       "48. 48\n",
       "49. 49\n",
       "50. 50\n",
       "51. 51\n",
       "52. 52\n",
       "53. 53\n",
       "54. 54\n",
       "55. 55\n",
       "56. 56\n",
       "57. 57\n",
       "58. 58\n",
       "59. 59\n",
       "60. 60\n",
       "61. 61\n",
       "62. 62\n",
       "63. 63\n",
       "64. 64\n",
       "65. 65\n",
       "66. 66\n",
       "67. 67\n",
       "68. 68\n",
       "69. 69\n",
       "70. 70\n",
       "71. 71\n",
       "72. 72\n",
       "73. 73\n",
       "74. 74\n",
       "75. 75\n",
       "76. 76\n",
       "77. 77\n",
       "78. 78\n",
       "79. 79\n",
       "80. 80\n",
       "81. 81\n",
       "82. 82\n",
       "83. 83\n",
       "84. 84\n",
       "85. 85\n",
       "86. 86\n",
       "87. 87\n",
       "88. 88\n",
       "89. 89\n",
       "90. 90\n",
       "91. 91\n",
       "92. 92\n",
       "93. 93\n",
       "94. 94\n",
       "95. 95\n",
       "96. 96\n",
       "97. 97\n",
       "98. 98\n",
       "99. 99\n",
       "100. 100\n",
       "101. 101\n",
       "102. 102\n",
       "103. 103\n",
       "104. 104\n",
       "105. 105\n",
       "106. 106\n",
       "107. 107\n",
       "108. 108\n",
       "109. 109\n",
       "110. 110\n",
       "111. 111\n",
       "112. 112\n",
       "113. 113\n",
       "114. 114\n",
       "115. 115\n",
       "116. 116\n",
       "117. 117\n",
       "118. 118\n",
       "119. 119\n",
       "120. 120\n",
       "121. 121\n",
       "122. 122\n",
       "123. 123\n",
       "124. 124\n",
       "125. 125\n",
       "126. 126\n",
       "127. 127\n",
       "128. 128\n",
       "129. 129\n",
       "130. 130\n",
       "131. 131\n",
       "132. 132\n",
       "133. 133\n",
       "134. 134\n",
       "135. 135\n",
       "136. 136\n",
       "137. 137\n",
       "138. 138\n",
       "139. 139\n",
       "140. 140\n",
       "141. 141\n",
       "142. 142\n",
       "143. 143\n",
       "144. 144\n",
       "145. 145\n",
       "146. 146\n",
       "147. 147\n",
       "148. 148\n",
       "149. 149\n",
       "150. 150\n",
       "151. 151\n",
       "152. 152\n",
       "153. 153\n",
       "\n",
       "\n",
       "\n",
       "\n",
       "\n"
      ],
      "text/plain": [
       "$names\n",
       "[1] \"Ozone\"   \"Solar.R\" \"Wind\"    \"Temp\"    \"Month\"   \"Day\"    \n",
       "\n",
       "$class\n",
       "[1] \"data.frame\"\n",
       "\n",
       "$row.names\n",
       "  [1]   1   2   3   4   5   6   7   8   9  10  11  12  13  14  15  16  17  18\n",
       " [19]  19  20  21  22  23  24  25  26  27  28  29  30  31  32  33  34  35  36\n",
       " [37]  37  38  39  40  41  42  43  44  45  46  47  48  49  50  51  52  53  54\n",
       " [55]  55  56  57  58  59  60  61  62  63  64  65  66  67  68  69  70  71  72\n",
       " [73]  73  74  75  76  77  78  79  80  81  82  83  84  85  86  87  88  89  90\n",
       " [91]  91  92  93  94  95  96  97  98  99 100 101 102 103 104 105 106 107 108\n",
       "[109] 109 110 111 112 113 114 115 116 117 118 119 120 121 122 123 124 125 126\n",
       "[127] 127 128 129 130 131 132 133 134 135 136 137 138 139 140 141 142 143 144\n",
       "[145] 145 146 147 148 149 150 151 152 153\n"
      ]
     },
     "metadata": {},
     "output_type": "display_data"
    },
    {
     "data": {
      "text/html": [
       "<table>\n",
       "<caption>A data.frame: 2 × 6</caption>\n",
       "<thead>\n",
       "\t<tr><th></th><th scope=col>Ozone</th><th scope=col>Solar.R</th><th scope=col>Wind</th><th scope=col>Temp</th><th scope=col>Month</th><th scope=col>Day</th></tr>\n",
       "\t<tr><th></th><th scope=col>&lt;int&gt;</th><th scope=col>&lt;int&gt;</th><th scope=col>&lt;dbl&gt;</th><th scope=col>&lt;int&gt;</th><th scope=col>&lt;int&gt;</th><th scope=col>&lt;int&gt;</th></tr>\n",
       "</thead>\n",
       "<tbody>\n",
       "\t<tr><th scope=row>152</th><td>18</td><td>131</td><td> 8.0</td><td>76</td><td>9</td><td>29</td></tr>\n",
       "\t<tr><th scope=row>153</th><td>20</td><td>223</td><td>11.5</td><td>68</td><td>9</td><td>30</td></tr>\n",
       "</tbody>\n",
       "</table>\n"
      ],
      "text/latex": [
       "A data.frame: 2 × 6\n",
       "\\begin{tabular}{r|llllll}\n",
       "  & Ozone & Solar.R & Wind & Temp & Month & Day\\\\\n",
       "  & <int> & <int> & <dbl> & <int> & <int> & <int>\\\\\n",
       "\\hline\n",
       "\t152 & 18 & 131 &  8.0 & 76 & 9 & 29\\\\\n",
       "\t153 & 20 & 223 & 11.5 & 68 & 9 & 30\\\\\n",
       "\\end{tabular}\n"
      ],
      "text/markdown": [
       "\n",
       "A data.frame: 2 × 6\n",
       "\n",
       "| <!--/--> | Ozone &lt;int&gt; | Solar.R &lt;int&gt; | Wind &lt;dbl&gt; | Temp &lt;int&gt; | Month &lt;int&gt; | Day &lt;int&gt; |\n",
       "|---|---|---|---|---|---|---|\n",
       "| 152 | 18 | 131 |  8.0 | 76 | 9 | 29 |\n",
       "| 153 | 20 | 223 | 11.5 | 68 | 9 | 30 |\n",
       "\n"
      ],
      "text/plain": [
       "    Ozone Solar.R Wind Temp Month Day\n",
       "152 18    131      8.0 76   9     29 \n",
       "153 20    223     11.5 68   9     30 "
      ]
     },
     "metadata": {},
     "output_type": "display_data"
    },
    {
     "data": {
      "text/html": [
       "21"
      ],
      "text/latex": [
       "21"
      ],
      "text/markdown": [
       "21"
      ],
      "text/plain": [
       "[1] 21"
      ]
     },
     "metadata": {},
     "output_type": "display_data"
    },
    {
     "data": {
      "text/html": [
       "44"
      ],
      "text/latex": [
       "44"
      ],
      "text/markdown": [
       "44"
      ],
      "text/plain": [
       "[1] 44"
      ]
     },
     "metadata": {},
     "output_type": "display_data"
    },
    {
     "data": {
      "text/html": [
       "42.1293103448276"
      ],
      "text/latex": [
       "42.1293103448276"
      ],
      "text/markdown": [
       "42.1293103448276"
      ],
      "text/plain": [
       "[1] 42.12931"
      ]
     },
     "metadata": {},
     "output_type": "display_data"
    }
   ],
   "source": [
    "# 做quiz用到的\n",
    "direction = 'C:/Users/handsomevictor/Desktop/学习R/hw1_data.csv'\n",
    "data = read.csv(direction)\n",
    "attributes(data)\n",
    "n_row = nrow(data) # 看有多少行\n",
    "n_col = ncol(data) # 看有多少列\n",
    "data[(n_row-1):n_row,] # 这里在slice的时候一定要加括号!!!\n",
    "data[['Ozone']][47]\n",
    "\n",
    "num_of_missing_values = is.na(data)\n",
    "missing = data[num_of_missing_values]\n",
    "length(missing)\n",
    "\n",
    "get_mean = data['Ozone']\n",
    "get_mean = get_mean[!is.na(get_mean)]\n",
    "mean(get_mean)\n",
    "\n",
    "extract = data[data['Ozone'] > 31]"
   ]
  },
  {
   "cell_type": "code",
   "execution_count": 295,
   "metadata": {
    "ExecuteTime": {
     "end_time": "2021-01-19T07:24:28.696566Z",
     "start_time": "2021-01-19T07:24:28.666Z"
    }
   },
   "outputs": [
    {
     "data": {
      "text/html": [
       "<style>\n",
       ".list-inline {list-style: none; margin:0; padding: 0}\n",
       ".list-inline>li {display: inline-block}\n",
       ".list-inline>li:not(:last-child)::after {content: \"\\00b7\"; padding: 0 .5ex}\n",
       "</style>\n",
       "<ol class=list-inline><li>12</li><li>18</li><li>&lt;NA&gt;</li><li>28</li><li>23</li><li>19</li><li>8</li><li>&lt;NA&gt;</li><li>7</li><li>16</li><li>11</li><li>14</li><li>18</li><li>14</li><li>6</li><li>30</li><li>11</li><li>1</li><li>11</li><li>4</li><li>&lt;NA&gt;</li><li>&lt;NA&gt;</li><li>&lt;NA&gt;</li><li>23</li><li>&lt;NA&gt;</li><li>&lt;NA&gt;</li><li>&lt;NA&gt;</li><li>&lt;NA&gt;</li><li>&lt;NA&gt;</li><li>&lt;NA&gt;</li><li>29</li><li>&lt;NA&gt;</li><li>&lt;NA&gt;</li><li>&lt;NA&gt;</li><li>23</li><li>&lt;NA&gt;</li><li>&lt;NA&gt;</li><li>21</li><li>20</li><li>12</li><li>13</li><li>&lt;NA&gt;</li><li>&lt;NA&gt;</li><li>&lt;NA&gt;</li><li>&lt;NA&gt;</li><li>&lt;NA&gt;</li><li>&lt;NA&gt;</li><li>&lt;NA&gt;</li><li>&lt;NA&gt;</li><li>&lt;NA&gt;</li><li>&lt;NA&gt;</li><li>&lt;NA&gt;</li><li>&lt;NA&gt;</li><li>10</li><li>27</li><li>&lt;NA&gt;</li><li>7</li><li>16</li><li>&lt;NA&gt;</li><li>&lt;NA&gt;</li><li>20</li><li>9</li><li>16</li><li>&lt;NA&gt;</li><li>&lt;NA&gt;</li><li>28</li><li>&lt;NA&gt;</li><li>22</li><li>23</li><li>31</li><li>21</li><li>9</li><li>&lt;NA&gt;</li><li>&lt;NA&gt;</li><li>20</li><li>23</li><li>21</li><li>24</li><li>21</li><li>28</li><li>9</li><li>13</li><li>18</li><li>13</li><li>24</li><li>16</li><li>13</li><li>23</li><li>7</li><li>14</li><li>30</li><li>&lt;NA&gt;</li><li>14</li><li>18</li><li>20</li><li>149</li><li>313</li><li>&lt;NA&gt;</li><li>&lt;NA&gt;</li><li>299</li><li>99</li><li>19</li><li>&lt;NA&gt;</li><li>&lt;NA&gt;</li><li>256</li><li>290</li><li>274</li><li>65</li><li>334</li><li>78</li><li>322</li><li>44</li><li>8</li><li>320</li><li>25</li><li>&lt;NA&gt;</li><li>&lt;NA&gt;</li><li>&lt;NA&gt;</li><li>13</li><li>&lt;NA&gt;</li><li>&lt;NA&gt;</li><li>&lt;NA&gt;</li><li>&lt;NA&gt;</li><li>&lt;NA&gt;</li><li>&lt;NA&gt;</li><li>127</li><li>&lt;NA&gt;</li><li>&lt;NA&gt;</li><li>&lt;NA&gt;</li><li>148</li><li>&lt;NA&gt;</li><li>&lt;NA&gt;</li><li>191</li><li>37</li><li>120</li><li>137</li><li>&lt;NA&gt;</li><li>&lt;NA&gt;</li><li>&lt;NA&gt;</li><li>&lt;NA&gt;</li><li>&lt;NA&gt;</li><li>&lt;NA&gt;</li><li>&lt;NA&gt;</li><li>&lt;NA&gt;</li><li>&lt;NA&gt;</li><li>&lt;NA&gt;</li><li>&lt;NA&gt;</li><li>&lt;NA&gt;</li><li>264</li><li>175</li><li>&lt;NA&gt;</li><li>48</li><li>7</li><li>&lt;NA&gt;</li><li>&lt;NA&gt;</li><li>81</li><li>24</li><li>77</li><li>&lt;NA&gt;</li><li>&lt;NA&gt;</li><li>273</li><li>&lt;NA&gt;</li><li>71</li><li>115</li><li>244</li><li>259</li><li>36</li><li>&lt;NA&gt;</li><li>&lt;NA&gt;</li><li>252</li><li>220</li><li>230</li><li>259</li><li>259</li><li>238</li><li>24</li><li>112</li><li>224</li><li>27</li><li>238</li><li>201</li><li>238</li><li>14</li><li>49</li><li>20</li><li>193</li><li>&lt;NA&gt;</li><li>191</li><li>131</li><li>223</li><li>12.6</li><li>11.5</li><li>&lt;NA&gt;</li><li>14.9</li><li>8.6</li><li>13.8</li><li>20.1</li><li>&lt;NA&gt;</li><li>6.9</li><li>9.7</li><li>...</li><li>82</li><li>64</li><li>71</li><li>69</li><li>63</li><li>70</li><li>&lt;NA&gt;</li><li>75</li><li>76</li><li>68</li><li>5</li><li>5</li><li>&lt;NA&gt;</li><li>5</li><li>5</li><li>5</li><li>5</li><li>&lt;NA&gt;</li><li>5</li><li>5</li><li>5</li><li>5</li><li>5</li><li>5</li><li>5</li><li>5</li><li>5</li><li>5</li><li>5</li><li>5</li><li>&lt;NA&gt;</li><li>&lt;NA&gt;</li><li>&lt;NA&gt;</li><li>5</li><li>&lt;NA&gt;</li><li>&lt;NA&gt;</li><li>&lt;NA&gt;</li><li>&lt;NA&gt;</li><li>&lt;NA&gt;</li><li>&lt;NA&gt;</li><li>6</li><li>&lt;NA&gt;</li><li>&lt;NA&gt;</li><li>&lt;NA&gt;</li><li>6</li><li>&lt;NA&gt;</li><li>&lt;NA&gt;</li><li>6</li><li>6</li><li>6</li><li>6</li><li>&lt;NA&gt;</li><li>&lt;NA&gt;</li><li>&lt;NA&gt;</li><li>&lt;NA&gt;</li><li>&lt;NA&gt;</li><li>&lt;NA&gt;</li><li>&lt;NA&gt;</li><li>&lt;NA&gt;</li><li>&lt;NA&gt;</li><li>&lt;NA&gt;</li><li>&lt;NA&gt;</li><li>&lt;NA&gt;</li><li>7</li><li>7</li><li>&lt;NA&gt;</li><li>7</li><li>7</li><li>&lt;NA&gt;</li><li>&lt;NA&gt;</li><li>7</li><li>8</li><li>8</li><li>&lt;NA&gt;</li><li>&lt;NA&gt;</li><li>8</li><li>&lt;NA&gt;</li><li>8</li><li>8</li><li>8</li><li>8</li><li>8</li><li>&lt;NA&gt;</li><li>&lt;NA&gt;</li><li>9</li><li>9</li><li>9</li><li>9</li><li>9</li><li>9</li><li>9</li><li>9</li><li>9</li><li>9</li><li>9</li><li>9</li><li>9</li><li>9</li><li>9</li><li>9</li><li>9</li><li>&lt;NA&gt;</li><li>9</li><li>9</li><li>9</li><li>3</li><li>4</li><li>&lt;NA&gt;</li><li>6</li><li>7</li><li>8</li><li>9</li><li>&lt;NA&gt;</li><li>11</li><li>12</li><li>13</li><li>14</li><li>15</li><li>16</li><li>18</li><li>19</li><li>20</li><li>21</li><li>22</li><li>23</li><li>&lt;NA&gt;</li><li>&lt;NA&gt;</li><li>&lt;NA&gt;</li><li>28</li><li>&lt;NA&gt;</li><li>&lt;NA&gt;</li><li>&lt;NA&gt;</li><li>&lt;NA&gt;</li><li>&lt;NA&gt;</li><li>&lt;NA&gt;</li><li>7</li><li>&lt;NA&gt;</li><li>&lt;NA&gt;</li><li>&lt;NA&gt;</li><li>13</li><li>&lt;NA&gt;</li><li>&lt;NA&gt;</li><li>16</li><li>18</li><li>19</li><li>20</li><li>&lt;NA&gt;</li><li>&lt;NA&gt;</li><li>&lt;NA&gt;</li><li>&lt;NA&gt;</li><li>&lt;NA&gt;</li><li>&lt;NA&gt;</li><li>&lt;NA&gt;</li><li>&lt;NA&gt;</li><li>&lt;NA&gt;</li><li>&lt;NA&gt;</li><li>&lt;NA&gt;</li><li>&lt;NA&gt;</li><li>12</li><li>13</li><li>&lt;NA&gt;</li><li>15</li><li>21</li><li>&lt;NA&gt;</li><li>&lt;NA&gt;</li><li>26</li><li>2</li><li>3</li><li>&lt;NA&gt;</li><li>&lt;NA&gt;</li><li>13</li><li>&lt;NA&gt;</li><li>16</li><li>18</li><li>19</li><li>21</li><li>22</li><li>&lt;NA&gt;</li><li>&lt;NA&gt;</li><li>7</li><li>8</li><li>9</li><li>10</li><li>12</li><li>13</li><li>14</li><li>15</li><li>17</li><li>18</li><li>19</li><li>20</li><li>21</li><li>22</li><li>24</li><li>25</li><li>26</li><li>&lt;NA&gt;</li><li>28</li><li>29</li><li>30</li></ol>\n"
      ],
      "text/latex": [
       "\\begin{enumerate*}\n",
       "\\item 12\n",
       "\\item 18\n",
       "\\item <NA>\n",
       "\\item 28\n",
       "\\item 23\n",
       "\\item 19\n",
       "\\item 8\n",
       "\\item <NA>\n",
       "\\item 7\n",
       "\\item 16\n",
       "\\item 11\n",
       "\\item 14\n",
       "\\item 18\n",
       "\\item 14\n",
       "\\item 6\n",
       "\\item 30\n",
       "\\item 11\n",
       "\\item 1\n",
       "\\item 11\n",
       "\\item 4\n",
       "\\item <NA>\n",
       "\\item <NA>\n",
       "\\item <NA>\n",
       "\\item 23\n",
       "\\item <NA>\n",
       "\\item <NA>\n",
       "\\item <NA>\n",
       "\\item <NA>\n",
       "\\item <NA>\n",
       "\\item <NA>\n",
       "\\item 29\n",
       "\\item <NA>\n",
       "\\item <NA>\n",
       "\\item <NA>\n",
       "\\item 23\n",
       "\\item <NA>\n",
       "\\item <NA>\n",
       "\\item 21\n",
       "\\item 20\n",
       "\\item 12\n",
       "\\item 13\n",
       "\\item <NA>\n",
       "\\item <NA>\n",
       "\\item <NA>\n",
       "\\item <NA>\n",
       "\\item <NA>\n",
       "\\item <NA>\n",
       "\\item <NA>\n",
       "\\item <NA>\n",
       "\\item <NA>\n",
       "\\item <NA>\n",
       "\\item <NA>\n",
       "\\item <NA>\n",
       "\\item 10\n",
       "\\item 27\n",
       "\\item <NA>\n",
       "\\item 7\n",
       "\\item 16\n",
       "\\item <NA>\n",
       "\\item <NA>\n",
       "\\item 20\n",
       "\\item 9\n",
       "\\item 16\n",
       "\\item <NA>\n",
       "\\item <NA>\n",
       "\\item 28\n",
       "\\item <NA>\n",
       "\\item 22\n",
       "\\item 23\n",
       "\\item 31\n",
       "\\item 21\n",
       "\\item 9\n",
       "\\item <NA>\n",
       "\\item <NA>\n",
       "\\item 20\n",
       "\\item 23\n",
       "\\item 21\n",
       "\\item 24\n",
       "\\item 21\n",
       "\\item 28\n",
       "\\item 9\n",
       "\\item 13\n",
       "\\item 18\n",
       "\\item 13\n",
       "\\item 24\n",
       "\\item 16\n",
       "\\item 13\n",
       "\\item 23\n",
       "\\item 7\n",
       "\\item 14\n",
       "\\item 30\n",
       "\\item <NA>\n",
       "\\item 14\n",
       "\\item 18\n",
       "\\item 20\n",
       "\\item 149\n",
       "\\item 313\n",
       "\\item <NA>\n",
       "\\item <NA>\n",
       "\\item 299\n",
       "\\item 99\n",
       "\\item 19\n",
       "\\item <NA>\n",
       "\\item <NA>\n",
       "\\item 256\n",
       "\\item 290\n",
       "\\item 274\n",
       "\\item 65\n",
       "\\item 334\n",
       "\\item 78\n",
       "\\item 322\n",
       "\\item 44\n",
       "\\item 8\n",
       "\\item 320\n",
       "\\item 25\n",
       "\\item <NA>\n",
       "\\item <NA>\n",
       "\\item <NA>\n",
       "\\item 13\n",
       "\\item <NA>\n",
       "\\item <NA>\n",
       "\\item <NA>\n",
       "\\item <NA>\n",
       "\\item <NA>\n",
       "\\item <NA>\n",
       "\\item 127\n",
       "\\item <NA>\n",
       "\\item <NA>\n",
       "\\item <NA>\n",
       "\\item 148\n",
       "\\item <NA>\n",
       "\\item <NA>\n",
       "\\item 191\n",
       "\\item 37\n",
       "\\item 120\n",
       "\\item 137\n",
       "\\item <NA>\n",
       "\\item <NA>\n",
       "\\item <NA>\n",
       "\\item <NA>\n",
       "\\item <NA>\n",
       "\\item <NA>\n",
       "\\item <NA>\n",
       "\\item <NA>\n",
       "\\item <NA>\n",
       "\\item <NA>\n",
       "\\item <NA>\n",
       "\\item <NA>\n",
       "\\item 264\n",
       "\\item 175\n",
       "\\item <NA>\n",
       "\\item 48\n",
       "\\item 7\n",
       "\\item <NA>\n",
       "\\item <NA>\n",
       "\\item 81\n",
       "\\item 24\n",
       "\\item 77\n",
       "\\item <NA>\n",
       "\\item <NA>\n",
       "\\item 273\n",
       "\\item <NA>\n",
       "\\item 71\n",
       "\\item 115\n",
       "\\item 244\n",
       "\\item 259\n",
       "\\item 36\n",
       "\\item <NA>\n",
       "\\item <NA>\n",
       "\\item 252\n",
       "\\item 220\n",
       "\\item 230\n",
       "\\item 259\n",
       "\\item 259\n",
       "\\item 238\n",
       "\\item 24\n",
       "\\item 112\n",
       "\\item 224\n",
       "\\item 27\n",
       "\\item 238\n",
       "\\item 201\n",
       "\\item 238\n",
       "\\item 14\n",
       "\\item 49\n",
       "\\item 20\n",
       "\\item 193\n",
       "\\item <NA>\n",
       "\\item 191\n",
       "\\item 131\n",
       "\\item 223\n",
       "\\item 12.6\n",
       "\\item 11.5\n",
       "\\item <NA>\n",
       "\\item 14.9\n",
       "\\item 8.6\n",
       "\\item 13.8\n",
       "\\item 20.1\n",
       "\\item <NA>\n",
       "\\item 6.9\n",
       "\\item 9.7\n",
       "\\item ...\n",
       "\\item 82\n",
       "\\item 64\n",
       "\\item 71\n",
       "\\item 69\n",
       "\\item 63\n",
       "\\item 70\n",
       "\\item <NA>\n",
       "\\item 75\n",
       "\\item 76\n",
       "\\item 68\n",
       "\\item 5\n",
       "\\item 5\n",
       "\\item <NA>\n",
       "\\item 5\n",
       "\\item 5\n",
       "\\item 5\n",
       "\\item 5\n",
       "\\item <NA>\n",
       "\\item 5\n",
       "\\item 5\n",
       "\\item 5\n",
       "\\item 5\n",
       "\\item 5\n",
       "\\item 5\n",
       "\\item 5\n",
       "\\item 5\n",
       "\\item 5\n",
       "\\item 5\n",
       "\\item 5\n",
       "\\item 5\n",
       "\\item <NA>\n",
       "\\item <NA>\n",
       "\\item <NA>\n",
       "\\item 5\n",
       "\\item <NA>\n",
       "\\item <NA>\n",
       "\\item <NA>\n",
       "\\item <NA>\n",
       "\\item <NA>\n",
       "\\item <NA>\n",
       "\\item 6\n",
       "\\item <NA>\n",
       "\\item <NA>\n",
       "\\item <NA>\n",
       "\\item 6\n",
       "\\item <NA>\n",
       "\\item <NA>\n",
       "\\item 6\n",
       "\\item 6\n",
       "\\item 6\n",
       "\\item 6\n",
       "\\item <NA>\n",
       "\\item <NA>\n",
       "\\item <NA>\n",
       "\\item <NA>\n",
       "\\item <NA>\n",
       "\\item <NA>\n",
       "\\item <NA>\n",
       "\\item <NA>\n",
       "\\item <NA>\n",
       "\\item <NA>\n",
       "\\item <NA>\n",
       "\\item <NA>\n",
       "\\item 7\n",
       "\\item 7\n",
       "\\item <NA>\n",
       "\\item 7\n",
       "\\item 7\n",
       "\\item <NA>\n",
       "\\item <NA>\n",
       "\\item 7\n",
       "\\item 8\n",
       "\\item 8\n",
       "\\item <NA>\n",
       "\\item <NA>\n",
       "\\item 8\n",
       "\\item <NA>\n",
       "\\item 8\n",
       "\\item 8\n",
       "\\item 8\n",
       "\\item 8\n",
       "\\item 8\n",
       "\\item <NA>\n",
       "\\item <NA>\n",
       "\\item 9\n",
       "\\item 9\n",
       "\\item 9\n",
       "\\item 9\n",
       "\\item 9\n",
       "\\item 9\n",
       "\\item 9\n",
       "\\item 9\n",
       "\\item 9\n",
       "\\item 9\n",
       "\\item 9\n",
       "\\item 9\n",
       "\\item 9\n",
       "\\item 9\n",
       "\\item 9\n",
       "\\item 9\n",
       "\\item 9\n",
       "\\item <NA>\n",
       "\\item 9\n",
       "\\item 9\n",
       "\\item 9\n",
       "\\item 3\n",
       "\\item 4\n",
       "\\item <NA>\n",
       "\\item 6\n",
       "\\item 7\n",
       "\\item 8\n",
       "\\item 9\n",
       "\\item <NA>\n",
       "\\item 11\n",
       "\\item 12\n",
       "\\item 13\n",
       "\\item 14\n",
       "\\item 15\n",
       "\\item 16\n",
       "\\item 18\n",
       "\\item 19\n",
       "\\item 20\n",
       "\\item 21\n",
       "\\item 22\n",
       "\\item 23\n",
       "\\item <NA>\n",
       "\\item <NA>\n",
       "\\item <NA>\n",
       "\\item 28\n",
       "\\item <NA>\n",
       "\\item <NA>\n",
       "\\item <NA>\n",
       "\\item <NA>\n",
       "\\item <NA>\n",
       "\\item <NA>\n",
       "\\item 7\n",
       "\\item <NA>\n",
       "\\item <NA>\n",
       "\\item <NA>\n",
       "\\item 13\n",
       "\\item <NA>\n",
       "\\item <NA>\n",
       "\\item 16\n",
       "\\item 18\n",
       "\\item 19\n",
       "\\item 20\n",
       "\\item <NA>\n",
       "\\item <NA>\n",
       "\\item <NA>\n",
       "\\item <NA>\n",
       "\\item <NA>\n",
       "\\item <NA>\n",
       "\\item <NA>\n",
       "\\item <NA>\n",
       "\\item <NA>\n",
       "\\item <NA>\n",
       "\\item <NA>\n",
       "\\item <NA>\n",
       "\\item 12\n",
       "\\item 13\n",
       "\\item <NA>\n",
       "\\item 15\n",
       "\\item 21\n",
       "\\item <NA>\n",
       "\\item <NA>\n",
       "\\item 26\n",
       "\\item 2\n",
       "\\item 3\n",
       "\\item <NA>\n",
       "\\item <NA>\n",
       "\\item 13\n",
       "\\item <NA>\n",
       "\\item 16\n",
       "\\item 18\n",
       "\\item 19\n",
       "\\item 21\n",
       "\\item 22\n",
       "\\item <NA>\n",
       "\\item <NA>\n",
       "\\item 7\n",
       "\\item 8\n",
       "\\item 9\n",
       "\\item 10\n",
       "\\item 12\n",
       "\\item 13\n",
       "\\item 14\n",
       "\\item 15\n",
       "\\item 17\n",
       "\\item 18\n",
       "\\item 19\n",
       "\\item 20\n",
       "\\item 21\n",
       "\\item 22\n",
       "\\item 24\n",
       "\\item 25\n",
       "\\item 26\n",
       "\\item <NA>\n",
       "\\item 28\n",
       "\\item 29\n",
       "\\item 30\n",
       "\\end{enumerate*}\n"
      ],
      "text/markdown": [
       "1. 12\n",
       "2. 18\n",
       "3. &lt;NA&gt;\n",
       "4. 28\n",
       "5. 23\n",
       "6. 19\n",
       "7. 8\n",
       "8. &lt;NA&gt;\n",
       "9. 7\n",
       "10. 16\n",
       "11. 11\n",
       "12. 14\n",
       "13. 18\n",
       "14. 14\n",
       "15. 6\n",
       "16. 30\n",
       "17. 11\n",
       "18. 1\n",
       "19. 11\n",
       "20. 4\n",
       "21. &lt;NA&gt;\n",
       "22. &lt;NA&gt;\n",
       "23. &lt;NA&gt;\n",
       "24. 23\n",
       "25. &lt;NA&gt;\n",
       "26. &lt;NA&gt;\n",
       "27. &lt;NA&gt;\n",
       "28. &lt;NA&gt;\n",
       "29. &lt;NA&gt;\n",
       "30. &lt;NA&gt;\n",
       "31. 29\n",
       "32. &lt;NA&gt;\n",
       "33. &lt;NA&gt;\n",
       "34. &lt;NA&gt;\n",
       "35. 23\n",
       "36. &lt;NA&gt;\n",
       "37. &lt;NA&gt;\n",
       "38. 21\n",
       "39. 20\n",
       "40. 12\n",
       "41. 13\n",
       "42. &lt;NA&gt;\n",
       "43. &lt;NA&gt;\n",
       "44. &lt;NA&gt;\n",
       "45. &lt;NA&gt;\n",
       "46. &lt;NA&gt;\n",
       "47. &lt;NA&gt;\n",
       "48. &lt;NA&gt;\n",
       "49. &lt;NA&gt;\n",
       "50. &lt;NA&gt;\n",
       "51. &lt;NA&gt;\n",
       "52. &lt;NA&gt;\n",
       "53. &lt;NA&gt;\n",
       "54. 10\n",
       "55. 27\n",
       "56. &lt;NA&gt;\n",
       "57. 7\n",
       "58. 16\n",
       "59. &lt;NA&gt;\n",
       "60. &lt;NA&gt;\n",
       "61. 20\n",
       "62. 9\n",
       "63. 16\n",
       "64. &lt;NA&gt;\n",
       "65. &lt;NA&gt;\n",
       "66. 28\n",
       "67. &lt;NA&gt;\n",
       "68. 22\n",
       "69. 23\n",
       "70. 31\n",
       "71. 21\n",
       "72. 9\n",
       "73. &lt;NA&gt;\n",
       "74. &lt;NA&gt;\n",
       "75. 20\n",
       "76. 23\n",
       "77. 21\n",
       "78. 24\n",
       "79. 21\n",
       "80. 28\n",
       "81. 9\n",
       "82. 13\n",
       "83. 18\n",
       "84. 13\n",
       "85. 24\n",
       "86. 16\n",
       "87. 13\n",
       "88. 23\n",
       "89. 7\n",
       "90. 14\n",
       "91. 30\n",
       "92. &lt;NA&gt;\n",
       "93. 14\n",
       "94. 18\n",
       "95. 20\n",
       "96. 149\n",
       "97. 313\n",
       "98. &lt;NA&gt;\n",
       "99. &lt;NA&gt;\n",
       "100. 299\n",
       "101. 99\n",
       "102. 19\n",
       "103. &lt;NA&gt;\n",
       "104. &lt;NA&gt;\n",
       "105. 256\n",
       "106. 290\n",
       "107. 274\n",
       "108. 65\n",
       "109. 334\n",
       "110. 78\n",
       "111. 322\n",
       "112. 44\n",
       "113. 8\n",
       "114. 320\n",
       "115. 25\n",
       "116. &lt;NA&gt;\n",
       "117. &lt;NA&gt;\n",
       "118. &lt;NA&gt;\n",
       "119. 13\n",
       "120. &lt;NA&gt;\n",
       "121. &lt;NA&gt;\n",
       "122. &lt;NA&gt;\n",
       "123. &lt;NA&gt;\n",
       "124. &lt;NA&gt;\n",
       "125. &lt;NA&gt;\n",
       "126. 127\n",
       "127. &lt;NA&gt;\n",
       "128. &lt;NA&gt;\n",
       "129. &lt;NA&gt;\n",
       "130. 148\n",
       "131. &lt;NA&gt;\n",
       "132. &lt;NA&gt;\n",
       "133. 191\n",
       "134. 37\n",
       "135. 120\n",
       "136. 137\n",
       "137. &lt;NA&gt;\n",
       "138. &lt;NA&gt;\n",
       "139. &lt;NA&gt;\n",
       "140. &lt;NA&gt;\n",
       "141. &lt;NA&gt;\n",
       "142. &lt;NA&gt;\n",
       "143. &lt;NA&gt;\n",
       "144. &lt;NA&gt;\n",
       "145. &lt;NA&gt;\n",
       "146. &lt;NA&gt;\n",
       "147. &lt;NA&gt;\n",
       "148. &lt;NA&gt;\n",
       "149. 264\n",
       "150. 175\n",
       "151. &lt;NA&gt;\n",
       "152. 48\n",
       "153. 7\n",
       "154. &lt;NA&gt;\n",
       "155. &lt;NA&gt;\n",
       "156. 81\n",
       "157. 24\n",
       "158. 77\n",
       "159. &lt;NA&gt;\n",
       "160. &lt;NA&gt;\n",
       "161. 273\n",
       "162. &lt;NA&gt;\n",
       "163. 71\n",
       "164. 115\n",
       "165. 244\n",
       "166. 259\n",
       "167. 36\n",
       "168. &lt;NA&gt;\n",
       "169. &lt;NA&gt;\n",
       "170. 252\n",
       "171. 220\n",
       "172. 230\n",
       "173. 259\n",
       "174. 259\n",
       "175. 238\n",
       "176. 24\n",
       "177. 112\n",
       "178. 224\n",
       "179. 27\n",
       "180. 238\n",
       "181. 201\n",
       "182. 238\n",
       "183. 14\n",
       "184. 49\n",
       "185. 20\n",
       "186. 193\n",
       "187. &lt;NA&gt;\n",
       "188. 191\n",
       "189. 131\n",
       "190. 223\n",
       "191. 12.6\n",
       "192. 11.5\n",
       "193. &lt;NA&gt;\n",
       "194. 14.9\n",
       "195. 8.6\n",
       "196. 13.8\n",
       "197. 20.1\n",
       "198. &lt;NA&gt;\n",
       "199. 6.9\n",
       "200. 9.7\n",
       "201. ...\n",
       "202. 82\n",
       "203. 64\n",
       "204. 71\n",
       "205. 69\n",
       "206. 63\n",
       "207. 70\n",
       "208. &lt;NA&gt;\n",
       "209. 75\n",
       "210. 76\n",
       "211. 68\n",
       "212. 5\n",
       "213. 5\n",
       "214. &lt;NA&gt;\n",
       "215. 5\n",
       "216. 5\n",
       "217. 5\n",
       "218. 5\n",
       "219. &lt;NA&gt;\n",
       "220. 5\n",
       "221. 5\n",
       "222. 5\n",
       "223. 5\n",
       "224. 5\n",
       "225. 5\n",
       "226. 5\n",
       "227. 5\n",
       "228. 5\n",
       "229. 5\n",
       "230. 5\n",
       "231. 5\n",
       "232. &lt;NA&gt;\n",
       "233. &lt;NA&gt;\n",
       "234. &lt;NA&gt;\n",
       "235. 5\n",
       "236. &lt;NA&gt;\n",
       "237. &lt;NA&gt;\n",
       "238. &lt;NA&gt;\n",
       "239. &lt;NA&gt;\n",
       "240. &lt;NA&gt;\n",
       "241. &lt;NA&gt;\n",
       "242. 6\n",
       "243. &lt;NA&gt;\n",
       "244. &lt;NA&gt;\n",
       "245. &lt;NA&gt;\n",
       "246. 6\n",
       "247. &lt;NA&gt;\n",
       "248. &lt;NA&gt;\n",
       "249. 6\n",
       "250. 6\n",
       "251. 6\n",
       "252. 6\n",
       "253. &lt;NA&gt;\n",
       "254. &lt;NA&gt;\n",
       "255. &lt;NA&gt;\n",
       "256. &lt;NA&gt;\n",
       "257. &lt;NA&gt;\n",
       "258. &lt;NA&gt;\n",
       "259. &lt;NA&gt;\n",
       "260. &lt;NA&gt;\n",
       "261. &lt;NA&gt;\n",
       "262. &lt;NA&gt;\n",
       "263. &lt;NA&gt;\n",
       "264. &lt;NA&gt;\n",
       "265. 7\n",
       "266. 7\n",
       "267. &lt;NA&gt;\n",
       "268. 7\n",
       "269. 7\n",
       "270. &lt;NA&gt;\n",
       "271. &lt;NA&gt;\n",
       "272. 7\n",
       "273. 8\n",
       "274. 8\n",
       "275. &lt;NA&gt;\n",
       "276. &lt;NA&gt;\n",
       "277. 8\n",
       "278. &lt;NA&gt;\n",
       "279. 8\n",
       "280. 8\n",
       "281. 8\n",
       "282. 8\n",
       "283. 8\n",
       "284. &lt;NA&gt;\n",
       "285. &lt;NA&gt;\n",
       "286. 9\n",
       "287. 9\n",
       "288. 9\n",
       "289. 9\n",
       "290. 9\n",
       "291. 9\n",
       "292. 9\n",
       "293. 9\n",
       "294. 9\n",
       "295. 9\n",
       "296. 9\n",
       "297. 9\n",
       "298. 9\n",
       "299. 9\n",
       "300. 9\n",
       "301. 9\n",
       "302. 9\n",
       "303. &lt;NA&gt;\n",
       "304. 9\n",
       "305. 9\n",
       "306. 9\n",
       "307. 3\n",
       "308. 4\n",
       "309. &lt;NA&gt;\n",
       "310. 6\n",
       "311. 7\n",
       "312. 8\n",
       "313. 9\n",
       "314. &lt;NA&gt;\n",
       "315. 11\n",
       "316. 12\n",
       "317. 13\n",
       "318. 14\n",
       "319. 15\n",
       "320. 16\n",
       "321. 18\n",
       "322. 19\n",
       "323. 20\n",
       "324. 21\n",
       "325. 22\n",
       "326. 23\n",
       "327. &lt;NA&gt;\n",
       "328. &lt;NA&gt;\n",
       "329. &lt;NA&gt;\n",
       "330. 28\n",
       "331. &lt;NA&gt;\n",
       "332. &lt;NA&gt;\n",
       "333. &lt;NA&gt;\n",
       "334. &lt;NA&gt;\n",
       "335. &lt;NA&gt;\n",
       "336. &lt;NA&gt;\n",
       "337. 7\n",
       "338. &lt;NA&gt;\n",
       "339. &lt;NA&gt;\n",
       "340. &lt;NA&gt;\n",
       "341. 13\n",
       "342. &lt;NA&gt;\n",
       "343. &lt;NA&gt;\n",
       "344. 16\n",
       "345. 18\n",
       "346. 19\n",
       "347. 20\n",
       "348. &lt;NA&gt;\n",
       "349. &lt;NA&gt;\n",
       "350. &lt;NA&gt;\n",
       "351. &lt;NA&gt;\n",
       "352. &lt;NA&gt;\n",
       "353. &lt;NA&gt;\n",
       "354. &lt;NA&gt;\n",
       "355. &lt;NA&gt;\n",
       "356. &lt;NA&gt;\n",
       "357. &lt;NA&gt;\n",
       "358. &lt;NA&gt;\n",
       "359. &lt;NA&gt;\n",
       "360. 12\n",
       "361. 13\n",
       "362. &lt;NA&gt;\n",
       "363. 15\n",
       "364. 21\n",
       "365. &lt;NA&gt;\n",
       "366. &lt;NA&gt;\n",
       "367. 26\n",
       "368. 2\n",
       "369. 3\n",
       "370. &lt;NA&gt;\n",
       "371. &lt;NA&gt;\n",
       "372. 13\n",
       "373. &lt;NA&gt;\n",
       "374. 16\n",
       "375. 18\n",
       "376. 19\n",
       "377. 21\n",
       "378. 22\n",
       "379. &lt;NA&gt;\n",
       "380. &lt;NA&gt;\n",
       "381. 7\n",
       "382. 8\n",
       "383. 9\n",
       "384. 10\n",
       "385. 12\n",
       "386. 13\n",
       "387. 14\n",
       "388. 15\n",
       "389. 17\n",
       "390. 18\n",
       "391. 19\n",
       "392. 20\n",
       "393. 21\n",
       "394. 22\n",
       "395. 24\n",
       "396. 25\n",
       "397. 26\n",
       "398. &lt;NA&gt;\n",
       "399. 28\n",
       "400. 29\n",
       "401. 30\n",
       "\n",
       "\n"
      ],
      "text/plain": [
       "  [1]  12.0  18.0    NA  28.0  23.0  19.0   8.0    NA   7.0  16.0  11.0  14.0\n",
       " [13]  18.0  14.0   6.0  30.0  11.0   1.0  11.0   4.0    NA    NA    NA  23.0\n",
       " [25]    NA    NA    NA    NA    NA    NA  29.0    NA    NA    NA  23.0    NA\n",
       " [37]    NA  21.0  20.0  12.0  13.0    NA    NA    NA    NA    NA    NA    NA\n",
       " [49]    NA    NA    NA    NA    NA  10.0  27.0    NA   7.0  16.0    NA    NA\n",
       " [61]  20.0   9.0  16.0    NA    NA  28.0    NA  22.0  23.0  31.0  21.0   9.0\n",
       " [73]    NA    NA  20.0  23.0  21.0  24.0  21.0  28.0   9.0  13.0  18.0  13.0\n",
       " [85]  24.0  16.0  13.0  23.0   7.0  14.0  30.0    NA  14.0  18.0  20.0 149.0\n",
       " [97] 313.0    NA    NA 299.0  99.0  19.0    NA    NA 256.0 290.0 274.0  65.0\n",
       "[109] 334.0  78.0 322.0  44.0   8.0 320.0  25.0    NA    NA    NA  13.0    NA\n",
       "[121]    NA    NA    NA    NA    NA 127.0    NA    NA    NA 148.0    NA    NA\n",
       "[133] 191.0  37.0 120.0 137.0    NA    NA    NA    NA    NA    NA    NA    NA\n",
       "[145]    NA    NA    NA    NA 264.0 175.0    NA  48.0   7.0    NA    NA  81.0\n",
       "[157]  24.0  77.0    NA    NA 273.0    NA  71.0 115.0 244.0 259.0  36.0    NA\n",
       "[169]    NA 252.0 220.0 230.0 259.0 259.0 238.0  24.0 112.0 224.0  27.0 238.0\n",
       "[181] 201.0 238.0  14.0  49.0  20.0 193.0    NA 191.0 131.0 223.0  12.6  11.5\n",
       "[193]    NA  14.9   8.6  13.8  20.1    NA   6.9   9.7   9.2  10.9  13.2  11.5\n",
       "[205]  18.4  11.5   9.7   9.7  16.6   9.7    NA    NA    NA  12.0    NA    NA\n",
       "[217]    NA    NA    NA    NA   9.7    NA    NA    NA   8.0    NA    NA  14.9\n",
       "[229]   9.2  11.5  10.3    NA    NA    NA    NA    NA    NA    NA    NA    NA\n",
       "[241]    NA    NA    NA  14.3  14.9    NA  14.3   6.9    NA    NA   8.6  13.8\n",
       "[253]   7.4    NA    NA  11.5    NA  10.3   7.4  10.9  15.5  14.3    NA    NA\n",
       "[265]  10.9  10.3  10.9   9.7  15.5   6.3  10.9  11.5  13.8  10.3  10.3   8.0\n",
       "[277]  12.6   9.2  10.3  16.6   6.9    NA  14.3   8.0  11.5  74.0  62.0    NA\n",
       "[289]  66.0  65.0  59.0  61.0    NA  74.0  69.0  66.0  68.0  58.0  64.0  57.0\n",
       "[301]  68.0  62.0  59.0  73.0  61.0    NA    NA    NA  67.0    NA    NA    NA\n",
       "[313]    NA    NA    NA  82.0    NA    NA    NA  82.0    NA    NA  77.0  65.0\n",
       "[325]  73.0  76.0    NA    NA    NA    NA    NA    NA    NA    NA    NA    NA\n",
       "[337]    NA    NA  73.0  81.0    NA  80.0  74.0    NA    NA  82.0  81.0  82.0\n",
       "[349]    NA    NA  82.0    NA  77.0  76.0  78.0  77.0  72.0    NA    NA  80.0\n",
       "[361]  78.0  75.0  73.0  76.0  77.0  71.0  71.0  67.0  76.0  68.0  82.0  64.0\n",
       "[373]  71.0  69.0  63.0  70.0    NA  75.0  76.0  68.0   5.0   5.0    NA   5.0\n",
       "[385]   5.0   5.0   5.0    NA   5.0   5.0   5.0   5.0   5.0   5.0   5.0   5.0\n",
       "[397]   5.0   5.0   5.0   5.0    NA    NA    NA   5.0    NA    NA    NA    NA\n",
       "[409]    NA    NA   6.0    NA    NA    NA   6.0    NA    NA   6.0   6.0   6.0\n",
       "[421]   6.0    NA    NA    NA    NA    NA    NA    NA    NA    NA    NA    NA\n",
       "[433]    NA   7.0   7.0    NA   7.0   7.0    NA    NA   7.0   8.0   8.0    NA\n",
       "[445]    NA   8.0    NA   8.0   8.0   8.0   8.0   8.0    NA    NA   9.0   9.0\n",
       "[457]   9.0   9.0   9.0   9.0   9.0   9.0   9.0   9.0   9.0   9.0   9.0   9.0\n",
       "[469]   9.0   9.0   9.0    NA   9.0   9.0   9.0   3.0   4.0    NA   6.0   7.0\n",
       "[481]   8.0   9.0    NA  11.0  12.0  13.0  14.0  15.0  16.0  18.0  19.0  20.0\n",
       "[493]  21.0  22.0  23.0    NA    NA    NA  28.0    NA    NA    NA    NA    NA\n",
       "[505]    NA   7.0    NA    NA    NA  13.0    NA    NA  16.0  18.0  19.0  20.0\n",
       "[517]    NA    NA    NA    NA    NA    NA    NA    NA    NA    NA    NA    NA\n",
       "[529]  12.0  13.0    NA  15.0  21.0    NA    NA  26.0   2.0   3.0    NA    NA\n",
       "[541]  13.0    NA  16.0  18.0  19.0  21.0  22.0    NA    NA   7.0   8.0   9.0\n",
       "[553]  10.0  12.0  13.0  14.0  15.0  17.0  18.0  19.0  20.0  21.0  22.0  24.0\n",
       "[565]  25.0  26.0    NA  28.0  29.0  30.0"
      ]
     },
     "metadata": {},
     "output_type": "display_data"
    },
    {
     "data": {
      "text/html": [
       "TRUE"
      ],
      "text/latex": [
       "TRUE"
      ],
      "text/markdown": [
       "TRUE"
      ],
      "text/plain": [
       "[1] TRUE"
      ]
     },
     "metadata": {},
     "output_type": "display_data"
    }
   ],
   "source": [
    "extract = data[!data['Ozone'] > 31]\n",
    "extract\n",
    "a = data['Ozone'] > 31\n",
    "b = data['Temp'] > 90\n",
    "a||b"
   ]
  },
  {
   "cell_type": "code",
   "execution_count": 298,
   "metadata": {
    "ExecuteTime": {
     "end_time": "2021-01-19T07:40:44.283838Z",
     "start_time": "2021-01-19T07:40:44.257Z"
    }
   },
   "outputs": [
    {
     "data": {
      "text/html": [
       "<table>\n",
       "<caption>A matrix: 2 × 3 of type dbl</caption>\n",
       "<tbody>\n",
       "\t<tr><th scope=row>x</th><td>1</td><td>3</td><td> 5</td></tr>\n",
       "\t<tr><th scope=row>y</th><td>3</td><td>2</td><td>10</td></tr>\n",
       "</tbody>\n",
       "</table>\n"
      ],
      "text/latex": [
       "A matrix: 2 × 3 of type dbl\n",
       "\\begin{tabular}{r|lll}\n",
       "\tx & 1 & 3 &  5\\\\\n",
       "\ty & 3 & 2 & 10\\\\\n",
       "\\end{tabular}\n"
      ],
      "text/markdown": [
       "\n",
       "A matrix: 2 × 3 of type dbl\n",
       "\n",
       "| x | 1 | 3 |  5 |\n",
       "| y | 3 | 2 | 10 |\n",
       "\n"
      ],
      "text/plain": [
       "  [,1] [,2] [,3]\n",
       "x 1    3     5  \n",
       "y 3    2    10  "
      ]
     },
     "metadata": {},
     "output_type": "display_data"
    }
   ],
   "source": [
    "x <- c(1,3, 5)\n",
    "y <- c(3, 2, 10)\n",
    "rbind(x,y)"
   ]
  },
  {
   "cell_type": "code",
   "execution_count": null,
   "metadata": {},
   "outputs": [],
   "source": []
  },
  {
   "cell_type": "code",
   "execution_count": null,
   "metadata": {},
   "outputs": [],
   "source": []
  },
  {
   "cell_type": "code",
   "execution_count": null,
   "metadata": {},
   "outputs": [],
   "source": []
  },
  {
   "cell_type": "code",
   "execution_count": null,
   "metadata": {},
   "outputs": [],
   "source": []
  },
  {
   "cell_type": "code",
   "execution_count": null,
   "metadata": {},
   "outputs": [],
   "source": []
  },
  {
   "cell_type": "code",
   "execution_count": null,
   "metadata": {},
   "outputs": [],
   "source": []
  },
  {
   "cell_type": "code",
   "execution_count": null,
   "metadata": {},
   "outputs": [],
   "source": []
  },
  {
   "cell_type": "code",
   "execution_count": null,
   "metadata": {},
   "outputs": [],
   "source": []
  },
  {
   "cell_type": "code",
   "execution_count": null,
   "metadata": {},
   "outputs": [],
   "source": []
  },
  {
   "cell_type": "code",
   "execution_count": null,
   "metadata": {},
   "outputs": [],
   "source": []
  },
  {
   "cell_type": "code",
   "execution_count": null,
   "metadata": {},
   "outputs": [],
   "source": []
  },
  {
   "cell_type": "code",
   "execution_count": null,
   "metadata": {},
   "outputs": [],
   "source": []
  },
  {
   "cell_type": "code",
   "execution_count": null,
   "metadata": {},
   "outputs": [],
   "source": []
  },
  {
   "cell_type": "code",
   "execution_count": null,
   "metadata": {},
   "outputs": [],
   "source": []
  },
  {
   "cell_type": "code",
   "execution_count": null,
   "metadata": {},
   "outputs": [],
   "source": []
  }
 ],
 "metadata": {
  "kernelspec": {
   "display_name": "R",
   "language": "R",
   "name": "ir"
  },
  "language_info": {
   "codemirror_mode": "r",
   "file_extension": ".r",
   "mimetype": "text/x-r-source",
   "name": "R",
   "pygments_lexer": "r",
   "version": "4.0.3"
  },
  "latex_envs": {
   "LaTeX_envs_menu_present": true,
   "autoclose": false,
   "autocomplete": true,
   "bibliofile": "biblio.bib",
   "cite_by": "apalike",
   "current_citInitial": 1,
   "eqLabelWithNumbers": true,
   "eqNumInitial": 1,
   "hotkeys": {
    "equation": "Ctrl-E",
    "itemize": "Ctrl-I"
   },
   "labels_anchors": false,
   "latex_user_defs": false,
   "report_style_numbering": false,
   "user_envs_cfg": false
  },
  "toc": {
   "base_numbering": 1,
   "nav_menu": {},
   "number_sections": true,
   "sideBar": true,
   "skip_h1_title": false,
   "title_cell": "Table of Contents",
   "title_sidebar": "Contents",
   "toc_cell": false,
   "toc_position": {},
   "toc_section_display": true,
   "toc_window_display": false
  },
  "varInspector": {
   "cols": {
    "lenName": 16,
    "lenType": 16,
    "lenVar": 40
   },
   "kernels_config": {
    "python": {
     "delete_cmd_postfix": "",
     "delete_cmd_prefix": "del ",
     "library": "var_list.py",
     "varRefreshCmd": "print(var_dic_list())"
    },
    "r": {
     "delete_cmd_postfix": ") ",
     "delete_cmd_prefix": "rm(",
     "library": "var_list.r",
     "varRefreshCmd": "cat(var_dic_list()) "
    }
   },
   "types_to_exclude": [
    "module",
    "function",
    "builtin_function_or_method",
    "instance",
    "_Feature"
   ],
   "window_display": false
  }
 },
 "nbformat": 4,
 "nbformat_minor": 4
}
